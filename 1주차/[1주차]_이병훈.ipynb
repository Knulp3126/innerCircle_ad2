{
 "cells": [
  {
   "cell_type": "markdown",
   "metadata": {},
   "source": [
    "# W1. KADX 가격 데이터 분석"
   ]
  },
  {
   "cell_type": "code",
   "execution_count": 1,
   "metadata": {},
   "outputs": [
    {
     "name": "stderr",
     "output_type": "stream",
     "text": [
      "Duplicate key in file PosixPath('/Library/Frameworks/Python.framework/Versions/3.12/lib/python3.12/site-packages/matplotlib/mpl-data/matplotlibrc'), line 419 ('axes.unicode_minus: True  # use Unicode for the minus symbol rather than hyphen.  See')\n"
     ]
    }
   ],
   "source": [
    "import pandas as pd\n",
    "import os\n",
    "import matplotlib.pyplot as plt\n",
    "import matplotlib as mpl\n",
    "import datetime as dt"
   ]
  },
  {
   "cell_type": "markdown",
   "metadata": {},
   "source": [
    "## D1. 데이터 정제 및 전처리"
   ]
  },
  {
   "cell_type": "code",
   "execution_count": 2,
   "metadata": {},
   "outputs": [],
   "source": [
    "# [1] 성별/연령별 농식품 소비량\n",
    "df_pref = pd.read_csv('./data/TB_SEX_AGE_CSP_SPL-2023.csv', encoding='cp949')\n",
    "df_pref_info = pd.read_csv('./data/소비자 성_연령대별 농식품 소비 샘플데이터_데이터명세서.csv')\n",
    "df_pref_info = df_pref_info[~df_pref_info['no'].isna()]"
   ]
  },
  {
   "cell_type": "code",
   "execution_count": 3,
   "metadata": {},
   "outputs": [],
   "source": [
    "# Rename Columns\n",
    "dic_rename = {}\n",
    "for k, v in zip(df_pref_info['nameEn'], df_pref_info['nameKo']):\n",
    "    dic_rename.update({k:v})\n",
    "\n",
    "df_pref.columns = [dic_rename[c] for c in df_pref.columns]"
   ]
  },
  {
   "cell_type": "code",
   "execution_count": 4,
   "metadata": {},
   "outputs": [
    {
     "data": {
      "text/html": [
       "<div>\n",
       "<style scoped>\n",
       "    .dataframe tbody tr th:only-of-type {\n",
       "        vertical-align: middle;\n",
       "    }\n",
       "\n",
       "    .dataframe tbody tr th {\n",
       "        vertical-align: top;\n",
       "    }\n",
       "\n",
       "    .dataframe thead th {\n",
       "        text-align: right;\n",
       "    }\n",
       "</style>\n",
       "<table border=\"1\" class=\"dataframe\">\n",
       "  <thead>\n",
       "    <tr style=\"text-align: right;\">\n",
       "      <th></th>\n",
       "      <th>no</th>\n",
       "      <th>pk</th>\n",
       "      <th>type</th>\n",
       "      <th>nameEn</th>\n",
       "      <th>nameKo</th>\n",
       "    </tr>\n",
       "  </thead>\n",
       "  <tbody>\n",
       "    <tr>\n",
       "      <th>0</th>\n",
       "      <td>0.0</td>\n",
       "      <td>Y</td>\n",
       "      <td>CHAR(6)</td>\n",
       "      <td>BASE_YM</td>\n",
       "      <td>기준연월</td>\n",
       "    </tr>\n",
       "    <tr>\n",
       "      <th>1</th>\n",
       "      <td>1.0</td>\n",
       "      <td>Y</td>\n",
       "      <td>VARCHAR(20)</td>\n",
       "      <td>CSP_AREA_WSIDO_NM</td>\n",
       "      <td>소비지역광역시도명</td>\n",
       "    </tr>\n",
       "    <tr>\n",
       "      <th>2</th>\n",
       "      <td>2.0</td>\n",
       "      <td>Y</td>\n",
       "      <td>VARCHAR(20)</td>\n",
       "      <td>CSP_AREA_SGGU_NM</td>\n",
       "      <td>소비지역시군구명</td>\n",
       "    </tr>\n",
       "    <tr>\n",
       "      <th>3</th>\n",
       "      <td>3.0</td>\n",
       "      <td>N</td>\n",
       "      <td>BIGINT</td>\n",
       "      <td>MLE_CSP_AMNT</td>\n",
       "      <td>남성소비금액</td>\n",
       "    </tr>\n",
       "    <tr>\n",
       "      <th>4</th>\n",
       "      <td>4.0</td>\n",
       "      <td>N</td>\n",
       "      <td>BIGINT</td>\n",
       "      <td>WO_CSP_AMNT</td>\n",
       "      <td>여성소비금액</td>\n",
       "    </tr>\n",
       "    <tr>\n",
       "      <th>5</th>\n",
       "      <td>5.0</td>\n",
       "      <td>N</td>\n",
       "      <td>INT</td>\n",
       "      <td>MLE_CSP_NCAS</td>\n",
       "      <td>남성소비건수</td>\n",
       "    </tr>\n",
       "    <tr>\n",
       "      <th>6</th>\n",
       "      <td>6.0</td>\n",
       "      <td>N</td>\n",
       "      <td>INT</td>\n",
       "      <td>WO_CSP_NCAS</td>\n",
       "      <td>여성소비건수</td>\n",
       "    </tr>\n",
       "    <tr>\n",
       "      <th>7</th>\n",
       "      <td>7.0</td>\n",
       "      <td>N</td>\n",
       "      <td>BIGINT</td>\n",
       "      <td>MLE_Y20_BELO_CSP_AMNT</td>\n",
       "      <td>남성20대미만소비금액</td>\n",
       "    </tr>\n",
       "    <tr>\n",
       "      <th>8</th>\n",
       "      <td>8.0</td>\n",
       "      <td>N</td>\n",
       "      <td>BIGINT</td>\n",
       "      <td>WO_Y20_BELO_CSP_AMNT</td>\n",
       "      <td>여성20대미만소비금액</td>\n",
       "    </tr>\n",
       "    <tr>\n",
       "      <th>9</th>\n",
       "      <td>9.0</td>\n",
       "      <td>N</td>\n",
       "      <td>BIGINT</td>\n",
       "      <td>MLE_Y20_CSP_AMNT</td>\n",
       "      <td>남성20대소비금액</td>\n",
       "    </tr>\n",
       "    <tr>\n",
       "      <th>10</th>\n",
       "      <td>10.0</td>\n",
       "      <td>N</td>\n",
       "      <td>BIGINT</td>\n",
       "      <td>WO_Y20_CSP_AMNT</td>\n",
       "      <td>여성20대소비금액</td>\n",
       "    </tr>\n",
       "    <tr>\n",
       "      <th>11</th>\n",
       "      <td>11.0</td>\n",
       "      <td>N</td>\n",
       "      <td>BIGINT</td>\n",
       "      <td>MLE_Y30_CSP_AMNT</td>\n",
       "      <td>남성30대소비금액</td>\n",
       "    </tr>\n",
       "    <tr>\n",
       "      <th>12</th>\n",
       "      <td>12.0</td>\n",
       "      <td>N</td>\n",
       "      <td>BIGINT</td>\n",
       "      <td>WO_Y30_CSP_AMNT</td>\n",
       "      <td>여성30대소비금액</td>\n",
       "    </tr>\n",
       "    <tr>\n",
       "      <th>13</th>\n",
       "      <td>13.0</td>\n",
       "      <td>N</td>\n",
       "      <td>BIGINT</td>\n",
       "      <td>MLE_Y40_CSP_AMNT</td>\n",
       "      <td>남성40대소비금액</td>\n",
       "    </tr>\n",
       "    <tr>\n",
       "      <th>14</th>\n",
       "      <td>14.0</td>\n",
       "      <td>N</td>\n",
       "      <td>BIGINT</td>\n",
       "      <td>WO_Y40_CSP_AMNT</td>\n",
       "      <td>여성40대소비금액</td>\n",
       "    </tr>\n",
       "    <tr>\n",
       "      <th>15</th>\n",
       "      <td>15.0</td>\n",
       "      <td>N</td>\n",
       "      <td>BIGINT</td>\n",
       "      <td>MLE_Y50_CSP_AMNT</td>\n",
       "      <td>남성50대소비금액</td>\n",
       "    </tr>\n",
       "    <tr>\n",
       "      <th>16</th>\n",
       "      <td>16.0</td>\n",
       "      <td>N</td>\n",
       "      <td>BIGINT</td>\n",
       "      <td>WO_Y50_CSP_AMNT</td>\n",
       "      <td>여성50대소비금액</td>\n",
       "    </tr>\n",
       "    <tr>\n",
       "      <th>17</th>\n",
       "      <td>17.0</td>\n",
       "      <td>N</td>\n",
       "      <td>BIGINT</td>\n",
       "      <td>MLE_Y60_ANM_CSP_AMNT</td>\n",
       "      <td>남성60대이상소비금액</td>\n",
       "    </tr>\n",
       "    <tr>\n",
       "      <th>18</th>\n",
       "      <td>18.0</td>\n",
       "      <td>N</td>\n",
       "      <td>BIGINT</td>\n",
       "      <td>WO_Y60_ANM_CSP_AMNT</td>\n",
       "      <td>여성60대이상소비금액</td>\n",
       "    </tr>\n",
       "  </tbody>\n",
       "</table>\n",
       "</div>"
      ],
      "text/plain": [
       "      no pk         type                 nameEn       nameKo\n",
       "0    0.0  Y      CHAR(6)                BASE_YM         기준연월\n",
       "1    1.0  Y  VARCHAR(20)      CSP_AREA_WSIDO_NM    소비지역광역시도명\n",
       "2    2.0  Y  VARCHAR(20)       CSP_AREA_SGGU_NM     소비지역시군구명\n",
       "3    3.0  N       BIGINT           MLE_CSP_AMNT       남성소비금액\n",
       "4    4.0  N       BIGINT            WO_CSP_AMNT       여성소비금액\n",
       "5    5.0  N          INT           MLE_CSP_NCAS       남성소비건수\n",
       "6    6.0  N          INT            WO_CSP_NCAS       여성소비건수\n",
       "7    7.0  N       BIGINT  MLE_Y20_BELO_CSP_AMNT  남성20대미만소비금액\n",
       "8    8.0  N       BIGINT   WO_Y20_BELO_CSP_AMNT  여성20대미만소비금액\n",
       "9    9.0  N       BIGINT       MLE_Y20_CSP_AMNT    남성20대소비금액\n",
       "10  10.0  N       BIGINT        WO_Y20_CSP_AMNT    여성20대소비금액\n",
       "11  11.0  N       BIGINT       MLE_Y30_CSP_AMNT    남성30대소비금액\n",
       "12  12.0  N       BIGINT        WO_Y30_CSP_AMNT    여성30대소비금액\n",
       "13  13.0  N       BIGINT       MLE_Y40_CSP_AMNT    남성40대소비금액\n",
       "14  14.0  N       BIGINT        WO_Y40_CSP_AMNT    여성40대소비금액\n",
       "15  15.0  N       BIGINT       MLE_Y50_CSP_AMNT    남성50대소비금액\n",
       "16  16.0  N       BIGINT        WO_Y50_CSP_AMNT    여성50대소비금액\n",
       "17  17.0  N       BIGINT   MLE_Y60_ANM_CSP_AMNT  남성60대이상소비금액\n",
       "18  18.0  N       BIGINT    WO_Y60_ANM_CSP_AMNT  여성60대이상소비금액"
      ]
     },
     "execution_count": 4,
     "metadata": {},
     "output_type": "execute_result"
    }
   ],
   "source": [
    "df_pref_info"
   ]
  },
  {
   "cell_type": "code",
   "execution_count": 42,
   "metadata": {},
   "outputs": [
    {
     "name": "stdout",
     "output_type": "stream",
     "text": [
      "<class 'pandas.core.frame.DataFrame'>\n",
      "RangeIndex: 2748 entries, 0 to 2747\n",
      "Data columns (total 19 columns):\n",
      " #   Column       Non-Null Count  Dtype  \n",
      "---  ------       --------------  -----  \n",
      " 0   기준연월         2748 non-null   int64  \n",
      " 1   소비지역광역시도명    2748 non-null   object \n",
      " 2   소비지역시군구명     2748 non-null   object \n",
      " 3   남성소비금액       2748 non-null   int64  \n",
      " 4   여성소비금액       2748 non-null   int64  \n",
      " 5   남성소비건수       2748 non-null   int64  \n",
      " 6   여성소비건수       2748 non-null   int64  \n",
      " 7   남성20대미만소비금액  1857 non-null   float64\n",
      " 8   여성20대미만소비금액  1563 non-null   float64\n",
      " 9   남성20대소비금액    2748 non-null   int64  \n",
      " 10  여성20대소비금액    2748 non-null   int64  \n",
      " 11  남성30대소비금액    2748 non-null   int64  \n",
      " 12  여성30대소비금액    2748 non-null   int64  \n",
      " 13  남성40대소비금액    2748 non-null   int64  \n",
      " 14  여성40대소비금액    2748 non-null   int64  \n",
      " 15  남성50대소비금액    2748 non-null   int64  \n",
      " 16  여성50대소비금액    2748 non-null   int64  \n",
      " 17  남성60대이상소비금액  2748 non-null   int64  \n",
      " 18  여성60대이상소비금액  2748 non-null   int64  \n",
      "dtypes: float64(2), int64(15), object(2)\n",
      "memory usage: 408.0+ KB\n"
     ]
    }
   ],
   "source": [
    "# [1] 성별/연령별 농식품 소비량\n",
    "df_pref.info()"
   ]
  },
  {
   "cell_type": "code",
   "execution_count": 5,
   "metadata": {},
   "outputs": [
    {
     "data": {
      "text/plain": [
       "기준연월              0\n",
       "소비지역광역시도명         0\n",
       "소비지역시군구명          0\n",
       "남성소비금액            0\n",
       "여성소비금액            0\n",
       "남성소비건수            0\n",
       "여성소비건수            0\n",
       "남성20대미만소비금액     891\n",
       "여성20대미만소비금액    1185\n",
       "남성20대소비금액         0\n",
       "여성20대소비금액         0\n",
       "남성30대소비금액         0\n",
       "여성30대소비금액         0\n",
       "남성40대소비금액         0\n",
       "여성40대소비금액         0\n",
       "남성50대소비금액         0\n",
       "여성50대소비금액         0\n",
       "남성60대이상소비금액       0\n",
       "여성60대이상소비금액       0\n",
       "dtype: int64"
      ]
     },
     "execution_count": 5,
     "metadata": {},
     "output_type": "execute_result"
    }
   ],
   "source": [
    "# ifmissing\n",
    "df_pref.isna().sum()"
   ]
  },
  {
   "cell_type": "code",
   "execution_count": 6,
   "metadata": {},
   "outputs": [
    {
     "data": {
      "text/html": [
       "<div>\n",
       "<style scoped>\n",
       "    .dataframe tbody tr th:only-of-type {\n",
       "        vertical-align: middle;\n",
       "    }\n",
       "\n",
       "    .dataframe tbody tr th {\n",
       "        vertical-align: top;\n",
       "    }\n",
       "\n",
       "    .dataframe thead th {\n",
       "        text-align: right;\n",
       "    }\n",
       "</style>\n",
       "<table border=\"1\" class=\"dataframe\">\n",
       "  <thead>\n",
       "    <tr style=\"text-align: right;\">\n",
       "      <th></th>\n",
       "      <th>기준연월</th>\n",
       "      <th>소비지역광역시도명</th>\n",
       "      <th>소비지역시군구명</th>\n",
       "      <th>남성20대미만소비금액</th>\n",
       "    </tr>\n",
       "  </thead>\n",
       "  <tbody>\n",
       "    <tr>\n",
       "      <th>0</th>\n",
       "      <td>202301</td>\n",
       "      <td>강원도</td>\n",
       "      <td>강릉시</td>\n",
       "      <td>NaN</td>\n",
       "    </tr>\n",
       "    <tr>\n",
       "      <th>1</th>\n",
       "      <td>202301</td>\n",
       "      <td>강원도</td>\n",
       "      <td>고성군</td>\n",
       "      <td>NaN</td>\n",
       "    </tr>\n",
       "    <tr>\n",
       "      <th>2</th>\n",
       "      <td>202301</td>\n",
       "      <td>강원도</td>\n",
       "      <td>동해시</td>\n",
       "      <td>NaN</td>\n",
       "    </tr>\n",
       "    <tr>\n",
       "      <th>3</th>\n",
       "      <td>202301</td>\n",
       "      <td>강원도</td>\n",
       "      <td>삼척시</td>\n",
       "      <td>NaN</td>\n",
       "    </tr>\n",
       "    <tr>\n",
       "      <th>4</th>\n",
       "      <td>202301</td>\n",
       "      <td>강원도</td>\n",
       "      <td>속초시</td>\n",
       "      <td>NaN</td>\n",
       "    </tr>\n",
       "    <tr>\n",
       "      <th>...</th>\n",
       "      <td>...</td>\n",
       "      <td>...</td>\n",
       "      <td>...</td>\n",
       "      <td>...</td>\n",
       "    </tr>\n",
       "    <tr>\n",
       "      <th>2464</th>\n",
       "      <td>202311</td>\n",
       "      <td>전라남도</td>\n",
       "      <td>보성군</td>\n",
       "      <td>NaN</td>\n",
       "    </tr>\n",
       "    <tr>\n",
       "      <th>2490</th>\n",
       "      <td>202311</td>\n",
       "      <td>전라북도</td>\n",
       "      <td>진안군</td>\n",
       "      <td>NaN</td>\n",
       "    </tr>\n",
       "    <tr>\n",
       "      <th>2593</th>\n",
       "      <td>202312</td>\n",
       "      <td>경상북도</td>\n",
       "      <td>봉화군</td>\n",
       "      <td>NaN</td>\n",
       "    </tr>\n",
       "    <tr>\n",
       "      <th>2598</th>\n",
       "      <td>202312</td>\n",
       "      <td>경상북도</td>\n",
       "      <td>영양군</td>\n",
       "      <td>NaN</td>\n",
       "    </tr>\n",
       "    <tr>\n",
       "      <th>2602</th>\n",
       "      <td>202312</td>\n",
       "      <td>경상북도</td>\n",
       "      <td>울릉군</td>\n",
       "      <td>NaN</td>\n",
       "    </tr>\n",
       "  </tbody>\n",
       "</table>\n",
       "<p>891 rows × 4 columns</p>\n",
       "</div>"
      ],
      "text/plain": [
       "        기준연월 소비지역광역시도명 소비지역시군구명  남성20대미만소비금액\n",
       "0     202301       강원도      강릉시          NaN\n",
       "1     202301       강원도      고성군          NaN\n",
       "2     202301       강원도      동해시          NaN\n",
       "3     202301       강원도      삼척시          NaN\n",
       "4     202301       강원도      속초시          NaN\n",
       "...      ...       ...      ...          ...\n",
       "2464  202311      전라남도      보성군          NaN\n",
       "2490  202311      전라북도      진안군          NaN\n",
       "2593  202312      경상북도      봉화군          NaN\n",
       "2598  202312      경상북도      영양군          NaN\n",
       "2602  202312      경상북도      울릉군          NaN\n",
       "\n",
       "[891 rows x 4 columns]"
      ]
     },
     "execution_count": 6,
     "metadata": {},
     "output_type": "execute_result"
    }
   ],
   "source": [
    "c = '남성20대미만소비금액'\n",
    "cols = ['기준연월','소비지역광역시도명','소비지역시군구명',c]\n",
    "df_pref[df_pref[c].isna()][cols]"
   ]
  },
  {
   "cell_type": "markdown",
   "metadata": {},
   "source": [
    "---"
   ]
  },
  {
   "cell_type": "code",
   "execution_count": 7,
   "metadata": {},
   "outputs": [],
   "source": [
    "# [2] 도소매 가격\n",
    "import unicodedata\n",
    "\n",
    "folder = './data/'\n",
    "files = [unicodedata.normalize('NFC', c) for c in os.listdir(folder)]\n",
    "files = [\n",
    "    c for c in files if '명세서' not in c and '가격' in c and 'csv' in c\n",
    "]"
   ]
  },
  {
   "cell_type": "code",
   "execution_count": 8,
   "metadata": {},
   "outputs": [],
   "source": [
    "# 2023\n",
    "target = unicodedata.normalize('NFC', '2023년')  # 비교 기준도 정규화\n",
    "files_2023 = [\n",
    "    c for c in files if '2023년' in c\n",
    "]\n",
    "files_2023.sort()"
   ]
  },
  {
   "cell_type": "code",
   "execution_count": 9,
   "metadata": {},
   "outputs": [],
   "source": [
    "# 월별 파일\n",
    "yearly_f = [f for f in files if '월' not in f]\n",
    "yearly_f = sorted(yearly_f, key=lambda x: x[:4])\n",
    "# 년별 파일\n",
    "monthly_f = [f for f in files if '월' in f]\n",
    "monthly_f = sorted(monthly_f, key=lambda x: x[:8])"
   ]
  },
  {
   "cell_type": "code",
   "execution_count": 10,
   "metadata": {},
   "outputs": [
    {
     "data": {
      "text/plain": [
       "set()"
      ]
     },
     "execution_count": 10,
     "metadata": {},
     "output_type": "execute_result"
    }
   ],
   "source": [
    "set([int(c[:4]) for c in yearly_f]).difference(range(1996,2020))"
   ]
  },
  {
   "cell_type": "code",
   "execution_count": 11,
   "metadata": {},
   "outputs": [
    {
     "data": {
      "text/plain": [
       "{'2020', '2021', '2022', '2023', '2024'}"
      ]
     },
     "execution_count": 11,
     "metadata": {},
     "output_type": "execute_result"
    }
   ],
   "source": [
    "set([c[:4] for c in monthly_f])"
   ]
  },
  {
   "cell_type": "code",
   "execution_count": 12,
   "metadata": {},
   "outputs": [],
   "source": [
    "ls_yms = [f[:8].replace('년 ','') for f in monthly_f]\n",
    "df_yms = pd.DataFrame(ls_yms, columns=['ym'])"
   ]
  },
  {
   "cell_type": "code",
   "execution_count": 13,
   "metadata": {},
   "outputs": [
    {
     "name": "stdout",
     "output_type": "stream",
     "text": [
      "- 중복 데이터 수:  0\n"
     ]
    }
   ],
   "source": [
    "# 중복 데이터가 있는지\n",
    "print('- 중복 데이터 수: ', (df_yms.value_counts() != 1).sum())"
   ]
  },
  {
   "cell_type": "code",
   "execution_count": 15,
   "metadata": {},
   "outputs": [],
   "source": [
    "# 연별 월 데이터가 다 있는지\n",
    "df_yms['y'] = df_yms['ym'].astype(int)//100\n",
    "df_yms['y'].value_counts()\n",
    "\n",
    "df_yms['m'] = df_yms['ym'].astype(int)%100\n",
    "\n",
    "# Standard M\n",
    "df_stdm = pd.DataFrame(range(1,13), columns=['m'])"
   ]
  },
  {
   "cell_type": "code",
   "execution_count": 16,
   "metadata": {},
   "outputs": [
    {
     "name": "stdout",
     "output_type": "stream",
     "text": [
      "1     202102\n",
      "3     202104\n",
      "10    202111\n",
      "dtype: object\n",
      "1    202202\n",
      "5    202206\n",
      "dtype: object\n",
      "2     202403\n",
      "3     202404\n",
      "4     202405\n",
      "5     202406\n",
      "6     202407\n",
      "7     202408\n",
      "8     202409\n",
      "9     202410\n",
      "10    202411\n",
      "11    202412\n",
      "dtype: object\n"
     ]
    }
   ],
   "source": [
    "for yr in [2021, 2022, 2024]:\n",
    "    df_tmp = pd.merge(df_stdm, df_yms.query(f'y=={yr}').sort_values(by='ym'), on='m', how='outer')\n",
    "    df_tmp['y'] = yr\n",
    "    to_print = df_tmp[df_tmp['ym'].isna()]['y'].astype(str) + df_tmp[df_tmp['ym'].isna()]['m'].apply(lambda x: str(x).zfill(2))\n",
    "    print(to_print)"
   ]
  },
  {
   "cell_type": "code",
   "execution_count": null,
   "metadata": {},
   "outputs": [],
   "source": []
  },
  {
   "cell_type": "code",
   "execution_count": null,
   "metadata": {},
   "outputs": [],
   "source": []
  },
  {
   "cell_type": "code",
   "execution_count": null,
   "metadata": {},
   "outputs": [],
   "source": []
  },
  {
   "cell_type": "markdown",
   "metadata": {},
   "source": [
    "---"
   ]
  },
  {
   "cell_type": "code",
   "execution_count": 17,
   "metadata": {},
   "outputs": [],
   "source": [
    "df_prices_info = pd.read_csv('./data/농수축산물 일자별 도소매 가격_데이터명세서.csv')"
   ]
  },
  {
   "cell_type": "code",
   "execution_count": 18,
   "metadata": {},
   "outputs": [],
   "source": [
    "df_prices_23 = pd.DataFrame()\n",
    "for f in files_2023:\n",
    "    df_tmp = pd.read_csv(folder+f, encoding='cp949')\n",
    "    df_prices_23 = pd.concat([df_prices_23, df_tmp])\n",
    "\n",
    "df_prices_23['PRCE_REG_YMD'] = pd.to_datetime(df_prices_23['PRCE_REG_YMD'], format='%Y%m%d')\n",
    "df_prices_23['DOY'] = df_prices_23['PRCE_REG_YMD'].dt.day_of_year"
   ]
  },
  {
   "cell_type": "code",
   "execution_count": 19,
   "metadata": {},
   "outputs": [],
   "source": [
    "# 코드\t 의미\t > 해당내용\n",
    "# 01\t소매\t> 전통시장 등 소매시장\n",
    "# 02\t도매\t> 도매시장\n",
    "# 07\t대형유통업체(소매)\t> 'SSM', '대형마트', '백화점', '생협', '전문점', '직매장’\n",
    "# 08\t슈퍼마켓\t> ‘슈퍼마켓’, ‘SSM’     *SSM: 기업형 슈퍼마켓 \n",
    "# 09\t온라인\t> * CTNP_NM / SGGU_NM : 온라인"
   ]
  },
  {
   "cell_type": "code",
   "execution_count": 43,
   "metadata": {},
   "outputs": [
    {
     "name": "stdout",
     "output_type": "stream",
     "text": [
      "<class 'pandas.core.frame.DataFrame'>\n",
      "Index: 1263943 entries, 0 to 103913\n",
      "Data columns (total 28 columns):\n",
      " #   Column                 Non-Null Count    Dtype         \n",
      "---  ------                 --------------    -----         \n",
      " 0   PRCE_REG_YMD           1263943 non-null  datetime64[ns]\n",
      " 1   MRKT_ESNT_NO           1263943 non-null  int64         \n",
      " 2   MRKT_CODE              1263943 non-null  int64         \n",
      " 3   MRKT_NM                1263943 non-null  object        \n",
      " 4   CTNP_CODE              1263943 non-null  int64         \n",
      " 5   CTNP_NM                1263943 non-null  object        \n",
      " 6   SGGU_CODE              1263943 non-null  int64         \n",
      " 7   SGGU_NM                1263943 non-null  object        \n",
      " 8   PDLT_CODE              1263943 non-null  int64         \n",
      " 9   PDLT_NM                1263943 non-null  object        \n",
      " 10  SPCS_CODE              1263943 non-null  int64         \n",
      " 11  SPCS_NM                1263943 non-null  object        \n",
      " 12  WSRT_EXMN_SE_CODE      1263943 non-null  int64         \n",
      " 13  EXMN_SE_NM             1263943 non-null  object        \n",
      " 14  BULK_GRAD_CODE         1263943 non-null  int64         \n",
      " 15  BULK_GRAD_NM           1263943 non-null  object        \n",
      " 16  PDLT_PRCE              1263943 non-null  int64         \n",
      " 17  MTC_SMT_UNIT_MG        269796 non-null   object        \n",
      " 18  MTC_SMT_UNIT_NM        263544 non-null   object        \n",
      " 19  WHSL_SMT_UNIT_MG       1007273 non-null  float64       \n",
      " 20  WHSL_SMT_UNIT_NM       1007273 non-null  object        \n",
      " 21  RTSL_SMT_UNIT_MG       1237527 non-null  float64       \n",
      " 22  RTSL_SMT_UNIT_NM       1237527 non-null  object        \n",
      " 23  EVFD_FMPD_SMT_UNIT_MG  466408 non-null   float64       \n",
      " 24  EVFD_FMPD_SMT_UNIT_NM  466408 non-null   object        \n",
      " 25  DCNT_PRCE_YN           1263943 non-null  object        \n",
      " 26  ETL_LDG_DT             1263943 non-null  int64         \n",
      " 27  DOY                    1263943 non-null  int32         \n",
      "dtypes: datetime64[ns](1), float64(3), int32(1), int64(10), object(13)\n",
      "memory usage: 274.8+ MB\n"
     ]
    }
   ],
   "source": [
    "df_prices_23.info()"
   ]
  },
  {
   "cell_type": "markdown",
   "metadata": {},
   "source": [
    "### * 정의서"
   ]
  },
  {
   "cell_type": "code",
   "execution_count": 20,
   "metadata": {},
   "outputs": [
    {
     "data": {
      "text/html": [
       "<div>\n",
       "<style scoped>\n",
       "    .dataframe tbody tr th:only-of-type {\n",
       "        vertical-align: middle;\n",
       "    }\n",
       "\n",
       "    .dataframe tbody tr th {\n",
       "        vertical-align: top;\n",
       "    }\n",
       "\n",
       "    .dataframe thead th {\n",
       "        text-align: right;\n",
       "    }\n",
       "</style>\n",
       "<table border=\"1\" class=\"dataframe\">\n",
       "  <thead>\n",
       "    <tr style=\"text-align: right;\">\n",
       "      <th></th>\n",
       "      <th>no</th>\n",
       "      <th>pk</th>\n",
       "      <th>type</th>\n",
       "      <th>nameEn</th>\n",
       "      <th>nameKo</th>\n",
       "    </tr>\n",
       "  </thead>\n",
       "  <tbody>\n",
       "    <tr>\n",
       "      <th>0</th>\n",
       "      <td>1</td>\n",
       "      <td>N</td>\n",
       "      <td>CHAR(8)</td>\n",
       "      <td>PRCE_REG_YMD</td>\n",
       "      <td>가격등록일자</td>\n",
       "    </tr>\n",
       "    <tr>\n",
       "      <th>1</th>\n",
       "      <td>2</td>\n",
       "      <td>N</td>\n",
       "      <td>VARCHAR(8)</td>\n",
       "      <td>MRKT_ESNT_NO</td>\n",
       "      <td>시장고유번호</td>\n",
       "    </tr>\n",
       "    <tr>\n",
       "      <th>2</th>\n",
       "      <td>3</td>\n",
       "      <td>Y</td>\n",
       "      <td>VARCHAR(8)</td>\n",
       "      <td>MRKT_CODE</td>\n",
       "      <td>시장코드</td>\n",
       "    </tr>\n",
       "    <tr>\n",
       "      <th>3</th>\n",
       "      <td>4</td>\n",
       "      <td>Y</td>\n",
       "      <td>VARCHAR(30)</td>\n",
       "      <td>MRKT_NM</td>\n",
       "      <td>시장명</td>\n",
       "    </tr>\n",
       "    <tr>\n",
       "      <th>4</th>\n",
       "      <td>5</td>\n",
       "      <td>N</td>\n",
       "      <td>VARCHAR(8)</td>\n",
       "      <td>CTNP_CODE</td>\n",
       "      <td>시도코드</td>\n",
       "    </tr>\n",
       "    <tr>\n",
       "      <th>5</th>\n",
       "      <td>6</td>\n",
       "      <td>Y</td>\n",
       "      <td>VARCHAR(30)</td>\n",
       "      <td>CTNP_NM</td>\n",
       "      <td>시도명</td>\n",
       "    </tr>\n",
       "    <tr>\n",
       "      <th>6</th>\n",
       "      <td>7</td>\n",
       "      <td>N</td>\n",
       "      <td>VARCHAR(8)</td>\n",
       "      <td>SGGU_CODE</td>\n",
       "      <td>시군구코드</td>\n",
       "    </tr>\n",
       "    <tr>\n",
       "      <th>7</th>\n",
       "      <td>8</td>\n",
       "      <td>Y</td>\n",
       "      <td>VARCHAR(20)</td>\n",
       "      <td>SGGU_NM</td>\n",
       "      <td>시군구명</td>\n",
       "    </tr>\n",
       "    <tr>\n",
       "      <th>8</th>\n",
       "      <td>9</td>\n",
       "      <td>N</td>\n",
       "      <td>VARCHAR(100)</td>\n",
       "      <td>PDLT_CODE</td>\n",
       "      <td>품목코드</td>\n",
       "    </tr>\n",
       "    <tr>\n",
       "      <th>9</th>\n",
       "      <td>10</td>\n",
       "      <td>N</td>\n",
       "      <td>VARCHAR(50)</td>\n",
       "      <td>PDLT_NM</td>\n",
       "      <td>품목명</td>\n",
       "    </tr>\n",
       "    <tr>\n",
       "      <th>10</th>\n",
       "      <td>11</td>\n",
       "      <td>N</td>\n",
       "      <td>VARCHAR(8)</td>\n",
       "      <td>SPCS_CODE</td>\n",
       "      <td>품종코드</td>\n",
       "    </tr>\n",
       "    <tr>\n",
       "      <th>11</th>\n",
       "      <td>12</td>\n",
       "      <td>N</td>\n",
       "      <td>VARCHAR(100)</td>\n",
       "      <td>SPCS_NM</td>\n",
       "      <td>품종명</td>\n",
       "    </tr>\n",
       "    <tr>\n",
       "      <th>12</th>\n",
       "      <td>13</td>\n",
       "      <td>Y</td>\n",
       "      <td>VARCHAR(8)</td>\n",
       "      <td>WSRT_EXMN_SE_CODE</td>\n",
       "      <td>도소매조사구분코드</td>\n",
       "    </tr>\n",
       "    <tr>\n",
       "      <th>13</th>\n",
       "      <td>14</td>\n",
       "      <td>Y</td>\n",
       "      <td>VARCHAR(30)</td>\n",
       "      <td>EXMN_SE_NM</td>\n",
       "      <td>조사구분명</td>\n",
       "    </tr>\n",
       "    <tr>\n",
       "      <th>14</th>\n",
       "      <td>15</td>\n",
       "      <td>N</td>\n",
       "      <td>VARCHAR(8)</td>\n",
       "      <td>BULK_GRAD_CODE</td>\n",
       "      <td>산물등급코드</td>\n",
       "    </tr>\n",
       "    <tr>\n",
       "      <th>15</th>\n",
       "      <td>16</td>\n",
       "      <td>Y</td>\n",
       "      <td>VARCHAR(30)</td>\n",
       "      <td>BULK_GRAD_NM</td>\n",
       "      <td>산물등급명</td>\n",
       "    </tr>\n",
       "    <tr>\n",
       "      <th>16</th>\n",
       "      <td>17</td>\n",
       "      <td>N</td>\n",
       "      <td>NUMBER(13)</td>\n",
       "      <td>PDLT_PRCE</td>\n",
       "      <td>품목가격</td>\n",
       "    </tr>\n",
       "    <tr>\n",
       "      <th>17</th>\n",
       "      <td>18</td>\n",
       "      <td>Y</td>\n",
       "      <td>VARCHAR(8)</td>\n",
       "      <td>MTC_SMT_UNIT_MG</td>\n",
       "      <td>산지출하단위크기</td>\n",
       "    </tr>\n",
       "    <tr>\n",
       "      <th>18</th>\n",
       "      <td>19</td>\n",
       "      <td>N</td>\n",
       "      <td>VARCHAR(30)</td>\n",
       "      <td>MTC_SMT_UNIT_NM</td>\n",
       "      <td>산지출하단위명</td>\n",
       "    </tr>\n",
       "    <tr>\n",
       "      <th>19</th>\n",
       "      <td>20</td>\n",
       "      <td>N</td>\n",
       "      <td>VARCHAR(8)</td>\n",
       "      <td>WHSL_SMT_UNIT_MG</td>\n",
       "      <td>도매출하단위크기</td>\n",
       "    </tr>\n",
       "    <tr>\n",
       "      <th>20</th>\n",
       "      <td>21</td>\n",
       "      <td>N</td>\n",
       "      <td>VARCHAR(30)</td>\n",
       "      <td>WHSL_SMT_UNIT_NM</td>\n",
       "      <td>도매출하단위명</td>\n",
       "    </tr>\n",
       "    <tr>\n",
       "      <th>21</th>\n",
       "      <td>22</td>\n",
       "      <td>Y</td>\n",
       "      <td>VARCHAR(8)</td>\n",
       "      <td>RTSL_SMT_UNIT_MG</td>\n",
       "      <td>소매출하단위크기</td>\n",
       "    </tr>\n",
       "    <tr>\n",
       "      <th>22</th>\n",
       "      <td>23</td>\n",
       "      <td>Y</td>\n",
       "      <td>VARCHAR(30)</td>\n",
       "      <td>RTSL_SMT_UNIT_NM</td>\n",
       "      <td>소매출하단위명</td>\n",
       "    </tr>\n",
       "    <tr>\n",
       "      <th>23</th>\n",
       "      <td>24</td>\n",
       "      <td>N</td>\n",
       "      <td>VARCHAR(8)</td>\n",
       "      <td>EVFD_FMPD_SMT_UNIT_MG</td>\n",
       "      <td>친환경농산물출하단위크기</td>\n",
       "    </tr>\n",
       "    <tr>\n",
       "      <th>24</th>\n",
       "      <td>25</td>\n",
       "      <td>Y</td>\n",
       "      <td>VARCHAR(30)</td>\n",
       "      <td>EVFD_FMPD_SMT_UNIT_NM</td>\n",
       "      <td>친환경농산물출하단위명</td>\n",
       "    </tr>\n",
       "    <tr>\n",
       "      <th>25</th>\n",
       "      <td>26</td>\n",
       "      <td>N</td>\n",
       "      <td>CHAR(1)</td>\n",
       "      <td>DCNT_PRCE_YN</td>\n",
       "      <td>할인가격여부</td>\n",
       "    </tr>\n",
       "    <tr>\n",
       "      <th>26</th>\n",
       "      <td>27</td>\n",
       "      <td>N</td>\n",
       "      <td>CHAR(14)</td>\n",
       "      <td>ETL_LDG_DT</td>\n",
       "      <td>ETL적재일시</td>\n",
       "    </tr>\n",
       "  </tbody>\n",
       "</table>\n",
       "</div>"
      ],
      "text/plain": [
       "    no pk          type                 nameEn        nameKo\n",
       "0    1  N       CHAR(8)           PRCE_REG_YMD        가격등록일자\n",
       "1    2  N    VARCHAR(8)           MRKT_ESNT_NO        시장고유번호\n",
       "2    3  Y    VARCHAR(8)              MRKT_CODE          시장코드\n",
       "3    4  Y   VARCHAR(30)                MRKT_NM           시장명\n",
       "4    5  N    VARCHAR(8)              CTNP_CODE          시도코드\n",
       "5    6  Y   VARCHAR(30)                CTNP_NM           시도명\n",
       "6    7  N    VARCHAR(8)              SGGU_CODE         시군구코드\n",
       "7    8  Y   VARCHAR(20)                SGGU_NM          시군구명\n",
       "8    9  N  VARCHAR(100)              PDLT_CODE          품목코드\n",
       "9   10  N   VARCHAR(50)                PDLT_NM           품목명\n",
       "10  11  N    VARCHAR(8)              SPCS_CODE          품종코드\n",
       "11  12  N  VARCHAR(100)                SPCS_NM           품종명\n",
       "12  13  Y    VARCHAR(8)      WSRT_EXMN_SE_CODE     도소매조사구분코드\n",
       "13  14  Y   VARCHAR(30)             EXMN_SE_NM         조사구분명\n",
       "14  15  N    VARCHAR(8)         BULK_GRAD_CODE        산물등급코드\n",
       "15  16  Y   VARCHAR(30)           BULK_GRAD_NM         산물등급명\n",
       "16  17  N    NUMBER(13)              PDLT_PRCE          품목가격\n",
       "17  18  Y    VARCHAR(8)        MTC_SMT_UNIT_MG      산지출하단위크기\n",
       "18  19  N   VARCHAR(30)        MTC_SMT_UNIT_NM       산지출하단위명\n",
       "19  20  N    VARCHAR(8)       WHSL_SMT_UNIT_MG      도매출하단위크기\n",
       "20  21  N   VARCHAR(30)       WHSL_SMT_UNIT_NM       도매출하단위명\n",
       "21  22  Y    VARCHAR(8)       RTSL_SMT_UNIT_MG      소매출하단위크기\n",
       "22  23  Y   VARCHAR(30)       RTSL_SMT_UNIT_NM       소매출하단위명\n",
       "23  24  N    VARCHAR(8)  EVFD_FMPD_SMT_UNIT_MG  친환경농산물출하단위크기\n",
       "24  25  Y   VARCHAR(30)  EVFD_FMPD_SMT_UNIT_NM   친환경농산물출하단위명\n",
       "25  26  N       CHAR(1)           DCNT_PRCE_YN        할인가격여부\n",
       "26  27  N      CHAR(14)             ETL_LDG_DT       ETL적재일시"
      ]
     },
     "execution_count": 20,
     "metadata": {},
     "output_type": "execute_result"
    }
   ],
   "source": [
    "df_prices_info"
   ]
  },
  {
   "cell_type": "code",
   "execution_count": 21,
   "metadata": {},
   "outputs": [
    {
     "data": {
      "text/plain": [
       "['콩', '콩나물', '토마토', '파', '파인애플', '파프리카', '팥', '팽이버섯', '포도', '표고버섯']"
      ]
     },
     "execution_count": 21,
     "metadata": {},
     "output_type": "execute_result"
    }
   ],
   "source": [
    "i=9\n",
    "sorted(df_prices_23['PDLT_NM'].unique())[i*10:(i+1)*10]"
   ]
  },
  {
   "cell_type": "code",
   "execution_count": 22,
   "metadata": {},
   "outputs": [],
   "source": [
    "# 농산물: 사과, 쌀, 양파\n",
    "# 수산물: 김, 고등어\n",
    "# 축산물: 닭고기\n",
    "# 견과류: 호두, 아몬드\n",
    "# 수입산: 체리, 파인애플"
   ]
  },
  {
   "cell_type": "code",
   "execution_count": 23,
   "metadata": {},
   "outputs": [
    {
     "name": "stdout",
     "output_type": "stream",
     "text": [
      "- Product Code:  [411]\n",
      "- 도매 출하단위:  [10.]\n"
     ]
    }
   ],
   "source": [
    "# Product Code = 411\n",
    "print('- Product Code: ', df_prices_23.query('PDLT_NM==\"사과\" and EXMN_SE_NM==\"도매\"')['PDLT_CODE'].unique())\n",
    "# 사과 도매출하 단위 무조건 10kg\n",
    "print('- 도매 출하단위: ', df_prices_23.query('PDLT_NM==\"사과\" and EXMN_SE_NM==\"도매\"')['WHSL_SMT_UNIT_MG'].unique())"
   ]
  },
  {
   "cell_type": "code",
   "execution_count": 26,
   "metadata": {},
   "outputs": [
    {
     "name": "stdout",
     "output_type": "stream",
     "text": [
      "- 건오징어 중품 마리 당 가격:  4366.0\n"
     ]
    },
    {
     "name": "stderr",
     "output_type": "stream",
     "text": [
      "/var/folders/xj/2s3xtsx155s338l8v9g7k_wh0000gn/T/ipykernel_1580/3611776278.py:7: FutureWarning: The behavior of 'isin' with dtype=datetime64[ns] and castable values (e.g. strings) is deprecated. In a future version, these will not be considered matching by isin. Explicitly cast to the appropriate dtype before calling isin instead.\n",
      "  df_squid = df_prices_23.query(f\"PRCE_REG_YMD=='{date}' and SPCS_NM=='{product}' and BULK_GRAD_NM=='{bulk_grad_nm}' and EXMN_SE_NM == '{se_nm}'\")\n",
      "/var/folders/xj/2s3xtsx155s338l8v9g7k_wh0000gn/T/ipykernel_1580/3611776278.py:8: SettingWithCopyWarning: \n",
      "A value is trying to be set on a copy of a slice from a DataFrame.\n",
      "Try using .loc[row_indexer,col_indexer] = value instead\n",
      "\n",
      "See the caveats in the documentation: https://pandas.pydata.org/pandas-docs/stable/user_guide/indexing.html#returning-a-view-versus-a-copy\n",
      "  df_squid['1PKG_PRCE'] = df_squid['PDLT_PRCE']/df_squid['WHSL_SMT_UNIT_MG']\n"
     ]
    }
   ],
   "source": [
    "# 검색 기준\n",
    "product = '건오징어'\n",
    "se_nm = '도매'\n",
    "date = '20230120'\n",
    "bulk_grad_nm = '중품'\n",
    "# 건오징어만\n",
    "df_squid = df_prices_23.query(f\"PRCE_REG_YMD=='{date}' and SPCS_NM=='{product}' and BULK_GRAD_NM=='{bulk_grad_nm}' and EXMN_SE_NM == '{se_nm}'\")\n",
    "df_squid['1PKG_PRCE'] = df_squid['PDLT_PRCE']/df_squid['WHSL_SMT_UNIT_MG']\n",
    "pkg_nm = list(df_squid['WHSL_SMT_UNIT_NM'].unique())[-1]\n",
    "\n",
    "print(f'- {product} {bulk_grad_nm} {pkg_nm} 당 가격: ', df_squid['1PKG_PRCE'].mean())"
   ]
  },
  {
   "cell_type": "markdown",
   "metadata": {},
   "source": [
    "## plotting 1"
   ]
  },
  {
   "cell_type": "code",
   "execution_count": 103,
   "metadata": {},
   "outputs": [
    {
     "name": "stderr",
     "output_type": "stream",
     "text": [
      "/var/folders/xj/2s3xtsx155s338l8v9g7k_wh0000gn/T/ipykernel_1562/67973686.py:6: SettingWithCopyWarning: \n",
      "A value is trying to be set on a copy of a slice from a DataFrame.\n",
      "Try using .loc[row_indexer,col_indexer] = value instead\n",
      "\n",
      "See the caveats in the documentation: https://pandas.pydata.org/pandas-docs/stable/user_guide/indexing.html#returning-a-view-versus-a-copy\n",
      "  df_prices_23_apl['PKG_PRCE'] = df_prices_23_apl['PDLT_PRCE']/df_prices_23_apl['WHSL_SMT_UNIT_MG']\n"
     ]
    }
   ],
   "source": [
    "# 사과만\n",
    "product = '사과'\n",
    "df_prices_23_apl = df_prices_23.query(f'PDLT_NM==\"{product}\" and EXMN_SE_NM==\"도매\"')\n",
    "\n",
    "# kg당 가격\n",
    "df_prices_23_apl['PKG_PRCE'] = df_prices_23_apl['PDLT_PRCE']/df_prices_23_apl['WHSL_SMT_UNIT_MG']"
   ]
  },
  {
   "cell_type": "markdown",
   "metadata": {},
   "source": [
    "### * 일자 누락분"
   ]
  },
  {
   "cell_type": "code",
   "execution_count": 28,
   "metadata": {},
   "outputs": [
    {
     "data": {
      "text/plain": [
       "123"
      ]
     },
     "execution_count": 28,
     "metadata": {},
     "output_type": "execute_result"
    }
   ],
   "source": [
    "every_dates = df_prices_23['DOY'].unique()\n",
    "len(set(range(1,366)).difference(every_dates))\n",
    "# 전체: 123일치 누락"
   ]
  },
  {
   "cell_type": "code",
   "execution_count": 29,
   "metadata": {},
   "outputs": [],
   "source": [
    "weekday_kor = ['월', '화', '수', '목', '금', '토', '일']\n",
    "\n",
    "ls_wkdy = []\n",
    "missing_dt = set(range(1,366)).difference(every_dates)\n",
    "ls_missing_dt = []\n",
    "\n",
    "for dn in missing_dt:\n",
    "    date = dt.datetime(2023, 1, 1) + dt.timedelta(days=dn)\n",
    "    weekday = weekday_kor[date.weekday()]\n",
    "    ls_wkdy.append(weekday)\n",
    "\n",
    "    if weekday == '화':\n",
    "        ls_missing_dt.append(dn)"
   ]
  },
  {
   "cell_type": "code",
   "execution_count": 30,
   "metadata": {},
   "outputs": [
    {
     "data": {
      "text/plain": [
       "월    53\n",
       "일    51\n",
       "화     7\n",
       "토     5\n",
       "수     5\n",
       "목     1\n",
       "금     1\n",
       "Name: count, dtype: int64"
      ]
     },
     "execution_count": 30,
     "metadata": {},
     "output_type": "execute_result"
    }
   ],
   "source": [
    "pd.Series(ls_wkdy).value_counts()"
   ]
  },
  {
   "cell_type": "code",
   "execution_count": 41,
   "metadata": {},
   "outputs": [
    {
     "data": {
      "image/png": "[encoded data removed]",
      "text/plain": [
       "<Figure size 640x480 with 1 Axes>"
      ]
     },
     "metadata": {},
     "output_type": "display_data"
    }
   ],
   "source": [
    "x = list(missing_dt)\n",
    "y = [1]*len(x)\n",
    "plt.bar(x,y)\n",
    "plt.title('2023년 Missing Date')\n",
    "plt.show()"
   ]
  },
  {
   "cell_type": "code",
   "execution_count": 229,
   "metadata": {},
   "outputs": [
    {
     "name": "stdout",
     "output_type": "stream",
     "text": [
      "2023-01-10\n",
      "2023-01-24\n",
      "2023-05-02\n",
      "2023-05-30\n",
      "2023-10-03\n",
      "2023-10-10\n",
      "2023-12-26\n"
     ]
    }
   ],
   "source": [
    "for dn in ls_missing_dt:\n",
    "    date = dt.datetime(2023, 1, 1) + dt.timedelta(days=dn)\n",
    "    print(date.strftime('%Y-%m-%d'))"
   ]
  },
  {
   "cell_type": "code",
   "execution_count": 99,
   "metadata": {},
   "outputs": [
    {
     "data": {
      "text/plain": [
       "124"
      ]
     },
     "execution_count": 99,
     "metadata": {},
     "output_type": "execute_result"
    }
   ],
   "source": [
    "every_dates = df_prices_23_apl['DOY'].unique()\n",
    "len(set(range(1,366)).difference(every_dates))\n",
    "# 사과: 124일치 누락"
   ]
  },
  {
   "cell_type": "markdown",
   "metadata": {},
   "source": [
    "### ---------------"
   ]
  },
  {
   "cell_type": "code",
   "execution_count": 158,
   "metadata": {},
   "outputs": [
    {
     "data": {
      "image/png": "[encoded data removed]",
      "text/plain": [
       "<Figure size 1000x500 with 1 Axes>"
      ]
     },
     "metadata": {},
     "output_type": "display_data"
    }
   ],
   "source": [
    "cols_itrs = ['PRCE_REG_YMD','PKG_PRCE']\n",
    "df_plot = df_prices_23_apl[cols_itrs].groupby('PRCE_REG_YMD').mean()\n",
    "\n",
    "unqpkg = df_prices_23_apl['WHSL_SMT_UNIT_NM'].unique()\n",
    "if len(unqpkg) > 1:\n",
    "    print('- 패키지 개수: ', len(df_prices_23_apl['WHSL_SMT_UNIT_NM'].unique()))\n",
    "pkg_nm = df_prices_23_apl['WHSL_SMT_UNIT_NM'].unique()[-1]\n",
    "\n",
    "x = df_plot.index\n",
    "y = df_plot['PKG_PRCE']\n",
    "\n",
    "plt.figure(figsize=(10,5))\n",
    "plt.plot(x, y, label=product)\n",
    "plt.legend()\n",
    "plt.title(f'일별 {product} 가격변동 ({pkg_nm})')\n",
    "plt.grid()\n",
    "plt.show()"
   ]
  },
  {
   "cell_type": "code",
   "execution_count": 234,
   "metadata": {},
   "outputs": [
    {
     "data": {
      "text/plain": [
       "array(['깐마늘(국산)', '느타리버섯', '감귤', '방울토마토', '포도', '양파', '파', '생강', '미나리',\n",
       "       '깻잎', '피망', '파프리카', '멜론', '피마늘', '팽이버섯', '새송이버섯', '사과', '풋고추', '배',\n",
       "       '고구마', '단감', '바나나', '감자', '파인애플', '배추', '양배추', '시금치', '상추',\n",
       "       '얼갈이배추', '수박', '오이', '호박', '토마토', '딸기', '레몬', '망고', '무', '당근',\n",
       "       '열무', '붉은고추', '쌀', '콩', '팥', '참깨', '들깨', '녹두', '메밀', '찹쌀', '땅콩',\n",
       "       '고등어', '갈치', '명태', '물오징어', '건멸치', '북어', '건오징어', '김', '건미역', '굴',\n",
       "       '건고추', '전복', '새우', '참다래', '오렌지', '체리', '참외', '알배기배추', '브로콜리',\n",
       "       '복숭아', '삼치'], dtype=object)"
      ]
     },
     "execution_count": 234,
     "metadata": {},
     "output_type": "execute_result"
    }
   ],
   "source": [
    "df_prices_23.query('EXMN_SE_NM==\"도매\"')['PDLT_NM'].unique()"
   ]
  },
  {
   "cell_type": "code",
   "execution_count": 220,
   "metadata": {},
   "outputs": [
    {
     "name": "stderr",
     "output_type": "stream",
     "text": [
      "/var/folders/xj/2s3xtsx155s338l8v9g7k_wh0000gn/T/ipykernel_946/158604512.py:5: SettingWithCopyWarning: \n",
      "A value is trying to be set on a copy of a slice from a DataFrame.\n",
      "Try using .loc[row_indexer,col_indexer] = value instead\n",
      "\n",
      "See the caveats in the documentation: https://pandas.pydata.org/pandas-docs/stable/user_guide/indexing.html#returning-a-view-versus-a-copy\n",
      "  df_prices_23_plt['PKG_PRCE'] = df_prices_23_plt['PDLT_PRCE']/df_prices_23_plt['WHSL_SMT_UNIT_MG']\n"
     ]
    },
    {
     "data": {
      "image/png": "[encoded data removed]",
      "text/plain": [
       "<Figure size 1000x500 with 1 Axes>"
      ]
     },
     "metadata": {},
     "output_type": "display_data"
    }
   ],
   "source": [
    "product = '쌀'\n",
    "df_prices_23_plt = df_prices_23.query(f'PDLT_NM==\"{product}\" and EXMN_SE_NM==\"도매\"')\n",
    "\n",
    "# kg당 가격\n",
    "df_prices_23_plt['PKG_PRCE'] = df_prices_23_plt['PDLT_PRCE']/df_prices_23_plt['WHSL_SMT_UNIT_MG']\n",
    "\n",
    "cols_itrs = ['PRCE_REG_YMD','PKG_PRCE']\n",
    "df_plot = df_prices_23_plt[cols_itrs].groupby('PRCE_REG_YMD').mean()\n",
    "\n",
    "unqpkg = df_prices_23_plt['WHSL_SMT_UNIT_NM'].unique()\n",
    "if len(unqpkg) > 1:\n",
    "    print('- 패키지 개수: ', len(df_prices_23_plt['WHSL_SMT_UNIT_NM'].unique()))\n",
    "pkg_nm = df_prices_23_plt['WHSL_SMT_UNIT_NM'].unique()[-1]\n",
    "\n",
    "x = df_plot.index\n",
    "y = df_plot['PKG_PRCE']\n",
    "\n",
    "plt.figure(figsize=(10,5))\n",
    "plt.plot(x, y, label=product)\n",
    "plt.legend()\n",
    "plt.title(f'일별 {product} 가격변동 ({pkg_nm})')\n",
    "plt.grid()\n",
    "plt.show()"
   ]
  },
  {
   "cell_type": "code",
   "execution_count": 252,
   "metadata": {},
   "outputs": [
    {
     "name": "stderr",
     "output_type": "stream",
     "text": [
      "/var/folders/xj/2s3xtsx155s338l8v9g7k_wh0000gn/T/ipykernel_946/4265260396.py:13: SettingWithCopyWarning: \n",
      "A value is trying to be set on a copy of a slice from a DataFrame.\n",
      "Try using .loc[row_indexer,col_indexer] = value instead\n",
      "\n",
      "See the caveats in the documentation: https://pandas.pydata.org/pandas-docs/stable/user_guide/indexing.html#returning-a-view-versus-a-copy\n",
      "  df_prices_23_plt['PKG_PRCE'] = df_prices_23_plt['PDLT_PRCE']/df_prices_23_plt['WHSL_SMT_UNIT_MG']\n",
      "/var/folders/xj/2s3xtsx155s338l8v9g7k_wh0000gn/T/ipykernel_946/4265260396.py:13: SettingWithCopyWarning: \n",
      "A value is trying to be set on a copy of a slice from a DataFrame.\n",
      "Try using .loc[row_indexer,col_indexer] = value instead\n",
      "\n",
      "See the caveats in the documentation: https://pandas.pydata.org/pandas-docs/stable/user_guide/indexing.html#returning-a-view-versus-a-copy\n",
      "  df_prices_23_plt['PKG_PRCE'] = df_prices_23_plt['PDLT_PRCE']/df_prices_23_plt['WHSL_SMT_UNIT_MG']\n",
      "/var/folders/xj/2s3xtsx155s338l8v9g7k_wh0000gn/T/ipykernel_946/4265260396.py:13: SettingWithCopyWarning: \n",
      "A value is trying to be set on a copy of a slice from a DataFrame.\n",
      "Try using .loc[row_indexer,col_indexer] = value instead\n",
      "\n",
      "See the caveats in the documentation: https://pandas.pydata.org/pandas-docs/stable/user_guide/indexing.html#returning-a-view-versus-a-copy\n",
      "  df_prices_23_plt['PKG_PRCE'] = df_prices_23_plt['PDLT_PRCE']/df_prices_23_plt['WHSL_SMT_UNIT_MG']\n",
      "/var/folders/xj/2s3xtsx155s338l8v9g7k_wh0000gn/T/ipykernel_946/4265260396.py:13: SettingWithCopyWarning: \n",
      "A value is trying to be set on a copy of a slice from a DataFrame.\n",
      "Try using .loc[row_indexer,col_indexer] = value instead\n",
      "\n",
      "See the caveats in the documentation: https://pandas.pydata.org/pandas-docs/stable/user_guide/indexing.html#returning-a-view-versus-a-copy\n",
      "  df_prices_23_plt['PKG_PRCE'] = df_prices_23_plt['PDLT_PRCE']/df_prices_23_plt['WHSL_SMT_UNIT_MG']\n"
     ]
    },
    {
     "data": {
      "image/png": "[encoded data removed]",
      "text/plain": [
       "<Figure size 1000x500 with 1 Axes>"
      ]
     },
     "metadata": {},
     "output_type": "display_data"
    }
   ],
   "source": [
    "# 프로덕트별\n",
    "ls_products = ['사과','쌀','팽이버섯','고등어']\n",
    "\n",
    "# Basic Ploitting\n",
    "plt.figure(figsize=(10,5))\n",
    "\n",
    "for product in ls_products:    \n",
    "    df_prices_23_plt = df_prices_23.query(f'PDLT_NM==\"{product}\" and EXMN_SE_NM==\"도매\"')\n",
    "    \n",
    "    # 단위당 가격\n",
    "    df_prices_23_plt['PKG_PRCE'] = df_prices_23_plt['PDLT_PRCE']/df_prices_23_plt['WHSL_SMT_UNIT_MG']\n",
    "\n",
    "    # 단위명\n",
    "    unqpkg = list(df_prices_23_plt['WHSL_SMT_UNIT_NM'].unique())\n",
    "    if len(unqpkg) > 1:\n",
    "        print(f'- {product} 패키지 개수: ', len(df_prices_23_plt['WHSL_SMT_UNIT_NM'].unique()))\n",
    "    pkg_nm = df_prices_23_plt['WHSL_SMT_UNIT_NM'].unique()[-1]\n",
    "    \n",
    "\n",
    "    cols_itrs = ['PRCE_REG_YMD','PKG_PRCE']\n",
    "    df_plot = df_prices_23_plt[cols_itrs].groupby('PRCE_REG_YMD').mean()\n",
    "\n",
    "    # Plotting\n",
    "    x = df_plot.index\n",
    "    y = df_plot['PKG_PRCE']\n",
    "    plt.plot(x, y, label=f'{product} ({pkg_nm})')\n",
    "\n",
    "plt.title('일별 품목별 가격변동')\n",
    "plt.legend()\n",
    "plt.grid()\n",
    "plt.show()"
   ]
  },
  {
   "cell_type": "code",
   "execution_count": null,
   "metadata": {},
   "outputs": [],
   "source": [
    "# 요식업 창업 리포트\n",
    "# => 일별 변동성\n",
    "# => 월별 변동성 (계절성)\n",
    "# => "
   ]
  },
  {
   "cell_type": "code",
   "execution_count": 144,
   "metadata": {},
   "outputs": [
    {
     "name": "stderr",
     "output_type": "stream",
     "text": [
      "/var/folders/xj/2s3xtsx155s338l8v9g7k_wh0000gn/T/ipykernel_1562/1278593615.py:7: SettingWithCopyWarning: \n",
      "A value is trying to be set on a copy of a slice from a DataFrame.\n",
      "Try using .loc[row_indexer,col_indexer] = value instead\n",
      "\n",
      "See the caveats in the documentation: https://pandas.pydata.org/pandas-docs/stable/user_guide/indexing.html#returning-a-view-versus-a-copy\n",
      "  df_prices_23_plt['PKG_PRCE'] = df_prices_23_plt['PDLT_PRCE']/df_prices_23_plt['WHSL_SMT_UNIT_MG']\n",
      "/var/folders/xj/2s3xtsx155s338l8v9g7k_wh0000gn/T/ipykernel_1562/1278593615.py:7: SettingWithCopyWarning: \n",
      "A value is trying to be set on a copy of a slice from a DataFrame.\n",
      "Try using .loc[row_indexer,col_indexer] = value instead\n",
      "\n",
      "See the caveats in the documentation: https://pandas.pydata.org/pandas-docs/stable/user_guide/indexing.html#returning-a-view-versus-a-copy\n",
      "  df_prices_23_plt['PKG_PRCE'] = df_prices_23_plt['PDLT_PRCE']/df_prices_23_plt['WHSL_SMT_UNIT_MG']\n",
      "/var/folders/xj/2s3xtsx155s338l8v9g7k_wh0000gn/T/ipykernel_1562/1278593615.py:7: SettingWithCopyWarning: \n",
      "A value is trying to be set on a copy of a slice from a DataFrame.\n",
      "Try using .loc[row_indexer,col_indexer] = value instead\n",
      "\n",
      "See the caveats in the documentation: https://pandas.pydata.org/pandas-docs/stable/user_guide/indexing.html#returning-a-view-versus-a-copy\n",
      "  df_prices_23_plt['PKG_PRCE'] = df_prices_23_plt['PDLT_PRCE']/df_prices_23_plt['WHSL_SMT_UNIT_MG']\n",
      "/var/folders/xj/2s3xtsx155s338l8v9g7k_wh0000gn/T/ipykernel_1562/1278593615.py:7: SettingWithCopyWarning: \n",
      "A value is trying to be set on a copy of a slice from a DataFrame.\n",
      "Try using .loc[row_indexer,col_indexer] = value instead\n",
      "\n",
      "See the caveats in the documentation: https://pandas.pydata.org/pandas-docs/stable/user_guide/indexing.html#returning-a-view-versus-a-copy\n",
      "  df_prices_23_plt['PKG_PRCE'] = df_prices_23_plt['PDLT_PRCE']/df_prices_23_plt['WHSL_SMT_UNIT_MG']\n"
     ]
    }
   ],
   "source": [
    "# 프로덕트별 / 일별\n",
    "ls_products = ['사과','쌀','팽이버섯','고등어']\n",
    "\n",
    "ls_prdcv = []\n",
    "for product in ls_products:    \n",
    "    df_prices_23_plt = df_prices_23.query(f'PDLT_NM==\"{product}\" and EXMN_SE_NM==\"도매\"')\n",
    "    df_prices_23_plt['PKG_PRCE'] = df_prices_23_plt['PDLT_PRCE']/df_prices_23_plt['WHSL_SMT_UNIT_MG']\n",
    "\n",
    "    cols_itrs = ['PRCE_REG_YMD','PKG_PRCE']\n",
    "    df_updown = df_prices_23_plt[cols_itrs].groupby('PRCE_REG_YMD').mean()\n",
    "\n",
    "\n",
    "    df_updown['daily_return'] = df_updown['PKG_PRCE'].pct_change()\n",
    "    std = df_updown['PKG_PRCE'].std()\n",
    "\n",
    "    # 일일 수익률 변동성\n",
    "    volatility = df_updown['daily_return'].std()\n",
    "\n",
    "    # 변동계수\n",
    "    cv = std / df_updown['PKG_PRCE'].mean()\n",
    "\n",
    "    ls_prdcv.append([product, cv])"
   ]
  },
  {
   "cell_type": "code",
   "execution_count": 152,
   "metadata": {},
   "outputs": [
    {
     "data": {
      "text/html": [
       "<div>\n",
       "<style scoped>\n",
       "    .dataframe tbody tr th:only-of-type {\n",
       "        vertical-align: middle;\n",
       "    }\n",
       "\n",
       "    .dataframe tbody tr th {\n",
       "        vertical-align: top;\n",
       "    }\n",
       "\n",
       "    .dataframe thead th {\n",
       "        text-align: right;\n",
       "    }\n",
       "</style>\n",
       "<table border=\"1\" class=\"dataframe\">\n",
       "  <thead>\n",
       "    <tr style=\"text-align: right;\">\n",
       "      <th></th>\n",
       "      <th>product</th>\n",
       "      <th>cv</th>\n",
       "    </tr>\n",
       "  </thead>\n",
       "  <tbody>\n",
       "    <tr>\n",
       "      <th>0</th>\n",
       "      <td>사과</td>\n",
       "      <td>0.271193</td>\n",
       "    </tr>\n",
       "    <tr>\n",
       "      <th>1</th>\n",
       "      <td>쌀</td>\n",
       "      <td>0.054488</td>\n",
       "    </tr>\n",
       "    <tr>\n",
       "      <th>2</th>\n",
       "      <td>팽이버섯</td>\n",
       "      <td>0.153350</td>\n",
       "    </tr>\n",
       "    <tr>\n",
       "      <th>3</th>\n",
       "      <td>고등어</td>\n",
       "      <td>0.047333</td>\n",
       "    </tr>\n",
       "  </tbody>\n",
       "</table>\n",
       "</div>"
      ],
      "text/plain": [
       "  product        cv\n",
       "0      사과  0.271193\n",
       "1       쌀  0.054488\n",
       "2    팽이버섯  0.153350\n",
       "3     고등어  0.047333"
      ]
     },
     "execution_count": 152,
     "metadata": {},
     "output_type": "execute_result"
    }
   ],
   "source": [
    "pd.DataFrame(ls_prdcv, columns=['product','cv'])"
   ]
  },
  {
   "cell_type": "code",
   "execution_count": 161,
   "metadata": {},
   "outputs": [
    {
     "name": "stderr",
     "output_type": "stream",
     "text": [
      "/var/folders/xj/2s3xtsx155s338l8v9g7k_wh0000gn/T/ipykernel_1562/58671099.py:8: SettingWithCopyWarning: \n",
      "A value is trying to be set on a copy of a slice from a DataFrame.\n",
      "Try using .loc[row_indexer,col_indexer] = value instead\n",
      "\n",
      "See the caveats in the documentation: https://pandas.pydata.org/pandas-docs/stable/user_guide/indexing.html#returning-a-view-versus-a-copy\n",
      "  df_prices_23_alpd['PKG_PRCE'] = df_prices_23_alpd['PDLT_PRCE']/df_prices_23_alpd['WHSL_SMT_UNIT_MG']\n"
     ]
    }
   ],
   "source": [
    "# 도매로 판매되는 전체 프로덕트\n",
    "set_all_prd = set(df_prices_23.query(f'EXMN_SE_NM==\"도매\"')['PDLT_NM'])\n",
    "\n",
    "f1 = df_prices_23['PDLT_NM'].apply(lambda x: x in set_all_prd)\n",
    "f2 = df_prices_23['EXMN_SE_NM'] == '도매'\n",
    "df_prices_23_alpd = df_prices_23[f1&f2]\n",
    "\n",
    "# 단위별 \n",
    "df_prices_23_alpd['PKG_PRCE'] = df_prices_23_alpd['PDLT_PRCE']/df_prices_23_alpd['WHSL_SMT_UNIT_MG']\n",
    "\n",
    "cols_itrs = ['PDLT_NM','PRCE_REG_YMD','PKG_PRCE']\n",
    "df_updown = df_prices_23_alpd[cols_itrs].groupby(['PDLT_NM','PRCE_REG_YMD']).mean()\n",
    "\n",
    "ls_prdcv = []\n",
    "for product in set_all_prd:\n",
    "    df_tmp = df_updown.loc[product]\n",
    "    df_tmp['daily_return'] = df_tmp['PKG_PRCE'].pct_change()\n",
    "    \n",
    "    # 표준편차\n",
    "    std = df_tmp['PKG_PRCE'].std()\n",
    "    # 일일 수익률 변동성\n",
    "    volatility = df_tmp['daily_return'].std()\n",
    "    # 변동계수\n",
    "    cv = std / df_tmp['PKG_PRCE'].mean()\n",
    "\n",
    "    ls_prdcv.append([product, cv])"
   ]
  },
  {
   "cell_type": "code",
   "execution_count": 165,
   "metadata": {},
   "outputs": [],
   "source": [
    "df_alprdcv = pd.DataFrame(ls_prdcv, columns=['product','cv'])"
   ]
  },
  {
   "cell_type": "code",
   "execution_count": 171,
   "metadata": {},
   "outputs": [
    {
     "data": {
      "text/html": [
       "<div>\n",
       "<style scoped>\n",
       "    .dataframe tbody tr th:only-of-type {\n",
       "        vertical-align: middle;\n",
       "    }\n",
       "\n",
       "    .dataframe tbody tr th {\n",
       "        vertical-align: top;\n",
       "    }\n",
       "\n",
       "    .dataframe thead th {\n",
       "        text-align: right;\n",
       "    }\n",
       "</style>\n",
       "<table border=\"1\" class=\"dataframe\">\n",
       "  <thead>\n",
       "    <tr style=\"text-align: right;\">\n",
       "      <th></th>\n",
       "      <th>product</th>\n",
       "      <th>cv</th>\n",
       "    </tr>\n",
       "  </thead>\n",
       "  <tbody>\n",
       "    <tr>\n",
       "      <th>60</th>\n",
       "      <td>들깨</td>\n",
       "      <td>0.034916</td>\n",
       "    </tr>\n",
       "    <tr>\n",
       "      <th>61</th>\n",
       "      <td>명태</td>\n",
       "      <td>0.028038</td>\n",
       "    </tr>\n",
       "    <tr>\n",
       "      <th>62</th>\n",
       "      <td>찹쌀</td>\n",
       "      <td>0.026202</td>\n",
       "    </tr>\n",
       "    <tr>\n",
       "      <th>63</th>\n",
       "      <td>녹두</td>\n",
       "      <td>0.025588</td>\n",
       "    </tr>\n",
       "    <tr>\n",
       "      <th>64</th>\n",
       "      <td>참깨</td>\n",
       "      <td>0.020728</td>\n",
       "    </tr>\n",
       "    <tr>\n",
       "      <th>65</th>\n",
       "      <td>건미역</td>\n",
       "      <td>0.019751</td>\n",
       "    </tr>\n",
       "    <tr>\n",
       "      <th>66</th>\n",
       "      <td>건오징어</td>\n",
       "      <td>0.019625</td>\n",
       "    </tr>\n",
       "    <tr>\n",
       "      <th>67</th>\n",
       "      <td>새우</td>\n",
       "      <td>0.013706</td>\n",
       "    </tr>\n",
       "    <tr>\n",
       "      <th>68</th>\n",
       "      <td>콩</td>\n",
       "      <td>0.012902</td>\n",
       "    </tr>\n",
       "    <tr>\n",
       "      <th>69</th>\n",
       "      <td>북어</td>\n",
       "      <td>0.010089</td>\n",
       "    </tr>\n",
       "  </tbody>\n",
       "</table>\n",
       "</div>"
      ],
      "text/plain": [
       "   product        cv\n",
       "60      들깨  0.034916\n",
       "61      명태  0.028038\n",
       "62      찹쌀  0.026202\n",
       "63      녹두  0.025588\n",
       "64      참깨  0.020728\n",
       "65     건미역  0.019751\n",
       "66    건오징어  0.019625\n",
       "67      새우  0.013706\n",
       "68       콩  0.012902\n",
       "69      북어  0.010089"
      ]
     },
     "execution_count": 171,
     "metadata": {},
     "output_type": "execute_result"
    }
   ],
   "source": [
    "i = 1\n",
    "df_alprdcv.sort_values(by='cv', ascending=False).reset_index(drop=True).iloc[60:90]"
   ]
  }
 ],
 "metadata": {
  "kernelspec": {
   "display_name": "Python 3",
   "language": "python",
   "name": "python3"
  },
  "language_info": {
   "codemirror_mode": {
    "name": "ipython",
    "version": 3
   },
   "file_extension": ".py",
   "mimetype": "text/x-python",
   "name": "python",
   "nbconvert_exporter": "python",
   "pygments_lexer": "ipython3",
   "version": "3.12.3"
  }
 },
 "nbformat": 4,
 "nbformat_minor": 2
}
