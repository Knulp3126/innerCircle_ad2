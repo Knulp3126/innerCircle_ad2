{
 "cells": [
  {
   "cell_type": "markdown",
   "metadata": {
    "id": "H4MoABam6S4F"
   },
   "source": [
    "# 실구매 영수증기반 온라인쇼핑몰 연령별 매출 데이터"
   ]
  },
  {
   "cell_type": "markdown",
   "metadata": {
    "id": "6fABzNNV6HMf"
   },
   "source": [
    "## 라이브러리 Import"
   ]
  },
  {
   "cell_type": "code",
   "execution_count": 1,
   "metadata": {},
   "outputs": [],
   "source": [
    "# -*- coding: utf-8 -*-\n",
    "import os, sys, re\n",
    "import numpy as np\n",
    "import pandas as pd\n",
    "import matplotlib.pyplot as plt\n",
    "import seaborn as sns\n",
    "import plotly.express as px\n",
    "\n",
    "from glob import glob\n",
    "from collections import Counter\n",
    "from bokeh.models import DatetimeTickFormatter\n",
    "from bokeh.plotting import figure, show, output_notebook, save\n",
    "from bokeh.models import ColumnDataSource, HoverTool, BoxAnnotation\n",
    "from bokeh.palettes import Category10\n",
    "from bokeh.layouts import layout\n",
    "from bokeh.io.export import export_png\n",
    "\n",
    "sys.path.append(os.path.abspath(\"../../code\"))\n",
    "\n",
    "import functions as fc\n",
    "\n",
    "# pandas 설정\n",
    "pd.set_option('display.max_columns', 100)\n",
    "\n",
    "# matplotlib 설정\n",
    "plt.rcParams['font.family'] = 'NanumGothic'  # 나눔고딕 설정\n",
    "plt.rcParams['axes.unicode_minus'] = False   # 마이너스 기호 깨짐 방지"
   ]
  },
  {
   "cell_type": "code",
   "execution_count": 2,
   "metadata": {},
   "outputs": [
    {
     "data": {
      "text/plain": [
       "True"
      ]
     },
     "execution_count": 2,
     "metadata": {},
     "output_type": "execute_result"
    }
   ],
   "source": [
    "data_path = os.path.abspath(\"../../data\")\n",
    "os.path.exists(data_path)"
   ]
  },
  {
   "cell_type": "markdown",
   "metadata": {
    "id": "F7DiR6WJ6KG4"
   },
   "source": [
    "## 데이터 Load 및 살펴보기"
   ]
  },
  {
   "cell_type": "code",
   "execution_count": 3,
   "metadata": {
    "executionInfo": {
     "elapsed": 11229,
     "status": "ok",
     "timestamp": 1745319212693,
     "user": {
      "displayName": "김동영",
      "userId": "02998294583473138517"
     },
     "user_tz": -540
    },
    "id": "-BHdmRoLMYH4"
   },
   "outputs": [
    {
     "data": {
      "text/html": [
       "<div>\n",
       "<style scoped>\n",
       "    .dataframe tbody tr th:only-of-type {\n",
       "        vertical-align: middle;\n",
       "    }\n",
       "\n",
       "    .dataframe tbody tr th {\n",
       "        vertical-align: top;\n",
       "    }\n",
       "\n",
       "    .dataframe thead th {\n",
       "        text-align: right;\n",
       "    }\n",
       "</style>\n",
       "<table border=\"1\" class=\"dataframe\">\n",
       "  <thead>\n",
       "    <tr style=\"text-align: right;\">\n",
       "      <th></th>\n",
       "      <th>테이블순번</th>\n",
       "      <th>채널명</th>\n",
       "      <th>구매연도</th>\n",
       "      <th>구매분기</th>\n",
       "      <th>구매월</th>\n",
       "      <th>구매주차</th>\n",
       "      <th>구매주차일자</th>\n",
       "      <th>구매자연령</th>\n",
       "      <th>대분류</th>\n",
       "      <th>중분류</th>\n",
       "      <th>소분류</th>\n",
       "      <th>세분류</th>\n",
       "      <th>구매상품명</th>\n",
       "      <th>구매수량</th>\n",
       "      <th>구매금액</th>\n",
       "    </tr>\n",
       "  </thead>\n",
       "  <tbody>\n",
       "    <tr>\n",
       "      <th>0</th>\n",
       "      <td>1</td>\n",
       "      <td>온라인쇼핑몰</td>\n",
       "      <td>Y2023</td>\n",
       "      <td>Q202304</td>\n",
       "      <td>M202310</td>\n",
       "      <td>W202340</td>\n",
       "      <td>20231002 ~ 20231008</td>\n",
       "      <td>40대</td>\n",
       "      <td>가공식품</td>\n",
       "      <td>제과</td>\n",
       "      <td>케익/빵</td>\n",
       "      <td>케익/빵</td>\n",
       "      <td>밀크앤허니 바질치즈치아바타샌드위치(780g/195g*4개입)</td>\n",
       "      <td>1</td>\n",
       "      <td>13180</td>\n",
       "    </tr>\n",
       "    <tr>\n",
       "      <th>1</th>\n",
       "      <td>2</td>\n",
       "      <td>온라인쇼핑몰</td>\n",
       "      <td>Y2023</td>\n",
       "      <td>Q202304</td>\n",
       "      <td>M202310</td>\n",
       "      <td>W202340</td>\n",
       "      <td>20231002 ~ 20231008</td>\n",
       "      <td>40대</td>\n",
       "      <td>가공식품</td>\n",
       "      <td>소스/조미류</td>\n",
       "      <td>간장</td>\n",
       "      <td>간장</td>\n",
       "      <td>샘표 양조간장(701)(930ML)</td>\n",
       "      <td>1</td>\n",
       "      <td>6400</td>\n",
       "    </tr>\n",
       "    <tr>\n",
       "      <th>2</th>\n",
       "      <td>3</td>\n",
       "      <td>온라인쇼핑몰</td>\n",
       "      <td>Y2023</td>\n",
       "      <td>Q202304</td>\n",
       "      <td>M202310</td>\n",
       "      <td>W202340</td>\n",
       "      <td>20231002 ~ 20231008</td>\n",
       "      <td>40대</td>\n",
       "      <td>가공식품</td>\n",
       "      <td>제과</td>\n",
       "      <td>초콜릿</td>\n",
       "      <td>초콜릿</td>\n",
       "      <td>허쉬 레귤러바 쿠키앤크림 40g 12개</td>\n",
       "      <td>1</td>\n",
       "      <td>12780</td>\n",
       "    </tr>\n",
       "    <tr>\n",
       "      <th>3</th>\n",
       "      <td>4</td>\n",
       "      <td>온라인쇼핑몰</td>\n",
       "      <td>Y2023</td>\n",
       "      <td>Q202304</td>\n",
       "      <td>M202310</td>\n",
       "      <td>W202340</td>\n",
       "      <td>20231002 ~ 20231008</td>\n",
       "      <td>40대</td>\n",
       "      <td>농산물</td>\n",
       "      <td>곡류</td>\n",
       "      <td>곡류</td>\n",
       "      <td>곡류</td>\n",
       "      <td>미농 임금님 수라쌀 등급 상, 10kg, 1개</td>\n",
       "      <td>1</td>\n",
       "      <td>25900</td>\n",
       "    </tr>\n",
       "    <tr>\n",
       "      <th>4</th>\n",
       "      <td>5</td>\n",
       "      <td>온라인쇼핑몰</td>\n",
       "      <td>Y2023</td>\n",
       "      <td>Q202304</td>\n",
       "      <td>M202310</td>\n",
       "      <td>W202340</td>\n",
       "      <td>20231002 ~ 20231008</td>\n",
       "      <td>40대</td>\n",
       "      <td>농산물</td>\n",
       "      <td>두부/콩나물</td>\n",
       "      <td>두부</td>\n",
       "      <td>두부</td>\n",
       "      <td>곰곰 콩두부, 500g, 8개</td>\n",
       "      <td>1</td>\n",
       "      <td>11830</td>\n",
       "    </tr>\n",
       "  </tbody>\n",
       "</table>\n",
       "</div>"
      ],
      "text/plain": [
       "   테이블순번     채널명   구매연도     구매분기      구매월     구매주차               구매주차일자 구매자연령  \\\n",
       "0      1  온라인쇼핑몰  Y2023  Q202304  M202310  W202340  20231002 ~ 20231008   40대   \n",
       "1      2  온라인쇼핑몰  Y2023  Q202304  M202310  W202340  20231002 ~ 20231008   40대   \n",
       "2      3  온라인쇼핑몰  Y2023  Q202304  M202310  W202340  20231002 ~ 20231008   40대   \n",
       "3      4  온라인쇼핑몰  Y2023  Q202304  M202310  W202340  20231002 ~ 20231008   40대   \n",
       "4      5  온라인쇼핑몰  Y2023  Q202304  M202310  W202340  20231002 ~ 20231008   40대   \n",
       "\n",
       "    대분류     중분류   소분류   세분류                              구매상품명  구매수량   구매금액  \n",
       "0  가공식품      제과  케익/빵  케익/빵  밀크앤허니 바질치즈치아바타샌드위치(780g/195g*4개입)     1  13180  \n",
       "1  가공식품  소스/조미류    간장    간장                샘표 양조간장(701)(930ML)     1   6400  \n",
       "2  가공식품      제과   초콜릿   초콜릿              허쉬 레귤러바 쿠키앤크림 40g 12개     1  12780  \n",
       "3   농산물      곡류    곡류    곡류          미농 임금님 수라쌀 등급 상, 10kg, 1개     1  25900  \n",
       "4   농산물  두부/콩나물    두부    두부                   곰곰 콩두부, 500g, 8개     1  11830  "
      ]
     },
     "execution_count": 3,
     "metadata": {},
     "output_type": "execute_result"
    }
   ],
   "source": [
    "file = f\"{data_path}/raw/실 구매 영수증 기반 온라인 쇼핑몰 연령별 매출 데이터.xlsx\"\n",
    "df = pd.read_excel(file)\n",
    "df.head()"
   ]
  },
  {
   "cell_type": "code",
   "execution_count": 4,
   "metadata": {
    "executionInfo": {
     "elapsed": 12,
     "status": "ok",
     "timestamp": 1745319212704,
     "user": {
      "displayName": "김동영",
      "userId": "02998294583473138517"
     },
     "user_tz": -540
    },
    "id": "jZ8XxLdINSzd"
   },
   "outputs": [],
   "source": [
    "# 채널명, 구매연도, 구매분기, 구매월 : Unique 값 1개\n",
    "# 구매주차 : W202340 ~ W202443\n",
    "# 구매주차일자 : 20231002 ~ 20231008, 20231009 ~ 20231015, 20231016 ~ 20231022, 20231023 ~ 20231029\n",
    "# 구매자연령 : 30대 이하, 40대, 50대 이상\n",
    "# 대분류 : 가공식품, 농산물, 수산물, 축산물, 델리, 반려동물용품"
   ]
  },
  {
   "cell_type": "markdown",
   "metadata": {
    "id": "pUykrrb63lEp"
   },
   "source": [
    "## 세분류 Value Counts"
   ]
  },
  {
   "cell_type": "markdown",
   "metadata": {
    "id": "vY-1ExB-3znL"
   },
   "source": [
    "### 연령대 별 데이터셋"
   ]
  },
  {
   "cell_type": "code",
   "execution_count": 5,
   "metadata": {
    "executionInfo": {
     "elapsed": 107,
     "status": "ok",
     "timestamp": 1745319212814,
     "user": {
      "displayName": "김동영",
      "userId": "02998294583473138517"
     },
     "user_tz": -540
    },
    "id": "C2Jb9L6W32ZZ"
   },
   "outputs": [],
   "source": [
    "u30_df = df[df['구매자연령'] == '30대 이하']\n",
    "o30u50_df = df[df['구매자연령'] == '40대']\n",
    "o50_df = df[df['구매자연령'] == '50대 이상']"
   ]
  },
  {
   "cell_type": "markdown",
   "metadata": {
    "id": "4l-jRL6H4ZTK"
   },
   "source": [
    "### 30대 이하 세분류 Value Counts"
   ]
  },
  {
   "cell_type": "code",
   "execution_count": 6,
   "metadata": {
    "colab": {
     "base_uri": "https://localhost:8080/",
     "height": 455
    },
    "executionInfo": {
     "elapsed": 73,
     "status": "ok",
     "timestamp": 1745319212888,
     "user": {
      "displayName": "김동영",
      "userId": "02998294583473138517"
     },
     "user_tz": -540
    },
    "id": "kvtfDMU03kpz",
    "outputId": "6f88ae49-38d2-4da2-f1c0-9c75ef36d228"
   },
   "outputs": [
    {
     "data": {
      "text/html": [
       "<div>\n",
       "<style scoped>\n",
       "    .dataframe tbody tr th:only-of-type {\n",
       "        vertical-align: middle;\n",
       "    }\n",
       "\n",
       "    .dataframe tbody tr th {\n",
       "        vertical-align: top;\n",
       "    }\n",
       "\n",
       "    .dataframe thead th {\n",
       "        text-align: right;\n",
       "    }\n",
       "</style>\n",
       "<table border=\"1\" class=\"dataframe\">\n",
       "  <thead>\n",
       "    <tr style=\"text-align: right;\">\n",
       "      <th></th>\n",
       "      <th>count</th>\n",
       "      <th>ratio</th>\n",
       "    </tr>\n",
       "    <tr>\n",
       "      <th>세분류</th>\n",
       "      <th></th>\n",
       "      <th></th>\n",
       "    </tr>\n",
       "  </thead>\n",
       "  <tbody>\n",
       "    <tr>\n",
       "      <th>채소</th>\n",
       "      <td>553</td>\n",
       "      <td>10.122643</td>\n",
       "    </tr>\n",
       "    <tr>\n",
       "      <th>건강기능식품</th>\n",
       "      <td>362</td>\n",
       "      <td>6.626396</td>\n",
       "    </tr>\n",
       "    <tr>\n",
       "      <th>비스켓/스낵</th>\n",
       "      <td>233</td>\n",
       "      <td>4.265056</td>\n",
       "    </tr>\n",
       "    <tr>\n",
       "      <th>과일</th>\n",
       "      <td>178</td>\n",
       "      <td>3.258283</td>\n",
       "    </tr>\n",
       "    <tr>\n",
       "      <th>라면</th>\n",
       "      <td>177</td>\n",
       "      <td>3.239978</td>\n",
       "    </tr>\n",
       "    <tr>\n",
       "      <th>...</th>\n",
       "      <td>...</td>\n",
       "      <td>...</td>\n",
       "    </tr>\n",
       "    <tr>\n",
       "      <th>청국장</th>\n",
       "      <td>2</td>\n",
       "      <td>0.036610</td>\n",
       "    </tr>\n",
       "    <tr>\n",
       "      <th>두부/콩나물(기타)</th>\n",
       "      <td>2</td>\n",
       "      <td>0.036610</td>\n",
       "    </tr>\n",
       "    <tr>\n",
       "      <th>육포</th>\n",
       "      <td>2</td>\n",
       "      <td>0.036610</td>\n",
       "    </tr>\n",
       "    <tr>\n",
       "      <th>소금</th>\n",
       "      <td>1</td>\n",
       "      <td>0.018305</td>\n",
       "    </tr>\n",
       "    <tr>\n",
       "      <th>와인</th>\n",
       "      <td>1</td>\n",
       "      <td>0.018305</td>\n",
       "    </tr>\n",
       "  </tbody>\n",
       "</table>\n",
       "<p>95 rows × 2 columns</p>\n",
       "</div>"
      ],
      "text/plain": [
       "            count      ratio\n",
       "세분류                         \n",
       "채소            553  10.122643\n",
       "건강기능식품        362   6.626396\n",
       "비스켓/스낵        233   4.265056\n",
       "과일            178   3.258283\n",
       "라면            177   3.239978\n",
       "...           ...        ...\n",
       "청국장             2   0.036610\n",
       "두부/콩나물(기타)      2   0.036610\n",
       "육포              2   0.036610\n",
       "소금              1   0.018305\n",
       "와인              1   0.018305\n",
       "\n",
       "[95 rows x 2 columns]"
      ]
     },
     "execution_count": 6,
     "metadata": {},
     "output_type": "execute_result"
    }
   ],
   "source": [
    "# 30대 이하 세분류 비율 계산 및 추가\n",
    "u30_counts = u30_df.value_counts('세분류')\n",
    "u30_ratio = u30_counts / u30_counts.sum() * 100\n",
    "u30_df_with_ratio = pd.DataFrame({'count': u30_counts, 'ratio': u30_ratio})\n",
    "u30_df_with_ratio"
   ]
  },
  {
   "cell_type": "code",
   "execution_count": 7,
   "metadata": {
    "executionInfo": {
     "elapsed": 12,
     "status": "ok",
     "timestamp": 1745319212900,
     "user": {
      "displayName": "김동영",
      "userId": "02998294583473138517"
     },
     "user_tz": -540
    },
    "id": "Hf7LAYnPS-TC"
   },
   "outputs": [],
   "source": [
    "# u30_df_with_ratio.tail(86)의 count 총합과 ratio의 총합 계산\n",
    "total_count = u30_df_with_ratio.tail(85)['count'].sum()\n",
    "total_ratio = u30_df_with_ratio.tail(85)['ratio'].sum()\n",
    "\n",
    "# 새로운 row 생성\n",
    "new_row = pd.DataFrame({'count': [total_count], 'ratio': [total_ratio]}, index=['기타'])\n",
    "\n",
    "# 기존 데이터프레임에 새로운 row 추가\n",
    "result = pd.concat([u30_df_with_ratio.head(10), new_row])\n",
    "u30_df_with_ratio = result"
   ]
  },
  {
   "cell_type": "markdown",
   "metadata": {
    "id": "K-Y3jCns4hki"
   },
   "source": [
    "### 40대 세분류 Value Counts"
   ]
  },
  {
   "cell_type": "code",
   "execution_count": 8,
   "metadata": {
    "colab": {
     "base_uri": "https://localhost:8080/",
     "height": 455
    },
    "executionInfo": {
     "elapsed": 85,
     "status": "ok",
     "timestamp": 1745319212985,
     "user": {
      "displayName": "김동영",
      "userId": "02998294583473138517"
     },
     "user_tz": -540
    },
    "id": "WCJlStbQ4isu",
    "outputId": "7874cebc-5a97-4d56-dec4-f5d02fe48b30"
   },
   "outputs": [
    {
     "data": {
      "text/html": [
       "<div>\n",
       "<style scoped>\n",
       "    .dataframe tbody tr th:only-of-type {\n",
       "        vertical-align: middle;\n",
       "    }\n",
       "\n",
       "    .dataframe tbody tr th {\n",
       "        vertical-align: top;\n",
       "    }\n",
       "\n",
       "    .dataframe thead th {\n",
       "        text-align: right;\n",
       "    }\n",
       "</style>\n",
       "<table border=\"1\" class=\"dataframe\">\n",
       "  <thead>\n",
       "    <tr style=\"text-align: right;\">\n",
       "      <th></th>\n",
       "      <th>count</th>\n",
       "      <th>ratio</th>\n",
       "    </tr>\n",
       "    <tr>\n",
       "      <th>세분류</th>\n",
       "      <th></th>\n",
       "      <th></th>\n",
       "    </tr>\n",
       "  </thead>\n",
       "  <tbody>\n",
       "    <tr>\n",
       "      <th>채소</th>\n",
       "      <td>791</td>\n",
       "      <td>9.324531</td>\n",
       "    </tr>\n",
       "    <tr>\n",
       "      <th>과일</th>\n",
       "      <td>485</td>\n",
       "      <td>5.717317</td>\n",
       "    </tr>\n",
       "    <tr>\n",
       "      <th>라면</th>\n",
       "      <td>396</td>\n",
       "      <td>4.668160</td>\n",
       "    </tr>\n",
       "    <tr>\n",
       "      <th>건강기능식품</th>\n",
       "      <td>382</td>\n",
       "      <td>4.503124</td>\n",
       "    </tr>\n",
       "    <tr>\n",
       "      <th>비스켓/스낵</th>\n",
       "      <td>375</td>\n",
       "      <td>4.420606</td>\n",
       "    </tr>\n",
       "    <tr>\n",
       "      <th>...</th>\n",
       "      <td>...</td>\n",
       "      <td>...</td>\n",
       "    </tr>\n",
       "    <tr>\n",
       "      <th>담배</th>\n",
       "      <td>4</td>\n",
       "      <td>0.047153</td>\n",
       "    </tr>\n",
       "    <tr>\n",
       "      <th>두부/콩나물(기타)</th>\n",
       "      <td>3</td>\n",
       "      <td>0.035365</td>\n",
       "    </tr>\n",
       "    <tr>\n",
       "      <th>양주</th>\n",
       "      <td>2</td>\n",
       "      <td>0.023577</td>\n",
       "    </tr>\n",
       "    <tr>\n",
       "      <th>청국장</th>\n",
       "      <td>1</td>\n",
       "      <td>0.011788</td>\n",
       "    </tr>\n",
       "    <tr>\n",
       "      <th>와인</th>\n",
       "      <td>1</td>\n",
       "      <td>0.011788</td>\n",
       "    </tr>\n",
       "  </tbody>\n",
       "</table>\n",
       "<p>96 rows × 2 columns</p>\n",
       "</div>"
      ],
      "text/plain": [
       "            count     ratio\n",
       "세분류                        \n",
       "채소            791  9.324531\n",
       "과일            485  5.717317\n",
       "라면            396  4.668160\n",
       "건강기능식품        382  4.503124\n",
       "비스켓/스낵        375  4.420606\n",
       "...           ...       ...\n",
       "담배              4  0.047153\n",
       "두부/콩나물(기타)      3  0.035365\n",
       "양주              2  0.023577\n",
       "청국장             1  0.011788\n",
       "와인              1  0.011788\n",
       "\n",
       "[96 rows x 2 columns]"
      ]
     },
     "execution_count": 8,
     "metadata": {},
     "output_type": "execute_result"
    }
   ],
   "source": [
    "# 40대 세분류 비율 계산 및 추가\n",
    "o30u50_counts = o30u50_df.value_counts('세분류')\n",
    "o30u50_ratio = o30u50_counts / o30u50_counts.sum() * 100\n",
    "o30u50_df_with_ratio = pd.DataFrame({'count': o30u50_counts, 'ratio': o30u50_ratio})\n",
    "o30u50_df_with_ratio"
   ]
  },
  {
   "cell_type": "code",
   "execution_count": 9,
   "metadata": {
    "executionInfo": {
     "elapsed": 3,
     "status": "ok",
     "timestamp": 1745319212986,
     "user": {
      "displayName": "김동영",
      "userId": "02998294583473138517"
     },
     "user_tz": -540
    },
    "id": "7hK0kZhFSBPF"
   },
   "outputs": [],
   "source": [
    "# o30u50_df_with_ratio.tail(86)의 count 총합과 ratio의 총합 계산\n",
    "total_count = o30u50_df_with_ratio.tail(86)['count'].sum()\n",
    "total_ratio = o30u50_df_with_ratio.tail(86)['ratio'].sum()\n",
    "\n",
    "# 새로운 row 생성\n",
    "new_row = pd.DataFrame({'count': [total_count], 'ratio': [total_ratio]}, index=['기타'])\n",
    "\n",
    "# 기존 데이터프레임에 새로운 row 추가\n",
    "result = pd.concat([o30u50_df_with_ratio.head(10), new_row])\n",
    "o30u50_df_with_ratio = result\n"
   ]
  },
  {
   "cell_type": "markdown",
   "metadata": {
    "id": "XTVOty7w4kCw"
   },
   "source": [
    "### 50대 이상 세분류 Value Counts"
   ]
  },
  {
   "cell_type": "code",
   "execution_count": 10,
   "metadata": {
    "colab": {
     "base_uri": "https://localhost:8080/",
     "height": 455
    },
    "executionInfo": {
     "elapsed": 83,
     "status": "ok",
     "timestamp": 1745319213067,
     "user": {
      "displayName": "김동영",
      "userId": "02998294583473138517"
     },
     "user_tz": -540
    },
    "id": "aJQB5OaV4jSa",
    "outputId": "0da86d29-3522-44ca-f175-b2418e64363c"
   },
   "outputs": [
    {
     "data": {
      "text/html": [
       "<div>\n",
       "<style scoped>\n",
       "    .dataframe tbody tr th:only-of-type {\n",
       "        vertical-align: middle;\n",
       "    }\n",
       "\n",
       "    .dataframe tbody tr th {\n",
       "        vertical-align: top;\n",
       "    }\n",
       "\n",
       "    .dataframe thead th {\n",
       "        text-align: right;\n",
       "    }\n",
       "</style>\n",
       "<table border=\"1\" class=\"dataframe\">\n",
       "  <thead>\n",
       "    <tr style=\"text-align: right;\">\n",
       "      <th></th>\n",
       "      <th>count</th>\n",
       "      <th>ratio</th>\n",
       "    </tr>\n",
       "    <tr>\n",
       "      <th>세분류</th>\n",
       "      <th></th>\n",
       "      <th></th>\n",
       "    </tr>\n",
       "  </thead>\n",
       "  <tbody>\n",
       "    <tr>\n",
       "      <th>채소</th>\n",
       "      <td>183</td>\n",
       "      <td>7.987778</td>\n",
       "    </tr>\n",
       "    <tr>\n",
       "      <th>과일</th>\n",
       "      <td>159</td>\n",
       "      <td>6.940201</td>\n",
       "    </tr>\n",
       "    <tr>\n",
       "      <th>라면</th>\n",
       "      <td>128</td>\n",
       "      <td>5.587080</td>\n",
       "    </tr>\n",
       "    <tr>\n",
       "      <th>건강기능식품</th>\n",
       "      <td>105</td>\n",
       "      <td>4.583151</td>\n",
       "    </tr>\n",
       "    <tr>\n",
       "      <th>우유</th>\n",
       "      <td>98</td>\n",
       "      <td>4.277608</td>\n",
       "    </tr>\n",
       "    <tr>\n",
       "      <th>...</th>\n",
       "      <td>...</td>\n",
       "      <td>...</td>\n",
       "    </tr>\n",
       "    <tr>\n",
       "      <th>육포</th>\n",
       "      <td>2</td>\n",
       "      <td>0.087298</td>\n",
       "    </tr>\n",
       "    <tr>\n",
       "      <th>유아식(기타)</th>\n",
       "      <td>2</td>\n",
       "      <td>0.087298</td>\n",
       "    </tr>\n",
       "    <tr>\n",
       "      <th>축산통조림</th>\n",
       "      <td>1</td>\n",
       "      <td>0.043649</td>\n",
       "    </tr>\n",
       "    <tr>\n",
       "      <th>어포</th>\n",
       "      <td>1</td>\n",
       "      <td>0.043649</td>\n",
       "    </tr>\n",
       "    <tr>\n",
       "      <th>와인</th>\n",
       "      <td>1</td>\n",
       "      <td>0.043649</td>\n",
       "    </tr>\n",
       "  </tbody>\n",
       "</table>\n",
       "<p>86 rows × 2 columns</p>\n",
       "</div>"
      ],
      "text/plain": [
       "         count     ratio\n",
       "세분류                     \n",
       "채소         183  7.987778\n",
       "과일         159  6.940201\n",
       "라면         128  5.587080\n",
       "건강기능식품     105  4.583151\n",
       "우유          98  4.277608\n",
       "...        ...       ...\n",
       "육포           2  0.087298\n",
       "유아식(기타)      2  0.087298\n",
       "축산통조림        1  0.043649\n",
       "어포           1  0.043649\n",
       "와인           1  0.043649\n",
       "\n",
       "[86 rows x 2 columns]"
      ]
     },
     "execution_count": 10,
     "metadata": {},
     "output_type": "execute_result"
    }
   ],
   "source": [
    "o50_counts = o50_df.value_counts('세분류')\n",
    "o50_ratio = o50_counts / o50_counts.sum() * 100\n",
    "o50_df_with_ratio = pd.DataFrame({'count': o50_counts, 'ratio': o50_ratio})\n",
    "o50_df_with_ratio"
   ]
  },
  {
   "cell_type": "code",
   "execution_count": 11,
   "metadata": {
    "executionInfo": {
     "elapsed": 1,
     "status": "ok",
     "timestamp": 1745319213069,
     "user": {
      "displayName": "김동영",
      "userId": "02998294583473138517"
     },
     "user_tz": -540
    },
    "id": "-TmB7zeUTdet"
   },
   "outputs": [],
   "source": [
    "# o50_df_with_ratio.tail(86)의 count 총합과 ratio의 총합 계산\n",
    "total_count = o50_df_with_ratio.tail(76)['count'].sum()\n",
    "total_ratio = o50_df_with_ratio.tail(76)['ratio'].sum()\n",
    "\n",
    "# 새로운 row 생성\n",
    "new_row = pd.DataFrame({'count': [total_count], 'ratio': [total_ratio]}, index=['기타'])\n",
    "\n",
    "# 기존 데이터프레임에 새로운 row 추가\n",
    "result = pd.concat([o50_df_with_ratio.head(10), new_row])\n",
    "o50_df_with_ratio = result"
   ]
  },
  {
   "cell_type": "markdown",
   "metadata": {
    "id": "gN44mDFPwDcA"
   },
   "source": [
    "### 연령대별 세분류 PIE Chart"
   ]
  },
  {
   "cell_type": "code",
   "execution_count": 12,
   "metadata": {
    "colab": {
     "base_uri": "https://localhost:8080/",
     "height": 473
    },
    "executionInfo": {
     "elapsed": 1856,
     "status": "ok",
     "timestamp": 1745319214924,
     "user": {
      "displayName": "김동영",
      "userId": "02998294583473138517"
     },
     "user_tz": -540
    },
    "id": "dq6592pGPAM7",
    "outputId": "60ab7ff3-e038-49e5-9d3b-72f7607260fc"
   },
   "outputs": [
    {
     "data": {
      "image/png": "[encoded data removed]",
      "text/plain": [
       "<Figure size 1500x500 with 3 Axes>"
      ]
     },
     "metadata": {},
     "output_type": "display_data"
    }
   ],
   "source": [
    "# 색상 설정\n",
    "colors = [\"#FFD1DC\", \"#A7C7E7\", \"#98FB98\", \"#E6E6FA\", \"#FFB6A3\",\n",
    "          \"#FFFACD\", \"#D8BFD8\", \"#FFA07A\", \"#C1E1C1\", \"#FFDAB9\", \"#81D8D0\"]\n",
    "\n",
    "fig, axes = plt.subplots(1, 3, figsize=(15, 5))\n",
    "\n",
    "# 30대 이하 원형차트\n",
    "axes[0].pie(u30_df_with_ratio['ratio'], labels=u30_df_with_ratio.index, autopct='%1.1f%%',\n",
    "            startangle=90, colors=colors, shadow=True, explode=[0.05] * len(u30_df_with_ratio),\n",
    "            wedgeprops={'edgecolor': 'black', 'linewidth': 1})\n",
    "axes[0].set_title('30대 이하', fontsize=14, fontweight='bold')\n",
    "\n",
    "# 40대 원형차트\n",
    "axes[1].pie(o30u50_df_with_ratio['ratio'], labels=o30u50_df_with_ratio.index, autopct='%1.1f%%',\n",
    "            startangle=90, colors=colors, shadow=True, explode=[0.05] * len(o30u50_df_with_ratio),\n",
    "            wedgeprops={'edgecolor': 'black', 'linewidth': 1})\n",
    "axes[1].set_title('40대', fontsize=14, fontweight='bold')\n",
    "\n",
    "# 50대 이상 원형차트\n",
    "axes[2].pie(o50_df_with_ratio['ratio'], labels=o50_df_with_ratio.index, autopct='%1.1f%%',\n",
    "            startangle=90, colors=colors, shadow=True, explode=[0.05] * len(o50_df_with_ratio),\n",
    "            wedgeprops={'edgecolor': 'black', 'linewidth': 1})\n",
    "axes[2].set_title('50대 이상', fontsize=14, fontweight='bold')\n",
    "\n",
    "plt.tight_layout()\n",
    "plt.show()\n"
   ]
  },
  {
   "cell_type": "markdown",
   "metadata": {
    "id": "mEP9l0g7fGIH"
   },
   "source": [
    "- 실구매 영수증기반 온라인쇼핑몰 연령별 매출 데이터 기준\n",
    "- 2030세대 채소, 건강기능식품 구매비율이 상대적으로 높은편\n",
    "- => 직장인 대상으로 하여 건강식/간편식/도시락 저당 비스켓판매\n",
    "- => 만개의 레시피 재료 추출\n",
    "- => 가격 변동성, MoM 체크\n",
    "- => 창업자 설득 방안 제시 ( 순수익 계산 등등... )\n"
   ]
  },
  {
   "cell_type": "code",
   "execution_count": 13,
   "metadata": {},
   "outputs": [
    {
     "data": {
      "text/html": [
       "<div>\n",
       "<style scoped>\n",
       "    .dataframe tbody tr th:only-of-type {\n",
       "        vertical-align: middle;\n",
       "    }\n",
       "\n",
       "    .dataframe tbody tr th {\n",
       "        vertical-align: top;\n",
       "    }\n",
       "\n",
       "    .dataframe thead th {\n",
       "        text-align: right;\n",
       "    }\n",
       "</style>\n",
       "<table border=\"1\" class=\"dataframe\">\n",
       "  <thead>\n",
       "    <tr style=\"text-align: right;\">\n",
       "      <th></th>\n",
       "      <th>count</th>\n",
       "      <th>ratio</th>\n",
       "    </tr>\n",
       "  </thead>\n",
       "  <tbody>\n",
       "    <tr>\n",
       "      <th>채소</th>\n",
       "      <td>553</td>\n",
       "      <td>10.122643</td>\n",
       "    </tr>\n",
       "    <tr>\n",
       "      <th>건강기능식품</th>\n",
       "      <td>362</td>\n",
       "      <td>6.626396</td>\n",
       "    </tr>\n",
       "    <tr>\n",
       "      <th>비스켓/스낵</th>\n",
       "      <td>233</td>\n",
       "      <td>4.265056</td>\n",
       "    </tr>\n",
       "    <tr>\n",
       "      <th>과일</th>\n",
       "      <td>178</td>\n",
       "      <td>3.258283</td>\n",
       "    </tr>\n",
       "    <tr>\n",
       "      <th>라면</th>\n",
       "      <td>177</td>\n",
       "      <td>3.239978</td>\n",
       "    </tr>\n",
       "    <tr>\n",
       "      <th>우유</th>\n",
       "      <td>171</td>\n",
       "      <td>3.130148</td>\n",
       "    </tr>\n",
       "    <tr>\n",
       "      <th>대용식(기타)</th>\n",
       "      <td>163</td>\n",
       "      <td>2.983709</td>\n",
       "    </tr>\n",
       "    <tr>\n",
       "      <th>소스류(기타)</th>\n",
       "      <td>154</td>\n",
       "      <td>2.818964</td>\n",
       "    </tr>\n",
       "    <tr>\n",
       "      <th>차</th>\n",
       "      <td>121</td>\n",
       "      <td>2.214900</td>\n",
       "    </tr>\n",
       "    <tr>\n",
       "      <th>발효유</th>\n",
       "      <td>120</td>\n",
       "      <td>2.196595</td>\n",
       "    </tr>\n",
       "    <tr>\n",
       "      <th>기타</th>\n",
       "      <td>3231</td>\n",
       "      <td>59.143328</td>\n",
       "    </tr>\n",
       "  </tbody>\n",
       "</table>\n",
       "</div>"
      ],
      "text/plain": [
       "         count      ratio\n",
       "채소         553  10.122643\n",
       "건강기능식품     362   6.626396\n",
       "비스켓/스낵     233   4.265056\n",
       "과일         178   3.258283\n",
       "라면         177   3.239978\n",
       "우유         171   3.130148\n",
       "대용식(기타)    163   2.983709\n",
       "소스류(기타)    154   2.818964\n",
       "차          121   2.214900\n",
       "발효유        120   2.196595\n",
       "기타        3231  59.143328"
      ]
     },
     "execution_count": 13,
     "metadata": {},
     "output_type": "execute_result"
    }
   ],
   "source": [
    "u30_df_with_ratio"
   ]
  },
  {
   "cell_type": "code",
   "execution_count": 14,
   "metadata": {},
   "outputs": [
    {
     "data": {
      "text/html": [
       "<div>\n",
       "<style scoped>\n",
       "    .dataframe tbody tr th:only-of-type {\n",
       "        vertical-align: middle;\n",
       "    }\n",
       "\n",
       "    .dataframe tbody tr th {\n",
       "        vertical-align: top;\n",
       "    }\n",
       "\n",
       "    .dataframe thead th {\n",
       "        text-align: right;\n",
       "    }\n",
       "</style>\n",
       "<table border=\"1\" class=\"dataframe\">\n",
       "  <thead>\n",
       "    <tr style=\"text-align: right;\">\n",
       "      <th></th>\n",
       "      <th>count</th>\n",
       "      <th>ratio</th>\n",
       "    </tr>\n",
       "  </thead>\n",
       "  <tbody>\n",
       "    <tr>\n",
       "      <th>채소</th>\n",
       "      <td>553</td>\n",
       "      <td>10.122643</td>\n",
       "    </tr>\n",
       "    <tr>\n",
       "      <th>건강기능식품</th>\n",
       "      <td>362</td>\n",
       "      <td>6.626396</td>\n",
       "    </tr>\n",
       "    <tr>\n",
       "      <th>비스켓/스낵</th>\n",
       "      <td>233</td>\n",
       "      <td>4.265056</td>\n",
       "    </tr>\n",
       "    <tr>\n",
       "      <th>과일</th>\n",
       "      <td>178</td>\n",
       "      <td>3.258283</td>\n",
       "    </tr>\n",
       "    <tr>\n",
       "      <th>라면</th>\n",
       "      <td>177</td>\n",
       "      <td>3.239978</td>\n",
       "    </tr>\n",
       "    <tr>\n",
       "      <th>우유</th>\n",
       "      <td>171</td>\n",
       "      <td>3.130148</td>\n",
       "    </tr>\n",
       "    <tr>\n",
       "      <th>대용식(기타)</th>\n",
       "      <td>163</td>\n",
       "      <td>2.983709</td>\n",
       "    </tr>\n",
       "    <tr>\n",
       "      <th>소스류(기타)</th>\n",
       "      <td>154</td>\n",
       "      <td>2.818964</td>\n",
       "    </tr>\n",
       "    <tr>\n",
       "      <th>차</th>\n",
       "      <td>121</td>\n",
       "      <td>2.214900</td>\n",
       "    </tr>\n",
       "    <tr>\n",
       "      <th>발효유</th>\n",
       "      <td>120</td>\n",
       "      <td>2.196595</td>\n",
       "    </tr>\n",
       "  </tbody>\n",
       "</table>\n",
       "</div>"
      ],
      "text/plain": [
       "         count      ratio\n",
       "채소         553  10.122643\n",
       "건강기능식품     362   6.626396\n",
       "비스켓/스낵     233   4.265056\n",
       "과일         178   3.258283\n",
       "라면         177   3.239978\n",
       "우유         171   3.130148\n",
       "대용식(기타)    163   2.983709\n",
       "소스류(기타)    154   2.818964\n",
       "차          121   2.214900\n",
       "발효유        120   2.196595"
      ]
     },
     "execution_count": 14,
     "metadata": {},
     "output_type": "execute_result"
    }
   ],
   "source": [
    "u30_df_with_ratio[u30_df_with_ratio.index != \"기타\"]"
   ]
  },
  {
   "cell_type": "markdown",
   "metadata": {
    "id": "H89tp3Yc3cz2"
   },
   "source": [
    "## 구매상품명 Word Counts"
   ]
  },
  {
   "cell_type": "markdown",
   "metadata": {
    "id": "5J0u_RB46_2K"
   },
   "source": [
    "### Word Counts 진행 결과\n",
    "- 대분류별 구매상품명 Word Counts는 Filtering 해야하는 단어들이 너무 많음.\n",
    "- 세분류 Top5의 구매상품명만 Word Counts를 진행해도 충분할 것으로 보임.\n",
    "- 세분류 Top5 : 채소, 건강기능식품, 비스켓/스낵, 과일, 라면(x)"
   ]
  },
  {
   "cell_type": "markdown",
   "metadata": {
    "id": "23llKRkz2vOR"
   },
   "source": [
    "### 대분류 별 데이터셋 및 건수 확인"
   ]
  },
  {
   "cell_type": "code",
   "execution_count": 15,
   "metadata": {
    "colab": {
     "base_uri": "https://localhost:8080/"
    },
    "executionInfo": {
     "elapsed": 4,
     "status": "ok",
     "timestamp": 1745319214929,
     "user": {
      "displayName": "김동영",
      "userId": "02998294583473138517"
     },
     "user_tz": -540
    },
    "id": "1Ryw6o0SSEXg",
    "outputId": "a0fed27a-0953-4664-eb76-29f2dd5aa037"
   },
   "outputs": [
    {
     "name": "stdout",
     "output_type": "stream",
     "text": [
      "가공식품 주문 건수 :  11235 건 ( 69.19  %)\n",
      "농산물 주문 건수 :  3040 건 ( 18.72  %)\n",
      "축산물 주문 건수 :  988 건 ( 6.08  %)\n",
      "수산물 주문 건수 :  452 건 ( 2.78  %)\n",
      "델리 주문 건수 :  80 건 ( 0.49  %)\n"
     ]
    }
   ],
   "source": [
    "processed_df = df[df['대분류'] == '가공식품']\n",
    "agricultural_df = df[df['대분류'] == '농산물']\n",
    "livestock_df = df[df['대분류'] == '축산물']\n",
    "fishery_df = df[df['대분류'] == '수산물']\n",
    "deli_df = df[df['대분류'] == '델리']\n",
    "\n",
    "# print(df['대분류'].value_counts())\n",
    "print('가공식품 주문 건수 : ', len(processed_df), '건', '(', round(len(processed_df) / len(df) * 100, 2), ' %)')\n",
    "print('농산물 주문 건수 : ', len(agricultural_df), '건', '(', round(len(agricultural_df) / len(df) * 100, 2), ' %)')\n",
    "print('축산물 주문 건수 : ', len(livestock_df), '건', '(', round(len(livestock_df) / len(df) * 100, 2), ' %)')\n",
    "print('수산물 주문 건수 : ', len(fishery_df), '건', '(', round(len(fishery_df) / len(df) * 100, 2), ' %)')\n",
    "print('델리 주문 건수 : ', len(deli_df), '건', '(', round(len(deli_df) / len(df) * 100, 2), ' %)')"
   ]
  },
  {
   "cell_type": "markdown",
   "metadata": {
    "id": "L30C2NDu1-61"
   },
   "source": [
    "### Word Counts 함수"
   ]
  },
  {
   "cell_type": "code",
   "execution_count": 16,
   "metadata": {
    "executionInfo": {
     "elapsed": 1,
     "status": "ok",
     "timestamp": 1745319214930,
     "user": {
      "displayName": "김동영",
      "userId": "02998294583473138517"
     },
     "user_tz": -540
    },
    "id": "0sHFVr9Tychl"
   },
   "outputs": [],
   "source": [
    "def most_frequent_words(dataframe, column_name, num_words=10, filter_words=None):\n",
    "    all_words = ' '.join(str(item) for item in dataframe[column_name] if pd.notna(item))\n",
    "    word_counts = Counter(all_words.split())\n",
    "\n",
    "    if filter_words:\n",
    "        filtered_words = set(filter_words)\n",
    "        words_to_remove = set()\n",
    "        for word, count in word_counts.items():\n",
    "            if word in filtered_words:\n",
    "                words_to_remove.add(word)\n",
    "            elif any(filtered_word in word for filtered_word in filtered_words):\n",
    "                words_to_remove.add(word)\n",
    "\n",
    "        for word in words_to_remove:\n",
    "            if word in word_counts:\n",
    "              del word_counts[word]\n",
    "\n",
    "    return word_counts.most_common(num_words)"
   ]
  },
  {
   "cell_type": "code",
   "execution_count": 17,
   "metadata": {
    "executionInfo": {
     "elapsed": 5,
     "status": "ok",
     "timestamp": 1745320056276,
     "user": {
      "displayName": "김동영",
      "userId": "02998294583473138517"
     },
     "user_tz": -540
    },
    "id": "X1Nto154x84t"
   },
   "outputs": [],
   "source": [
    "words_to_filter = ['kg', 'ml', '0구', '인증', '팩', '세트', 'ML', 'mL', 'g', 'G', '냉장', '냉동', '호주산', '곰곰', '등급', '개', '+', 'x', 'X', '1',\n",
    "                   '오뚜기', '청정원', '농심', '유기농', '풀무원', '오리지널', '맛있는', '삼립', '오리온', '프리미엄', '샘표', '서울', '대상',\n",
    "                   '상하목장', '골드', '무라벨', '미니', '60정', '매일유업', '남양', '올리브', '해표', '국내산', '친환경', 'GAP', '못생겨도',\n",
    "                   '한끼', '햇', '혼합', '무농약', '국산', '당도선별', '무항생제', '한돈', '90정', '30정', '옛날', '강아지', '고양이',\n",
    "                   '홍홍', '더', 'L', '아이배냇', '중국식품', '컵', '만든', '앤', '고소한', '간식', '맑은물에', '조인', '팔도', '가농', '고소한', '신선한']"
   ]
  },
  {
   "cell_type": "markdown",
   "metadata": {
    "id": "nRRykCcM0M_L"
   },
   "source": [
    "### 가공식품 Word Counts"
   ]
  },
  {
   "cell_type": "code",
   "execution_count": 18,
   "metadata": {
    "colab": {
     "base_uri": "https://localhost:8080/",
     "height": 0
    },
    "executionInfo": {
     "elapsed": 13,
     "status": "ok",
     "timestamp": 1745319214945,
     "user": {
      "displayName": "김동영",
      "userId": "02998294583473138517"
     },
     "user_tz": -540
    },
    "id": "LMXCxwzqyl3s",
    "outputId": "a567f871-f9e1-4392-83a1-16eaaf02d98a"
   },
   "outputs": [
    {
     "data": {
      "text/html": [
       "<div>\n",
       "<style scoped>\n",
       "    .dataframe tbody tr th:only-of-type {\n",
       "        vertical-align: middle;\n",
       "    }\n",
       "\n",
       "    .dataframe tbody tr th {\n",
       "        vertical-align: top;\n",
       "    }\n",
       "\n",
       "    .dataframe thead th {\n",
       "        text-align: right;\n",
       "    }\n",
       "</style>\n",
       "<table border=\"1\" class=\"dataframe\">\n",
       "  <thead>\n",
       "    <tr style=\"text-align: right;\">\n",
       "      <th></th>\n",
       "      <th>word</th>\n",
       "      <th>frequency</th>\n",
       "    </tr>\n",
       "  </thead>\n",
       "  <tbody>\n",
       "    <tr>\n",
       "      <th>0</th>\n",
       "      <td>우유</td>\n",
       "      <td>212</td>\n",
       "    </tr>\n",
       "    <tr>\n",
       "      <th>1</th>\n",
       "      <td>플레인</td>\n",
       "      <td>199</td>\n",
       "    </tr>\n",
       "    <tr>\n",
       "      <th>2</th>\n",
       "      <td>요거트</td>\n",
       "      <td>135</td>\n",
       "    </tr>\n",
       "    <tr>\n",
       "      <th>3</th>\n",
       "      <td>맥심</td>\n",
       "      <td>97</td>\n",
       "    </tr>\n",
       "    <tr>\n",
       "      <th>4</th>\n",
       "      <td>닭가슴살</td>\n",
       "      <td>85</td>\n",
       "    </tr>\n",
       "    <tr>\n",
       "      <th>5</th>\n",
       "      <td>동원</td>\n",
       "      <td>82</td>\n",
       "    </tr>\n",
       "    <tr>\n",
       "      <th>6</th>\n",
       "      <td>제로</td>\n",
       "      <td>80</td>\n",
       "    </tr>\n",
       "    <tr>\n",
       "      <th>7</th>\n",
       "      <td>켈로그</td>\n",
       "      <td>78</td>\n",
       "    </tr>\n",
       "    <tr>\n",
       "      <th>8</th>\n",
       "      <td>진라면</td>\n",
       "      <td>77</td>\n",
       "    </tr>\n",
       "    <tr>\n",
       "      <th>9</th>\n",
       "      <td>해태제과</td>\n",
       "      <td>75</td>\n",
       "    </tr>\n",
       "  </tbody>\n",
       "</table>\n",
       "</div>"
      ],
      "text/plain": [
       "   word  frequency\n",
       "0    우유        212\n",
       "1   플레인        199\n",
       "2   요거트        135\n",
       "3    맥심         97\n",
       "4  닭가슴살         85\n",
       "5    동원         82\n",
       "6    제로         80\n",
       "7   켈로그         78\n",
       "8   진라면         77\n",
       "9  해태제과         75"
      ]
     },
     "execution_count": 18,
     "metadata": {},
     "output_type": "execute_result"
    }
   ],
   "source": [
    "# 가공식품 Word Counts\n",
    "p_top_words = most_frequent_words(processed_df, '구매상품명', num_words=10, filter_words=words_to_filter)\n",
    "pd.DataFrame(p_top_words, columns=['word', 'frequency'])"
   ]
  },
  {
   "cell_type": "markdown",
   "metadata": {
    "id": "E1Y7RmJ80X8E"
   },
   "source": [
    "### 농산물 Word Counts"
   ]
  },
  {
   "cell_type": "code",
   "execution_count": 19,
   "metadata": {
    "colab": {
     "base_uri": "https://localhost:8080/",
     "height": 0
    },
    "executionInfo": {
     "elapsed": 11,
     "status": "ok",
     "timestamp": 1745319214966,
     "user": {
      "displayName": "김동영",
      "userId": "02998294583473138517"
     },
     "user_tz": -540
    },
    "id": "ip01PdLj0X8F",
    "outputId": "eb1f87a0-194e-487e-a1c1-bf684d830115"
   },
   "outputs": [
    {
     "data": {
      "text/html": [
       "<div>\n",
       "<style scoped>\n",
       "    .dataframe tbody tr th:only-of-type {\n",
       "        vertical-align: middle;\n",
       "    }\n",
       "\n",
       "    .dataframe tbody tr th {\n",
       "        vertical-align: top;\n",
       "    }\n",
       "\n",
       "    .dataframe thead th {\n",
       "        text-align: right;\n",
       "    }\n",
       "</style>\n",
       "<table border=\"1\" class=\"dataframe\">\n",
       "  <thead>\n",
       "    <tr style=\"text-align: right;\">\n",
       "      <th></th>\n",
       "      <th>word</th>\n",
       "      <th>frequency</th>\n",
       "    </tr>\n",
       "  </thead>\n",
       "  <tbody>\n",
       "    <tr>\n",
       "      <th>0</th>\n",
       "      <td>감자</td>\n",
       "      <td>66</td>\n",
       "    </tr>\n",
       "    <tr>\n",
       "      <th>1</th>\n",
       "      <td>바나나</td>\n",
       "      <td>53</td>\n",
       "    </tr>\n",
       "    <tr>\n",
       "      <th>2</th>\n",
       "      <td>양파</td>\n",
       "      <td>46</td>\n",
       "    </tr>\n",
       "    <tr>\n",
       "      <th>3</th>\n",
       "      <td>만나다</td>\n",
       "      <td>42</td>\n",
       "    </tr>\n",
       "    <tr>\n",
       "      <th>4</th>\n",
       "      <td>두부</td>\n",
       "      <td>40</td>\n",
       "    </tr>\n",
       "    <tr>\n",
       "      <th>5</th>\n",
       "      <td>애호박</td>\n",
       "      <td>40</td>\n",
       "    </tr>\n",
       "    <tr>\n",
       "      <th>6</th>\n",
       "      <td>햅쌀</td>\n",
       "      <td>39</td>\n",
       "    </tr>\n",
       "    <tr>\n",
       "      <th>7</th>\n",
       "      <td>샐러드</td>\n",
       "      <td>39</td>\n",
       "    </tr>\n",
       "    <tr>\n",
       "      <th>8</th>\n",
       "      <td>제스프리</td>\n",
       "      <td>37</td>\n",
       "    </tr>\n",
       "    <tr>\n",
       "      <th>9</th>\n",
       "      <td>사과</td>\n",
       "      <td>37</td>\n",
       "    </tr>\n",
       "  </tbody>\n",
       "</table>\n",
       "</div>"
      ],
      "text/plain": [
       "   word  frequency\n",
       "0    감자         66\n",
       "1   바나나         53\n",
       "2    양파         46\n",
       "3   만나다         42\n",
       "4    두부         40\n",
       "5   애호박         40\n",
       "6    햅쌀         39\n",
       "7   샐러드         39\n",
       "8  제스프리         37\n",
       "9    사과         37"
      ]
     },
     "execution_count": 19,
     "metadata": {},
     "output_type": "execute_result"
    }
   ],
   "source": [
    "# 농산물 Word Counts\n",
    "a_top_words = most_frequent_words(agricultural_df, '구매상품명', num_words=10, filter_words=words_to_filter)\n",
    "pd.DataFrame(a_top_words, columns=['word', 'frequency'])"
   ]
  },
  {
   "cell_type": "markdown",
   "metadata": {
    "id": "5_Kv6_VJ0nIu"
   },
   "source": [
    "### 축산물 Word Counts"
   ]
  },
  {
   "cell_type": "code",
   "execution_count": 20,
   "metadata": {
    "colab": {
     "base_uri": "https://localhost:8080/",
     "height": 0
    },
    "executionInfo": {
     "elapsed": 2,
     "status": "ok",
     "timestamp": 1745319214968,
     "user": {
      "displayName": "김동영",
      "userId": "02998294583473138517"
     },
     "user_tz": -540
    },
    "id": "KBQM0AJD0nIu",
    "outputId": "bf742c05-fbe5-4ad3-ef78-453748dd04df"
   },
   "outputs": [
    {
     "data": {
      "text/html": [
       "<div>\n",
       "<style scoped>\n",
       "    .dataframe tbody tr th:only-of-type {\n",
       "        vertical-align: middle;\n",
       "    }\n",
       "\n",
       "    .dataframe tbody tr th {\n",
       "        vertical-align: top;\n",
       "    }\n",
       "\n",
       "    .dataframe thead th {\n",
       "        text-align: right;\n",
       "    }\n",
       "</style>\n",
       "<table border=\"1\" class=\"dataframe\">\n",
       "  <thead>\n",
       "    <tr style=\"text-align: right;\">\n",
       "      <th></th>\n",
       "      <th>word</th>\n",
       "      <th>frequency</th>\n",
       "    </tr>\n",
       "  </thead>\n",
       "  <tbody>\n",
       "    <tr>\n",
       "      <th>0</th>\n",
       "      <td>소고기</td>\n",
       "      <td>105</td>\n",
       "    </tr>\n",
       "    <tr>\n",
       "      <th>1</th>\n",
       "      <td>구이용</td>\n",
       "      <td>90</td>\n",
       "    </tr>\n",
       "    <tr>\n",
       "      <th>2</th>\n",
       "      <td>대란</td>\n",
       "      <td>71</td>\n",
       "    </tr>\n",
       "    <tr>\n",
       "      <th>3</th>\n",
       "      <td>하림</td>\n",
       "      <td>69</td>\n",
       "    </tr>\n",
       "    <tr>\n",
       "      <th>4</th>\n",
       "      <td>삼겹살</td>\n",
       "      <td>67</td>\n",
       "    </tr>\n",
       "    <tr>\n",
       "      <th>5</th>\n",
       "      <td>특란</td>\n",
       "      <td>61</td>\n",
       "    </tr>\n",
       "    <tr>\n",
       "      <th>6</th>\n",
       "      <td>동물복지</td>\n",
       "      <td>58</td>\n",
       "    </tr>\n",
       "    <tr>\n",
       "      <th>7</th>\n",
       "      <td>앞다리살</td>\n",
       "      <td>47</td>\n",
       "    </tr>\n",
       "    <tr>\n",
       "      <th>8</th>\n",
       "      <td>국거리용</td>\n",
       "      <td>46</td>\n",
       "    </tr>\n",
       "    <tr>\n",
       "      <th>9</th>\n",
       "      <td>다짐육</td>\n",
       "      <td>42</td>\n",
       "    </tr>\n",
       "  </tbody>\n",
       "</table>\n",
       "</div>"
      ],
      "text/plain": [
       "   word  frequency\n",
       "0   소고기        105\n",
       "1   구이용         90\n",
       "2    대란         71\n",
       "3    하림         69\n",
       "4   삼겹살         67\n",
       "5    특란         61\n",
       "6  동물복지         58\n",
       "7  앞다리살         47\n",
       "8  국거리용         46\n",
       "9   다짐육         42"
      ]
     },
     "execution_count": 20,
     "metadata": {},
     "output_type": "execute_result"
    }
   ],
   "source": [
    "# 축산물 Word Counts\n",
    "l_top_words = most_frequent_words(livestock_df, '구매상품명', num_words=10, filter_words=words_to_filter)\n",
    "pd.DataFrame(l_top_words, columns=['word', 'frequency'])"
   ]
  },
  {
   "cell_type": "markdown",
   "metadata": {
    "id": "7lPVmZwc1Kg0"
   },
   "source": [
    "### 수산물 Word Counts"
   ]
  },
  {
   "cell_type": "code",
   "execution_count": 21,
   "metadata": {
    "colab": {
     "base_uri": "https://localhost:8080/",
     "height": 0
    },
    "executionInfo": {
     "elapsed": 2,
     "status": "ok",
     "timestamp": 1745319214987,
     "user": {
      "displayName": "김동영",
      "userId": "02998294583473138517"
     },
     "user_tz": -540
    },
    "id": "in4EQUQu1Kg0",
    "outputId": "af866271-4cab-4ba5-b143-66b7580cbed0"
   },
   "outputs": [
    {
     "data": {
      "text/html": [
       "<div>\n",
       "<style scoped>\n",
       "    .dataframe tbody tr th:only-of-type {\n",
       "        vertical-align: middle;\n",
       "    }\n",
       "\n",
       "    .dataframe tbody tr th {\n",
       "        vertical-align: top;\n",
       "    }\n",
       "\n",
       "    .dataframe thead th {\n",
       "        text-align: right;\n",
       "    }\n",
       "</style>\n",
       "<table border=\"1\" class=\"dataframe\">\n",
       "  <thead>\n",
       "    <tr style=\"text-align: right;\">\n",
       "      <th></th>\n",
       "      <th>word</th>\n",
       "      <th>frequency</th>\n",
       "    </tr>\n",
       "  </thead>\n",
       "  <tbody>\n",
       "    <tr>\n",
       "      <th>0</th>\n",
       "      <td>오징어</td>\n",
       "      <td>25</td>\n",
       "    </tr>\n",
       "    <tr>\n",
       "      <th>1</th>\n",
       "      <td>새우살</td>\n",
       "      <td>19</td>\n",
       "    </tr>\n",
       "    <tr>\n",
       "      <th>2</th>\n",
       "      <td>도시락김</td>\n",
       "      <td>16</td>\n",
       "    </tr>\n",
       "    <tr>\n",
       "      <th>3</th>\n",
       "      <td>구운</td>\n",
       "      <td>15</td>\n",
       "    </tr>\n",
       "    <tr>\n",
       "      <th>4</th>\n",
       "      <td>흰다리</td>\n",
       "      <td>15</td>\n",
       "    </tr>\n",
       "    <tr>\n",
       "      <th>5</th>\n",
       "      <td>광천김</td>\n",
       "      <td>15</td>\n",
       "    </tr>\n",
       "    <tr>\n",
       "      <th>6</th>\n",
       "      <td>자른</td>\n",
       "      <td>14</td>\n",
       "    </tr>\n",
       "    <tr>\n",
       "      <th>7</th>\n",
       "      <td>손질</td>\n",
       "      <td>13</td>\n",
       "    </tr>\n",
       "    <tr>\n",
       "      <th>8</th>\n",
       "      <td>아라찬</td>\n",
       "      <td>13</td>\n",
       "    </tr>\n",
       "    <tr>\n",
       "      <th>9</th>\n",
       "      <td>3p</td>\n",
       "      <td>12</td>\n",
       "    </tr>\n",
       "  </tbody>\n",
       "</table>\n",
       "</div>"
      ],
      "text/plain": [
       "   word  frequency\n",
       "0   오징어         25\n",
       "1   새우살         19\n",
       "2  도시락김         16\n",
       "3    구운         15\n",
       "4   흰다리         15\n",
       "5   광천김         15\n",
       "6    자른         14\n",
       "7    손질         13\n",
       "8   아라찬         13\n",
       "9    3p         12"
      ]
     },
     "execution_count": 21,
     "metadata": {},
     "output_type": "execute_result"
    }
   ],
   "source": [
    "# 수산물 Word Counts\n",
    "f_top_words = most_frequent_words(fishery_df, '구매상품명', num_words=10, filter_words=words_to_filter)\n",
    "pd.DataFrame(f_top_words, columns=['word', 'frequency'])"
   ]
  },
  {
   "cell_type": "markdown",
   "metadata": {
    "id": "j0QSuQFD1RgE"
   },
   "source": [
    "### Deli Word Counts"
   ]
  },
  {
   "cell_type": "code",
   "execution_count": 22,
   "metadata": {
    "colab": {
     "base_uri": "https://localhost:8080/",
     "height": 0
    },
    "executionInfo": {
     "elapsed": 20,
     "status": "ok",
     "timestamp": 1745319215007,
     "user": {
      "displayName": "김동영",
      "userId": "02998294583473138517"
     },
     "user_tz": -540
    },
    "id": "ykfst75J1RgF",
    "outputId": "572e10c7-a520-4010-a6c8-822d0e5b7a38"
   },
   "outputs": [
    {
     "data": {
      "text/html": [
       "<div>\n",
       "<style scoped>\n",
       "    .dataframe tbody tr th:only-of-type {\n",
       "        vertical-align: middle;\n",
       "    }\n",
       "\n",
       "    .dataframe tbody tr th {\n",
       "        vertical-align: top;\n",
       "    }\n",
       "\n",
       "    .dataframe thead th {\n",
       "        text-align: right;\n",
       "    }\n",
       "</style>\n",
       "<table border=\"1\" class=\"dataframe\">\n",
       "  <thead>\n",
       "    <tr style=\"text-align: right;\">\n",
       "      <th></th>\n",
       "      <th>word</th>\n",
       "      <th>frequency</th>\n",
       "    </tr>\n",
       "  </thead>\n",
       "  <tbody>\n",
       "    <tr>\n",
       "      <th>0</th>\n",
       "      <td>크로크</td>\n",
       "      <td>6</td>\n",
       "    </tr>\n",
       "    <tr>\n",
       "      <th>1</th>\n",
       "      <td>강남밥상</td>\n",
       "      <td>6</td>\n",
       "    </tr>\n",
       "    <tr>\n",
       "      <th>2</th>\n",
       "      <td>김자반</td>\n",
       "      <td>5</td>\n",
       "    </tr>\n",
       "    <tr>\n",
       "      <th>3</th>\n",
       "      <td>메추리알</td>\n",
       "      <td>5</td>\n",
       "    </tr>\n",
       "    <tr>\n",
       "      <th>4</th>\n",
       "      <td>장조림</td>\n",
       "      <td>5</td>\n",
       "    </tr>\n",
       "    <tr>\n",
       "      <th>5</th>\n",
       "      <td>야미요밀</td>\n",
       "      <td>4</td>\n",
       "    </tr>\n",
       "    <tr>\n",
       "      <th>6</th>\n",
       "      <td>정성가득</td>\n",
       "      <td>4</td>\n",
       "    </tr>\n",
       "    <tr>\n",
       "      <th>7</th>\n",
       "      <td>채식</td>\n",
       "      <td>4</td>\n",
       "    </tr>\n",
       "    <tr>\n",
       "      <th>8</th>\n",
       "      <td>동보식품</td>\n",
       "      <td>4</td>\n",
       "    </tr>\n",
       "    <tr>\n",
       "      <th>9</th>\n",
       "      <td>정성을</td>\n",
       "      <td>4</td>\n",
       "    </tr>\n",
       "  </tbody>\n",
       "</table>\n",
       "</div>"
      ],
      "text/plain": [
       "   word  frequency\n",
       "0   크로크          6\n",
       "1  강남밥상          6\n",
       "2   김자반          5\n",
       "3  메추리알          5\n",
       "4   장조림          5\n",
       "5  야미요밀          4\n",
       "6  정성가득          4\n",
       "7    채식          4\n",
       "8  동보식품          4\n",
       "9   정성을          4"
      ]
     },
     "execution_count": 22,
     "metadata": {},
     "output_type": "execute_result"
    }
   ],
   "source": [
    "# Deli Word Counts\n",
    "d_top_words = most_frequent_words(deli_df, '구매상품명', num_words=10, filter_words=words_to_filter)\n",
    "pd.DataFrame(d_top_words, columns=['word', 'frequency'])"
   ]
  },
  {
   "cell_type": "code",
   "execution_count": 26,
   "metadata": {
    "executionInfo": {
     "elapsed": 1,
     "status": "ok",
     "timestamp": 1745319215008,
     "user": {
      "displayName": "김동영",
      "userId": "02998294583473138517"
     },
     "user_tz": -540
    },
    "id": "A4nWRtsJWDsz"
   },
   "outputs": [],
   "source": []
  },
  {
   "cell_type": "markdown",
   "metadata": {
    "id": "mqu8FYm01ecN"
   },
   "source": [
    "### 전체 Words Counts"
   ]
  },
  {
   "cell_type": "code",
   "execution_count": 23,
   "metadata": {
    "colab": {
     "base_uri": "https://localhost:8080/",
     "height": 0
    },
    "executionInfo": {
     "elapsed": 148,
     "status": "ok",
     "timestamp": 1745319215156,
     "user": {
      "displayName": "김동영",
      "userId": "02998294583473138517"
     },
     "user_tz": -540
    },
    "id": "TeSXUmDM1xRG",
    "outputId": "0651bc50-4036-4cc7-c79d-a05da2eff766"
   },
   "outputs": [
    {
     "data": {
      "text/html": [
       "<div>\n",
       "<style scoped>\n",
       "    .dataframe tbody tr th:only-of-type {\n",
       "        vertical-align: middle;\n",
       "    }\n",
       "\n",
       "    .dataframe tbody tr th {\n",
       "        vertical-align: top;\n",
       "    }\n",
       "\n",
       "    .dataframe thead th {\n",
       "        text-align: right;\n",
       "    }\n",
       "</style>\n",
       "<table border=\"1\" class=\"dataframe\">\n",
       "  <thead>\n",
       "    <tr style=\"text-align: right;\">\n",
       "      <th></th>\n",
       "      <th>word</th>\n",
       "      <th>frequency</th>\n",
       "    </tr>\n",
       "  </thead>\n",
       "  <tbody>\n",
       "    <tr>\n",
       "      <th>0</th>\n",
       "      <td>우유</td>\n",
       "      <td>212</td>\n",
       "    </tr>\n",
       "    <tr>\n",
       "      <th>1</th>\n",
       "      <td>플레인</td>\n",
       "      <td>199</td>\n",
       "    </tr>\n",
       "    <tr>\n",
       "      <th>2</th>\n",
       "      <td>요거트</td>\n",
       "      <td>142</td>\n",
       "    </tr>\n",
       "    <tr>\n",
       "      <th>3</th>\n",
       "      <td>소고기</td>\n",
       "      <td>142</td>\n",
       "    </tr>\n",
       "    <tr>\n",
       "      <th>4</th>\n",
       "      <td>닭가슴살</td>\n",
       "      <td>110</td>\n",
       "    </tr>\n",
       "    <tr>\n",
       "      <th>5</th>\n",
       "      <td>하림</td>\n",
       "      <td>107</td>\n",
       "    </tr>\n",
       "    <tr>\n",
       "      <th>6</th>\n",
       "      <td>사과</td>\n",
       "      <td>103</td>\n",
       "    </tr>\n",
       "    <tr>\n",
       "      <th>7</th>\n",
       "      <td>맥심</td>\n",
       "      <td>97</td>\n",
       "    </tr>\n",
       "    <tr>\n",
       "      <th>8</th>\n",
       "      <td>동원</td>\n",
       "      <td>95</td>\n",
       "    </tr>\n",
       "    <tr>\n",
       "      <th>9</th>\n",
       "      <td>구이용</td>\n",
       "      <td>94</td>\n",
       "    </tr>\n",
       "    <tr>\n",
       "      <th>10</th>\n",
       "      <td>치즈</td>\n",
       "      <td>81</td>\n",
       "    </tr>\n",
       "    <tr>\n",
       "      <th>11</th>\n",
       "      <td>제로</td>\n",
       "      <td>80</td>\n",
       "    </tr>\n",
       "    <tr>\n",
       "      <th>12</th>\n",
       "      <td>켈로그</td>\n",
       "      <td>78</td>\n",
       "    </tr>\n",
       "    <tr>\n",
       "      <th>13</th>\n",
       "      <td>진라면</td>\n",
       "      <td>77</td>\n",
       "    </tr>\n",
       "    <tr>\n",
       "      <th>14</th>\n",
       "      <td>감자</td>\n",
       "      <td>76</td>\n",
       "    </tr>\n",
       "    <tr>\n",
       "      <th>15</th>\n",
       "      <td>해태제과</td>\n",
       "      <td>75</td>\n",
       "    </tr>\n",
       "    <tr>\n",
       "      <th>16</th>\n",
       "      <td>토마토</td>\n",
       "      <td>74</td>\n",
       "    </tr>\n",
       "    <tr>\n",
       "      <th>17</th>\n",
       "      <td>삼겹살</td>\n",
       "      <td>72</td>\n",
       "    </tr>\n",
       "    <tr>\n",
       "      <th>18</th>\n",
       "      <td>대란</td>\n",
       "      <td>71</td>\n",
       "    </tr>\n",
       "    <tr>\n",
       "      <th>19</th>\n",
       "      <td>생수</td>\n",
       "      <td>70</td>\n",
       "    </tr>\n",
       "    <tr>\n",
       "      <th>20</th>\n",
       "      <td>소스</td>\n",
       "      <td>68</td>\n",
       "    </tr>\n",
       "    <tr>\n",
       "      <th>21</th>\n",
       "      <td>동물복지</td>\n",
       "      <td>68</td>\n",
       "    </tr>\n",
       "    <tr>\n",
       "      <th>22</th>\n",
       "      <td>신라면</td>\n",
       "      <td>67</td>\n",
       "    </tr>\n",
       "    <tr>\n",
       "      <th>23</th>\n",
       "      <td>그릭요거트</td>\n",
       "      <td>67</td>\n",
       "    </tr>\n",
       "    <tr>\n",
       "      <th>24</th>\n",
       "      <td>아메리카노</td>\n",
       "      <td>65</td>\n",
       "    </tr>\n",
       "    <tr>\n",
       "      <th>25</th>\n",
       "      <td>요구르트</td>\n",
       "      <td>65</td>\n",
       "    </tr>\n",
       "    <tr>\n",
       "      <th>26</th>\n",
       "      <td>커피</td>\n",
       "      <td>63</td>\n",
       "    </tr>\n",
       "    <tr>\n",
       "      <th>27</th>\n",
       "      <td>비타민</td>\n",
       "      <td>62</td>\n",
       "    </tr>\n",
       "    <tr>\n",
       "      <th>28</th>\n",
       "      <td>저지방</td>\n",
       "      <td>62</td>\n",
       "    </tr>\n",
       "    <tr>\n",
       "      <th>29</th>\n",
       "      <td>샐러드</td>\n",
       "      <td>61</td>\n",
       "    </tr>\n",
       "  </tbody>\n",
       "</table>\n",
       "</div>"
      ],
      "text/plain": [
       "     word  frequency\n",
       "0      우유        212\n",
       "1     플레인        199\n",
       "2     요거트        142\n",
       "3     소고기        142\n",
       "4    닭가슴살        110\n",
       "5      하림        107\n",
       "6      사과        103\n",
       "7      맥심         97\n",
       "8      동원         95\n",
       "9     구이용         94\n",
       "10     치즈         81\n",
       "11     제로         80\n",
       "12    켈로그         78\n",
       "13    진라면         77\n",
       "14     감자         76\n",
       "15   해태제과         75\n",
       "16    토마토         74\n",
       "17    삼겹살         72\n",
       "18     대란         71\n",
       "19     생수         70\n",
       "20     소스         68\n",
       "21   동물복지         68\n",
       "22    신라면         67\n",
       "23  그릭요거트         67\n",
       "24  아메리카노         65\n",
       "25   요구르트         65\n",
       "26     커피         63\n",
       "27    비타민         62\n",
       "28    저지방         62\n",
       "29    샐러드         61"
      ]
     },
     "execution_count": 23,
     "metadata": {},
     "output_type": "execute_result"
    }
   ],
   "source": [
    "# 전체 Word Counts\n",
    "total_top_words = most_frequent_words(df, '구매상품명', num_words=30, filter_words=words_to_filter)\n",
    "pd.DataFrame(total_top_words, columns=['word', 'frequency'])"
   ]
  },
  {
   "cell_type": "markdown",
   "metadata": {
    "id": "0yILmzxsFUJ8"
   },
   "source": [
    "### 30대 이하 Words Counts"
   ]
  },
  {
   "cell_type": "code",
   "execution_count": 24,
   "metadata": {
    "colab": {
     "base_uri": "https://localhost:8080/",
     "height": 833
    },
    "executionInfo": {
     "elapsed": 163,
     "status": "ok",
     "timestamp": 1745320254380,
     "user": {
      "displayName": "김동영",
      "userId": "02998294583473138517"
     },
     "user_tz": -540
    },
    "id": "LWsF7eqGFUJ9",
    "outputId": "a950a41c-d7af-42af-a840-19dc7b6b37c0"
   },
   "outputs": [],
   "source": [
    "# 전체 Word Counts\n",
    "u30_top_words = most_frequent_words(df[df['구매자연령'] == '30대 이하'], '구매상품명', num_words=25, filter_words=words_to_filter)\n",
    "df_u30 = pd.DataFrame(u30_top_words, columns=['30_word', '30_frequency'])"
   ]
  },
  {
   "cell_type": "markdown",
   "metadata": {
    "id": "7IY9xReLJtWL"
   },
   "source": [
    "### 40대 Words Counts"
   ]
  },
  {
   "cell_type": "code",
   "execution_count": 25,
   "metadata": {
    "colab": {
     "base_uri": "https://localhost:8080/",
     "height": 833
    },
    "executionInfo": {
     "elapsed": 86,
     "status": "ok",
     "timestamp": 1745320275162,
     "user": {
      "displayName": "김동영",
      "userId": "02998294583473138517"
     },
     "user_tz": -540
    },
    "id": "XN3U1bksJtWL",
    "outputId": "86b717d6-d0f0-4834-80fe-78295d87e96e"
   },
   "outputs": [],
   "source": [
    "# 전체 Word Counts\n",
    "o30u50_top_words = most_frequent_words(df[df['구매자연령'] == '40대'], '구매상품명', num_words=25, filter_words=words_to_filter)\n",
    "df_o30u50 = pd.DataFrame(o30u50_top_words, columns=['40_word', '40_frequency'])"
   ]
  },
  {
   "cell_type": "markdown",
   "metadata": {
    "id": "yQWIhqTFKEDU"
   },
   "source": [
    "### 50대 이상 Words Counts"
   ]
  },
  {
   "cell_type": "code",
   "execution_count": 26,
   "metadata": {
    "colab": {
     "base_uri": "https://localhost:8080/",
     "height": 833
    },
    "executionInfo": {
     "elapsed": 90,
     "status": "ok",
     "timestamp": 1745320287080,
     "user": {
      "displayName": "김동영",
      "userId": "02998294583473138517"
     },
     "user_tz": -540
    },
    "id": "yN2_DsHIKEDU",
    "outputId": "9e792b4f-b2e4-4475-a0d4-69107953b0be"
   },
   "outputs": [],
   "source": [
    "# 전체 Word Counts\n",
    "o50_top_words = most_frequent_words(df[df['구매자연령'] == '50대 이상'], '구매상품명', num_words=25, filter_words=words_to_filter)\n",
    "df_o50 = pd.DataFrame(o50_top_words, columns=['50_word', '50_frequency'])"
   ]
  },
  {
   "cell_type": "markdown",
   "metadata": {
    "id": "Vebkz37JsqYN"
   },
   "source": [
    "### 연령대별 Word Counts 결과"
   ]
  },
  {
   "cell_type": "code",
   "execution_count": 27,
   "metadata": {
    "colab": {
     "base_uri": "https://localhost:8080/",
     "height": 833
    },
    "executionInfo": {
     "elapsed": 12,
     "status": "ok",
     "timestamp": 1745320348856,
     "user": {
      "displayName": "김동영",
      "userId": "02998294583473138517"
     },
     "user_tz": -540
    },
    "id": "cRhCD-7QK6-5",
    "outputId": "a68fa5a0-8f84-49ee-f3d0-470c24b7e472"
   },
   "outputs": [
    {
     "data": {
      "text/html": [
       "<div>\n",
       "<style scoped>\n",
       "    .dataframe tbody tr th:only-of-type {\n",
       "        vertical-align: middle;\n",
       "    }\n",
       "\n",
       "    .dataframe tbody tr th {\n",
       "        vertical-align: top;\n",
       "    }\n",
       "\n",
       "    .dataframe thead th {\n",
       "        text-align: right;\n",
       "    }\n",
       "</style>\n",
       "<table border=\"1\" class=\"dataframe\">\n",
       "  <thead>\n",
       "    <tr style=\"text-align: right;\">\n",
       "      <th></th>\n",
       "      <th>30_word</th>\n",
       "      <th>30_frequency</th>\n",
       "      <th>40_word</th>\n",
       "      <th>40_frequency</th>\n",
       "      <th>50_word</th>\n",
       "      <th>50_frequency</th>\n",
       "    </tr>\n",
       "  </thead>\n",
       "  <tbody>\n",
       "    <tr>\n",
       "      <th>0</th>\n",
       "      <td>우유</td>\n",
       "      <td>82</td>\n",
       "      <td>우유</td>\n",
       "      <td>94</td>\n",
       "      <td>플레인</td>\n",
       "      <td>48</td>\n",
       "    </tr>\n",
       "    <tr>\n",
       "      <th>1</th>\n",
       "      <td>플레인</td>\n",
       "      <td>69</td>\n",
       "      <td>플레인</td>\n",
       "      <td>82</td>\n",
       "      <td>우유</td>\n",
       "      <td>36</td>\n",
       "    </tr>\n",
       "    <tr>\n",
       "      <th>2</th>\n",
       "      <td>요거트</td>\n",
       "      <td>60</td>\n",
       "      <td>소고기</td>\n",
       "      <td>69</td>\n",
       "      <td>동물복지</td>\n",
       "      <td>27</td>\n",
       "    </tr>\n",
       "    <tr>\n",
       "      <th>3</th>\n",
       "      <td>소고기</td>\n",
       "      <td>55</td>\n",
       "      <td>진라면</td>\n",
       "      <td>60</td>\n",
       "      <td>하림</td>\n",
       "      <td>27</td>\n",
       "    </tr>\n",
       "    <tr>\n",
       "      <th>4</th>\n",
       "      <td>닭가슴살</td>\n",
       "      <td>42</td>\n",
       "      <td>토마토</td>\n",
       "      <td>58</td>\n",
       "      <td>닭가슴살</td>\n",
       "      <td>26</td>\n",
       "    </tr>\n",
       "    <tr>\n",
       "      <th>5</th>\n",
       "      <td>구이용</td>\n",
       "      <td>40</td>\n",
       "      <td>요거트</td>\n",
       "      <td>58</td>\n",
       "      <td>요거트</td>\n",
       "      <td>24</td>\n",
       "    </tr>\n",
       "    <tr>\n",
       "      <th>6</th>\n",
       "      <td>제로</td>\n",
       "      <td>39</td>\n",
       "      <td>동원</td>\n",
       "      <td>56</td>\n",
       "      <td>저지방</td>\n",
       "      <td>21</td>\n",
       "    </tr>\n",
       "    <tr>\n",
       "      <th>7</th>\n",
       "      <td>사과</td>\n",
       "      <td>33</td>\n",
       "      <td>맥심</td>\n",
       "      <td>54</td>\n",
       "      <td>폰타나</td>\n",
       "      <td>20</td>\n",
       "    </tr>\n",
       "    <tr>\n",
       "      <th>8</th>\n",
       "      <td>동원</td>\n",
       "      <td>33</td>\n",
       "      <td>하림</td>\n",
       "      <td>52</td>\n",
       "      <td>복음자리</td>\n",
       "      <td>19</td>\n",
       "    </tr>\n",
       "    <tr>\n",
       "      <th>9</th>\n",
       "      <td>맥심</td>\n",
       "      <td>32</td>\n",
       "      <td>사과</td>\n",
       "      <td>52</td>\n",
       "      <td>사과</td>\n",
       "      <td>18</td>\n",
       "    </tr>\n",
       "    <tr>\n",
       "      <th>10</th>\n",
       "      <td>생수</td>\n",
       "      <td>32</td>\n",
       "      <td>신라면</td>\n",
       "      <td>49</td>\n",
       "      <td>소고기</td>\n",
       "      <td>18</td>\n",
       "    </tr>\n",
       "    <tr>\n",
       "      <th>11</th>\n",
       "      <td>켈로그</td>\n",
       "      <td>31</td>\n",
       "      <td>요구르트</td>\n",
       "      <td>45</td>\n",
       "      <td>핑크솔트</td>\n",
       "      <td>18</td>\n",
       "    </tr>\n",
       "    <tr>\n",
       "      <th>12</th>\n",
       "      <td>감자</td>\n",
       "      <td>31</td>\n",
       "      <td>롯데제과</td>\n",
       "      <td>43</td>\n",
       "      <td>구운란</td>\n",
       "      <td>17</td>\n",
       "    </tr>\n",
       "    <tr>\n",
       "      <th>13</th>\n",
       "      <td>멀티비타민</td>\n",
       "      <td>30</td>\n",
       "      <td>치즈</td>\n",
       "      <td>43</td>\n",
       "      <td>아메리카노</td>\n",
       "      <td>17</td>\n",
       "    </tr>\n",
       "    <tr>\n",
       "      <th>14</th>\n",
       "      <td>치즈</td>\n",
       "      <td>29</td>\n",
       "      <td>그릭요거트</td>\n",
       "      <td>43</td>\n",
       "      <td>캔디</td>\n",
       "      <td>17</td>\n",
       "    </tr>\n",
       "    <tr>\n",
       "      <th>15</th>\n",
       "      <td>하림</td>\n",
       "      <td>28</td>\n",
       "      <td>구이용</td>\n",
       "      <td>43</td>\n",
       "      <td>바나나</td>\n",
       "      <td>17</td>\n",
       "    </tr>\n",
       "    <tr>\n",
       "      <th>16</th>\n",
       "      <td>삼겹살</td>\n",
       "      <td>28</td>\n",
       "      <td>해태제과</td>\n",
       "      <td>43</td>\n",
       "      <td>그릭</td>\n",
       "      <td>16</td>\n",
       "    </tr>\n",
       "    <tr>\n",
       "      <th>17</th>\n",
       "      <td>락토프리</td>\n",
       "      <td>26</td>\n",
       "      <td>닭가슴살</td>\n",
       "      <td>42</td>\n",
       "      <td>나뚜루</td>\n",
       "      <td>16</td>\n",
       "    </tr>\n",
       "    <tr>\n",
       "      <th>18</th>\n",
       "      <td>시리얼</td>\n",
       "      <td>26</td>\n",
       "      <td>삼겹살</td>\n",
       "      <td>41</td>\n",
       "      <td>소스</td>\n",
       "      <td>16</td>\n",
       "    </tr>\n",
       "    <tr>\n",
       "      <th>19</th>\n",
       "      <td>오트밀</td>\n",
       "      <td>26</td>\n",
       "      <td>특란</td>\n",
       "      <td>40</td>\n",
       "      <td>대란</td>\n",
       "      <td>15</td>\n",
       "    </tr>\n",
       "    <tr>\n",
       "      <th>20</th>\n",
       "      <td>유산균</td>\n",
       "      <td>25</td>\n",
       "      <td>볶음</td>\n",
       "      <td>38</td>\n",
       "      <td>신라면</td>\n",
       "      <td>15</td>\n",
       "    </tr>\n",
       "    <tr>\n",
       "      <th>21</th>\n",
       "      <td>블루베리</td>\n",
       "      <td>25</td>\n",
       "      <td>사조</td>\n",
       "      <td>36</td>\n",
       "      <td>유정란</td>\n",
       "      <td>15</td>\n",
       "    </tr>\n",
       "    <tr>\n",
       "      <th>22</th>\n",
       "      <td>해태제과</td>\n",
       "      <td>25</td>\n",
       "      <td>대란</td>\n",
       "      <td>36</td>\n",
       "      <td>요플레</td>\n",
       "      <td>14</td>\n",
       "    </tr>\n",
       "    <tr>\n",
       "      <th>23</th>\n",
       "      <td>동서</td>\n",
       "      <td>25</td>\n",
       "      <td>감자</td>\n",
       "      <td>35</td>\n",
       "      <td>커피</td>\n",
       "      <td>14</td>\n",
       "    </tr>\n",
       "    <tr>\n",
       "      <th>24</th>\n",
       "      <td>두유</td>\n",
       "      <td>24</td>\n",
       "      <td>켈로그</td>\n",
       "      <td>34</td>\n",
       "      <td>매일바이오</td>\n",
       "      <td>14</td>\n",
       "    </tr>\n",
       "  </tbody>\n",
       "</table>\n",
       "</div>"
      ],
      "text/plain": [
       "   30_word  30_frequency 40_word  40_frequency 50_word  50_frequency\n",
       "0       우유            82      우유            94     플레인            48\n",
       "1      플레인            69     플레인            82      우유            36\n",
       "2      요거트            60     소고기            69    동물복지            27\n",
       "3      소고기            55     진라면            60      하림            27\n",
       "4     닭가슴살            42     토마토            58    닭가슴살            26\n",
       "5      구이용            40     요거트            58     요거트            24\n",
       "6       제로            39      동원            56     저지방            21\n",
       "7       사과            33      맥심            54     폰타나            20\n",
       "8       동원            33      하림            52    복음자리            19\n",
       "9       맥심            32      사과            52      사과            18\n",
       "10      생수            32     신라면            49     소고기            18\n",
       "11     켈로그            31    요구르트            45    핑크솔트            18\n",
       "12      감자            31    롯데제과            43     구운란            17\n",
       "13   멀티비타민            30      치즈            43   아메리카노            17\n",
       "14      치즈            29   그릭요거트            43      캔디            17\n",
       "15      하림            28     구이용            43     바나나            17\n",
       "16     삼겹살            28    해태제과            43      그릭            16\n",
       "17    락토프리            26    닭가슴살            42     나뚜루            16\n",
       "18     시리얼            26     삼겹살            41      소스            16\n",
       "19     오트밀            26      특란            40      대란            15\n",
       "20     유산균            25      볶음            38     신라면            15\n",
       "21    블루베리            25      사조            36     유정란            15\n",
       "22    해태제과            25      대란            36     요플레            14\n",
       "23      동서            25      감자            35      커피            14\n",
       "24      두유            24     켈로그            34   매일바이오            14"
      ]
     },
     "execution_count": 27,
     "metadata": {},
     "output_type": "execute_result"
    }
   ],
   "source": [
    "merged_df = pd.concat([df_u30, df_o30u50, df_o50], axis=1)\n",
    "merged_df"
   ]
  },
  {
   "cell_type": "markdown",
   "metadata": {
    "id": "_nbype6g9n-G"
   },
   "source": [
    "### 세분류별 Word Counts ( 채소 )"
   ]
  },
  {
   "cell_type": "code",
   "execution_count": 28,
   "metadata": {
    "colab": {
     "base_uri": "https://localhost:8080/",
     "height": 363
    },
    "executionInfo": {
     "elapsed": 48,
     "status": "ok",
     "timestamp": 1745320367910,
     "user": {
      "displayName": "김동영",
      "userId": "02998294583473138517"
     },
     "user_tz": -540
    },
    "id": "-qtbdw868Y0L",
    "outputId": "3c8c5080-6254-49b4-f05e-ac9bf13908ee"
   },
   "outputs": [
    {
     "data": {
      "text/html": [
       "<div>\n",
       "<style scoped>\n",
       "    .dataframe tbody tr th:only-of-type {\n",
       "        vertical-align: middle;\n",
       "    }\n",
       "\n",
       "    .dataframe tbody tr th {\n",
       "        vertical-align: top;\n",
       "    }\n",
       "\n",
       "    .dataframe thead th {\n",
       "        text-align: right;\n",
       "    }\n",
       "</style>\n",
       "<table border=\"1\" class=\"dataframe\">\n",
       "  <thead>\n",
       "    <tr style=\"text-align: right;\">\n",
       "      <th></th>\n",
       "      <th>word</th>\n",
       "      <th>frequency</th>\n",
       "    </tr>\n",
       "  </thead>\n",
       "  <tbody>\n",
       "    <tr>\n",
       "      <th>0</th>\n",
       "      <td>감자</td>\n",
       "      <td>66</td>\n",
       "    </tr>\n",
       "    <tr>\n",
       "      <th>1</th>\n",
       "      <td>양파</td>\n",
       "      <td>46</td>\n",
       "    </tr>\n",
       "    <tr>\n",
       "      <th>2</th>\n",
       "      <td>애호박</td>\n",
       "      <td>40</td>\n",
       "    </tr>\n",
       "    <tr>\n",
       "      <th>3</th>\n",
       "      <td>샐러드</td>\n",
       "      <td>39</td>\n",
       "    </tr>\n",
       "    <tr>\n",
       "      <th>4</th>\n",
       "      <td>백오이</td>\n",
       "      <td>35</td>\n",
       "    </tr>\n",
       "    <tr>\n",
       "      <th>5</th>\n",
       "      <td>양배추</td>\n",
       "      <td>31</td>\n",
       "    </tr>\n",
       "    <tr>\n",
       "      <th>6</th>\n",
       "      <td>브로콜리</td>\n",
       "      <td>30</td>\n",
       "    </tr>\n",
       "    <tr>\n",
       "      <th>7</th>\n",
       "      <td>감자,</td>\n",
       "      <td>29</td>\n",
       "    </tr>\n",
       "    <tr>\n",
       "      <th>8</th>\n",
       "      <td>파프리카</td>\n",
       "      <td>27</td>\n",
       "    </tr>\n",
       "    <tr>\n",
       "      <th>9</th>\n",
       "      <td>양상추</td>\n",
       "      <td>27</td>\n",
       "    </tr>\n",
       "  </tbody>\n",
       "</table>\n",
       "</div>"
      ],
      "text/plain": [
       "   word  frequency\n",
       "0    감자         66\n",
       "1    양파         46\n",
       "2   애호박         40\n",
       "3   샐러드         39\n",
       "4   백오이         35\n",
       "5   양배추         31\n",
       "6  브로콜리         30\n",
       "7   감자,         29\n",
       "8  파프리카         27\n",
       "9   양상추         27"
      ]
     },
     "execution_count": 28,
     "metadata": {},
     "output_type": "execute_result"
    }
   ],
   "source": [
    "veg_top_words = most_frequent_words(df[df['세분류'] == '채소'], '구매상품명', num_words=10, filter_words=words_to_filter)\n",
    "pd.DataFrame(veg_top_words, columns=['word', 'frequency'])"
   ]
  },
  {
   "cell_type": "markdown",
   "metadata": {
    "id": "XmAa4FwcMIC3"
   },
   "source": [
    "### 세분류별 Word Counts ( 건강기능식품 )"
   ]
  },
  {
   "cell_type": "code",
   "execution_count": 29,
   "metadata": {
    "colab": {
     "base_uri": "https://localhost:8080/",
     "height": 363
    },
    "executionInfo": {
     "elapsed": 26,
     "status": "ok",
     "timestamp": 1745320370856,
     "user": {
      "displayName": "김동영",
      "userId": "02998294583473138517"
     },
     "user_tz": -540
    },
    "id": "O7X6aR2vCfrd",
    "outputId": "b3193d58-6a10-4a94-9062-fafa6bb9e91c"
   },
   "outputs": [
    {
     "data": {
      "text/html": [
       "<div>\n",
       "<style scoped>\n",
       "    .dataframe tbody tr th:only-of-type {\n",
       "        vertical-align: middle;\n",
       "    }\n",
       "\n",
       "    .dataframe tbody tr th {\n",
       "        vertical-align: top;\n",
       "    }\n",
       "\n",
       "    .dataframe thead th {\n",
       "        text-align: right;\n",
       "    }\n",
       "</style>\n",
       "<table border=\"1\" class=\"dataframe\">\n",
       "  <thead>\n",
       "    <tr style=\"text-align: right;\">\n",
       "      <th></th>\n",
       "      <th>word</th>\n",
       "      <th>frequency</th>\n",
       "    </tr>\n",
       "  </thead>\n",
       "  <tbody>\n",
       "    <tr>\n",
       "      <th>0</th>\n",
       "      <td>비타민</td>\n",
       "      <td>50</td>\n",
       "    </tr>\n",
       "    <tr>\n",
       "      <th>1</th>\n",
       "      <td>멀티비타민</td>\n",
       "      <td>42</td>\n",
       "    </tr>\n",
       "    <tr>\n",
       "      <th>2</th>\n",
       "      <td>유산균</td>\n",
       "      <td>38</td>\n",
       "    </tr>\n",
       "    <tr>\n",
       "      <th>3</th>\n",
       "      <td>루테인</td>\n",
       "      <td>37</td>\n",
       "    </tr>\n",
       "    <tr>\n",
       "      <th>4</th>\n",
       "      <td>플러스</td>\n",
       "      <td>34</td>\n",
       "    </tr>\n",
       "    <tr>\n",
       "      <th>5</th>\n",
       "      <td>오메가3</td>\n",
       "      <td>33</td>\n",
       "    </tr>\n",
       "    <tr>\n",
       "      <th>6</th>\n",
       "      <td>알티지</td>\n",
       "      <td>32</td>\n",
       "    </tr>\n",
       "    <tr>\n",
       "      <th>7</th>\n",
       "      <td>뉴트리디데이</td>\n",
       "      <td>31</td>\n",
       "    </tr>\n",
       "    <tr>\n",
       "      <th>8</th>\n",
       "      <td>다이어트</td>\n",
       "      <td>31</td>\n",
       "    </tr>\n",
       "    <tr>\n",
       "      <th>9</th>\n",
       "      <td>프로바이오틱스</td>\n",
       "      <td>30</td>\n",
       "    </tr>\n",
       "  </tbody>\n",
       "</table>\n",
       "</div>"
      ],
      "text/plain": [
       "      word  frequency\n",
       "0      비타민         50\n",
       "1    멀티비타민         42\n",
       "2      유산균         38\n",
       "3      루테인         37\n",
       "4      플러스         34\n",
       "5     오메가3         33\n",
       "6      알티지         32\n",
       "7   뉴트리디데이         31\n",
       "8     다이어트         31\n",
       "9  프로바이오틱스         30"
      ]
     },
     "execution_count": 29,
     "metadata": {},
     "output_type": "execute_result"
    }
   ],
   "source": [
    "health_top_words = most_frequent_words(df[df['세분류'] == '건강기능식품'], '구매상품명', num_words=10, filter_words=words_to_filter)\n",
    "pd.DataFrame(health_top_words, columns=['word', 'frequency'])"
   ]
  },
  {
   "cell_type": "markdown",
   "metadata": {
    "id": "phsCl2rG-bVT"
   },
   "source": [
    "# 소비 분석 카테고리 데이터 (장보고 마트)"
   ]
  },
  {
   "cell_type": "code",
   "execution_count": 30,
   "metadata": {
    "colab": {
     "base_uri": "https://localhost:8080/",
     "height": 0,
     "referenced_widgets": [
      "ccb5793058d84163afbce6cff3193c19",
      "b81af4045c6f4cf9b9558811adbd1e91",
      "95fb1cd2b62240b698e85bb9be6e00d0"
     ]
    },
    "executionInfo": {
     "elapsed": 30908,
     "status": "ok",
     "timestamp": 1745327887351,
     "user": {
      "displayName": "김동영",
      "userId": "02998294583473138517"
     },
     "user_tz": -540
    },
    "id": "2e5cUuJGO2G4",
    "outputId": "0416b042-6d3f-48a6-97c1-5e2a7be3ad3b"
   },
   "outputs": [
    {
     "ename": "IOException",
     "evalue": "IO Error: No files found that match the pattern \"/content/drive/MyDrive/data/jbg_parquet/TB_CL_MTH_SALES_YMD_20230301_01n.parquet\"",
     "output_type": "error",
     "traceback": [
      "\u001b[31m---------------------------------------------------------------------------\u001b[39m",
      "\u001b[31mIOException\u001b[39m                               Traceback (most recent call last)",
      "\u001b[36mCell\u001b[39m\u001b[36m \u001b[39m\u001b[32mIn[30]\u001b[39m\u001b[32m, line 13\u001b[39m\n\u001b[32m      3\u001b[39m con = duckdb.connect()\n\u001b[32m      4\u001b[39m query = \u001b[33m\"\"\"\u001b[39m\n\u001b[32m      5\u001b[39m \u001b[33mSELECT *\u001b[39m\n\u001b[32m      6\u001b[39m \u001b[33mFROM read_parquet([\u001b[39m\n\u001b[32m   (...)\u001b[39m\u001b[32m     11\u001b[39m \u001b[33m])\u001b[39m\n\u001b[32m     12\u001b[39m \u001b[33m\"\"\"\u001b[39m\n\u001b[32m---> \u001b[39m\u001b[32m13\u001b[39m df = \u001b[43mcon\u001b[49m\u001b[43m.\u001b[49m\u001b[43mexecute\u001b[49m\u001b[43m(\u001b[49m\u001b[43mquery\u001b[49m\u001b[43m)\u001b[49m.df()\n",
      "\u001b[31mIOException\u001b[39m: IO Error: No files found that match the pattern \"/content/drive/MyDrive/data/jbg_parquet/TB_CL_MTH_SALES_YMD_20230301_01n.parquet\""
     ]
    }
   ],
   "source": [
    "import duckdb\n",
    "\n",
    "con = duckdb.connect()\n",
    "query = \"\"\"\n",
    "SELECT *\n",
    "FROM read_parquet([\n",
    "    '/content/drive/MyDrive/data/jbg_parquet/TB_CL_MTH_SALES_YMD_20230301_01n.parquet',\n",
    "    '/content/drive/MyDrive/data/jbg_parquet/TB_CL_MTH_SALES_YMD_20230301_02n.parquet',\n",
    "    '/content/drive/MyDrive/data/jbg_parquet/TB_CL_MTH_SALES_YMD_20230301_03n.parquet',\n",
    "    '/content/drive/MyDrive/data/jbg_parquet/TB_CL_MTH_SALES_YMD_20230301_04n.parquet'\n",
    "])\n",
    "\"\"\"\n",
    "df = con.execute(query).df()"
   ]
  },
  {
   "cell_type": "code",
   "execution_count": 159,
   "metadata": {
    "colab": {
     "base_uri": "https://localhost:8080/",
     "height": 0
    },
    "executionInfo": {
     "elapsed": 45,
     "status": "ok",
     "timestamp": 1745327929677,
     "user": {
      "displayName": "김동영",
      "userId": "02998294583473138517"
     },
     "user_tz": -540
    },
    "id": "I3sz4iU9WIC0",
    "outputId": "1485b16d-629e-49b5-aad1-0f87e6a1f83e"
   },
   "outputs": [
    {
     "data": {
      "text/html": [
       "<div>\n",
       "<style scoped>\n",
       "    .dataframe tbody tr th:only-of-type {\n",
       "        vertical-align: middle;\n",
       "    }\n",
       "\n",
       "    .dataframe tbody tr th {\n",
       "        vertical-align: top;\n",
       "    }\n",
       "\n",
       "    .dataframe thead th {\n",
       "        text-align: right;\n",
       "    }\n",
       "</style>\n",
       "<table border=\"1\" class=\"dataframe\">\n",
       "  <thead>\n",
       "    <tr style=\"text-align: right;\">\n",
       "      <th></th>\n",
       "      <th>count</th>\n",
       "    </tr>\n",
       "    <tr>\n",
       "      <th>fdmt_pdlt_lgls_nm</th>\n",
       "      <th></th>\n",
       "    </tr>\n",
       "  </thead>\n",
       "  <tbody>\n",
       "    <tr>\n",
       "      <th>가공상품</th>\n",
       "      <td>4272799</td>\n",
       "    </tr>\n",
       "    <tr>\n",
       "      <th>농산물</th>\n",
       "      <td>2390899</td>\n",
       "    </tr>\n",
       "    <tr>\n",
       "      <th>비식품</th>\n",
       "      <td>924216</td>\n",
       "    </tr>\n",
       "    <tr>\n",
       "      <th>축산물</th>\n",
       "      <td>539648</td>\n",
       "    </tr>\n",
       "    <tr>\n",
       "      <th>수산물</th>\n",
       "      <td>362491</td>\n",
       "    </tr>\n",
       "    <tr>\n",
       "      <th>프랜차이즈</th>\n",
       "      <td>3237</td>\n",
       "    </tr>\n",
       "  </tbody>\n",
       "</table>\n",
       "</div><br><label><b>dtype:</b> int64</label>"
      ],
      "text/plain": [
       "fdmt_pdlt_lgls_nm\n",
       "가공상품     4272799\n",
       "농산물      2390899\n",
       "비식품       924216\n",
       "축산물       539648\n",
       "수산물       362491\n",
       "프랜차이즈       3237\n",
       "Name: count, dtype: int64"
      ]
     },
     "execution_count": 159,
     "metadata": {},
     "output_type": "execute_result"
    }
   ],
   "source": [
    "df['fdmt_pdlt_lgls_nm'].value_counts()"
   ]
  },
  {
   "cell_type": "code",
   "execution_count": 160,
   "metadata": {
    "executionInfo": {
     "elapsed": 2191,
     "status": "ok",
     "timestamp": 1745327989470,
     "user": {
      "displayName": "김동영",
      "userId": "02998294583473138517"
     },
     "user_tz": -540
    },
    "id": "rmuCbrjXRwxg"
   },
   "outputs": [],
   "source": [
    "df = df[df['fdmt_pdlt_lgls_nm'].isin(['가공상품', '농산물', '수산물', '축산물'])]"
   ]
  },
  {
   "cell_type": "code",
   "execution_count": 161,
   "metadata": {
    "executionInfo": {
     "elapsed": 862,
     "status": "ok",
     "timestamp": 1745327992994,
     "user": {
      "displayName": "김동영",
      "userId": "02998294583473138517"
     },
     "user_tz": -540
    },
    "id": "a0BmD_eDWjko"
   },
   "outputs": [],
   "source": [
    "df = df[['cfmtn_ymd', 'fdmt_pdlt_lgls_nm', 'fdmt_pdlt_mdcl_nm', 'fdmt_pdlt_smcs_nm', 'fdmt_pdlt_nm', 'tot_sle_qyt']]"
   ]
  },
  {
   "cell_type": "code",
   "execution_count": 164,
   "metadata": {
    "colab": {
     "base_uri": "https://localhost:8080/",
     "height": 0
    },
    "executionInfo": {
     "elapsed": 1212,
     "status": "ok",
     "timestamp": 1745328042744,
     "user": {
      "displayName": "김동영",
      "userId": "02998294583473138517"
     },
     "user_tz": -540
    },
    "id": "jb7CeUqQTaY4",
    "outputId": "ac132a20-1f62-4a33-a25e-f95a6666bde7"
   },
   "outputs": [
    {
     "data": {
      "text/html": [
       "<div>\n",
       "<style scoped>\n",
       "    .dataframe tbody tr th:only-of-type {\n",
       "        vertical-align: middle;\n",
       "    }\n",
       "\n",
       "    .dataframe tbody tr th {\n",
       "        vertical-align: top;\n",
       "    }\n",
       "\n",
       "    .dataframe thead th {\n",
       "        text-align: right;\n",
       "    }\n",
       "</style>\n",
       "<table border=\"1\" class=\"dataframe\">\n",
       "  <thead>\n",
       "    <tr style=\"text-align: right;\">\n",
       "      <th></th>\n",
       "      <th>count</th>\n",
       "    </tr>\n",
       "    <tr>\n",
       "      <th>fdmt_pdlt_smcs_nm</th>\n",
       "      <th></th>\n",
       "    </tr>\n",
       "  </thead>\n",
       "  <tbody>\n",
       "    <tr>\n",
       "      <th>과자류</th>\n",
       "      <td>331831</td>\n",
       "    </tr>\n",
       "    <tr>\n",
       "      <th>두부</th>\n",
       "      <td>174368</td>\n",
       "    </tr>\n",
       "    <tr>\n",
       "      <th>어묵류</th>\n",
       "      <td>170187</td>\n",
       "    </tr>\n",
       "    <tr>\n",
       "      <th>즉석면류</th>\n",
       "      <td>167097</td>\n",
       "    </tr>\n",
       "    <tr>\n",
       "      <th>빵류</th>\n",
       "      <td>159934</td>\n",
       "    </tr>\n",
       "    <tr>\n",
       "      <th>요구르트</th>\n",
       "      <td>120996</td>\n",
       "    </tr>\n",
       "    <tr>\n",
       "      <th>우유</th>\n",
       "      <td>112083</td>\n",
       "    </tr>\n",
       "    <tr>\n",
       "      <th>탄산음료</th>\n",
       "      <td>106688</td>\n",
       "    </tr>\n",
       "    <tr>\n",
       "      <th>소주</th>\n",
       "      <td>91853</td>\n",
       "    </tr>\n",
       "    <tr>\n",
       "      <th>커피류</th>\n",
       "      <td>84452</td>\n",
       "    </tr>\n",
       "  </tbody>\n",
       "</table>\n",
       "</div><br><label><b>dtype:</b> int64</label>"
      ],
      "text/plain": [
       "fdmt_pdlt_smcs_nm\n",
       "과자류     331831\n",
       "두부      174368\n",
       "어묵류     170187\n",
       "즉석면류    167097\n",
       "빵류      159934\n",
       "요구르트    120996\n",
       "우유      112083\n",
       "탄산음료    106688\n",
       "소주       91853\n",
       "커피류      84452\n",
       "Name: count, dtype: int64"
      ]
     },
     "execution_count": 164,
     "metadata": {},
     "output_type": "execute_result"
    }
   ],
   "source": [
    "df[df['fdmt_pdlt_lgls_nm'] == '가공상품']['fdmt_pdlt_smcs_nm'].value_counts().head(10)"
   ]
  },
  {
   "cell_type": "code",
   "execution_count": null,
   "metadata": {
    "executionInfo": {
     "elapsed": 25,
     "status": "aborted",
     "timestamp": 1745319215317,
     "user": {
      "displayName": "김동영",
      "userId": "02998294583473138517"
     },
     "user_tz": -540
    },
    "id": "NMuq1ZhFRcbj"
   },
   "outputs": [],
   "source": [
    "df['fdmt_pdlt_smcs_nm'].value_counts().head(10)"
   ]
  },
  {
   "cell_type": "code",
   "execution_count": null,
   "metadata": {
    "executionInfo": {
     "elapsed": 17563,
     "status": "aborted",
     "timestamp": 1745319215317,
     "user": {
      "displayName": "김동영",
      "userId": "02998294583473138517"
     },
     "user_tz": -540
    },
    "id": "CcMCvdbN3GOG"
   },
   "outputs": [],
   "source": [
    "df[df['fdmt_pdlt_mdcl_nm'] == '구근류']['fdmt_pdlt_smcs_nm'].value_counts()"
   ]
  },
  {
   "cell_type": "code",
   "execution_count": null,
   "metadata": {
    "executionInfo": {
     "elapsed": 17563,
     "status": "aborted",
     "timestamp": 1745319215318,
     "user": {
      "displayName": "김동영",
      "userId": "02998294583473138517"
     },
     "user_tz": -540
    },
    "id": "CZ7fJ_E6YStZ"
   },
   "outputs": [],
   "source": [
    "df['fdmt_pdlt_mdcl_nm'].value_counts()"
   ]
  },
  {
   "cell_type": "markdown",
   "metadata": {
    "id": "s07lJPLEZcff"
   },
   "source": [
    "# 만개의 레시피 데이터"
   ]
  },
  {
   "cell_type": "code",
   "execution_count": 128,
   "metadata": {
    "executionInfo": {
     "elapsed": 53979,
     "status": "ok",
     "timestamp": 1745323766514,
     "user": {
      "displayName": "김동영",
      "userId": "02998294583473138517"
     },
     "user_tz": -540
    },
    "id": "4eKWN3XlYi4R"
   },
   "outputs": [],
   "source": [
    "recipe = pd.read_excel('/content/drive/MyDrive/data/레시피/TB_RECIPE_SEARCH-20231130.xlsx')"
   ]
  },
  {
   "cell_type": "markdown",
   "metadata": {
    "id": "bKth91dlZxYd"
   },
   "source": [
    "## 데이터 정제"
   ]
  },
  {
   "cell_type": "markdown",
   "metadata": {
    "id": "pNwhuH33b2mb"
   },
   "source": [
    "### 필요한 컬럼만 추출"
   ]
  },
  {
   "cell_type": "code",
   "execution_count": 149,
   "metadata": {
    "executionInfo": {
     "elapsed": 26,
     "status": "ok",
     "timestamp": 1745324502418,
     "user": {
      "displayName": "김동영",
      "userId": "02998294583473138517"
     },
     "user_tz": -540
    },
    "id": "l2BkcwNVQ9wx"
   },
   "outputs": [],
   "source": [
    "df = recipe[['RCP_SNO', 'CKG_NM', 'INQ_CNT', 'RCMM_CNT', 'SRAP_CNT', 'CKG_MTRL_CN', 'CKG_INBUN_NM', 'CKG_TIME_NM']]"
   ]
  },
  {
   "cell_type": "markdown",
   "metadata": {
    "id": "fr2vyS3Ab5qS"
   },
   "source": [
    "### 요리명 지정(Target)하여 데이터 추출"
   ]
  },
  {
   "cell_type": "code",
   "execution_count": 151,
   "metadata": {
    "executionInfo": {
     "elapsed": 458,
     "status": "ok",
     "timestamp": 1745324721801,
     "user": {
      "displayName": "김동영",
      "userId": "02998294583473138517"
     },
     "user_tz": -540
    },
    "id": "0PNQqv35M-xR"
   },
   "outputs": [],
   "source": [
    "cond1 = df['CKG_NM'].str.contains('샐러드')\n",
    "cond2 = df['CKG_NM'].str.contains('연어')\n",
    "target = df[cond1 & cond2]"
   ]
  },
  {
   "cell_type": "markdown",
   "metadata": {
    "id": "ecYsMGBNc8G2"
   },
   "source": [
    "### Target 데이터의 Score 컬럼 생성"
   ]
  },
  {
   "cell_type": "markdown",
   "metadata": {
    "id": "Hu0f6u96emWV"
   },
   "source": [
    "- Score : ( 조회수 / 조회수 최댓값 ) + ( 추천수 / 추천수 최댓값 ) + ( 스크랩수 / 스크랩수 최댓값 )"
   ]
  },
  {
   "cell_type": "code",
   "execution_count": 155,
   "metadata": {
    "executionInfo": {
     "elapsed": 23,
     "status": "ok",
     "timestamp": 1745325093725,
     "user": {
      "displayName": "김동영",
      "userId": "02998294583473138517"
     },
     "user_tz": -540
    },
    "id": "6fgjnoprc8QX"
   },
   "outputs": [],
   "source": [
    "target['SCORE'] = (target['INQ_CNT']/target['INQ_CNT'].max()) + (target['RCMM_CNT']/target['RCMM_CNT'].max()) + (target['SRAP_CNT']/target['SRAP_CNT'].max())"
   ]
  },
  {
   "cell_type": "markdown",
   "metadata": {
    "id": "VEwOqkiKdN7p"
   },
   "source": [
    "### Score 순으로 Target 데이터 추출"
   ]
  },
  {
   "cell_type": "code",
   "execution_count": 156,
   "metadata": {
    "colab": {
     "base_uri": "https://localhost:8080/",
     "height": 0
    },
    "executionInfo": {
     "elapsed": 42,
     "status": "ok",
     "timestamp": 1745325096182,
     "user": {
      "displayName": "김동영",
      "userId": "02998294583473138517"
     },
     "user_tz": -540
    },
    "id": "gPynAiZQdU2d",
    "outputId": "5886ead1-05ca-48ef-f6bc-a87a986425a5"
   },
   "outputs": [
    {
     "data": {
      "application/vnd.google.colaboratory.intrinsic+json": {
       "summary": "{\n  \"name\": \"target\",\n  \"rows\": 10,\n  \"fields\": [\n    {\n      \"column\": \"RCP_SNO\",\n      \"properties\": {\n        \"dtype\": \"number\",\n        \"std\": 1067276,\n        \"min\": 4354519,\n        \"max\": 6899785,\n        \"num_unique_values\": 10,\n        \"samples\": [\n          6304708,\n          6840533,\n          6899785\n        ],\n        \"semantic_type\": \"\",\n        \"description\": \"\"\n      }\n    },\n    {\n      \"column\": \"CKG_NM\",\n      \"properties\": {\n        \"dtype\": \"category\",\n        \"num_unique_values\": 4,\n        \"samples\": [\n          \"\\uc591\\uc0c1\\ucd94\\uc5f0\\uc5b4\\uc0d0\\ub7ec\\ub4dc\",\n          \"\\ud6c8\\uc81c\\uc5f0\\uc5b4\\uc57c\\ucc44\\uc0d0\\ub7ec\\ub4dc\",\n          \"\\uc5f0\\uc5b4\\uc0d0\\ub7ec\\ub4dc\"\n        ],\n        \"semantic_type\": \"\",\n        \"description\": \"\"\n      }\n    },\n    {\n      \"column\": \"INQ_CNT\",\n      \"properties\": {\n        \"dtype\": \"number\",\n        \"std\": 50794,\n        \"min\": 33885,\n        \"max\": 213668,\n        \"num_unique_values\": 10,\n        \"samples\": [\n          57837,\n          74984,\n          84503\n        ],\n        \"semantic_type\": \"\",\n        \"description\": \"\"\n      }\n    },\n    {\n      \"column\": \"RCMM_CNT\",\n      \"properties\": {\n        \"dtype\": \"number\",\n        \"std\": 23,\n        \"min\": 0,\n        \"max\": 72,\n        \"num_unique_values\": 10,\n        \"samples\": [\n          18,\n          30,\n          0\n        ],\n        \"semantic_type\": \"\",\n        \"description\": \"\"\n      }\n    },\n    {\n      \"column\": \"SRAP_CNT\",\n      \"properties\": {\n        \"dtype\": \"number\",\n        \"std\": 590,\n        \"min\": 394,\n        \"max\": 2088,\n        \"num_unique_values\": 10,\n        \"samples\": [\n          524,\n          2088,\n          1440\n        ],\n        \"semantic_type\": \"\",\n        \"description\": \"\"\n      }\n    },\n    {\n      \"column\": \"CKG_MTRL_CN\",\n      \"properties\": {\n        \"dtype\": \"string\",\n        \"num_unique_values\": 10,\n        \"samples\": [\n          \"[\\uc7ac\\ub8cc] \\ud6c8\\uc81c\\uc5f0\\uc5b4 180g| \\uc591\\uc0c1\\ucd94| \\uce58\\ucee4\\ub9ac| \\uc591\\ud30c| \\ubc29\\uc6b8\\ud1a0\\ub9c8\\ud1a0| \\ube14\\ub799\\uc62c\\ub9ac\\ube0c| \\ud06c\\ub8e8\\ud1b5 [\\uc591\\ub150] \\ubc1c\\uc0ac\\ubbf9\\uae00\\ub808\\uc774\\uc988| \\ud0c0\\ub974\\ud0c0\\ub974\\uc18c\\uc2a4\",\n          \"[\\uc7ac\\ub8cc] \\ud6c8\\uc81c\\uc5f0\\uc5b4 \\uc2ac\\ub77c\\uc774\\uc2a4 1\\ud329| \\ud06c\\ub798\\ubbf8 8\\uac1c| \\uc591\\ud30c 1\\uac1c| \\uc591\\uc0c1\\ucd94 1/2\\ud1b5 [\\uc591\\ub150] \\uc18c\\uae08| \\uc2dd\\ucd08| \\ub9c8\\uc694\\ub124\\uc988 1T| \\ud50c\\ub808\\uc778\\uc694\\uad6c\\ub974\\ud2b8 1T| \\ub808\\ubaac\\uc999\",\n          \"[\\uc7ac\\ub8cc] \\uc88b\\uc544\\ud558\\ub294\\uc57c\\ucc44| \\uc5f0\\uc5b4 [\\ub808\\ubaac\\uc694\\uac70\\ud2b8\\uc18c\\uc2a4] \\ub808\\ubaac\\uccad 3t| \\ub9c8\\uc694\\ub124\\uc988 6| \\uc694\\uac70\\ud2b8 3| \\uc591\\ud30c 1/4\"\n        ],\n        \"semantic_type\": \"\",\n        \"description\": \"\"\n      }\n    },\n    {\n      \"column\": \"CKG_INBUN_NM\",\n      \"properties\": {\n        \"dtype\": \"category\",\n        \"num_unique_values\": 3,\n        \"samples\": [\n          \"1\\uc778\\ubd84\",\n          \"4\\uc778\\ubd84\",\n          \"2\\uc778\\ubd84\"\n        ],\n        \"semantic_type\": \"\",\n        \"description\": \"\"\n      }\n    },\n    {\n      \"column\": \"CKG_TIME_NM\",\n      \"properties\": {\n        \"dtype\": \"category\",\n        \"num_unique_values\": 3,\n        \"samples\": [\n          \"10\\ubd84\\uc774\\ub0b4\",\n          \"60\\ubd84\\uc774\\ub0b4\",\n          \"30\\ubd84\\uc774\\ub0b4\"\n        ],\n        \"semantic_type\": \"\",\n        \"description\": \"\"\n      }\n    },\n    {\n      \"column\": \"SCORE\",\n      \"properties\": {\n        \"dtype\": \"number\",\n        \"std\": 0.527583946508399,\n        \"min\": 0.6945066941322008,\n        \"max\": 2.301984855008705,\n        \"num_unique_values\": 10,\n        \"samples\": [\n          0.7716441527755632,\n          1.7676036342986938,\n          1.0851425640681354\n        ],\n        \"semantic_type\": \"\",\n        \"description\": \"\"\n      }\n    }\n  ]\n}",
       "type": "dataframe"
      },
      "text/html": [
       "\n",
       "  <div id=\"df-d20552d3-2fa4-4e12-a545-48a114fccba2\" class=\"colab-df-container\">\n",
       "    <div>\n",
       "<style scoped>\n",
       "    .dataframe tbody tr th:only-of-type {\n",
       "        vertical-align: middle;\n",
       "    }\n",
       "\n",
       "    .dataframe tbody tr th {\n",
       "        vertical-align: top;\n",
       "    }\n",
       "\n",
       "    .dataframe thead th {\n",
       "        text-align: right;\n",
       "    }\n",
       "</style>\n",
       "<table border=\"1\" class=\"dataframe\">\n",
       "  <thead>\n",
       "    <tr style=\"text-align: right;\">\n",
       "      <th></th>\n",
       "      <th>RCP_SNO</th>\n",
       "      <th>CKG_NM</th>\n",
       "      <th>INQ_CNT</th>\n",
       "      <th>RCMM_CNT</th>\n",
       "      <th>SRAP_CNT</th>\n",
       "      <th>CKG_MTRL_CN</th>\n",
       "      <th>CKG_INBUN_NM</th>\n",
       "      <th>CKG_TIME_NM</th>\n",
       "      <th>SCORE</th>\n",
       "    </tr>\n",
       "  </thead>\n",
       "  <tbody>\n",
       "    <tr>\n",
       "      <th>31025</th>\n",
       "      <td>6834136</td>\n",
       "      <td>연어샐러드</td>\n",
       "      <td>91233</td>\n",
       "      <td>72</td>\n",
       "      <td>1827</td>\n",
       "      <td>[재료] 훈제연어 적당량| 양파 1/2개| 양상추 1줌| 케이퍼 [양념] 홀스래디쉬...</td>\n",
       "      <td>1인분</td>\n",
       "      <td>10분이내</td>\n",
       "      <td>2.301985</td>\n",
       "    </tr>\n",
       "    <tr>\n",
       "      <th>36040</th>\n",
       "      <td>6840533</td>\n",
       "      <td>양상추연어샐러드</td>\n",
       "      <td>74984</td>\n",
       "      <td>30</td>\n",
       "      <td>2088</td>\n",
       "      <td>[재료] 훈제연어 슬라이스 1팩| 크래미 8개| 양파 1개| 양상추 1/2통 [양념...</td>\n",
       "      <td>4인분</td>\n",
       "      <td>60분이내</td>\n",
       "      <td>1.767604</td>\n",
       "    </tr>\n",
       "    <tr>\n",
       "      <th>58975</th>\n",
       "      <td>6871972</td>\n",
       "      <td>훈제연어샐러드</td>\n",
       "      <td>73536</td>\n",
       "      <td>65</td>\n",
       "      <td>854</td>\n",
       "      <td>[필수재료] 훈제연어 1팩| 양상추 1/4개| 어린잎채소 1줌 [소스재료] 마요네즈...</td>\n",
       "      <td>4인분</td>\n",
       "      <td>10분이내</td>\n",
       "      <td>1.655942</td>\n",
       "    </tr>\n",
       "    <tr>\n",
       "      <th>16027</th>\n",
       "      <td>4750135</td>\n",
       "      <td>연어샐러드</td>\n",
       "      <td>213668</td>\n",
       "      <td>10</td>\n",
       "      <td>947</td>\n",
       "      <td>[재료] 냉장연어| 샐러드채소| 방울토마토 [양념] 마요네즈 5큰술| 머스타드 1작...</td>\n",
       "      <td>2인분</td>\n",
       "      <td>10분이내</td>\n",
       "      <td>1.592433</td>\n",
       "    </tr>\n",
       "    <tr>\n",
       "      <th>15896</th>\n",
       "      <td>4709629</td>\n",
       "      <td>훈제연어야채샐러드</td>\n",
       "      <td>82860</td>\n",
       "      <td>17</td>\n",
       "      <td>1678</td>\n",
       "      <td>[재료] 훈제연어 슬라이스 12장| 양상추 2~3잎| 베이비채소 적당량| 양파 1/...</td>\n",
       "      <td>2인분</td>\n",
       "      <td>60분이내</td>\n",
       "      <td>1.427549</td>\n",
       "    </tr>\n",
       "    <tr>\n",
       "      <th>81513</th>\n",
       "      <td>6899785</td>\n",
       "      <td>연어샐러드</td>\n",
       "      <td>84503</td>\n",
       "      <td>0</td>\n",
       "      <td>1440</td>\n",
       "      <td>[재료] 좋아하는야채| 연어 [레몬요거트소스] 레몬청 3t| 마요네즈 6| 요거트 ...</td>\n",
       "      <td>1인분</td>\n",
       "      <td>10분이내</td>\n",
       "      <td>1.085143</td>\n",
       "    </tr>\n",
       "    <tr>\n",
       "      <th>34733</th>\n",
       "      <td>6838575</td>\n",
       "      <td>연어샐러드</td>\n",
       "      <td>34798</td>\n",
       "      <td>35</td>\n",
       "      <td>588</td>\n",
       "      <td>[재료] 훈제연어 2팩| 샐러드야채 1/2팩| 파프리카 1/2개| 오리엔탈드레싱| 케이퍼</td>\n",
       "      <td>2인분</td>\n",
       "      <td>10분이내</td>\n",
       "      <td>0.930580</td>\n",
       "    </tr>\n",
       "    <tr>\n",
       "      <th>14398</th>\n",
       "      <td>4354519</td>\n",
       "      <td>훈제연어샐러드</td>\n",
       "      <td>58237</td>\n",
       "      <td>6</td>\n",
       "      <td>979</td>\n",
       "      <td>[재료] 겨자잎 3장| 적치커리 3장| 로메인 3장| 양상추 3장| 당근 1/4| ...</td>\n",
       "      <td>1인분</td>\n",
       "      <td>10분이내</td>\n",
       "      <td>0.824761</td>\n",
       "    </tr>\n",
       "    <tr>\n",
       "      <th>20603</th>\n",
       "      <td>6304708</td>\n",
       "      <td>훈제연어샐러드</td>\n",
       "      <td>57837</td>\n",
       "      <td>18</td>\n",
       "      <td>524</td>\n",
       "      <td>[재료] 훈제연어 180g| 양상추| 치커리| 양파| 방울토마토| 블랙올리브| 크루...</td>\n",
       "      <td>2인분</td>\n",
       "      <td>30분이내</td>\n",
       "      <td>0.771644</td>\n",
       "    </tr>\n",
       "    <tr>\n",
       "      <th>34603</th>\n",
       "      <td>6838424</td>\n",
       "      <td>연어샐러드</td>\n",
       "      <td>33885</td>\n",
       "      <td>25</td>\n",
       "      <td>394</td>\n",
       "      <td>[재료] 동원연어콜드스모크 로즈마리앤 페퍼(140g) 2팩| 양상추 잎 4-5장| ...</td>\n",
       "      <td>2인분</td>\n",
       "      <td>30분이내</td>\n",
       "      <td>0.694507</td>\n",
       "    </tr>\n",
       "  </tbody>\n",
       "</table>\n",
       "</div>\n",
       "    <div class=\"colab-df-buttons\">\n",
       "\n",
       "  <div class=\"colab-df-container\">\n",
       "    <button class=\"colab-df-convert\" onclick=\"convertToInteractive('df-d20552d3-2fa4-4e12-a545-48a114fccba2')\"\n",
       "            title=\"Convert this dataframe to an interactive table.\"\n",
       "            style=\"display:none;\">\n",
       "\n",
       "  <svg xmlns=\"http://www.w3.org/2000/svg\" height=\"24px\" viewBox=\"0 -960 960 960\">\n",
       "    <path d=\"M120-120v-720h720v720H120Zm60-500h600v-160H180v160Zm220 220h160v-160H400v160Zm0 220h160v-160H400v160ZM180-400h160v-160H180v160Zm440 0h160v-160H620v160ZM180-180h160v-160H180v160Zm440 0h160v-160H620v160Z\"/>\n",
       "  </svg>\n",
       "    </button>\n",
       "\n",
       "  <style>\n",
       "    .colab-df-container {\n",
       "      display:flex;\n",
       "      gap: 12px;\n",
       "    }\n",
       "\n",
       "    .colab-df-convert {\n",
       "      background-color: #E8F0FE;\n",
       "      border: none;\n",
       "      border-radius: 50%;\n",
       "      cursor: pointer;\n",
       "      display: none;\n",
       "      fill: #1967D2;\n",
       "      height: 32px;\n",
       "      padding: 0 0 0 0;\n",
       "      width: 32px;\n",
       "    }\n",
       "\n",
       "    .colab-df-convert:hover {\n",
       "      background-color: #E2EBFA;\n",
       "      box-shadow: 0px 1px 2px rgba(60, 64, 67, 0.3), 0px 1px 3px 1px rgba(60, 64, 67, 0.15);\n",
       "      fill: #174EA6;\n",
       "    }\n",
       "\n",
       "    .colab-df-buttons div {\n",
       "      margin-bottom: 4px;\n",
       "    }\n",
       "\n",
       "    [theme=dark] .colab-df-convert {\n",
       "      background-color: #3B4455;\n",
       "      fill: #D2E3FC;\n",
       "    }\n",
       "\n",
       "    [theme=dark] .colab-df-convert:hover {\n",
       "      background-color: #434B5C;\n",
       "      box-shadow: 0px 1px 3px 1px rgba(0, 0, 0, 0.15);\n",
       "      filter: drop-shadow(0px 1px 2px rgba(0, 0, 0, 0.3));\n",
       "      fill: #FFFFFF;\n",
       "    }\n",
       "  </style>\n",
       "\n",
       "    <script>\n",
       "      const buttonEl =\n",
       "        document.querySelector('#df-d20552d3-2fa4-4e12-a545-48a114fccba2 button.colab-df-convert');\n",
       "      buttonEl.style.display =\n",
       "        google.colab.kernel.accessAllowed ? 'block' : 'none';\n",
       "\n",
       "      async function convertToInteractive(key) {\n",
       "        const element = document.querySelector('#df-d20552d3-2fa4-4e12-a545-48a114fccba2');\n",
       "        const dataTable =\n",
       "          await google.colab.kernel.invokeFunction('convertToInteractive',\n",
       "                                                    [key], {});\n",
       "        if (!dataTable) return;\n",
       "\n",
       "        const docLinkHtml = 'Like what you see? Visit the ' +\n",
       "          '<a target=\"_blank\" href=https://colab.research.google.com/notebooks/data_table.ipynb>data table notebook</a>'\n",
       "          + ' to learn more about interactive tables.';\n",
       "        element.innerHTML = '';\n",
       "        dataTable['output_type'] = 'display_data';\n",
       "        await google.colab.output.renderOutput(dataTable, element);\n",
       "        const docLink = document.createElement('div');\n",
       "        docLink.innerHTML = docLinkHtml;\n",
       "        element.appendChild(docLink);\n",
       "      }\n",
       "    </script>\n",
       "  </div>\n",
       "\n",
       "\n",
       "<div id=\"df-eabd1a56-16a8-48a0-99f0-d3a9fd2e21b6\">\n",
       "  <button class=\"colab-df-quickchart\" onclick=\"quickchart('df-eabd1a56-16a8-48a0-99f0-d3a9fd2e21b6')\"\n",
       "            title=\"Suggest charts\"\n",
       "            style=\"display:none;\">\n",
       "\n",
       "<svg xmlns=\"http://www.w3.org/2000/svg\" height=\"24px\"viewBox=\"0 0 24 24\"\n",
       "     width=\"24px\">\n",
       "    <g>\n",
       "        <path d=\"M19 3H5c-1.1 0-2 .9-2 2v14c0 1.1.9 2 2 2h14c1.1 0 2-.9 2-2V5c0-1.1-.9-2-2-2zM9 17H7v-7h2v7zm4 0h-2V7h2v10zm4 0h-2v-4h2v4z\"/>\n",
       "    </g>\n",
       "</svg>\n",
       "  </button>\n",
       "\n",
       "<style>\n",
       "  .colab-df-quickchart {\n",
       "      --bg-color: #E8F0FE;\n",
       "      --fill-color: #1967D2;\n",
       "      --hover-bg-color: #E2EBFA;\n",
       "      --hover-fill-color: #174EA6;\n",
       "      --disabled-fill-color: #AAA;\n",
       "      --disabled-bg-color: #DDD;\n",
       "  }\n",
       "\n",
       "  [theme=dark] .colab-df-quickchart {\n",
       "      --bg-color: #3B4455;\n",
       "      --fill-color: #D2E3FC;\n",
       "      --hover-bg-color: #434B5C;\n",
       "      --hover-fill-color: #FFFFFF;\n",
       "      --disabled-bg-color: #3B4455;\n",
       "      --disabled-fill-color: #666;\n",
       "  }\n",
       "\n",
       "  .colab-df-quickchart {\n",
       "    background-color: var(--bg-color);\n",
       "    border: none;\n",
       "    border-radius: 50%;\n",
       "    cursor: pointer;\n",
       "    display: none;\n",
       "    fill: var(--fill-color);\n",
       "    height: 32px;\n",
       "    padding: 0;\n",
       "    width: 32px;\n",
       "  }\n",
       "\n",
       "  .colab-df-quickchart:hover {\n",
       "    background-color: var(--hover-bg-color);\n",
       "    box-shadow: 0 1px 2px rgba(60, 64, 67, 0.3), 0 1px 3px 1px rgba(60, 64, 67, 0.15);\n",
       "    fill: var(--button-hover-fill-color);\n",
       "  }\n",
       "\n",
       "  .colab-df-quickchart-complete:disabled,\n",
       "  .colab-df-quickchart-complete:disabled:hover {\n",
       "    background-color: var(--disabled-bg-color);\n",
       "    fill: var(--disabled-fill-color);\n",
       "    box-shadow: none;\n",
       "  }\n",
       "\n",
       "  .colab-df-spinner {\n",
       "    border: 2px solid var(--fill-color);\n",
       "    border-color: transparent;\n",
       "    border-bottom-color: var(--fill-color);\n",
       "    animation:\n",
       "      spin 1s steps(1) infinite;\n",
       "  }\n",
       "\n",
       "  @keyframes spin {\n",
       "    0% {\n",
       "      border-color: transparent;\n",
       "      border-bottom-color: var(--fill-color);\n",
       "      border-left-color: var(--fill-color);\n",
       "    }\n",
       "    20% {\n",
       "      border-color: transparent;\n",
       "      border-left-color: var(--fill-color);\n",
       "      border-top-color: var(--fill-color);\n",
       "    }\n",
       "    30% {\n",
       "      border-color: transparent;\n",
       "      border-left-color: var(--fill-color);\n",
       "      border-top-color: var(--fill-color);\n",
       "      border-right-color: var(--fill-color);\n",
       "    }\n",
       "    40% {\n",
       "      border-color: transparent;\n",
       "      border-right-color: var(--fill-color);\n",
       "      border-top-color: var(--fill-color);\n",
       "    }\n",
       "    60% {\n",
       "      border-color: transparent;\n",
       "      border-right-color: var(--fill-color);\n",
       "    }\n",
       "    80% {\n",
       "      border-color: transparent;\n",
       "      border-right-color: var(--fill-color);\n",
       "      border-bottom-color: var(--fill-color);\n",
       "    }\n",
       "    90% {\n",
       "      border-color: transparent;\n",
       "      border-bottom-color: var(--fill-color);\n",
       "    }\n",
       "  }\n",
       "</style>\n",
       "\n",
       "  <script>\n",
       "    async function quickchart(key) {\n",
       "      const quickchartButtonEl =\n",
       "        document.querySelector('#' + key + ' button');\n",
       "      quickchartButtonEl.disabled = true;  // To prevent multiple clicks.\n",
       "      quickchartButtonEl.classList.add('colab-df-spinner');\n",
       "      try {\n",
       "        const charts = await google.colab.kernel.invokeFunction(\n",
       "            'suggestCharts', [key], {});\n",
       "      } catch (error) {\n",
       "        console.error('Error during call to suggestCharts:', error);\n",
       "      }\n",
       "      quickchartButtonEl.classList.remove('colab-df-spinner');\n",
       "      quickchartButtonEl.classList.add('colab-df-quickchart-complete');\n",
       "    }\n",
       "    (() => {\n",
       "      let quickchartButtonEl =\n",
       "        document.querySelector('#df-eabd1a56-16a8-48a0-99f0-d3a9fd2e21b6 button');\n",
       "      quickchartButtonEl.style.display =\n",
       "        google.colab.kernel.accessAllowed ? 'block' : 'none';\n",
       "    })();\n",
       "  </script>\n",
       "</div>\n",
       "\n",
       "    </div>\n",
       "  </div>\n"
      ],
      "text/plain": [
       "       RCP_SNO     CKG_NM  INQ_CNT  RCMM_CNT  SRAP_CNT  \\\n",
       "31025  6834136      연어샐러드    91233        72      1827   \n",
       "36040  6840533   양상추연어샐러드    74984        30      2088   \n",
       "58975  6871972    훈제연어샐러드    73536        65       854   \n",
       "16027  4750135      연어샐러드   213668        10       947   \n",
       "15896  4709629  훈제연어야채샐러드    82860        17      1678   \n",
       "81513  6899785      연어샐러드    84503         0      1440   \n",
       "34733  6838575      연어샐러드    34798        35       588   \n",
       "14398  4354519    훈제연어샐러드    58237         6       979   \n",
       "20603  6304708    훈제연어샐러드    57837        18       524   \n",
       "34603  6838424      연어샐러드    33885        25       394   \n",
       "\n",
       "                                             CKG_MTRL_CN CKG_INBUN_NM  \\\n",
       "31025  [재료] 훈제연어 적당량| 양파 1/2개| 양상추 1줌| 케이퍼 [양념] 홀스래디쉬...          1인분   \n",
       "36040  [재료] 훈제연어 슬라이스 1팩| 크래미 8개| 양파 1개| 양상추 1/2통 [양념...          4인분   \n",
       "58975  [필수재료] 훈제연어 1팩| 양상추 1/4개| 어린잎채소 1줌 [소스재료] 마요네즈...          4인분   \n",
       "16027  [재료] 냉장연어| 샐러드채소| 방울토마토 [양념] 마요네즈 5큰술| 머스타드 1작...          2인분   \n",
       "15896  [재료] 훈제연어 슬라이스 12장| 양상추 2~3잎| 베이비채소 적당량| 양파 1/...          2인분   \n",
       "81513  [재료] 좋아하는야채| 연어 [레몬요거트소스] 레몬청 3t| 마요네즈 6| 요거트 ...          1인분   \n",
       "34733  [재료] 훈제연어 2팩| 샐러드야채 1/2팩| 파프리카 1/2개| 오리엔탈드레싱| 케이퍼          2인분   \n",
       "14398  [재료] 겨자잎 3장| 적치커리 3장| 로메인 3장| 양상추 3장| 당근 1/4| ...          1인분   \n",
       "20603  [재료] 훈제연어 180g| 양상추| 치커리| 양파| 방울토마토| 블랙올리브| 크루...          2인분   \n",
       "34603  [재료] 동원연어콜드스모크 로즈마리앤 페퍼(140g) 2팩| 양상추 잎 4-5장| ...          2인분   \n",
       "\n",
       "      CKG_TIME_NM     SCORE  \n",
       "31025       10분이내  2.301985  \n",
       "36040       60분이내  1.767604  \n",
       "58975       10분이내  1.655942  \n",
       "16027       10분이내  1.592433  \n",
       "15896       60분이내  1.427549  \n",
       "81513       10분이내  1.085143  \n",
       "34733       10분이내  0.930580  \n",
       "14398       10분이내  0.824761  \n",
       "20603       30분이내  0.771644  \n",
       "34603       30분이내  0.694507  "
      ]
     },
     "execution_count": 156,
     "metadata": {},
     "output_type": "execute_result"
    }
   ],
   "source": [
    "target.sort_values('SCORE', ascending=False).head(10)"
   ]
  },
  {
   "cell_type": "markdown",
   "metadata": {
    "id": "Pj1uRighdveh"
   },
   "source": [
    "### Score 1등 요리의 재료 데이터 추출"
   ]
  },
  {
   "cell_type": "code",
   "execution_count": 157,
   "metadata": {
    "colab": {
     "base_uri": "https://localhost:8080/"
    },
    "executionInfo": {
     "elapsed": 43,
     "status": "ok",
     "timestamp": 1745325102299,
     "user": {
      "displayName": "김동영",
      "userId": "02998294583473138517"
     },
     "user_tz": -540
    },
    "id": "XFnHs2doOPkJ",
    "outputId": "e8485a2b-b3c7-4a46-9076-9692ecec08bb"
   },
   "outputs": [
    {
     "name": "stdout",
     "output_type": "stream",
     "text": [
      "[재료] 양상추| 돈나물| 계란 5개| 훈제연어 1팩 [양념] 소금 0.3작은술| 아일랜드 드레싱 1팩\n"
     ]
    }
   ],
   "source": [
    "print(target['CKG_MTRL_CN'].iloc[0])"
   ]
  },
  {
   "cell_type": "code",
   "execution_count": null,
   "metadata": {
    "id": "v5Yf_nlgYlxd"
   },
   "outputs": [],
   "source": []
  }
 ],
 "metadata": {
  "colab": {
   "authorship_tag": "ABX9TyOWtRyy/gnruVbyyQ49qkxx",
   "collapsed_sections": [
    "nRRykCcM0M_L",
    "E1Y7RmJ80X8E",
    "5_Kv6_VJ0nIu",
    "7lPVmZwc1Kg0",
    "j0QSuQFD1RgE",
    "mqu8FYm01ecN"
   ],
   "mount_file_id": "11JIPtFz5QFShyjVI5YTyRjuT7Bzcb8dt",
   "provenance": [],
   "toc_visible": true
  },
  "kernelspec": {
   "display_name": "dev",
   "language": "python",
   "name": "python3"
  },
  "language_info": {
   "codemirror_mode": {
    "name": "ipython",
    "version": 3
   },
   "file_extension": ".py",
   "mimetype": "text/x-python",
   "name": "python",
   "nbconvert_exporter": "python",
   "pygments_lexer": "ipython3",
   "version": "3.11.11"
  },
  "widgets": {
   "application/vnd.jupyter.widget-state+json": {
    "95fb1cd2b62240b698e85bb9be6e00d0": {
     "model_module": "@jupyter-widgets/controls",
     "model_module_version": "1.5.0",
     "model_name": "ProgressStyleModel",
     "state": {
      "_model_module": "@jupyter-widgets/controls",
      "_model_module_version": "1.5.0",
      "_model_name": "ProgressStyleModel",
      "_view_count": null,
      "_view_module": "@jupyter-widgets/base",
      "_view_module_version": "1.2.0",
      "_view_name": "StyleView",
      "bar_color": "black",
      "description_width": ""
     }
    },
    "b81af4045c6f4cf9b9558811adbd1e91": {
     "model_module": "@jupyter-widgets/base",
     "model_module_version": "1.2.0",
     "model_name": "LayoutModel",
     "state": {
      "_model_module": "@jupyter-widgets/base",
      "_model_module_version": "1.2.0",
      "_model_name": "LayoutModel",
      "_view_count": null,
      "_view_module": "@jupyter-widgets/base",
      "_view_module_version": "1.2.0",
      "_view_name": "LayoutView",
      "align_content": null,
      "align_items": null,
      "align_self": null,
      "border": null,
      "bottom": null,
      "display": null,
      "flex": null,
      "flex_flow": null,
      "grid_area": null,
      "grid_auto_columns": null,
      "grid_auto_flow": null,
      "grid_auto_rows": null,
      "grid_column": null,
      "grid_gap": null,
      "grid_row": null,
      "grid_template_areas": null,
      "grid_template_columns": null,
      "grid_template_rows": null,
      "height": null,
      "justify_content": null,
      "justify_items": null,
      "left": null,
      "margin": null,
      "max_height": null,
      "max_width": null,
      "min_height": null,
      "min_width": null,
      "object_fit": null,
      "object_position": null,
      "order": null,
      "overflow": null,
      "overflow_x": null,
      "overflow_y": null,
      "padding": null,
      "right": null,
      "top": null,
      "visibility": null,
      "width": "auto"
     }
    },
    "ccb5793058d84163afbce6cff3193c19": {
     "model_module": "@jupyter-widgets/controls",
     "model_module_version": "1.5.0",
     "model_name": "FloatProgressModel",
     "state": {
      "_dom_classes": [],
      "_model_module": "@jupyter-widgets/controls",
      "_model_module_version": "1.5.0",
      "_model_name": "FloatProgressModel",
      "_view_count": null,
      "_view_module": "@jupyter-widgets/controls",
      "_view_module_version": "1.5.0",
      "_view_name": "ProgressView",
      "bar_style": "",
      "description": "",
      "description_tooltip": null,
      "layout": "IPY_MODEL_b81af4045c6f4cf9b9558811adbd1e91",
      "max": 100,
      "min": 0,
      "orientation": "horizontal",
      "style": "IPY_MODEL_95fb1cd2b62240b698e85bb9be6e00d0",
      "value": 99
     }
    }
   }
  }
 },
 "nbformat": 4,
 "nbformat_minor": 0
}
