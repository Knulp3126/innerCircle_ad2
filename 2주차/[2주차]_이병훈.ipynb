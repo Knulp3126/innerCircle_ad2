{
 "cells": [
  {
   "cell_type": "markdown",
   "metadata": {},
   "source": [
    "# W2. KADX 가격 데이터 분석"
   ]
  },
  {
   "cell_type": "code",
   "execution_count": 2,
   "metadata": {},
   "outputs": [],
   "source": [
    "import os\n",
    "import pandas as pd\n",
    "import duckdb\n",
    "import matplotlib.pyplot as plt\n",
    "import numpy as np\n",
    "import seaborn as sns"
   ]
  },
  {
   "cell_type": "code",
   "execution_count": null,
   "metadata": {},
   "outputs": [],
   "source": [
    "# DuckDB\n",
    "# SQLite\n",
    "# + Naver or other APIs"
   ]
  },
  {
   "cell_type": "markdown",
   "metadata": {},
   "source": [
    "## [0] 매출데이터"
   ]
  },
  {
   "cell_type": "markdown",
   "metadata": {},
   "source": [
    "### 1. 장보고"
   ]
  },
  {
   "cell_type": "code",
   "execution_count": null,
   "metadata": {},
   "outputs": [],
   "source": [
    "# (1) 장보고\n",
    "\n",
    "##  - CFMTN_YMD : 확정일자\n",
    "##  - FDMT_PDLT_LGLS_CODE : 식자재품목대분류코드\n",
    "##  - FDMT_PDLT_LGLS_NM : 식자재품목대분류명\n",
    "##  - FDMT_PDLT_MDCL_CODE : 식자재품목중분류코드\n",
    "##  - FDMT_PDLT_MDCL_NM : 식자재품목중분류명\n",
    "##  - FDMT_PDLT_SMCS_CODE : 식자재품목소분류코드\n",
    "##  - FDMT_PDLT_SMCS_NM : 식자재품목소분류명\n",
    "##  - FDMT_PDLT_CODE : 식자재품목코드\n",
    "##  - FDMT_PDLT_NM : 식자재품목명\n",
    "##  - BRCD_INFO : 바코드정보\n",
    "##  - TOT_SLE_QYT : 총판매수량"
   ]
  },
  {
   "cell_type": "code",
   "execution_count": 7,
   "metadata": {},
   "outputs": [
    {
     "name": "stdout",
     "output_type": "stream",
     "text": [
      "\n",
      "=== 상위 10개 카테고리 ===\n"
     ]
    },
    {
     "data": {
      "text/html": [
       "<div>\n",
       "<style scoped>\n",
       "    .dataframe tbody tr th:only-of-type {\n",
       "        vertical-align: middle;\n",
       "    }\n",
       "\n",
       "    .dataframe tbody tr th {\n",
       "        vertical-align: top;\n",
       "    }\n",
       "\n",
       "    .dataframe thead th {\n",
       "        text-align: right;\n",
       "    }\n",
       "</style>\n",
       "<table border=\"1\" class=\"dataframe\">\n",
       "  <thead>\n",
       "    <tr style=\"text-align: right;\">\n",
       "      <th></th>\n",
       "      <th>CFMTN_YMD</th>\n",
       "      <th>FDMT_PDLT_LGLS_CODE</th>\n",
       "      <th>FDMT_PDLT_LGLS_NM</th>\n",
       "      <th>FDMT_PDLT_MDCL_CODE</th>\n",
       "      <th>FDMT_PDLT_MDCL_NM</th>\n",
       "      <th>FDMT_PDLT_SMCS_CODE</th>\n",
       "      <th>FDMT_PDLT_SMCS_NM</th>\n",
       "      <th>FDMT_PDLT_CODE</th>\n",
       "      <th>FDMT_PDLT_NM</th>\n",
       "      <th>BRCD_INFO</th>\n",
       "      <th>TOT_SLE_QYT</th>\n",
       "    </tr>\n",
       "  </thead>\n",
       "  <tbody>\n",
       "    <tr>\n",
       "      <th>0</th>\n",
       "      <td>20151118</td>\n",
       "      <td>1005.0</td>\n",
       "      <td>축산물</td>\n",
       "      <td>5579.0</td>\n",
       "      <td>수입 우육</td>\n",
       "      <td>5591.0</td>\n",
       "      <td>전각(불고기)/호주산</td>\n",
       "      <td>8254</td>\n",
       "      <td>우전각(불고기) /호주산</td>\n",
       "      <td>2982540000000</td>\n",
       "      <td>1.0</td>\n",
       "    </tr>\n",
       "    <tr>\n",
       "      <th>1</th>\n",
       "      <td>20160728</td>\n",
       "      <td>1001.0</td>\n",
       "      <td>가공상품</td>\n",
       "      <td>2039.0</td>\n",
       "      <td>냉동식품</td>\n",
       "      <td>5390.0</td>\n",
       "      <td>까스류</td>\n",
       "      <td>27295</td>\n",
       "      <td>미니돈까스 1KG/동원</td>\n",
       "      <td>8801047321576</td>\n",
       "      <td>1.0</td>\n",
       "    </tr>\n",
       "    <tr>\n",
       "      <th>2</th>\n",
       "      <td>20160728</td>\n",
       "      <td>0.0</td>\n",
       "      <td>None</td>\n",
       "      <td>0.0</td>\n",
       "      <td>None</td>\n",
       "      <td>0.0</td>\n",
       "      <td>None</td>\n",
       "      <td>8801047321576</td>\n",
       "      <td>미니돈까스1kg/동원</td>\n",
       "      <td>8801047321576</td>\n",
       "      <td>1.0</td>\n",
       "    </tr>\n",
       "    <tr>\n",
       "      <th>3</th>\n",
       "      <td>20160728</td>\n",
       "      <td>0.0</td>\n",
       "      <td>None</td>\n",
       "      <td>0.0</td>\n",
       "      <td>None</td>\n",
       "      <td>0.0</td>\n",
       "      <td>None</td>\n",
       "      <td>2982540000000</td>\n",
       "      <td>수입우육전각/불고기(호주산)</td>\n",
       "      <td>2982540000000</td>\n",
       "      <td>1.0</td>\n",
       "    </tr>\n",
       "    <tr>\n",
       "      <th>4</th>\n",
       "      <td>20160728</td>\n",
       "      <td>1005.0</td>\n",
       "      <td>축산물</td>\n",
       "      <td>5579.0</td>\n",
       "      <td>수입 우육</td>\n",
       "      <td>5591.0</td>\n",
       "      <td>전각(불고기)/호주산</td>\n",
       "      <td>8254</td>\n",
       "      <td>우전각(불고기) /호주산</td>\n",
       "      <td>2982540000000</td>\n",
       "      <td>1.0</td>\n",
       "    </tr>\n",
       "  </tbody>\n",
       "</table>\n",
       "</div>"
      ],
      "text/plain": [
       "   CFMTN_YMD  FDMT_PDLT_LGLS_CODE FDMT_PDLT_LGLS_NM  FDMT_PDLT_MDCL_CODE  \\\n",
       "0   20151118               1005.0               축산물               5579.0   \n",
       "1   20160728               1001.0              가공상품               2039.0   \n",
       "2   20160728                  0.0              None                  0.0   \n",
       "3   20160728                  0.0              None                  0.0   \n",
       "4   20160728               1005.0               축산물               5579.0   \n",
       "\n",
       "  FDMT_PDLT_MDCL_NM  FDMT_PDLT_SMCS_CODE FDMT_PDLT_SMCS_NM  FDMT_PDLT_CODE  \\\n",
       "0             수입 우육               5591.0       전각(불고기)/호주산            8254   \n",
       "1              냉동식품               5390.0               까스류           27295   \n",
       "2              None                  0.0              None   8801047321576   \n",
       "3              None                  0.0              None   2982540000000   \n",
       "4             수입 우육               5591.0       전각(불고기)/호주산            8254   \n",
       "\n",
       "      FDMT_PDLT_NM      BRCD_INFO  TOT_SLE_QYT  \n",
       "0    우전각(불고기) /호주산  2982540000000          1.0  \n",
       "1     미니돈까스 1KG/동원  8801047321576          1.0  \n",
       "2      미니돈까스1kg/동원  8801047321576          1.0  \n",
       "3  수입우육전각/불고기(호주산)  2982540000000          1.0  \n",
       "4    우전각(불고기) /호주산  2982540000000          1.0  "
      ]
     },
     "execution_count": 7,
     "metadata": {},
     "output_type": "execute_result"
    }
   ],
   "source": [
    "import duckdb\n",
    "import pandas as pd\n",
    "\n",
    "# DuckDB 연결\n",
    "con = duckdb.connect()\n",
    "\n",
    "\n",
    "query_selected = \"\"\"\n",
    "SELECT \n",
    "    *\n",
    "FROM read_parquet('data/w2/jangbogo/jbg_parquet/TB_CL_MTH_SALES_YMD-F2015T2017-20210105_01n07.parquet')\n",
    "\"\"\"\n",
    "\n",
    "# 쿼리 실행\n",
    "df_selected = con.execute(query_selected).df()\n",
    "# df_filtered = con.execute(query_filtered).df()\n",
    "# df_aggregated = con.execute(query_aggregated).df()\n",
    "\n",
    "print(\"\\n=== 상위 10개 카테고리 ===\")\n",
    "df_selected.head()"
   ]
  },
  {
   "cell_type": "code",
   "execution_count": null,
   "metadata": {},
   "outputs": [],
   "source": [
    "# 특정 컬럼만 선택\n",
    "query_selected = \"\"\"\n",
    "SELECT \n",
    "    CFMTN_YMD,\n",
    "    FDMT_PDLT_LGLS_NM,\n",
    "    FDMT_PDLT_NM,\n",
    "    TOT_SLE_QYT\n",
    "FROM read_parquet('data/w2/jangbogo/jbg_parquet/*.parquet')\n",
    "\"\"\"\n",
    "\n",
    "# 조건을 걸어서 필터링\n",
    "query_filtered = \"\"\"\n",
    "SELECT *\n",
    "FROM read_parquet('data/w2/jangbogo/jbg_parquet/*.parquet')\n",
    "WHERE CFMTN_YMD >= '20230101'\n",
    "\"\"\"\n",
    "\n",
    "# 집계 쿼리\n",
    "query_aggregated = \"\"\"\n",
    "SELECT \n",
    "    FDMT_PDLT_LGLS_NM,\n",
    "    COUNT(*) as product_count,\n",
    "    SUM(TOT_SLE_QYT) as total_sales\n",
    "FROM read_parquet('data/w2/jangbogo/jbg_parquet/*.parquet')\n",
    "GROUP BY FDMT_PDLT_LGLS_NM\n",
    "ORDER BY total_sales DESC\n",
    "LIMIT 10\n",
    "\"\"\"\n",
    "\n",
    "# 쿼리 실행\n",
    "df_selected = con.execute(query_selected).df()\n",
    "df_filtered = con.execute(query_filtered).df()\n",
    "df_aggregated = con.execute(query_aggregated).df()\n",
    "\n",
    "print(\"\\n=== 상위 10개 카테고리 ===\")\n",
    "df_aggregated.head()"
   ]
  },
  {
   "cell_type": "markdown",
   "metadata": {},
   "source": [
    "### 2. 온라인"
   ]
  },
  {
   "cell_type": "code",
   "execution_count": 10,
   "metadata": {},
   "outputs": [],
   "source": [
    "import os\n",
    "import matplotlib.pyplot as plt\n",
    "import pandas as pd\n",
    "import numpy as np\n",
    "\n",
    "plt.rc('font', family='AppleGothic')"
   ]
  },
  {
   "cell_type": "code",
   "execution_count": 11,
   "metadata": {},
   "outputs": [],
   "source": [
    "# 2. 온라인쇼핑몰\n",
    "df_online = pd.read_excel(\"./data/w2/실 구매 영수증 기반 온라인 쇼핑몰 연령별 매출 데이터.xlsx\")"
   ]
  },
  {
   "cell_type": "code",
   "execution_count": 12,
   "metadata": {},
   "outputs": [
    {
     "data": {
      "text/plain": [
       "array(['M202310'], dtype=object)"
      ]
     },
     "execution_count": 12,
     "metadata": {},
     "output_type": "execute_result"
    }
   ],
   "source": [
    "df_online['구매월'].unique()"
   ]
  },
  {
   "cell_type": "code",
   "execution_count": 13,
   "metadata": {},
   "outputs": [
    {
     "data": {
      "text/html": [
       "<div>\n",
       "<style scoped>\n",
       "    .dataframe tbody tr th:only-of-type {\n",
       "        vertical-align: middle;\n",
       "    }\n",
       "\n",
       "    .dataframe tbody tr th {\n",
       "        vertical-align: top;\n",
       "    }\n",
       "\n",
       "    .dataframe thead th {\n",
       "        text-align: right;\n",
       "    }\n",
       "</style>\n",
       "<table border=\"1\" class=\"dataframe\">\n",
       "  <thead>\n",
       "    <tr style=\"text-align: right;\">\n",
       "      <th></th>\n",
       "      <th>테이블순번</th>\n",
       "      <th>채널명</th>\n",
       "      <th>구매연도</th>\n",
       "      <th>구매분기</th>\n",
       "      <th>구매월</th>\n",
       "      <th>구매주차</th>\n",
       "      <th>구매주차일자</th>\n",
       "      <th>구매자연령</th>\n",
       "      <th>대분류</th>\n",
       "      <th>중분류</th>\n",
       "      <th>소분류</th>\n",
       "      <th>세분류</th>\n",
       "      <th>구매상품명</th>\n",
       "      <th>구매수량</th>\n",
       "      <th>구매금액</th>\n",
       "    </tr>\n",
       "  </thead>\n",
       "  <tbody>\n",
       "    <tr>\n",
       "      <th>0</th>\n",
       "      <td>1</td>\n",
       "      <td>온라인쇼핑몰</td>\n",
       "      <td>Y2023</td>\n",
       "      <td>Q202304</td>\n",
       "      <td>M202310</td>\n",
       "      <td>W202340</td>\n",
       "      <td>20231002 ~ 20231008</td>\n",
       "      <td>40대</td>\n",
       "      <td>가공식품</td>\n",
       "      <td>제과</td>\n",
       "      <td>케익/빵</td>\n",
       "      <td>케익/빵</td>\n",
       "      <td>밀크앤허니 바질치즈치아바타샌드위치(780g/195g*4개입)</td>\n",
       "      <td>1</td>\n",
       "      <td>13180</td>\n",
       "    </tr>\n",
       "    <tr>\n",
       "      <th>1</th>\n",
       "      <td>2</td>\n",
       "      <td>온라인쇼핑몰</td>\n",
       "      <td>Y2023</td>\n",
       "      <td>Q202304</td>\n",
       "      <td>M202310</td>\n",
       "      <td>W202340</td>\n",
       "      <td>20231002 ~ 20231008</td>\n",
       "      <td>40대</td>\n",
       "      <td>가공식품</td>\n",
       "      <td>소스/조미류</td>\n",
       "      <td>간장</td>\n",
       "      <td>간장</td>\n",
       "      <td>샘표 양조간장(701)(930ML)</td>\n",
       "      <td>1</td>\n",
       "      <td>6400</td>\n",
       "    </tr>\n",
       "    <tr>\n",
       "      <th>2</th>\n",
       "      <td>3</td>\n",
       "      <td>온라인쇼핑몰</td>\n",
       "      <td>Y2023</td>\n",
       "      <td>Q202304</td>\n",
       "      <td>M202310</td>\n",
       "      <td>W202340</td>\n",
       "      <td>20231002 ~ 20231008</td>\n",
       "      <td>40대</td>\n",
       "      <td>가공식품</td>\n",
       "      <td>제과</td>\n",
       "      <td>초콜릿</td>\n",
       "      <td>초콜릿</td>\n",
       "      <td>허쉬 레귤러바 쿠키앤크림 40g 12개</td>\n",
       "      <td>1</td>\n",
       "      <td>12780</td>\n",
       "    </tr>\n",
       "    <tr>\n",
       "      <th>3</th>\n",
       "      <td>4</td>\n",
       "      <td>온라인쇼핑몰</td>\n",
       "      <td>Y2023</td>\n",
       "      <td>Q202304</td>\n",
       "      <td>M202310</td>\n",
       "      <td>W202340</td>\n",
       "      <td>20231002 ~ 20231008</td>\n",
       "      <td>40대</td>\n",
       "      <td>농산물</td>\n",
       "      <td>곡류</td>\n",
       "      <td>곡류</td>\n",
       "      <td>곡류</td>\n",
       "      <td>미농 임금님 수라쌀 등급 상, 10kg, 1개</td>\n",
       "      <td>1</td>\n",
       "      <td>25900</td>\n",
       "    </tr>\n",
       "    <tr>\n",
       "      <th>4</th>\n",
       "      <td>5</td>\n",
       "      <td>온라인쇼핑몰</td>\n",
       "      <td>Y2023</td>\n",
       "      <td>Q202304</td>\n",
       "      <td>M202310</td>\n",
       "      <td>W202340</td>\n",
       "      <td>20231002 ~ 20231008</td>\n",
       "      <td>40대</td>\n",
       "      <td>농산물</td>\n",
       "      <td>두부/콩나물</td>\n",
       "      <td>두부</td>\n",
       "      <td>두부</td>\n",
       "      <td>곰곰 콩두부, 500g, 8개</td>\n",
       "      <td>1</td>\n",
       "      <td>11830</td>\n",
       "    </tr>\n",
       "  </tbody>\n",
       "</table>\n",
       "</div>"
      ],
      "text/plain": [
       "   테이블순번     채널명   구매연도     구매분기      구매월     구매주차               구매주차일자 구매자연령  \\\n",
       "0      1  온라인쇼핑몰  Y2023  Q202304  M202310  W202340  20231002 ~ 20231008   40대   \n",
       "1      2  온라인쇼핑몰  Y2023  Q202304  M202310  W202340  20231002 ~ 20231008   40대   \n",
       "2      3  온라인쇼핑몰  Y2023  Q202304  M202310  W202340  20231002 ~ 20231008   40대   \n",
       "3      4  온라인쇼핑몰  Y2023  Q202304  M202310  W202340  20231002 ~ 20231008   40대   \n",
       "4      5  온라인쇼핑몰  Y2023  Q202304  M202310  W202340  20231002 ~ 20231008   40대   \n",
       "\n",
       "    대분류     중분류   소분류   세분류                              구매상품명  구매수량   구매금액  \n",
       "0  가공식품      제과  케익/빵  케익/빵  밀크앤허니 바질치즈치아바타샌드위치(780g/195g*4개입)     1  13180  \n",
       "1  가공식품  소스/조미류    간장    간장                샘표 양조간장(701)(930ML)     1   6400  \n",
       "2  가공식품      제과   초콜릿   초콜릿              허쉬 레귤러바 쿠키앤크림 40g 12개     1  12780  \n",
       "3   농산물      곡류    곡류    곡류          미농 임금님 수라쌀 등급 상, 10kg, 1개     1  25900  \n",
       "4   농산물  두부/콩나물    두부    두부                   곰곰 콩두부, 500g, 8개     1  11830  "
      ]
     },
     "execution_count": 13,
     "metadata": {},
     "output_type": "execute_result"
    }
   ],
   "source": [
    "df_online.head()"
   ]
  },
  {
   "cell_type": "code",
   "execution_count": 14,
   "metadata": {},
   "outputs": [],
   "source": [
    "df_online_gr = df_online.groupby(['구매자연령','대분류','소분류']).sum()[['구매수량','구매금액']]"
   ]
  },
  {
   "cell_type": "code",
   "execution_count": 15,
   "metadata": {},
   "outputs": [
    {
     "data": {
      "text/html": [
       "<div>\n",
       "<style scoped>\n",
       "    .dataframe tbody tr th:only-of-type {\n",
       "        vertical-align: middle;\n",
       "    }\n",
       "\n",
       "    .dataframe tbody tr th {\n",
       "        vertical-align: top;\n",
       "    }\n",
       "\n",
       "    .dataframe thead th {\n",
       "        text-align: right;\n",
       "    }\n",
       "</style>\n",
       "<table border=\"1\" class=\"dataframe\">\n",
       "  <thead>\n",
       "    <tr style=\"text-align: right;\">\n",
       "      <th></th>\n",
       "      <th></th>\n",
       "      <th></th>\n",
       "      <th>구매수량</th>\n",
       "      <th>구매금액</th>\n",
       "    </tr>\n",
       "    <tr>\n",
       "      <th>구매자연령</th>\n",
       "      <th>대분류</th>\n",
       "      <th>소분류</th>\n",
       "      <th></th>\n",
       "      <th></th>\n",
       "    </tr>\n",
       "  </thead>\n",
       "  <tbody>\n",
       "    <tr>\n",
       "      <th>40대</th>\n",
       "      <th>가공식품</th>\n",
       "      <th>건강기능식품</th>\n",
       "      <td>413</td>\n",
       "      <td>12851087</td>\n",
       "    </tr>\n",
       "    <tr>\n",
       "      <th>30대 이하</th>\n",
       "      <th>가공식품</th>\n",
       "      <th>건강기능식품</th>\n",
       "      <td>382</td>\n",
       "      <td>9562165</td>\n",
       "    </tr>\n",
       "    <tr>\n",
       "      <th rowspan=\"2\" valign=\"top\">40대</th>\n",
       "      <th rowspan=\"2\" valign=\"top\">농산물</th>\n",
       "      <th>과일</th>\n",
       "      <td>498</td>\n",
       "      <td>5446606</td>\n",
       "    </tr>\n",
       "    <tr>\n",
       "      <th>채소</th>\n",
       "      <td>810</td>\n",
       "      <td>4530933</td>\n",
       "    </tr>\n",
       "    <tr>\n",
       "      <th>50대 이상</th>\n",
       "      <th>가공식품</th>\n",
       "      <th>건강기능식품</th>\n",
       "      <td>125</td>\n",
       "      <td>4210020</td>\n",
       "    </tr>\n",
       "    <tr>\n",
       "      <th rowspan=\"3\" valign=\"top\">40대</th>\n",
       "      <th rowspan=\"2\" valign=\"top\">가공식품</th>\n",
       "      <th>대용식(기타)</th>\n",
       "      <td>310</td>\n",
       "      <td>3668944</td>\n",
       "    </tr>\n",
       "    <tr>\n",
       "      <th>비스켓/스낵</th>\n",
       "      <td>396</td>\n",
       "      <td>3477970</td>\n",
       "    </tr>\n",
       "    <tr>\n",
       "      <th>농산물</th>\n",
       "      <th>곡류</th>\n",
       "      <td>139</td>\n",
       "      <td>3342500</td>\n",
       "    </tr>\n",
       "    <tr>\n",
       "      <th>30대 이하</th>\n",
       "      <th>농산물</th>\n",
       "      <th>채소</th>\n",
       "      <td>559</td>\n",
       "      <td>3231271</td>\n",
       "    </tr>\n",
       "    <tr>\n",
       "      <th>40대</th>\n",
       "      <th>가공식품</th>\n",
       "      <th>우유</th>\n",
       "      <td>1587</td>\n",
       "      <td>3018469</td>\n",
       "    </tr>\n",
       "  </tbody>\n",
       "</table>\n",
       "</div>"
      ],
      "text/plain": [
       "                     구매수량      구매금액\n",
       "구매자연령  대분류  소분류                    \n",
       "40대    가공식품 건강기능식품    413  12851087\n",
       "30대 이하 가공식품 건강기능식품    382   9562165\n",
       "40대    농산물  과일        498   5446606\n",
       "            채소        810   4530933\n",
       "50대 이상 가공식품 건강기능식품    125   4210020\n",
       "40대    가공식품 대용식(기타)   310   3668944\n",
       "            비스켓/스낵    396   3477970\n",
       "       농산물  곡류        139   3342500\n",
       "30대 이하 농산물  채소        559   3231271\n",
       "40대    가공식품 우유       1587   3018469"
      ]
     },
     "execution_count": 15,
     "metadata": {},
     "output_type": "execute_result"
    }
   ],
   "source": [
    "df_online_gr.sort_values(by='구매금액', ascending=False).head(10)"
   ]
  },
  {
   "cell_type": "code",
   "execution_count": 16,
   "metadata": {},
   "outputs": [
    {
     "data": {
      "text/plain": [
       "구매상품명\n",
       "하이뮨 프로틴 밸런스 음료 190ml 24개                           6\n",
       "풍년보감 6년근 고려홍삼스틱 15G 200개                           4\n",
       "스포츠리서치 트피플 스트렝스 오메가-3피쉬 오일 1250mg 소프트젤, 180정 1개    4\n",
       "셀트리온 이너랩 액티브 활력 비타민B 콤플렉스 30g 60정 1개               4\n",
       "씨스팡 혈관팔팔 칸탈로프 멜론 SOD 30정 2개                        4\n",
       "                                                  ..\n",
       "반품-미개봉 대상웰라이프 뉴케어 마이키즈 딸기맛 24개 150ml               1\n",
       "일동후디스 하이뮨 프로틴 밸런스 캔 + 스틱 세트 380g 1세트               1\n",
       "일동후디스(주) 후디스 초유밀 플러스 1 90g                         1\n",
       "건강별곡 프리미엄 아누카사과 비오틴정 추출 분말 맥주효모, 1통, 60정           1\n",
       "종근당건강 아임비타 멀티비타민 데일리 51g 2개                        1\n",
       "Name: count, Length: 176, dtype: int64"
      ]
     },
     "execution_count": 16,
     "metadata": {},
     "output_type": "execute_result"
    }
   ],
   "source": [
    "f1 = df_online['구매자연령'] == '30대 이하'\n",
    "f2 = df_online['소분류'] == '건강기능식품'\n",
    "df_online[f1&f2]['구매상품명'].value_counts()"
   ]
  },
  {
   "cell_type": "code",
   "execution_count": 17,
   "metadata": {},
   "outputs": [
    {
     "data": {
      "text/plain": [
       "구매상품명\n",
       "솔가 철분 25 90정 1개                           6\n",
       "바이탈라이즈 비타민B12 500 & 아연, 1박스, 100정         4\n",
       "퍼니트 리얼 모로오렌지정 1개 45g                      4\n",
       "키즈텐 루테인 비타민A 플러스 30p 30포 2개               4\n",
       "울트라능력이 L아르기닌 오자 남성활력제 60정 36g 1개          4\n",
       "                                         ..\n",
       "뉴케어 구수한맛 완전 균형영양식 30개                     1\n",
       "(주)뉴트리원 BB LAB 더 엘라스틴                     1\n",
       "뉴트리모어 퓨어 비타민 D 2000IU 3.9g 30정 1개 30정     1\n",
       "뉴케어 구수한맛 완전균형영양식 30개 200ml                1\n",
       "뉴트리가든 프리미엄 프로바이오틱스 키즈 츄어블 유산균,60 정,1 개    1\n",
       "Name: count, Length: 187, dtype: int64"
      ]
     },
     "execution_count": 17,
     "metadata": {},
     "output_type": "execute_result"
    }
   ],
   "source": [
    "f1 = df_online['구매자연령'] == '40대'\n",
    "f2 = df_online['소분류'] == '건강기능식품'\n",
    "df_online[f1&f2]['구매상품명'].value_counts()"
   ]
  },
  {
   "cell_type": "code",
   "execution_count": 18,
   "metadata": {},
   "outputs": [
    {
     "data": {
      "text/plain": [
       "구매상품명\n",
       "프레시몬 칠레산 레몬, 1개, 1kg                  7\n",
       "광식이농장 GAP 인증 완숙토마토 2kg 1개             7\n",
       "스마트팜 완숙토마토 1kg 1개                     7\n",
       "곰곰 친환경 대추방울 토마토 500g 1팩               6\n",
       "셀렉트팜 못난이 골드사과얌(yam) 1.5kg (5-7입/봉)    6\n",
       "                                     ..\n",
       "만나다 미국산 오톰 크리스피 청포도 1개 450g           1\n",
       "호재준 유기가공식품인증 아보카도(냉동) 400g 1개         1\n",
       "다조은 칠레산 레몬 3개입, 350g, 1개              1\n",
       "포유 더 맛있는 국내산 딸기 (냉동) 1kg 1개           1\n",
       "스윗토 스테비아 완숙토마토, 1.5kg, 1개             1\n",
       "Name: count, Length: 243, dtype: int64"
      ]
     },
     "execution_count": 18,
     "metadata": {},
     "output_type": "execute_result"
    }
   ],
   "source": [
    "f1 = df_online['구매자연령'] == '40대'\n",
    "f2 = df_online['소분류'] == '과일'\n",
    "df_online[f1&f2]['구매상품명'].value_counts()"
   ]
  },
  {
   "cell_type": "code",
   "execution_count": 19,
   "metadata": {},
   "outputs": [],
   "source": [
    "# \n",
    "df_online['주차'] = df_online['구매주차'].apply(lambda x: x[-1])"
   ]
  },
  {
   "cell_type": "code",
   "execution_count": 20,
   "metadata": {},
   "outputs": [
    {
     "data": {
      "image/png": "[encoded data removed]",
      "text/plain": [
       "<Figure size 640x480 with 1 Axes>"
      ]
     },
     "metadata": {},
     "output_type": "display_data"
    },
    {
     "data": {
      "image/png": "[encoded data removed]",
      "text/plain": [
       "<Figure size 640x480 with 1 Axes>"
      ]
     },
     "metadata": {},
     "output_type": "display_data"
    },
    {
     "data": {
      "image/png": "[encoded data removed]",
      "text/plain": [
       "<Figure size 640x480 with 1 Axes>"
      ]
     },
     "metadata": {},
     "output_type": "display_data"
    }
   ],
   "source": [
    "# 월트렌드\n",
    "df_plot_base = df_online[['구매자연령','중분류','주차','구매금액']].groupby(['구매자연령','중분류','주차']).sum()\n",
    "\n",
    "ages = list(set(map(lambda x: x[0], df_plot_base.index)))\n",
    "dic_lines ={'30대 이하':'-', '50대 이상':'--', '40대':'-.'}\n",
    "\n",
    "for idx in ages:\n",
    "    df_plot = df_plot_base.loc[idx]\n",
    "    line = dic_lines[idx]\n",
    "\n",
    "    top5products = df_plot.reset_index().groupby(['중분류']).sum().sort_values(by='구매금액', ascending=False).head(5)\n",
    "    products = top5products.index\n",
    "    for idx2 in products:\n",
    "        df_plot_tmp = df_plot.loc[idx2]\n",
    "        x = list(df_plot_tmp.index)\n",
    "        y = df_plot_tmp['구매금액'].to_list()\n",
    "        label = idx2\n",
    "        \n",
    "        plt.plot(x, y, label=label)\n",
    "\n",
    "    plt.title(f'[{idx}] 202310 주별 온라인 매출액 트렌드 (매출액 top5)')\n",
    "    plt.legend()\n",
    "    plt.show()"
   ]
  },
  {
   "cell_type": "code",
   "execution_count": 21,
   "metadata": {},
   "outputs": [
    {
     "data": {
      "image/png": "[encoded data removed]",
      "text/plain": [
       "<Figure size 640x480 with 1 Axes>"
      ]
     },
     "metadata": {},
     "output_type": "display_data"
    }
   ],
   "source": [
    "# 월트렌드\n",
    "df_plot_base = df_online[['구매자연령','중분류','구매금액']].groupby(['구매자연령','중분류']).sum()\n",
    "\n",
    "ages = list(set(map(lambda x: x[0], df_plot_base.index)))\n",
    "dic_lines ={'30대 이하':'-', '50대 이상':'--', '40대':'-.'}\n",
    "\n",
    "ls_p = []\n",
    "ls_x = []\n",
    "for i, idx in enumerate(ages):\n",
    "    df_plot = df_plot_base.loc[idx]\n",
    "    line = dic_lines[idx]\n",
    "\n",
    "    top5products = df_plot.reset_index().groupby(['중분류']).sum().sort_values(by='구매금액', ascending=False).head(5)\n",
    "    products = top5products.index\n",
    "    \n",
    "    x = np.arange(5) + (i)*5\n",
    "    h = top5products['구매금액']\n",
    "\n",
    "    ls_x += list(x)\n",
    "    ls_p += list(products)\n",
    "\n",
    "    plt.bar(x, h, label=idx)\n",
    "plt.title(f'202310 연령별 온라인 쇼핑몰 매출액 트렌드 (매출액 top5)')\n",
    "plt.legend()\n",
    "plt.xticks(ls_x, ls_p, rotation=90)\n",
    "plt.show()"
   ]
  },
  {
   "cell_type": "code",
   "execution_count": 72,
   "metadata": {},
   "outputs": [
    {
     "data": {
      "image/png": "[encoded data removed]",
      "text/plain": [
       "<Figure size 640x480 with 1 Axes>"
      ]
     },
     "metadata": {},
     "output_type": "display_data"
    }
   ],
   "source": [
    "# 월트렌드\n",
    "df_plot_base = df_online[['구매자연령','소분류','구매금액']].groupby(['구매자연령','소분류']).sum()\n",
    "\n",
    "ages = list(set(map(lambda x: x[0], df_plot_base.index)))\n",
    "dic_lines ={'30대 이하':'-', '50대 이상':'--', '40대':'-.'}\n",
    "\n",
    "ls_p = []\n",
    "ls_x = []\n",
    "for i, idx in enumerate(ages):\n",
    "    df_plot = df_plot_base.loc[idx]\n",
    "    line = dic_lines[idx]\n",
    "\n",
    "    top5products = df_plot.reset_index().groupby(['소분류']).sum().sort_values(by='구매금액', ascending=False).head(5)\n",
    "    products = top5products.index\n",
    "    \n",
    "    x = np.arange(5) + (i)*5\n",
    "    h = top5products['구매금액']\n",
    "\n",
    "    ls_x += list(x)\n",
    "    ls_p += list(products)\n",
    "\n",
    "    plt.bar(x, h, label=idx)\n",
    "plt.title(f'[{idx}] 202310 연령별 온라인 쇼핑몰 매출액 트렌드 (매출액 top5)')\n",
    "plt.legend()\n",
    "plt.xticks(ls_x, ls_p, rotation=90)\n",
    "plt.show()"
   ]
  },
  {
   "cell_type": "markdown",
   "metadata": {},
   "source": [
    "#### 건강기능식품?"
   ]
  },
  {
   "cell_type": "code",
   "execution_count": 65,
   "metadata": {},
   "outputs": [
    {
     "data": {
      "text/plain": [
       "구매상품명\n",
       "솔가 철분 25 90정 1개                        6\n",
       "바이탈라이즈 비타민B12 500 & 아연, 1박스, 100정      4\n",
       "퍼니트 리얼 모로오렌지정 1개 45g                   4\n",
       "키즈텐 루테인 비타민A 플러스 30p 30포 2개            4\n",
       "울트라능력이 L아르기닌 오자 남성활력제 60정 36g 1개       4\n",
       "정관장 홍삼정 에브리타임 밸런스 10ml 30포 + 쇼핑백 1개    4\n",
       "키움정 성장발육 건강기능식품, 240정, 1개              4\n",
       "[풍기인삼농협 직영] 황풍정 6년근 홍삼분말 120g, 1개      4\n",
       "일동제약 비오비타 키즈, 60g, 2개                  4\n",
       "[온라인단독]그린몬스터 다이어트 6IN1 녹차카테킨1000+      4\n",
       "Name: count, dtype: int64"
      ]
     },
     "execution_count": 65,
     "metadata": {},
     "output_type": "execute_result"
    }
   ],
   "source": [
    "f1 = df_online['구매자연령'] == '40대'\n",
    "f2 = df_online['소분류'] == '건강기능식품'\n",
    "df_online[f1&f2]['구매상품명'].value_counts().iloc[:10]"
   ]
  },
  {
   "cell_type": "code",
   "execution_count": 67,
   "metadata": {},
   "outputs": [
    {
     "data": {
      "text/plain": [
       "구매상품명\n",
       "(주)오뚜기 오동통면 120g x 5개입    11\n",
       "농심 안성탕면(5개)               10\n",
       "풀무원 통밀 또띠아 150g 1개         9\n",
       "오뚜기 진라면 컵 순한맛(6개)          9\n",
       "농심 김치 사발면(6개)              9\n",
       "오뚜기 진라면 순한맛(5개)            8\n",
       "농심 올리브 짜파게티 5개입            8\n",
       "비노 스파게티, 500g, 6개          8\n",
       "농심 신라면 소컵(6개)              7\n",
       "농심 신라면 5개                  7\n",
       "Name: count, dtype: int64"
      ]
     },
     "execution_count": 67,
     "metadata": {},
     "output_type": "execute_result"
    }
   ],
   "source": [
    "f1 = df_online['구매자연령'] == '40대'\n",
    "f2 = df_online['중분류'] == '대용식'\n",
    "df_online[f1&f2]['구매상품명'].value_counts().iloc[:10]"
   ]
  },
  {
   "cell_type": "code",
   "execution_count": 69,
   "metadata": {},
   "outputs": [
    {
     "data": {
      "text/plain": [
       "구매상품명\n",
       "오뚜기 참깨라면(4입)                                       7\n",
       "곰곰 한입 떡갈비 (냉동), 564g, 1개                           6\n",
       "농심 신라면(5개)                                         5\n",
       "오뚜기 맛있는 오뚜기밥 210g 24개                              5\n",
       "오뚜기 맛있는 오뚜기밥, 210g, 24개                            5\n",
       "푸딩팩토리 매콤 돼지껍데기 300g 2개                             5\n",
       "오뚜기 진라면 매운맛 120g*5                                 5\n",
       "농심 올리브 짜파게티 10개입                                   5\n",
       "프레쉬팜 리코타 발사믹 샐러드 160g +  카프레제 이탈리안 샐러트 160g 1세트    4\n",
       "장충동왕족발 쫄깃한편육 1030g 1개                              4\n",
       "Name: count, dtype: int64"
      ]
     },
     "execution_count": 69,
     "metadata": {},
     "output_type": "execute_result"
    }
   ],
   "source": [
    "f1 = df_online['구매자연령'] == '30대 이하'\n",
    "f2 = df_online['중분류'] == '대용식'\n",
    "df_online[f1&f2]['구매상품명'].value_counts().iloc[:10]"
   ]
  },
  {
   "cell_type": "code",
   "execution_count": null,
   "metadata": {},
   "outputs": [],
   "source": []
  },
  {
   "cell_type": "code",
   "execution_count": null,
   "metadata": {},
   "outputs": [],
   "source": []
  },
  {
   "cell_type": "markdown",
   "metadata": {},
   "source": [
    "---\n",
    "## CSV to Parquet"
   ]
  },
  {
   "cell_type": "code",
   "execution_count": 74,
   "metadata": {},
   "outputs": [],
   "source": [
    "import pandas as pd\n",
    "import os\n",
    "from tqdm import tqdm\n",
    "import glob\n",
    "\n",
    "# 입력 및 출력 디렉토리 설정\n",
    "input_dir = 'data/w2/jangbogo'\n",
    "output_dir = 'data/w2/jangbogo/parquet'\n",
    "\n",
    "# 출력 디렉토리가 없으면 생성\n",
    "os.makedirs(output_dir, exist_ok=True)\n",
    "\n",
    "# CSV 파일 목록 가져오기\n",
    "# csv_files = glob.glob(os.path.join(input_dir, '*.csv'))\n",
    "csv_files = ['data/w2/jangbogo/TB_CL_MTH_SALES_YMD_20210728_11n.csv',\n",
    "'data/w2/jangbogo/TB_CL_MTH_SALES_YMD_20231006_03.csv',\n",
    "'data/w2/jangbogo/TB_CL_MTH_SALES_YMD-F2015T2017-20210105_01n03.csv',\n",
    "'data/w2/jangbogo/TB_CL_MTH_SALES_YMD-F2015T2017-20210105_01n07.csv']"
   ]
  },
  {
   "cell_type": "code",
   "execution_count": 76,
   "metadata": {},
   "outputs": [
    {
     "name": "stderr",
     "output_type": "stream",
     "text": [
      "Converting files:   0%|          | 0/4 [00:00<?, ?it/s]"
     ]
    },
    {
     "name": "stdout",
     "output_type": "stream",
     "text": [
      "\n",
      "Processing data/w2/jangbogo/TB_CL_MTH_SALES_YMD_20210728_11n.csv\n",
      "Successfully read with utf-8 encoding\n"
     ]
    },
    {
     "name": "stderr",
     "output_type": "stream",
     "text": [
      "Converting files:  25%|██▌       | 1/4 [00:03<00:11,  3.69s/it]"
     ]
    },
    {
     "name": "stdout",
     "output_type": "stream",
     "text": [
      "Memory usage: 1120.59 MB\n",
      "Saved to data/w2/jangbogo/parquet/TB_CL_MTH_SALES_YMD_20210728_11n.parquet\n",
      "\n",
      "Processing data/w2/jangbogo/TB_CL_MTH_SALES_YMD_20231006_03.csv\n",
      "Successfully read with cp949 encoding\n"
     ]
    },
    {
     "name": "stderr",
     "output_type": "stream",
     "text": [
      "Converting files:  50%|█████     | 2/4 [00:08<00:08,  4.11s/it]"
     ]
    },
    {
     "name": "stdout",
     "output_type": "stream",
     "text": [
      "Memory usage: 1125.80 MB\n",
      "Saved to data/w2/jangbogo/parquet/TB_CL_MTH_SALES_YMD_20231006_03.parquet\n",
      "\n",
      "Processing data/w2/jangbogo/TB_CL_MTH_SALES_YMD-F2015T2017-20210105_01n03.csv\n",
      "Successfully read with cp949 encoding\n"
     ]
    },
    {
     "name": "stderr",
     "output_type": "stream",
     "text": [
      "Converting files:  75%|███████▌  | 3/4 [00:15<00:05,  5.65s/it]"
     ]
    },
    {
     "name": "stdout",
     "output_type": "stream",
     "text": [
      "Memory usage: 1700.15 MB\n",
      "Saved to data/w2/jangbogo/parquet/TB_CL_MTH_SALES_YMD-F2015T2017-20210105_01n03.parquet\n",
      "\n",
      "Processing data/w2/jangbogo/TB_CL_MTH_SALES_YMD-F2015T2017-20210105_01n07.csv\n",
      "Successfully read with cp949 encoding\n"
     ]
    },
    {
     "name": "stderr",
     "output_type": "stream",
     "text": [
      "Converting files: 100%|██████████| 4/4 [00:23<00:00,  5.78s/it]"
     ]
    },
    {
     "name": "stdout",
     "output_type": "stream",
     "text": [
      "Memory usage: 1698.91 MB\n",
      "Saved to data/w2/jangbogo/parquet/TB_CL_MTH_SALES_YMD-F2015T2017-20210105_01n07.parquet\n",
      "\n",
      "=== Conversion Summary ===\n",
      "Total files processed: 4\n",
      "Successfully converted: 4\n",
      "Failed conversions: 0\n"
     ]
    },
    {
     "name": "stderr",
     "output_type": "stream",
     "text": [
      "\n"
     ]
    }
   ],
   "source": [
    "def read_csv_with_encoding(file_path):\n",
    "    \"\"\"여러 인코딩을 시도하여 CSV 파일 읽기\"\"\"\n",
    "    encodings = ['cp949', 'utf-8', 'euc-kr']\n",
    "    \n",
    "    for encoding in encodings:\n",
    "        try:\n",
    "            df = pd.read_csv(file_path, encoding=encoding, low_memory=False)\n",
    "            print(f\"Successfully read with {encoding} encoding\")\n",
    "            return df\n",
    "        except UnicodeDecodeError:\n",
    "            continue\n",
    "    \n",
    "    raise ValueError(f\"Could not read {file_path} with any of these encodings: {encodings}\")\n",
    "# 변환 성공/실패 카운트\n",
    "success_count = 0\n",
    "failed_files = []\n",
    "\n",
    "# 각 파일별로 변환\n",
    "for csv_file in tqdm(csv_files, desc=\"Converting files\"):\n",
    "    try:\n",
    "        # 출력 파일명 생성\n",
    "        output_file = os.path.basename(csv_file).replace('.csv', '.parquet')\n",
    "        output_path = os.path.join(output_dir, output_file)\n",
    "        \n",
    "        print(f\"\\nProcessing {csv_file}\")\n",
    "        \n",
    "        # 여러 인코딩을 시도하여 파일 읽기\n",
    "        df = read_csv_with_encoding(csv_file)\n",
    "        \n",
    "        # Parquet 파일로 저장\n",
    "        df.to_parquet(output_path, compression='snappy')\n",
    "        \n",
    "        # 메모리 사용량 출력\n",
    "        memory_usage = df.memory_usage(deep=True).sum() / 1024 / 1024  # MB 단위\n",
    "        print(f\"Memory usage: {memory_usage:.2f} MB\")\n",
    "        print(f\"Saved to {output_path}\")\n",
    "        \n",
    "        success_count += 1\n",
    "        \n",
    "    except Exception as e:\n",
    "        print(f\"\\nError converting {csv_file}: {str(e)}\")\n",
    "        failed_files.append((csv_file, str(e)))\n",
    "        continue\n",
    "\n",
    "# 결과 보고\n",
    "print(\"\\n=== Conversion Summary ===\")\n",
    "print(f\"Total files processed: {len(csv_files)}\")\n",
    "print(f\"Successfully converted: {success_count}\")\n",
    "print(f\"Failed conversions: {len(failed_files)}\")\n",
    "\n",
    "if failed_files:\n",
    "    print(\"\\nFailed files:\")\n",
    "    for file, error in failed_files:\n",
    "        print(f\"- {file}: {error}\")"
   ]
  },
  {
   "cell_type": "markdown",
   "metadata": {},
   "source": [
    "---"
   ]
  },
  {
   "cell_type": "code",
   "execution_count": null,
   "metadata": {},
   "outputs": [],
   "source": []
  },
  {
   "cell_type": "code",
   "execution_count": null,
   "metadata": {},
   "outputs": [],
   "source": []
  },
  {
   "cell_type": "code",
   "execution_count": null,
   "metadata": {},
   "outputs": [],
   "source": []
  },
  {
   "cell_type": "markdown",
   "metadata": {},
   "source": [
    "---\n",
    "## [1] 네이버 검색어"
   ]
  },
  {
   "cell_type": "code",
   "execution_count": 13,
   "metadata": {},
   "outputs": [],
   "source": [
    "# from selenium import webdriver\n",
    "# from selenium.webdriver.common.by import By\n",
    "# from selenium.webdriver.chrome.options import Options\n",
    "# from selenium.webdriver.support.ui import WebDriverWait\n",
    "# from selenium.webdriver.support import expected_conditions as EC\n",
    "# import time\n",
    "\n",
    "# def get_shopping_insight_keywords(category_code=\"50000000\", age_code=\"30\", gender_code=\"all\"):\n",
    "#     chrome_options = Options()\n",
    "#     chrome_options.add_argument(\"--headless\")\n",
    "#     chrome_options.add_argument(\"--disable-gpu\")\n",
    "#     driver = webdriver.Chrome(options=chrome_options)\n",
    "\n",
    "#     driver.get(\"https://datalab.naver.com/shoppingInsight/sCategory.naver\")\n",
    "#     wait = WebDriverWait(driver, 10)\n",
    "\n",
    "#     # 날짜 선택 (최근 월 기본)\n",
    "#     time.sleep(2)\n",
    "\n",
    "#     # 성별 선택\n",
    "#     gender_selector = f\"input[name='gender'][value='{gender_code}']\"\n",
    "#     wait.until(EC.element_to_be_clickable((By.CSS_SELECTOR, gender_selector))).click()\n",
    "\n",
    "#     # 연령 선택\n",
    "#     age_selector = f\"input[name='age'][value='{age_code}']\"\n",
    "#     wait.until(EC.element_to_be_clickable((By.CSS_SELECTOR, age_selector))).click()\n",
    "\n",
    "#     # 대분류 카테고리 선택 (1차)\n",
    "#     driver.execute_script(f\"selectCategoryDepth('category1', '{category_code}', 1);\")\n",
    "#     time.sleep(2)\n",
    "\n",
    "#     # 검색 버튼 클릭\n",
    "#     wait.until(EC.element_to_be_clickable((By.CSS_SELECTOR, \"a.btn_search\"))).click()\n",
    "#     time.sleep(3)\n",
    "\n",
    "#     # 키워드 크롤링\n",
    "#     keywords = []\n",
    "#     keyword_elements = driver.find_elements(By.CSS_SELECTOR, \".rank_top1000_list span.txt\")\n",
    "#     for elem in keyword_elements:\n",
    "#         keyword = elem.text.strip()\n",
    "#         if keyword:\n",
    "#             keywords.append(keyword)\n",
    "\n",
    "#     driver.quit()\n",
    "#     return keywords\n",
    "\n",
    "# # 🎯 실행\n",
    "# food_keywords = get_shopping_insight_keywords(category_code=\"50000000\", age_code=\"30\")\n",
    "# leisure_keywords = get_shopping_insight_keywords(category_code=\"50000003\", age_code=\"30\")\n",
    "\n",
    "# print(\"📌 30대 식품 인기 키워드 Top 20:\")\n",
    "# print(food_keywords[:20])\n",
    "\n",
    "# print(\"\\n📌 30대 레저 인기 키워드 Top 20:\")\n",
    "# print(leisure_keywords[:20])\n",
    "\n"
   ]
  },
  {
   "cell_type": "code",
   "execution_count": null,
   "metadata": {},
   "outputs": [],
   "source": []
  },
  {
   "cell_type": "code",
   "execution_count": null,
   "metadata": {},
   "outputs": [],
   "source": []
  },
  {
   "cell_type": "code",
   "execution_count": 14,
   "metadata": {},
   "outputs": [],
   "source": [
    "import requests\n",
    "import json\n",
    "import pandas as pd\n",
    "from datetime import datetime, timedelta\n",
    "\n",
    "## env\n",
    "from dotenv import load_dotenv\n",
    "import os\n",
    "\n",
    "\n",
    "# 네이버 API 인증 정보\n",
    "load_dotenv()  # .env 파일 로드\n",
    "client_id = os.getenv(\"CLIENT_ID\")\n",
    "client_secret = os.getenv(\"CLIENT_SECRET\")\n",
    "\n",
    "# 헤더 설정\n",
    "headers = {\n",
    "    \"X-Naver-Client-Id\": client_id,\n",
    "    \"X-Naver-Client-Secret\": client_secret,\n",
    "    \"Content-Type\": \"application/json\"\n",
    "}\n"
   ]
  },
  {
   "cell_type": "code",
   "execution_count": 15,
   "metadata": {},
   "outputs": [],
   "source": [
    "def get_shopping_insight(startDate, endDate, category, timeUnit='date', device='pc', gender='f', ages=['20', '30']):\n",
    "    url = \"https://openapi.naver.com/v1/datalab/shopping/categories\"\n",
    "    \n",
    "    body = {\n",
    "        \"startDate\": startDate,\n",
    "        \"endDate\": endDate,\n",
    "        \"timeUnit\": timeUnit,\n",
    "        \"category\": category,\n",
    "        \"device\": device,\n",
    "        \"gender\": gender,\n",
    "        \"ages\": ages\n",
    "    }\n",
    "    \n",
    "    response = requests.post(url, headers=headers, data=json.dumps(body))\n",
    "    \n",
    "    if response.status_code == 200:\n",
    "        data = response.json()\n",
    "        # DataFrame으로 변환\n",
    "        results = []\n",
    "        for item in data['results']:\n",
    "            for datum in item['data']:\n",
    "                results.append({\n",
    "                    'date': datum['period'],\n",
    "                    'category': item['title'],\n",
    "                    'ratio': datum['ratio']\n",
    "                })\n",
    "        return pd.DataFrame(results)\n",
    "    else:\n",
    "        print(f\"Error: {response.status_code}\")\n",
    "        print(response.text)\n",
    "        return None\n",
    "\n",
    "# 사용 예시\n",
    "category = [\n",
    "    {\"name\": \"건강기능식품\", \"param\": [\"50000000\"]},\n",
    "    # {\"name\": \"화장품/미용\", \"param\": [\"50000002\"]}\n",
    "]\n",
    "\n",
    "df_shopping = get_shopping_insight(\n",
    "    startDate=\"2024-01-01\",\n",
    "    endDate=\"2024-03-20\",\n",
    "    category=category\n",
    ")"
   ]
  },
  {
   "cell_type": "code",
   "execution_count": 16,
   "metadata": {},
   "outputs": [
    {
     "data": {
      "text/html": [
       "<div>\n",
       "<style scoped>\n",
       "    .dataframe tbody tr th:only-of-type {\n",
       "        vertical-align: middle;\n",
       "    }\n",
       "\n",
       "    .dataframe tbody tr th {\n",
       "        vertical-align: top;\n",
       "    }\n",
       "\n",
       "    .dataframe thead th {\n",
       "        text-align: right;\n",
       "    }\n",
       "</style>\n",
       "<table border=\"1\" class=\"dataframe\">\n",
       "  <thead>\n",
       "    <tr style=\"text-align: right;\">\n",
       "      <th></th>\n",
       "      <th>date</th>\n",
       "      <th>category</th>\n",
       "      <th>ratio</th>\n",
       "    </tr>\n",
       "  </thead>\n",
       "  <tbody>\n",
       "    <tr>\n",
       "      <th>0</th>\n",
       "      <td>2024-01-01</td>\n",
       "      <td>건강기능식품</td>\n",
       "      <td>30.97558</td>\n",
       "    </tr>\n",
       "    <tr>\n",
       "      <th>1</th>\n",
       "      <td>2024-01-02</td>\n",
       "      <td>건강기능식품</td>\n",
       "      <td>67.06818</td>\n",
       "    </tr>\n",
       "    <tr>\n",
       "      <th>2</th>\n",
       "      <td>2024-01-03</td>\n",
       "      <td>건강기능식품</td>\n",
       "      <td>73.68396</td>\n",
       "    </tr>\n",
       "    <tr>\n",
       "      <th>3</th>\n",
       "      <td>2024-01-04</td>\n",
       "      <td>건강기능식품</td>\n",
       "      <td>72.52999</td>\n",
       "    </tr>\n",
       "    <tr>\n",
       "      <th>4</th>\n",
       "      <td>2024-01-05</td>\n",
       "      <td>건강기능식품</td>\n",
       "      <td>62.71550</td>\n",
       "    </tr>\n",
       "    <tr>\n",
       "      <th>...</th>\n",
       "      <td>...</td>\n",
       "      <td>...</td>\n",
       "      <td>...</td>\n",
       "    </tr>\n",
       "    <tr>\n",
       "      <th>75</th>\n",
       "      <td>2024-03-16</td>\n",
       "      <td>건강기능식품</td>\n",
       "      <td>33.71913</td>\n",
       "    </tr>\n",
       "    <tr>\n",
       "      <th>76</th>\n",
       "      <td>2024-03-17</td>\n",
       "      <td>건강기능식품</td>\n",
       "      <td>42.70608</td>\n",
       "    </tr>\n",
       "    <tr>\n",
       "      <th>77</th>\n",
       "      <td>2024-03-18</td>\n",
       "      <td>건강기능식품</td>\n",
       "      <td>98.87706</td>\n",
       "    </tr>\n",
       "    <tr>\n",
       "      <th>78</th>\n",
       "      <td>2024-03-19</td>\n",
       "      <td>건강기능식품</td>\n",
       "      <td>93.67845</td>\n",
       "    </tr>\n",
       "    <tr>\n",
       "      <th>79</th>\n",
       "      <td>2024-03-20</td>\n",
       "      <td>건강기능식품</td>\n",
       "      <td>91.42108</td>\n",
       "    </tr>\n",
       "  </tbody>\n",
       "</table>\n",
       "<p>80 rows × 3 columns</p>\n",
       "</div>"
      ],
      "text/plain": [
       "          date category     ratio\n",
       "0   2024-01-01   건강기능식품  30.97558\n",
       "1   2024-01-02   건강기능식품  67.06818\n",
       "2   2024-01-03   건강기능식품  73.68396\n",
       "3   2024-01-04   건강기능식품  72.52999\n",
       "4   2024-01-05   건강기능식품  62.71550\n",
       "..         ...      ...       ...\n",
       "75  2024-03-16   건강기능식품  33.71913\n",
       "76  2024-03-17   건강기능식품  42.70608\n",
       "77  2024-03-18   건강기능식품  98.87706\n",
       "78  2024-03-19   건강기능식품  93.67845\n",
       "79  2024-03-20   건강기능식품  91.42108\n",
       "\n",
       "[80 rows x 3 columns]"
      ]
     },
     "execution_count": 16,
     "metadata": {},
     "output_type": "execute_result"
    }
   ],
   "source": [
    "df_shopping"
   ]
  },
  {
   "cell_type": "code",
   "execution_count": 17,
   "metadata": {},
   "outputs": [
    {
     "name": "stderr",
     "output_type": "stream",
     "text": [
      "100%|██████████| 30/30 [00:39<00:00,  1.30s/it]\n"
     ]
    },
    {
     "name": "stdout",
     "output_type": "stream",
     "text": [
      "\n",
      "=== 분석 결과 요약 ===\n",
      "\n",
      "상위 5개 키워드:\n",
      "keyword\n",
      "노트북    66.556915\n",
      "헤어     60.312965\n",
      "영화     49.705388\n",
      "편의점    48.842041\n",
      "카페     48.810402\n",
      "Name: ratio, dtype: float64\n",
      "\n",
      "연령대별 관심도:\n",
      "age\n",
      "3    24.170803\n",
      "4    22.561741\n",
      "5    21.424914\n",
      "2    20.679970\n",
      "6    20.373080\n",
      "1    19.571931\n",
      "Name: ratio, dtype: float64\n",
      "\n",
      "카테고리별 관심도:\n",
      "category\n",
      "뷰티    34.534544\n",
      "테크    20.591487\n",
      "쇼핑    20.491934\n",
      "음식    19.302005\n",
      "여가    13.001277\n",
      "Name: ratio, dtype: float64\n"
     ]
    }
   ],
   "source": [
    "import requests\n",
    "import json\n",
    "import pandas as pd\n",
    "import matplotlib.pyplot as plt\n",
    "from datetime import datetime, timedelta\n",
    "import seaborn as sns\n",
    "from tqdm import tqdm\n",
    "import time\n",
    "plt.rcParams['font.family'] = 'AppleGothic'\n",
    "\n",
    "## env\n",
    "from dotenv import load_dotenv\n",
    "import os\n",
    "\n",
    "\n",
    "class NaverDataLabAnalyzer:\n",
    "    def __init__(self, client_id, client_secret):\n",
    "        self.client_id = client_id\n",
    "        self.client_secret = client_secret\n",
    "        self.headers = {\n",
    "            \"X-Naver-Client-Id\": client_id,\n",
    "            \"X-Naver-Client-Secret\": client_secret,\n",
    "            \"Content-Type\": \"application/json\"\n",
    "        }\n",
    "        \n",
    "        # 분야별 키워드 설정\n",
    "        self.categories = {\n",
    "            \"쇼핑\": [\"온라인쇼핑\", \"마트\", \"편의점\", \"백화점\"],\n",
    "            \"음식\": [\"맛집\", \"배달음식\", \"레스토랑\", \"카페\"],\n",
    "            \"여가\": [\"영화\", \"여행\", \"운동\", \"취미\"],\n",
    "            \"뷰티\": [\"화장품\", \"스킨케어\", \"메이크업\", \"헤어\"],\n",
    "            \"테크\": [\"스마트폰\", \"노트북\", \"가전제품\", \"IT\"]\n",
    "        }\n",
    "        \n",
    "        # 연령대 설정\n",
    "        self.age_groups = [\"1\",\"2\",\"3\",\"4\",\"5\",\"6\"]\n",
    "\n",
    "\n",
    "\n",
    "    def get_trend_data(self, keywords, start_date, end_date, age=None, timeUnit=\"date\"):\n",
    "        \"\"\"데이터랩 검색 트렌드 API 호출\"\"\"\n",
    "        url = \"https://openapi.naver.com/v1/datalab/search\"\n",
    "        \n",
    "        body = {\n",
    "            \"startDate\": start_date,\n",
    "            \"endDate\": end_date,\n",
    "            \"timeUnit\": timeUnit,\n",
    "            \"keywordGroups\": [\n",
    "                {\n",
    "                    \"groupName\": keyword,\n",
    "                    \"keywords\": [keyword]\n",
    "                } for keyword in keywords[:5]  # API 제한으로 5개까지만\n",
    "            ]\n",
    "        }\n",
    "        \n",
    "        if age:\n",
    "            body[\"ages\"] = [age]\n",
    "        \n",
    "        try:\n",
    "            response = requests.post(url, headers=self.headers, data=json.dumps(body))\n",
    "            if response.status_code == 200:\n",
    "                return response.json()\n",
    "            else:\n",
    "                print(f\"API Error: {response.status_code}\")\n",
    "                print(f\"Response: {response.text}\")\n",
    "                return None\n",
    "        except Exception as e:\n",
    "            print(f\"Exception: {str(e)}\")\n",
    "            return None\n",
    "\n",
    "    def analyze_trends(self, start_date, end_date, save_path=\"trend_analysis\"):\n",
    "        \"\"\"전체 트렌드 분석 실행\"\"\"\n",
    "        all_results = []\n",
    "        \n",
    "        # 진행 상황 표시를 위한 전체 작업 수 계산\n",
    "        total_iterations = len(self.categories) * len(self.age_groups)\n",
    "        \n",
    "        with tqdm(total=total_iterations) as pbar:\n",
    "            # 각 카테고리와 연령대별로 분석\n",
    "            for category_name, keywords in self.categories.items():\n",
    "                for age in self.age_groups:\n",
    "                    result = self.get_trend_data(keywords, start_date, end_date, age)\n",
    "                    \n",
    "                    if result and 'results' in result:\n",
    "                        for item in result['results']:\n",
    "                            for data in item['data']:\n",
    "                                all_results.append({\n",
    "                                    'date': data['period'],\n",
    "                                    'category': category_name,\n",
    "                                    'keyword': item['title'],\n",
    "                                    'age': age,\n",
    "                                    'ratio': data['ratio']\n",
    "                                })\n",
    "                    \n",
    "                    pbar.update(1)\n",
    "                    time.sleep(1)  # API 호출 제한 고려\n",
    "        \n",
    "        # 결과를 DataFrame으로 변환\n",
    "        df = pd.DataFrame(all_results)\n",
    "        \n",
    "        # 결과 저장 및 분석\n",
    "        self.save_and_visualize_results(df, save_path)\n",
    "        \n",
    "        return df\n",
    "\n",
    "    def save_and_visualize_results(self, df, save_path):\n",
    "        \"\"\"결과 저장 및 시각화\"\"\"\n",
    "        # 결과 저장\n",
    "        os.makedirs(save_path, exist_ok=True)\n",
    "        df.to_csv(f\"{save_path}/trend_analysis.csv\", encoding='utf-8-sig', index=False)\n",
    "        \n",
    "        # 1. 연령대별 관심 키워드 히트맵\n",
    "        plt.figure(figsize=(15, 8))\n",
    "        pivot_age = df.pivot_table(\n",
    "            values='ratio', \n",
    "            index='keyword', \n",
    "            columns='age', \n",
    "            aggfunc='mean'\n",
    "        )\n",
    "        sns.heatmap(pivot_age, annot=True, fmt='.1f', cmap='YlOrRd')\n",
    "        plt.title('연령대별 키워드 관심도')\n",
    "        plt.tight_layout()\n",
    "        plt.savefig(f\"{save_path}/age_keyword_heatmap.png\")\n",
    "        plt.close()\n",
    "        \n",
    "        # 2. 시계열 트렌드 (카테고리별)\n",
    "        plt.figure(figsize=(15, 8))\n",
    "        for category in df['category'].unique():\n",
    "            category_data = df[df['category'] == category].groupby('date')['ratio'].mean()\n",
    "            plt.plot(category_data.index, category_data.values, label=category, marker='o')\n",
    "        plt.title('카테고리별 트렌드 변화')\n",
    "        plt.xlabel('날짜')\n",
    "        plt.ylabel('검색 비중')\n",
    "        plt.xticks(rotation=45)\n",
    "        plt.legend()\n",
    "        plt.grid(True)\n",
    "        plt.tight_layout()\n",
    "        plt.savefig(f\"{save_path}/category_trends.png\")\n",
    "        plt.close()\n",
    "        \n",
    "        # 3. 주요 통계 분석\n",
    "        summary = pd.DataFrame({\n",
    "            'category': df.groupby('category')['ratio'].mean().sort_values(ascending=False),\n",
    "            'age_preference': df.groupby('age')['ratio'].mean().sort_values(ascending=False),\n",
    "            'top_keywords': df.groupby('keyword')['ratio'].mean().sort_values(ascending=False)\n",
    "        })\n",
    "        summary.to_csv(f\"{save_path}/trend_summary.csv\", encoding='utf-8-sig')\n",
    "\n",
    "def main():\n",
    "    # API 인증 정보\n",
    "    load_dotenv()  # .env 파일 로드\n",
    "    client_id = os.getenv(\"CLIENT_ID\")\n",
    "    client_secret = os.getenv(\"CLIENT_SECRET\")\n",
    "    \n",
    "    # 분석 기간 설정\n",
    "    # end_date = datetime.now()\n",
    "    # start_date = end_date - timedelta(days=30)  # 최근 30일\n",
    "    end_date = datetime.strptime(\"2024-03-20\", \"%Y-%m-%d\")\n",
    "    start_date = datetime.strptime(\"2024-01-01\", \"%Y-%m-%d\")\n",
    "\n",
    "    analyzer = NaverDataLabAnalyzer(client_id, client_secret)\n",
    "    \n",
    "    # 분석 실행\n",
    "    df = analyzer.analyze_trends(\n",
    "        start_date.strftime(\"%Y-%m-%d\"),\n",
    "        end_date.strftime(\"%Y-%m-%d\"),\n",
    "        save_path=\"naver_trend_analysis\"\n",
    "    )\n",
    "    \n",
    "    # 결과 요약 출력\n",
    "    print(\"\\n=== 분석 결과 요약 ===\")\n",
    "    print(\"\\n상위 5개 키워드:\")\n",
    "    print(df.groupby('keyword')['ratio'].mean().sort_values(ascending=False).head())\n",
    "    \n",
    "    print(\"\\n연령대별 관심도:\")\n",
    "    print(df.groupby('age')['ratio'].mean().sort_values(ascending=False))\n",
    "    \n",
    "    print(\"\\n카테고리별 관심도:\")\n",
    "    print(df.groupby('category')['ratio'].mean().sort_values(ascending=False))\n",
    "    return df\n",
    "\n",
    "if __name__ == \"__main__\":\n",
    "    df = main()"
   ]
  },
  {
   "cell_type": "code",
   "execution_count": 18,
   "metadata": {},
   "outputs": [
    {
     "name": "stderr",
     "output_type": "stream",
     "text": [
      "연도별 데이터 수집: 100%|██████████| 3/3 [00:03<00:00,  1.12s/it]\n"
     ]
    },
    {
     "name": "stdout",
     "output_type": "stream",
     "text": [
      "\n",
      "=== 분석 결과 요약 ===\n",
      "\n",
      "키워드별 평균 검색량:\n",
      "keyword\n",
      "배달음식     79.819138\n",
      "온라인쇼핑     4.039849\n",
      "Name: ratio, dtype: float64\n",
      "\n",
      "연도별 평균 검색량:\n",
      "keyword       배달음식     온라인쇼핑\n",
      "year                        \n",
      "2022     72.009603  2.989915\n",
      "2023     83.276169  4.193843\n",
      "2024     84.171643  4.935787\n"
     ]
    },
    {
     "data": {
      "text/plain": [
       "<Figure size 1200x600 with 0 Axes>"
      ]
     },
     "metadata": {},
     "output_type": "display_data"
    }
   ],
   "source": [
    "import requests\n",
    "import json\n",
    "import pandas as pd\n",
    "import matplotlib.pyplot as plt\n",
    "from datetime import datetime, timedelta\n",
    "import seaborn as sns\n",
    "from tqdm import tqdm\n",
    "import time\n",
    "from dotenv import load_dotenv\n",
    "import os\n",
    "plt.rcParams['font.family'] = 'AppleGothic'\n",
    "\n",
    "class NaverYearlyTrendAnalyzer:\n",
    "    def __init__(self, client_id, client_secret):\n",
    "        self.client_id = client_id\n",
    "        self.client_secret = client_secret\n",
    "        self.headers = {\n",
    "            \"X-Naver-Client-Id\": client_id,\n",
    "            \"X-Naver-Client-Secret\": client_secret,\n",
    "            \"Content-Type\": \"application/json\"\n",
    "        }\n",
    "\n",
    "    def get_trend_data(self, keywords, start_date, end_date, timeUnit=\"month\"):\n",
    "        \"\"\"데이터랩 검색 트렌드 API 호출\"\"\"\n",
    "        url = \"https://openapi.naver.com/v1/datalab/search\"\n",
    "        \n",
    "        body = {\n",
    "            \"startDate\": start_date,\n",
    "            \"endDate\": end_date,\n",
    "            \"timeUnit\": timeUnit,\n",
    "            \"keywordGroups\": [\n",
    "                {\n",
    "                    \"groupName\": keyword,\n",
    "                    \"keywords\": [keyword]\n",
    "                } for keyword in keywords\n",
    "            ]\n",
    "        }\n",
    "        \n",
    "        try:\n",
    "            response = requests.post(url, headers=self.headers, data=json.dumps(body))\n",
    "            if response.status_code == 200:\n",
    "                return response.json()\n",
    "            else:\n",
    "                print(f\"API Error: {response.status_code}\")\n",
    "                print(f\"Response: {response.text}\")\n",
    "                return None\n",
    "        except Exception as e:\n",
    "            print(f\"Exception: {str(e)}\")\n",
    "            return None\n",
    "\n",
    "    def analyze_yearly_trends(self, keywords, start_year, end_year, save_path=\"yearly_trend_analysis\"):\n",
    "        \"\"\"연도별 트렌드 분석\"\"\"\n",
    "        all_results = []\n",
    "        \n",
    "        # 각 연도별 데이터 수집\n",
    "        for year in tqdm(range(start_year, end_year + 1), desc=\"연도별 데이터 수집\"):\n",
    "            start_date = f\"{year}-01-01\"\n",
    "            end_date = f\"{year}-12-31\"\n",
    "            \n",
    "            result = self.get_trend_data(keywords, start_date, end_date)\n",
    "            \n",
    "            if result and 'results' in result:\n",
    "                for item in result['results']:\n",
    "                    for data in item['data']:\n",
    "                        all_results.append({\n",
    "                            'date': data['period'],\n",
    "                            'keyword': item['title'],\n",
    "                            'ratio': data['ratio'],\n",
    "                            'year': year\n",
    "                        })\n",
    "            \n",
    "            time.sleep(1)  # API 호출 제한 고려\n",
    "        \n",
    "        # 결과를 DataFrame으로 변환\n",
    "        df = pd.DataFrame(all_results)\n",
    "        if not df.empty:\n",
    "            df['date'] = pd.to_datetime(df['date'])\n",
    "            df['month'] = df['date'].dt.month\n",
    "            \n",
    "            # 결과 저장 및 시각화\n",
    "            self.save_and_visualize_yearly_results(df, keywords, save_path)\n",
    "        \n",
    "        return df\n",
    "\n",
    "    def save_and_visualize_yearly_results(self, df, keywords, save_path):\n",
    "        \"\"\"결과 저장 및 시각화\"\"\"\n",
    "        os.makedirs(save_path, exist_ok=True)\n",
    "        \n",
    "        # 데이터 저장\n",
    "        df.to_csv(f\"{save_path}/yearly_trend_analysis.csv\", encoding='utf-8-sig', index=False)\n",
    "        \n",
    "        # 1. 연도별 트렌드 라인 그래프\n",
    "        plt.figure(figsize=(15, 8))\n",
    "        for keyword in keywords:\n",
    "            keyword_data = df[df['keyword'] == keyword]\n",
    "            for year in keyword_data['year'].unique():\n",
    "                year_data = keyword_data[keyword_data['year'] == year]\n",
    "                plt.plot(year_data['month'], year_data['ratio'], \n",
    "                        label=f'{keyword} ({year})',\n",
    "                        marker='o')\n",
    "        \n",
    "        plt.title('연도별 키워드 검색 트렌드')\n",
    "        plt.xlabel('월')\n",
    "        plt.ylabel('검색 비중')\n",
    "        plt.grid(True)\n",
    "        plt.legend(bbox_to_anchor=(1.05, 1), loc='upper left')\n",
    "        plt.tight_layout()\n",
    "        plt.savefig(f\"{save_path}/yearly_trends_line.png\", bbox_inches='tight')\n",
    "        plt.close()\n",
    "        \n",
    "        # 2. 히트맵\n",
    "        plt.figure(figsize=(12, 8))\n",
    "        pivot_data = df.pivot_table(\n",
    "            values='ratio',\n",
    "            index='year',\n",
    "            columns='month',\n",
    "            aggfunc='mean'\n",
    "        )\n",
    "        sns.heatmap(pivot_data, annot=True, fmt='.1f', cmap='YlOrRd')\n",
    "        plt.title('연도/월별 검색 트렌드 히트맵')\n",
    "        plt.tight_layout()\n",
    "        plt.savefig(f\"{save_path}/yearly_trends_heatmap.png\")\n",
    "        plt.close()\n",
    "        \n",
    "        # 3. 연도별 평균 검색량 막대 그래프\n",
    "        plt.figure(figsize=(12, 6))\n",
    "        yearly_avg = df.groupby(['year', 'keyword'])['ratio'].mean().unstack()\n",
    "        yearly_avg.plot(kind='bar', width=0.8)\n",
    "        plt.title('연도별 평균 검색량')\n",
    "        plt.xlabel('연도')\n",
    "        plt.ylabel('평균 검색 비중')\n",
    "        plt.legend(title='키워드', bbox_to_anchor=(1.05, 1), loc='upper left')\n",
    "        plt.tight_layout()\n",
    "        plt.savefig(f\"{save_path}/yearly_trends_bar.png\", bbox_inches='tight')\n",
    "        plt.close()\n",
    "\n",
    "def main():\n",
    "    # API 인증 정보\n",
    "    load_dotenv()\n",
    "    client_id = os.getenv(\"CLIENT_ID\")\n",
    "    client_secret = os.getenv(\"CLIENT_SECRET\")\n",
    "    \n",
    "    # 분석할 키워드와 기간 설정\n",
    "    keywords = [\"온라인쇼핑\", \"배달음식\"]  # 분석하고 싶은 키워드 입력\n",
    "    start_year = 2022\n",
    "    end_year = 2024\n",
    "    \n",
    "    analyzer = NaverYearlyTrendAnalyzer(client_id, client_secret)\n",
    "    \n",
    "    # 분석 실행\n",
    "    df = analyzer.analyze_yearly_trends(\n",
    "        keywords,\n",
    "        start_year,\n",
    "        end_year,\n",
    "        save_path=\"naver_yearly_trend_analysis\"\n",
    "    )\n",
    "    \n",
    "    # 결과 요약 출력\n",
    "    if df is not None and not df.empty:\n",
    "        print(\"\\n=== 분석 결과 요약 ===\")\n",
    "        print(\"\\n키워드별 평균 검색량:\")\n",
    "        print(df.groupby('keyword')['ratio'].mean().sort_values(ascending=False))\n",
    "        \n",
    "        print(\"\\n연도별 평균 검색량:\")\n",
    "        print(df.groupby(['year', 'keyword'])['ratio'].mean().unstack())\n",
    "    \n",
    "    return df\n",
    "\n",
    "if __name__ == \"__main__\":\n",
    "    df = main()"
   ]
  },
  {
   "cell_type": "code",
   "execution_count": 19,
   "metadata": {},
   "outputs": [
    {
     "data": {
      "text/html": [
       "<div>\n",
       "<style scoped>\n",
       "    .dataframe tbody tr th:only-of-type {\n",
       "        vertical-align: middle;\n",
       "    }\n",
       "\n",
       "    .dataframe tbody tr th {\n",
       "        vertical-align: top;\n",
       "    }\n",
       "\n",
       "    .dataframe thead th {\n",
       "        text-align: right;\n",
       "    }\n",
       "</style>\n",
       "<table border=\"1\" class=\"dataframe\">\n",
       "  <thead>\n",
       "    <tr style=\"text-align: right;\">\n",
       "      <th></th>\n",
       "      <th>date</th>\n",
       "      <th>keyword</th>\n",
       "      <th>ratio</th>\n",
       "      <th>year</th>\n",
       "      <th>month</th>\n",
       "    </tr>\n",
       "  </thead>\n",
       "  <tbody>\n",
       "    <tr>\n",
       "      <th>0</th>\n",
       "      <td>2022-01-01</td>\n",
       "      <td>온라인쇼핑</td>\n",
       "      <td>3.28236</td>\n",
       "      <td>2022</td>\n",
       "      <td>1</td>\n",
       "    </tr>\n",
       "    <tr>\n",
       "      <th>1</th>\n",
       "      <td>2022-02-01</td>\n",
       "      <td>온라인쇼핑</td>\n",
       "      <td>2.91355</td>\n",
       "      <td>2022</td>\n",
       "      <td>2</td>\n",
       "    </tr>\n",
       "    <tr>\n",
       "      <th>2</th>\n",
       "      <td>2022-03-01</td>\n",
       "      <td>온라인쇼핑</td>\n",
       "      <td>3.74195</td>\n",
       "      <td>2022</td>\n",
       "      <td>3</td>\n",
       "    </tr>\n",
       "    <tr>\n",
       "      <th>3</th>\n",
       "      <td>2022-04-01</td>\n",
       "      <td>온라인쇼핑</td>\n",
       "      <td>3.35896</td>\n",
       "      <td>2022</td>\n",
       "      <td>4</td>\n",
       "    </tr>\n",
       "    <tr>\n",
       "      <th>4</th>\n",
       "      <td>2022-05-01</td>\n",
       "      <td>온라인쇼핑</td>\n",
       "      <td>3.61996</td>\n",
       "      <td>2022</td>\n",
       "      <td>5</td>\n",
       "    </tr>\n",
       "    <tr>\n",
       "      <th>...</th>\n",
       "      <td>...</td>\n",
       "      <td>...</td>\n",
       "      <td>...</td>\n",
       "      <td>...</td>\n",
       "      <td>...</td>\n",
       "    </tr>\n",
       "    <tr>\n",
       "      <th>67</th>\n",
       "      <td>2024-08-01</td>\n",
       "      <td>배달음식</td>\n",
       "      <td>100.00000</td>\n",
       "      <td>2024</td>\n",
       "      <td>8</td>\n",
       "    </tr>\n",
       "    <tr>\n",
       "      <th>68</th>\n",
       "      <td>2024-09-01</td>\n",
       "      <td>배달음식</td>\n",
       "      <td>77.77911</td>\n",
       "      <td>2024</td>\n",
       "      <td>9</td>\n",
       "    </tr>\n",
       "    <tr>\n",
       "      <th>69</th>\n",
       "      <td>2024-10-01</td>\n",
       "      <td>배달음식</td>\n",
       "      <td>72.41108</td>\n",
       "      <td>2024</td>\n",
       "      <td>10</td>\n",
       "    </tr>\n",
       "    <tr>\n",
       "      <th>70</th>\n",
       "      <td>2024-11-01</td>\n",
       "      <td>배달음식</td>\n",
       "      <td>72.58619</td>\n",
       "      <td>2024</td>\n",
       "      <td>11</td>\n",
       "    </tr>\n",
       "    <tr>\n",
       "      <th>71</th>\n",
       "      <td>2024-12-01</td>\n",
       "      <td>배달음식</td>\n",
       "      <td>85.45377</td>\n",
       "      <td>2024</td>\n",
       "      <td>12</td>\n",
       "    </tr>\n",
       "  </tbody>\n",
       "</table>\n",
       "<p>72 rows × 5 columns</p>\n",
       "</div>"
      ],
      "text/plain": [
       "         date keyword      ratio  year  month\n",
       "0  2022-01-01   온라인쇼핑    3.28236  2022      1\n",
       "1  2022-02-01   온라인쇼핑    2.91355  2022      2\n",
       "2  2022-03-01   온라인쇼핑    3.74195  2022      3\n",
       "3  2022-04-01   온라인쇼핑    3.35896  2022      4\n",
       "4  2022-05-01   온라인쇼핑    3.61996  2022      5\n",
       "..        ...     ...        ...   ...    ...\n",
       "67 2024-08-01    배달음식  100.00000  2024      8\n",
       "68 2024-09-01    배달음식   77.77911  2024      9\n",
       "69 2024-10-01    배달음식   72.41108  2024     10\n",
       "70 2024-11-01    배달음식   72.58619  2024     11\n",
       "71 2024-12-01    배달음식   85.45377  2024     12\n",
       "\n",
       "[72 rows x 5 columns]"
      ]
     },
     "execution_count": 19,
     "metadata": {},
     "output_type": "execute_result"
    }
   ],
   "source": [
    "df"
   ]
  },
  {
   "cell_type": "code",
   "execution_count": 20,
   "metadata": {},
   "outputs": [
    {
     "name": "stderr",
     "output_type": "stream",
     "text": [
      "/var/folders/xj/2s3xtsx155s338l8v9g7k_wh0000gn/T/ipykernel_1840/2485509840.py:5: SettingWithCopyWarning: \n",
      "A value is trying to be set on a copy of a slice from a DataFrame.\n",
      "Try using .loc[row_indexer,col_indexer] = value instead\n",
      "\n",
      "See the caveats in the documentation: https://pandas.pydata.org/pandas-docs/stable/user_guide/indexing.html#returning-a-view-versus-a-copy\n",
      "  df_to_plot['x'] = (df_to_plot['year']-2022)*12 + df_to_plot['month']\n"
     ]
    }
   ],
   "source": [
    "for kwd in df['keyword'].unique():\n",
    "    f1 = df['keyword'] == kwd\n",
    "    df_to_plot = df[f1]\n",
    "    \n",
    "    df_to_plot['x'] = (df_to_plot['year']-2022)*12 + df_to_plot['month']\n",
    "    x = df_to_plot['x']\n",
    "    y = df_to_plot['ratio']\n",
    "\n",
    "    # plt.plot(x, y)\n",
    "    break"
   ]
  },
  {
   "cell_type": "code",
   "execution_count": null,
   "metadata": {},
   "outputs": [],
   "source": []
  },
  {
   "cell_type": "code",
   "execution_count": null,
   "metadata": {},
   "outputs": [],
   "source": []
  },
  {
   "cell_type": "code",
   "execution_count": 26,
   "metadata": {},
   "outputs": [
    {
     "name": "stderr",
     "output_type": "stream",
     "text": [
      "데이터 수집 중:  50%|█████     | 6/12 [00:07<00:07,  1.20s/it]"
     ]
    },
    {
     "name": "stdout",
     "output_type": "stream",
     "text": [
      "\n",
      "=== 전체 데이터 미리보기 ===\n",
      "        date keyword  age    ratio  year  month\n",
      "0 2022-02-01   온라인쇼핑  10대  1.19047  2022      2\n",
      "1 2022-03-01   온라인쇼핑  10대  6.54761  2022      3\n",
      "2 2022-04-01   온라인쇼핑  10대  1.19047  2022      4\n",
      "3 2022-05-01   온라인쇼핑  10대  0.59523  2022      5\n",
      "4 2022-06-01   온라인쇼핑  10대  0.59523  2022      6\n",
      "\n",
      "=== 피벗 테이블 미리보기 ===\n",
      "age   period keyword       10대        20대        30대        40대        50대  \\\n",
      "0    2022-01    배달음식  58.92857  100.00000  100.00000  100.00000  100.00000   \n",
      "1    2022-01   온라인쇼핑       NaN    2.21402    5.08382    7.28051    7.94952   \n",
      "2    2022-02    배달음식  55.95238   91.24934   82.80151   88.86509   83.78548   \n",
      "3    2022-02   온라인쇼핑   1.19047    2.63574    5.35424    8.20842    5.42586   \n",
      "4    2022-03    배달음식  85.71428   95.67738   95.78150   97.35902   94.57413   \n",
      "\n",
      "age        60대  \n",
      "0    100.00000  \n",
      "1      3.65853  \n",
      "2     87.12737  \n",
      "3      4.29087  \n",
      "4     97.15447  \n",
      "\n",
      "=== 키워드별 평균 검색량 ===\n",
      "keyword\n",
      "배달음식     59.856206\n",
      "온라인쇼핑     3.875533\n",
      "Name: ratio, dtype: float64\n",
      "\n",
      "=== 연령대별 평균 검색량 ===\n",
      "age\n",
      "10대    40.252971\n",
      "20대    35.682798\n",
      "40대    31.453719\n",
      "50대    30.824566\n",
      "30대    30.324946\n",
      "60대    26.698153\n",
      "Name: ratio, dtype: float64\n"
     ]
    },
    {
     "name": "stderr",
     "output_type": "stream",
     "text": [
      "\n"
     ]
    }
   ],
   "source": [
    "import requests\n",
    "import json\n",
    "import pandas as pd\n",
    "import matplotlib.pyplot as plt\n",
    "from datetime import datetime, timedelta\n",
    "import seaborn as sns\n",
    "from tqdm import tqdm\n",
    "import time\n",
    "from dotenv import load_dotenv\n",
    "import os\n",
    "plt.rcParams['font.family'] = 'AppleGothic'\n",
    "\n",
    "class NaverTrendAnalyzer:\n",
    "    def __init__(self, client_id, client_secret):\n",
    "        self.client_id = client_id\n",
    "        self.client_secret = client_secret\n",
    "        self.headers = {\n",
    "            \"X-Naver-Client-Id\": client_id,\n",
    "            \"X-Naver-Client-Secret\": client_secret,\n",
    "            \"Content-Type\": \"application/json\"\n",
    "        }\n",
    "        \n",
    "        # 연령대 설정\n",
    "        self.age_groups = [\"1\", \"2\", \"3\", \"4\", \"5\", \"6\"]\n",
    "        self.age_mapping = {\n",
    "            \"1\": \"10대\",\n",
    "            \"2\": \"20대\",\n",
    "            \"3\": \"30대\",\n",
    "            \"4\": \"40대\",\n",
    "            \"5\": \"50대\",\n",
    "            \"6\": \"60대\"\n",
    "        }\n",
    "\n",
    "    def get_trend_data(self, keywords, start_date, end_date, age, timeUnit=\"month\"):\n",
    "        \"\"\"데이터랩 검색 트렌드 API 호출\"\"\"\n",
    "        url = \"https://openapi.naver.com/v1/datalab/search\"\n",
    "        \n",
    "        body = {\n",
    "            \"startDate\": start_date,\n",
    "            \"endDate\": end_date,\n",
    "            \"timeUnit\": timeUnit,\n",
    "            \"ages\": [age],\n",
    "            \"keywordGroups\": [\n",
    "                {\n",
    "                    \"groupName\": keyword,\n",
    "                    \"keywords\": [keyword]\n",
    "                } for keyword in keywords\n",
    "            ]\n",
    "        }\n",
    "        \n",
    "        try:\n",
    "            response = requests.post(url, headers=self.headers, data=json.dumps(body))\n",
    "            if response.status_code == 200:\n",
    "                return response.json()\n",
    "            else:\n",
    "                print(f\"API Error: {response.status_code}\")\n",
    "                print(f\"Response: {response.text}\")\n",
    "                return None\n",
    "        except Exception as e:\n",
    "            print(f\"Exception: {str(e)}\")\n",
    "            return None\n",
    "\n",
    "    def analyze_trends(self, keywords, start_year, end_year, save_path=\"trend_analysis\"):\n",
    "        \"\"\"트렌드 분석\"\"\"\n",
    "        all_results = []\n",
    "\n",
    "        for year in range(start_year, end_year + 1):\n",
    "            for month in range(12):\n",
    "                start_date = f\"{start_year}-01\"\n",
    "                end_date = f\"{start_year}-12\"\n",
    "\n",
    "            # 전체 기간 설정\n",
    "            for month in range()\n",
    "            start_date = f\"{start_year}-{start_month}-01\"\n",
    "            end_date = f\"{end_year}-{month}-31\"\n",
    "            \n",
    "            # 연령대별, 키워드별 데이터 수집\n",
    "            total_iterations = len(self.age_groups) * len(keywords)\n",
    "            with tqdm(total=total_iterations, desc=\"데이터 수집 중\") as pbar:\n",
    "                for age in self.age_groups:\n",
    "                    result = self.get_trend_data(keywords, start_date, end_date, age)\n",
    "                    \n",
    "                    if result and 'results' in result:\n",
    "                        for item in result['results']:\n",
    "                            for data in item['data']:\n",
    "                                all_results.append({\n",
    "                                    'date': data['period'],\n",
    "                                    'keyword': item['title'],\n",
    "                                    'age': self.age_mapping[age],\n",
    "                                    'ratio': data['ratio']\n",
    "                                })\n",
    "                    \n",
    "                    pbar.update(1)\n",
    "                    time.sleep(1)  # API 호출 제한 고려\n",
    "        \n",
    "        # 결과를 DataFrame으로 변환\n",
    "        df = pd.DataFrame(all_results)\n",
    "        if not df.empty:\n",
    "            # 날짜 처리\n",
    "            df['date'] = pd.to_datetime(df['date'])\n",
    "            df['year'] = df['date'].dt.year\n",
    "            df['month'] = df['date'].dt.month\n",
    "            \n",
    "            # 결과 저장\n",
    "            os.makedirs(save_path, exist_ok=True)\n",
    "            df.to_csv(f\"{save_path}/monthly_trend_by_age.csv\", encoding='utf-8-sig', index=False)\n",
    "            \n",
    "            # 피벗 테이블 생성 및 저장\n",
    "            pivot_monthly = pd.pivot_table(\n",
    "                df,\n",
    "                values='ratio',\n",
    "                index=['year', 'month', 'keyword'],\n",
    "                columns='age',\n",
    "                aggfunc='mean'\n",
    "            ).reset_index()\n",
    "            \n",
    "            # 월을 2자리 문자열로 변환\n",
    "            pivot_monthly['month'] = pivot_monthly['month'].apply(lambda x: f\"{x:02d}\")\n",
    "            # year와 month를 조합하여 yyyy-mm 형식의 새로운 컬럼 생성\n",
    "            pivot_monthly['period'] = pivot_monthly['year'].astype(str) + '-' + pivot_monthly['month']\n",
    "            \n",
    "            # 컬럼 순서 재정렬\n",
    "            cols = ['period', 'keyword'] + list(self.age_mapping.values())\n",
    "            pivot_monthly = pivot_monthly[cols]\n",
    "            \n",
    "            # 피벗 테이블 저장\n",
    "            pivot_monthly.to_csv(f\"{save_path}/monthly_trend_pivot.csv\", encoding='utf-8-sig', index=False)\n",
    "        \n",
    "        return df, pivot_monthly\n",
    "\n",
    "def main():\n",
    "    # API 인증 정보\n",
    "    load_dotenv()\n",
    "    client_id = os.getenv(\"CLIENT_ID\")\n",
    "    client_secret = os.getenv(\"CLIENT_SECRET\")\n",
    "    \n",
    "    # 분석할 키워드와 기간 설정\n",
    "    keywords = [\"온라인쇼핑\", \"배달음식\"]\n",
    "    start_year = 2022\n",
    "    end_year = 2024\n",
    "    \n",
    "    analyzer = NaverTrendAnalyzer(client_id, client_secret)\n",
    "    \n",
    "    # 분석 실행\n",
    "    df, pivot_df = analyzer.analyze_trends(\n",
    "        keywords,\n",
    "        start_year,\n",
    "        end_year,\n",
    "        save_path=\"naver_trend_analysis\"\n",
    "    )\n",
    "    \n",
    "    # 결과 출력\n",
    "    if df is not None and not df.empty:\n",
    "        print(\"\\n=== 전체 데이터 미리보기 ===\")\n",
    "        print(df.head())\n",
    "        print(\"\\n=== 피벗 테이블 미리보기 ===\")\n",
    "        print(pivot_df.head())\n",
    "        \n",
    "        print(\"\\n=== 키워드별 평균 검색량 ===\")\n",
    "        print(df.groupby('keyword')['ratio'].mean().sort_values(ascending=False))\n",
    "        \n",
    "        print(\"\\n=== 연령대별 평균 검색량 ===\")\n",
    "        print(df.groupby('age')['ratio'].mean().sort_values(ascending=False))\n",
    "    \n",
    "    return df, pivot_df\n",
    "\n",
    "if __name__ == \"__main__\":\n",
    "    df, pivot_df = main()"
   ]
  },
  {
   "cell_type": "code",
   "execution_count": null,
   "metadata": {},
   "outputs": [],
   "source": [
    "f1 = df['keyword'] == '배달음식'\n",
    "df_to_plot_base = df[f1]\n",
    "\n",
    "ages = df_to_plot_base['age'].unique()"
   ]
  },
  {
   "cell_type": "code",
   "execution_count": 76,
   "metadata": {},
   "outputs": [
    {
     "name": "stderr",
     "output_type": "stream",
     "text": [
      "/var/folders/xj/2s3xtsx155s338l8v9g7k_wh0000gn/T/ipykernel_1133/4187798927.py:4: SettingWithCopyWarning: \n",
      "A value is trying to be set on a copy of a slice from a DataFrame.\n",
      "Try using .loc[row_indexer,col_indexer] = value instead\n",
      "\n",
      "See the caveats in the documentation: https://pandas.pydata.org/pandas-docs/stable/user_guide/indexing.html#returning-a-view-versus-a-copy\n",
      "  df_to_plot['x'] = (df_to_plot['year']-2022)*12 + df_to_plot['month']\n",
      "/var/folders/xj/2s3xtsx155s338l8v9g7k_wh0000gn/T/ipykernel_1133/4187798927.py:4: SettingWithCopyWarning: \n",
      "A value is trying to be set on a copy of a slice from a DataFrame.\n",
      "Try using .loc[row_indexer,col_indexer] = value instead\n",
      "\n",
      "See the caveats in the documentation: https://pandas.pydata.org/pandas-docs/stable/user_guide/indexing.html#returning-a-view-versus-a-copy\n",
      "  df_to_plot['x'] = (df_to_plot['year']-2022)*12 + df_to_plot['month']\n",
      "/var/folders/xj/2s3xtsx155s338l8v9g7k_wh0000gn/T/ipykernel_1133/4187798927.py:4: SettingWithCopyWarning: \n",
      "A value is trying to be set on a copy of a slice from a DataFrame.\n",
      "Try using .loc[row_indexer,col_indexer] = value instead\n",
      "\n",
      "See the caveats in the documentation: https://pandas.pydata.org/pandas-docs/stable/user_guide/indexing.html#returning-a-view-versus-a-copy\n",
      "  df_to_plot['x'] = (df_to_plot['year']-2022)*12 + df_to_plot['month']\n",
      "/var/folders/xj/2s3xtsx155s338l8v9g7k_wh0000gn/T/ipykernel_1133/4187798927.py:4: SettingWithCopyWarning: \n",
      "A value is trying to be set on a copy of a slice from a DataFrame.\n",
      "Try using .loc[row_indexer,col_indexer] = value instead\n",
      "\n",
      "See the caveats in the documentation: https://pandas.pydata.org/pandas-docs/stable/user_guide/indexing.html#returning-a-view-versus-a-copy\n",
      "  df_to_plot['x'] = (df_to_plot['year']-2022)*12 + df_to_plot['month']\n",
      "/var/folders/xj/2s3xtsx155s338l8v9g7k_wh0000gn/T/ipykernel_1133/4187798927.py:4: SettingWithCopyWarning: \n",
      "A value is trying to be set on a copy of a slice from a DataFrame.\n",
      "Try using .loc[row_indexer,col_indexer] = value instead\n",
      "\n",
      "See the caveats in the documentation: https://pandas.pydata.org/pandas-docs/stable/user_guide/indexing.html#returning-a-view-versus-a-copy\n",
      "  df_to_plot['x'] = (df_to_plot['year']-2022)*12 + df_to_plot['month']\n",
      "/var/folders/xj/2s3xtsx155s338l8v9g7k_wh0000gn/T/ipykernel_1133/4187798927.py:4: SettingWithCopyWarning: \n",
      "A value is trying to be set on a copy of a slice from a DataFrame.\n",
      "Try using .loc[row_indexer,col_indexer] = value instead\n",
      "\n",
      "See the caveats in the documentation: https://pandas.pydata.org/pandas-docs/stable/user_guide/indexing.html#returning-a-view-versus-a-copy\n",
      "  df_to_plot['x'] = (df_to_plot['year']-2022)*12 + df_to_plot['month']\n"
     ]
    },
    {
     "data": {
      "text/plain": [
       "<matplotlib.legend.Legend at 0x145b42db0>"
      ]
     },
     "execution_count": 76,
     "metadata": {},
     "output_type": "execute_result"
    },
    {
     "data": {
      "image/png": "[encoded data removed]",
      "text/plain": [
       "<Figure size 640x480 with 1 Axes>"
      ]
     },
     "metadata": {},
     "output_type": "display_data"
    }
   ],
   "source": [
    "for age in ages:\n",
    "    f1 = df_to_plot_base['age'] == age\n",
    "    df_to_plot = df_to_plot_base[f1]\n",
    "    df_to_plot['x'] = (df_to_plot['year']-2022)*12 + df_to_plot['month']\n",
    "\n",
    "    x = df_to_plot['x']\n",
    "    y = df_to_plot['ratio']\n",
    "    plt.plot(x, y, label=age)\n",
    "\n",
    "# Xticks\n",
    "f1 = df_to_plot['x']%12 == 1\n",
    "xtick_x = df_to_plot['x'][f1]\n",
    "xticks = (df_to_plot['year'].astype(str) + '-'+  df_to_plot['month'].apply(lambda x: str(x).zfill(2)))[f1].to_list()\n",
    "\n",
    "plt.xticks(xtick_x, xticks)\n",
    "plt.grid()\n",
    "plt.legend()"
   ]
  },
  {
   "cell_type": "code",
   "execution_count": null,
   "metadata": {},
   "outputs": [],
   "source": []
  },
  {
   "cell_type": "code",
   "execution_count": 72,
   "metadata": {},
   "outputs": [
    {
     "data": {
      "text/plain": [
       "388     1\n",
       "400    13\n",
       "412    25\n",
       "Name: x, dtype: int32"
      ]
     },
     "execution_count": 72,
     "metadata": {},
     "output_type": "execute_result"
    }
   ],
   "source": [
    "xtick_x"
   ]
  },
  {
   "cell_type": "code",
   "execution_count": 84,
   "metadata": {},
   "outputs": [
    {
     "name": "stderr",
     "output_type": "stream",
     "text": [
      "100%|██████████| 24/24 [00:01<00:00, 14.33it/s]\n"
     ]
    },
    {
     "data": {
      "image/png": "[encoded data removed]",
      "text/plain": [
       "<Figure size 1200x600 with 1 Axes>"
      ]
     },
     "metadata": {},
     "output_type": "display_data"
    }
   ],
   "source": [
    "import requests\n",
    "import json\n",
    "import pandas as pd\n",
    "from datetime import datetime, timedelta\n",
    "from dateutil.relativedelta import relativedelta\n",
    "from tqdm import tqdm\n",
    "from dotenv import load_dotenv\n",
    "import os\n",
    "import matplotlib.pyplot as plt\n",
    "\n",
    "# 환경 변수 로딩\n",
    "load_dotenv()\n",
    "client_id = os.getenv(\"CLIENT_ID\")\n",
    "client_secret = os.getenv(\"CLIENT_SECRET\")\n",
    "\n",
    "# 🔍 비교할 키워드 리스트\n",
    "keywords = [\"샤인머스켓\", \"캠벨포도\", \"홍옥\", \"매킨토시\"]\n",
    "start_month = \"2022-01\"\n",
    "end_month = \"2023-12\"\n",
    "\n",
    "# 월별 기간 생성 함수\n",
    "def get_monthly_periods(start, end):\n",
    "    start_dt = datetime.strptime(start, \"%Y-%m\")\n",
    "    end_dt = datetime.strptime(end, \"%Y-%m\")\n",
    "    periods = []\n",
    "    while start_dt <= end_dt:\n",
    "        s = start_dt.strftime(\"%Y-%m-01\")\n",
    "        e = (start_dt + relativedelta(months=1) - timedelta(days=1)).strftime(\"%Y-%m-%d\")\n",
    "        periods.append((s, e))\n",
    "        start_dt += relativedelta(months=1)\n",
    "    return periods\n",
    "\n",
    "# 네이버 데이터랩 API 호출 함수\n",
    "def fetch_monthly_data(start_date, end_date, keyword_groups):\n",
    "    url = \"https://openapi.naver.com/v1/datalab/search\"\n",
    "    headers = {\n",
    "        \"X-Naver-Client-Id\": client_id,\n",
    "        \"X-Naver-Client-Secret\": client_secret,\n",
    "        \"Content-Type\": \"application/json\"\n",
    "    }\n",
    "\n",
    "    body = {\n",
    "        \"startDate\": start_date,\n",
    "        \"endDate\": end_date,\n",
    "        \"timeUnit\": \"month\",\n",
    "        \"keywordGroups\": keyword_groups\n",
    "    }\n",
    "\n",
    "    res = requests.post(url, headers=headers, data=json.dumps(body))\n",
    "    if res.status_code == 200:\n",
    "        results = res.json()[\"results\"]\n",
    "        flat_data = []\n",
    "        for group in results:\n",
    "            for item in group[\"data\"]:\n",
    "                item[\"keyword\"] = group[\"title\"]\n",
    "                flat_data.append(item)\n",
    "        return flat_data\n",
    "    else:\n",
    "        print(f\"Error on {start_date}~{end_date}: {res.status_code}, {res.text}\")\n",
    "        return []\n",
    "\n",
    "# 요청 실행\n",
    "def run():\n",
    "    periods = get_monthly_periods(start_month, end_month)\n",
    "    results = []\n",
    "\n",
    "    keyword_groups = [{\"groupName\": kw, \"keywords\": [kw]} for kw in keywords]\n",
    "\n",
    "    for s, e in tqdm(periods):\n",
    "        data = fetch_monthly_data(s, e, keyword_groups)\n",
    "        results.extend(data)\n",
    "\n",
    "    df = pd.DataFrame(results)\n",
    "    df[\"period\"] = pd.to_datetime(df[\"period\"])\n",
    "    pivot_df = df.pivot(index=\"period\", columns=\"keyword\", values=\"ratio\")\n",
    "\n",
    "    # 시각화\n",
    "    pivot_df.plot(figsize=(12, 6), marker='o', title=\"키워드별 월간 검색량 (상대지수 기준)\")\n",
    "    plt.ylabel(\"Relative Search Index (0~100)\")\n",
    "    plt.grid(True)\n",
    "    plt.tight_layout()\n",
    "    plt.show()\n",
    "\n",
    "    return pivot_df\n",
    "\n",
    "# 실행\n",
    "if __name__ == \"__main__\":\n",
    "    df_result = run()\n",
    "    # df_result.to_csv(\"keyword_trends.csv\", encoding=\"utf-8-sig\")\n"
   ]
  },
  {
   "cell_type": "code",
   "execution_count": 85,
   "metadata": {},
   "outputs": [
    {
     "name": "stderr",
     "output_type": "stream",
     "text": [
      "4340.92s - pydevd: Sending message related to process being replaced timed-out after 5 seconds\n"
     ]
    },
    {
     "name": "stdout",
     "output_type": "stream",
     "text": [
      "Collecting plotly\n",
      "  Downloading plotly-6.0.1-py3-none-any.whl.metadata (6.7 kB)\n",
      "Collecting narwhals>=1.15.1 (from plotly)\n",
      "  Downloading narwhals-1.36.0-py3-none-any.whl.metadata (9.2 kB)\n",
      "Requirement already satisfied: packaging in /Users/byunghoonlee/Documents/Side Projects/Data Projects/.venv/lib/python3.12/site-packages (from plotly) (24.2)\n",
      "Downloading plotly-6.0.1-py3-none-any.whl (14.8 MB)\n",
      "\u001b[2K   \u001b[90m━━━━━━━━━━━━━━━━━━━━━━━━━━━━━━━━━━━━━━━━\u001b[0m \u001b[32m14.8/14.8 MB\u001b[0m \u001b[31m58.1 MB/s\u001b[0m eta \u001b[36m0:00:00\u001b[0ma \u001b[36m0:00:01\u001b[0m\n",
      "\u001b[?25hDownloading narwhals-1.36.0-py3-none-any.whl (331 kB)\n",
      "Installing collected packages: narwhals, plotly\n",
      "Successfully installed narwhals-1.36.0 plotly-6.0.1\n",
      "Note: you may need to restart the kernel to use updated packages.\n"
     ]
    }
   ],
   "source": [
    "pip install plotly"
   ]
  },
  {
   "cell_type": "code",
   "execution_count": 22,
   "metadata": {},
   "outputs": [],
   "source": [
    "import plotly.graph_objects as go\n",
    "\n",
    "import requests\n",
    "import json\n",
    "import pandas as pd\n",
    "from datetime import datetime, timedelta\n",
    "from dateutil.relativedelta import relativedelta\n",
    "from tqdm import tqdm\n",
    "from dotenv import load_dotenv\n",
    "import os\n",
    "import matplotlib.pyplot as plt\n",
    "\n",
    "# 환경 변수 로딩\n",
    "load_dotenv()\n",
    "client_id = os.getenv(\"CLIENT_ID\")\n",
    "client_secret = os.getenv(\"CLIENT_SECRET\")\n",
    "\n",
    "# 🔍 비교할 키워드 리스트\n",
    "keywords = [\"헬스장\",\"피트니스\",\"다이어트\",\"운동\",\"식단\"]\n",
    "start_month = \"2022-01\"\n",
    "end_month = \"2023-12\""
   ]
  },
  {
   "cell_type": "code",
   "execution_count": 23,
   "metadata": {},
   "outputs": [
    {
     "name": "stderr",
     "output_type": "stream",
     "text": [
      "100%|██████████| 24/24 [00:03<00:00,  7.00it/s]\n"
     ]
    },
    {
     "data": {
      "application/vnd.plotly.v1+json": {
       "config": {
        "plotlyServerURL": "https://plot.ly"
       },
       "data": [
        {
         "mode": "lines+markers",
         "name": "다이어트",
         "type": "scatter",
         "x": [
          "2022-01-01T00:00:00.000000000",
          "2022-02-01T00:00:00.000000000",
          "2022-03-01T00:00:00.000000000",
          "2022-04-01T00:00:00.000000000",
          "2022-05-01T00:00:00.000000000",
          "2022-06-01T00:00:00.000000000",
          "2022-07-01T00:00:00.000000000",
          "2022-08-01T00:00:00.000000000",
          "2022-09-01T00:00:00.000000000",
          "2022-10-01T00:00:00.000000000",
          "2022-11-01T00:00:00.000000000",
          "2022-12-01T00:00:00.000000000",
          "2023-01-01T00:00:00.000000000",
          "2023-02-01T00:00:00.000000000",
          "2023-03-01T00:00:00.000000000",
          "2023-04-01T00:00:00.000000000",
          "2023-05-01T00:00:00.000000000",
          "2023-06-01T00:00:00.000000000",
          "2023-07-01T00:00:00.000000000",
          "2023-08-01T00:00:00.000000000",
          "2023-09-01T00:00:00.000000000",
          "2023-10-01T00:00:00.000000000",
          "2023-11-01T00:00:00.000000000",
          "2023-12-01T00:00:00.000000000"
         ],
         "y": {
          "bdata": "ZB75g4FjR0DZlCu8y5FLQPCiryDNrEhAMgOV8e8/SUBpqbwd4RhJQHQprir7RkhAj3Ba8KKzRkDBxYoaTA9FQBiV1AloukNAn6ut2F+CRED4qpUJv9RCQIEJ3LqbRz1Awf9WsmPbPUAV4/xNKJxCQIPdsG1RgkRAJVgczvzyQ0BRiIBDqI5CQNFXkGYsHkBALJrOTgYnOkAr3sg88vc6QPmgZ7PqSzlAh6JAn8jLPEDQ8jy4Ozs5QBgmUwWjSjRA",
          "dtype": "f8"
         }
        },
        {
         "mode": "lines+markers",
         "name": "식단",
         "type": "scatter",
         "x": [
          "2022-01-01T00:00:00.000000000",
          "2022-02-01T00:00:00.000000000",
          "2022-03-01T00:00:00.000000000",
          "2022-04-01T00:00:00.000000000",
          "2022-05-01T00:00:00.000000000",
          "2022-06-01T00:00:00.000000000",
          "2022-07-01T00:00:00.000000000",
          "2022-08-01T00:00:00.000000000",
          "2022-09-01T00:00:00.000000000",
          "2022-10-01T00:00:00.000000000",
          "2022-11-01T00:00:00.000000000",
          "2022-12-01T00:00:00.000000000",
          "2023-01-01T00:00:00.000000000",
          "2023-02-01T00:00:00.000000000",
          "2023-03-01T00:00:00.000000000",
          "2023-04-01T00:00:00.000000000",
          "2023-05-01T00:00:00.000000000",
          "2023-06-01T00:00:00.000000000",
          "2023-07-01T00:00:00.000000000",
          "2023-08-01T00:00:00.000000000",
          "2023-09-01T00:00:00.000000000",
          "2023-10-01T00:00:00.000000000",
          "2023-11-01T00:00:00.000000000",
          "2023-12-01T00:00:00.000000000"
         ],
         "y": {
          "bdata": "Bi/6CtIMC0CasWg6O9kPQNOf/UgR2Q5AmG4Sg8BKD0CfzarP1ZYOQJhuEoPAigtAYi0+BcC4CkDxKQDGM2gNQN6rVib8Ug5AETY8vVI2EkAeG4F4XX8QQJijx+9t+glAXCBB8WPMCEDBbti2KDMOQMR8eQH2sRBATaHzGrvkEUCmJyzxgBIQQFORCmMLgQ5AtcNfkzUqCkDon+BiRY0LQKUUdHtJ4wpA88gfDDw3D0C1w1+TNeoLQLN78rBQKwdA",
          "dtype": "f8"
         }
        },
        {
         "mode": "lines+markers",
         "name": "운동",
         "type": "scatter",
         "x": [
          "2022-01-01T00:00:00.000000000",
          "2022-02-01T00:00:00.000000000",
          "2022-03-01T00:00:00.000000000",
          "2022-04-01T00:00:00.000000000",
          "2022-05-01T00:00:00.000000000",
          "2022-06-01T00:00:00.000000000",
          "2022-07-01T00:00:00.000000000",
          "2022-08-01T00:00:00.000000000",
          "2022-09-01T00:00:00.000000000",
          "2022-10-01T00:00:00.000000000",
          "2022-11-01T00:00:00.000000000",
          "2022-12-01T00:00:00.000000000",
          "2023-01-01T00:00:00.000000000",
          "2023-02-01T00:00:00.000000000",
          "2023-03-01T00:00:00.000000000",
          "2023-04-01T00:00:00.000000000",
          "2023-05-01T00:00:00.000000000",
          "2023-06-01T00:00:00.000000000",
          "2023-07-01T00:00:00.000000000",
          "2023-08-01T00:00:00.000000000",
          "2023-09-01T00:00:00.000000000",
          "2023-10-01T00:00:00.000000000",
          "2023-11-01T00:00:00.000000000",
          "2023-12-01T00:00:00.000000000"
         ],
         "y": {
          "bdata": "knTN5JtNK0DhfyvZsUEuQB9oBYasji9AU5EKYwuxLkCaJQFqalkuQDfDDfj8cCpAKH6MuWsJKEBUxr/PuEApQDeOWItPsSpAzTtO0ZFsLkA7cM6I0u4sQPW+8bVnxidAMj1hiQfUJECRfvs6cJ4nQF0z+WabKytARFGgT+QpLEDoaiv2l30oQIRkARO4xSdAHJlH/mCAJEAYeO49XPIlQL/xtWeWpCVA2LYos0FGKEAM6lvmdEknQAzNdRpp+SNA",
          "dtype": "f8"
         }
        },
        {
         "mode": "lines+markers",
         "name": "피트니스",
         "type": "scatter",
         "x": [
          "2022-01-01T00:00:00.000000000",
          "2022-02-01T00:00:00.000000000",
          "2022-03-01T00:00:00.000000000",
          "2022-04-01T00:00:00.000000000",
          "2022-05-01T00:00:00.000000000",
          "2022-06-01T00:00:00.000000000",
          "2022-07-01T00:00:00.000000000",
          "2022-08-01T00:00:00.000000000",
          "2022-09-01T00:00:00.000000000",
          "2022-10-01T00:00:00.000000000",
          "2022-11-01T00:00:00.000000000",
          "2022-12-01T00:00:00.000000000",
          "2023-01-01T00:00:00.000000000",
          "2023-02-01T00:00:00.000000000",
          "2023-03-01T00:00:00.000000000",
          "2023-04-01T00:00:00.000000000",
          "2023-05-01T00:00:00.000000000",
          "2023-06-01T00:00:00.000000000",
          "2023-07-01T00:00:00.000000000",
          "2023-08-01T00:00:00.000000000",
          "2023-09-01T00:00:00.000000000",
          "2023-10-01T00:00:00.000000000",
          "2023-11-01T00:00:00.000000000",
          "2023-12-01T00:00:00.000000000"
         ],
         "y": {
          "bdata": "O8JpwYs+FkCLic3HtWEWQJbP8jy4OxhARKhSswe6FkDZJaq3BvYVQJpfzQGC2RRArVEP0ehOE0DQCgxZ3QoVQPZ/DvPlZRZA0VynkZaqGUBRMc7fhIIXQOuQm+EG/BNAlbcjnBb8EUDYgXNGlBYUQBhbCHJQAhRAKA8LtaY5FEBcOBCSBQwTQFgczvxq7hNAI0p7gy+sEEBAwcWKGowRQIf+CS5WdBFAmiUBamq5E0BUAIxn0LASQDG2EOSgBBFA",
          "dtype": "f8"
         }
        },
        {
         "mode": "lines+markers",
         "name": "헬스장",
         "type": "scatter",
         "x": [
          "2022-01-01T00:00:00.000000000",
          "2022-02-01T00:00:00.000000000",
          "2022-03-01T00:00:00.000000000",
          "2022-04-01T00:00:00.000000000",
          "2022-05-01T00:00:00.000000000",
          "2022-06-01T00:00:00.000000000",
          "2022-07-01T00:00:00.000000000",
          "2022-08-01T00:00:00.000000000",
          "2022-09-01T00:00:00.000000000",
          "2022-10-01T00:00:00.000000000",
          "2022-11-01T00:00:00.000000000",
          "2022-12-01T00:00:00.000000000",
          "2023-01-01T00:00:00.000000000",
          "2023-02-01T00:00:00.000000000",
          "2023-03-01T00:00:00.000000000",
          "2023-04-01T00:00:00.000000000",
          "2023-05-01T00:00:00.000000000",
          "2023-06-01T00:00:00.000000000",
          "2023-07-01T00:00:00.000000000",
          "2023-08-01T00:00:00.000000000",
          "2023-09-01T00:00:00.000000000",
          "2023-10-01T00:00:00.000000000",
          "2023-11-01T00:00:00.000000000",
          "2023-12-01T00:00:00.000000000"
         ],
         "y": {
          "bdata": "AAAAAAAAWUAAAAAAAABZQAAAAAAAAFlAAAAAAAAAWUAAAAAAAABZQAAAAAAAAFlAAAAAAAAAWUAAAAAAAABZQAAAAAAAAFlAAAAAAAAAWUAAAAAAAABZQAAAAAAAAFlAAAAAAAAAWUAAAAAAAABZQAAAAAAAAFlAAAAAAAAAWUAAAAAAAABZQAAAAAAAAFlAAAAAAAAAWUAAAAAAAABZQAAAAAAAAFlAAAAAAAAAWUAAAAAAAABZQAAAAAAAAFlA",
          "dtype": "f8"
         }
        }
       ],
       "layout": {
        "height": 600,
        "hovermode": "x unified",
        "template": {
         "data": {
          "bar": [
           {
            "error_x": {
             "color": "#2a3f5f"
            },
            "error_y": {
             "color": "#2a3f5f"
            },
            "marker": {
             "line": {
              "color": "white",
              "width": 0.5
             },
             "pattern": {
              "fillmode": "overlay",
              "size": 10,
              "solidity": 0.2
             }
            },
            "type": "bar"
           }
          ],
          "barpolar": [
           {
            "marker": {
             "line": {
              "color": "white",
              "width": 0.5
             },
             "pattern": {
              "fillmode": "overlay",
              "size": 10,
              "solidity": 0.2
             }
            },
            "type": "barpolar"
           }
          ],
          "carpet": [
           {
            "aaxis": {
             "endlinecolor": "#2a3f5f",
             "gridcolor": "#C8D4E3",
             "linecolor": "#C8D4E3",
             "minorgridcolor": "#C8D4E3",
             "startlinecolor": "#2a3f5f"
            },
            "baxis": {
             "endlinecolor": "#2a3f5f",
             "gridcolor": "#C8D4E3",
             "linecolor": "#C8D4E3",
             "minorgridcolor": "#C8D4E3",
             "startlinecolor": "#2a3f5f"
            },
            "type": "carpet"
           }
          ],
          "choropleth": [
           {
            "colorbar": {
             "outlinewidth": 0,
             "ticks": ""
            },
            "type": "choropleth"
           }
          ],
          "contour": [
           {
            "colorbar": {
             "outlinewidth": 0,
             "ticks": ""
            },
            "colorscale": [
             [
              0,
              "#0d0887"
             ],
             [
              0.1111111111111111,
              "#46039f"
             ],
             [
              0.2222222222222222,
              "#7201a8"
             ],
             [
              0.3333333333333333,
              "#9c179e"
             ],
             [
              0.4444444444444444,
              "#bd3786"
             ],
             [
              0.5555555555555556,
              "#d8576b"
             ],
             [
              0.6666666666666666,
              "#ed7953"
             ],
             [
              0.7777777777777778,
              "#fb9f3a"
             ],
             [
              0.8888888888888888,
              "#fdca26"
             ],
             [
              1,
              "#f0f921"
             ]
            ],
            "type": "contour"
           }
          ],
          "contourcarpet": [
           {
            "colorbar": {
             "outlinewidth": 0,
             "ticks": ""
            },
            "type": "contourcarpet"
           }
          ],
          "heatmap": [
           {
            "colorbar": {
             "outlinewidth": 0,
             "ticks": ""
            },
            "colorscale": [
             [
              0,
              "#0d0887"
             ],
             [
              0.1111111111111111,
              "#46039f"
             ],
             [
              0.2222222222222222,
              "#7201a8"
             ],
             [
              0.3333333333333333,
              "#9c179e"
             ],
             [
              0.4444444444444444,
              "#bd3786"
             ],
             [
              0.5555555555555556,
              "#d8576b"
             ],
             [
              0.6666666666666666,
              "#ed7953"
             ],
             [
              0.7777777777777778,
              "#fb9f3a"
             ],
             [
              0.8888888888888888,
              "#fdca26"
             ],
             [
              1,
              "#f0f921"
             ]
            ],
            "type": "heatmap"
           }
          ],
          "histogram": [
           {
            "marker": {
             "pattern": {
              "fillmode": "overlay",
              "size": 10,
              "solidity": 0.2
             }
            },
            "type": "histogram"
           }
          ],
          "histogram2d": [
           {
            "colorbar": {
             "outlinewidth": 0,
             "ticks": ""
            },
            "colorscale": [
             [
              0,
              "#0d0887"
             ],
             [
              0.1111111111111111,
              "#46039f"
             ],
             [
              0.2222222222222222,
              "#7201a8"
             ],
             [
              0.3333333333333333,
              "#9c179e"
             ],
             [
              0.4444444444444444,
              "#bd3786"
             ],
             [
              0.5555555555555556,
              "#d8576b"
             ],
             [
              0.6666666666666666,
              "#ed7953"
             ],
             [
              0.7777777777777778,
              "#fb9f3a"
             ],
             [
              0.8888888888888888,
              "#fdca26"
             ],
             [
              1,
              "#f0f921"
             ]
            ],
            "type": "histogram2d"
           }
          ],
          "histogram2dcontour": [
           {
            "colorbar": {
             "outlinewidth": 0,
             "ticks": ""
            },
            "colorscale": [
             [
              0,
              "#0d0887"
             ],
             [
              0.1111111111111111,
              "#46039f"
             ],
             [
              0.2222222222222222,
              "#7201a8"
             ],
             [
              0.3333333333333333,
              "#9c179e"
             ],
             [
              0.4444444444444444,
              "#bd3786"
             ],
             [
              0.5555555555555556,
              "#d8576b"
             ],
             [
              0.6666666666666666,
              "#ed7953"
             ],
             [
              0.7777777777777778,
              "#fb9f3a"
             ],
             [
              0.8888888888888888,
              "#fdca26"
             ],
             [
              1,
              "#f0f921"
             ]
            ],
            "type": "histogram2dcontour"
           }
          ],
          "mesh3d": [
           {
            "colorbar": {
             "outlinewidth": 0,
             "ticks": ""
            },
            "type": "mesh3d"
           }
          ],
          "parcoords": [
           {
            "line": {
             "colorbar": {
              "outlinewidth": 0,
              "ticks": ""
             }
            },
            "type": "parcoords"
           }
          ],
          "pie": [
           {
            "automargin": true,
            "type": "pie"
           }
          ],
          "scatter": [
           {
            "fillpattern": {
             "fillmode": "overlay",
             "size": 10,
             "solidity": 0.2
            },
            "type": "scatter"
           }
          ],
          "scatter3d": [
           {
            "line": {
             "colorbar": {
              "outlinewidth": 0,
              "ticks": ""
             }
            },
            "marker": {
             "colorbar": {
              "outlinewidth": 0,
              "ticks": ""
             }
            },
            "type": "scatter3d"
           }
          ],
          "scattercarpet": [
           {
            "marker": {
             "colorbar": {
              "outlinewidth": 0,
              "ticks": ""
             }
            },
            "type": "scattercarpet"
           }
          ],
          "scattergeo": [
           {
            "marker": {
             "colorbar": {
              "outlinewidth": 0,
              "ticks": ""
             }
            },
            "type": "scattergeo"
           }
          ],
          "scattergl": [
           {
            "marker": {
             "colorbar": {
              "outlinewidth": 0,
              "ticks": ""
             }
            },
            "type": "scattergl"
           }
          ],
          "scattermap": [
           {
            "marker": {
             "colorbar": {
              "outlinewidth": 0,
              "ticks": ""
             }
            },
            "type": "scattermap"
           }
          ],
          "scattermapbox": [
           {
            "marker": {
             "colorbar": {
              "outlinewidth": 0,
              "ticks": ""
             }
            },
            "type": "scattermapbox"
           }
          ],
          "scatterpolar": [
           {
            "marker": {
             "colorbar": {
              "outlinewidth": 0,
              "ticks": ""
             }
            },
            "type": "scatterpolar"
           }
          ],
          "scatterpolargl": [
           {
            "marker": {
             "colorbar": {
              "outlinewidth": 0,
              "ticks": ""
             }
            },
            "type": "scatterpolargl"
           }
          ],
          "scatterternary": [
           {
            "marker": {
             "colorbar": {
              "outlinewidth": 0,
              "ticks": ""
             }
            },
            "type": "scatterternary"
           }
          ],
          "surface": [
           {
            "colorbar": {
             "outlinewidth": 0,
             "ticks": ""
            },
            "colorscale": [
             [
              0,
              "#0d0887"
             ],
             [
              0.1111111111111111,
              "#46039f"
             ],
             [
              0.2222222222222222,
              "#7201a8"
             ],
             [
              0.3333333333333333,
              "#9c179e"
             ],
             [
              0.4444444444444444,
              "#bd3786"
             ],
             [
              0.5555555555555556,
              "#d8576b"
             ],
             [
              0.6666666666666666,
              "#ed7953"
             ],
             [
              0.7777777777777778,
              "#fb9f3a"
             ],
             [
              0.8888888888888888,
              "#fdca26"
             ],
             [
              1,
              "#f0f921"
             ]
            ],
            "type": "surface"
           }
          ],
          "table": [
           {
            "cells": {
             "fill": {
              "color": "#EBF0F8"
             },
             "line": {
              "color": "white"
             }
            },
            "header": {
             "fill": {
              "color": "#C8D4E3"
             },
             "line": {
              "color": "white"
             }
            },
            "type": "table"
           }
          ]
         },
         "layout": {
          "annotationdefaults": {
           "arrowcolor": "#2a3f5f",
           "arrowhead": 0,
           "arrowwidth": 1
          },
          "autotypenumbers": "strict",
          "coloraxis": {
           "colorbar": {
            "outlinewidth": 0,
            "ticks": ""
           }
          },
          "colorscale": {
           "diverging": [
            [
             0,
             "#8e0152"
            ],
            [
             0.1,
             "#c51b7d"
            ],
            [
             0.2,
             "#de77ae"
            ],
            [
             0.3,
             "#f1b6da"
            ],
            [
             0.4,
             "#fde0ef"
            ],
            [
             0.5,
             "#f7f7f7"
            ],
            [
             0.6,
             "#e6f5d0"
            ],
            [
             0.7,
             "#b8e186"
            ],
            [
             0.8,
             "#7fbc41"
            ],
            [
             0.9,
             "#4d9221"
            ],
            [
             1,
             "#276419"
            ]
           ],
           "sequential": [
            [
             0,
             "#0d0887"
            ],
            [
             0.1111111111111111,
             "#46039f"
            ],
            [
             0.2222222222222222,
             "#7201a8"
            ],
            [
             0.3333333333333333,
             "#9c179e"
            ],
            [
             0.4444444444444444,
             "#bd3786"
            ],
            [
             0.5555555555555556,
             "#d8576b"
            ],
            [
             0.6666666666666666,
             "#ed7953"
            ],
            [
             0.7777777777777778,
             "#fb9f3a"
            ],
            [
             0.8888888888888888,
             "#fdca26"
            ],
            [
             1,
             "#f0f921"
            ]
           ],
           "sequentialminus": [
            [
             0,
             "#0d0887"
            ],
            [
             0.1111111111111111,
             "#46039f"
            ],
            [
             0.2222222222222222,
             "#7201a8"
            ],
            [
             0.3333333333333333,
             "#9c179e"
            ],
            [
             0.4444444444444444,
             "#bd3786"
            ],
            [
             0.5555555555555556,
             "#d8576b"
            ],
            [
             0.6666666666666666,
             "#ed7953"
            ],
            [
             0.7777777777777778,
             "#fb9f3a"
            ],
            [
             0.8888888888888888,
             "#fdca26"
            ],
            [
             1,
             "#f0f921"
            ]
           ]
          },
          "colorway": [
           "#636efa",
           "#EF553B",
           "#00cc96",
           "#ab63fa",
           "#FFA15A",
           "#19d3f3",
           "#FF6692",
           "#B6E880",
           "#FF97FF",
           "#FECB52"
          ],
          "font": {
           "color": "#2a3f5f"
          },
          "geo": {
           "bgcolor": "white",
           "lakecolor": "white",
           "landcolor": "white",
           "showlakes": true,
           "showland": true,
           "subunitcolor": "#C8D4E3"
          },
          "hoverlabel": {
           "align": "left"
          },
          "hovermode": "closest",
          "mapbox": {
           "style": "light"
          },
          "paper_bgcolor": "white",
          "plot_bgcolor": "white",
          "polar": {
           "angularaxis": {
            "gridcolor": "#EBF0F8",
            "linecolor": "#EBF0F8",
            "ticks": ""
           },
           "bgcolor": "white",
           "radialaxis": {
            "gridcolor": "#EBF0F8",
            "linecolor": "#EBF0F8",
            "ticks": ""
           }
          },
          "scene": {
           "xaxis": {
            "backgroundcolor": "white",
            "gridcolor": "#DFE8F3",
            "gridwidth": 2,
            "linecolor": "#EBF0F8",
            "showbackground": true,
            "ticks": "",
            "zerolinecolor": "#EBF0F8"
           },
           "yaxis": {
            "backgroundcolor": "white",
            "gridcolor": "#DFE8F3",
            "gridwidth": 2,
            "linecolor": "#EBF0F8",
            "showbackground": true,
            "ticks": "",
            "zerolinecolor": "#EBF0F8"
           },
           "zaxis": {
            "backgroundcolor": "white",
            "gridcolor": "#DFE8F3",
            "gridwidth": 2,
            "linecolor": "#EBF0F8",
            "showbackground": true,
            "ticks": "",
            "zerolinecolor": "#EBF0F8"
           }
          },
          "shapedefaults": {
           "line": {
            "color": "#2a3f5f"
           }
          },
          "ternary": {
           "aaxis": {
            "gridcolor": "#DFE8F3",
            "linecolor": "#A2B1C6",
            "ticks": ""
           },
           "baxis": {
            "gridcolor": "#DFE8F3",
            "linecolor": "#A2B1C6",
            "ticks": ""
           },
           "bgcolor": "white",
           "caxis": {
            "gridcolor": "#DFE8F3",
            "linecolor": "#A2B1C6",
            "ticks": ""
           }
          },
          "title": {
           "x": 0.05
          },
          "xaxis": {
           "automargin": true,
           "gridcolor": "#EBF0F8",
           "linecolor": "#EBF0F8",
           "ticks": "",
           "title": {
            "standoff": 15
           },
           "zerolinecolor": "#EBF0F8",
           "zerolinewidth": 2
          },
          "yaxis": {
           "automargin": true,
           "gridcolor": "#EBF0F8",
           "linecolor": "#EBF0F8",
           "ticks": "",
           "title": {
            "standoff": 15
           },
           "zerolinecolor": "#EBF0F8",
           "zerolinewidth": 2
          }
         }
        },
        "title": {
         "text": "키워드별 월간 검색량 (상대지수 기준)"
        },
        "width": 1000,
        "xaxis": {
         "title": {
          "text": "기간"
         }
        },
        "yaxis": {
         "title": {
          "text": "검색량 지수 (0~100)"
         }
        }
       }
      }
     },
     "metadata": {},
     "output_type": "display_data"
    }
   ],
   "source": [
    "\n",
    "# 월별 기간 생성 함수\n",
    "def get_monthly_periods(start, end):\n",
    "    start_dt = datetime.strptime(start, \"%Y-%m\")\n",
    "    end_dt = datetime.strptime(end, \"%Y-%m\")\n",
    "    periods = []\n",
    "    while start_dt <= end_dt:\n",
    "        s = start_dt.strftime(\"%Y-%m-01\")\n",
    "        e = (start_dt + relativedelta(months=1) - timedelta(days=1)).strftime(\"%Y-%m-%d\")\n",
    "        periods.append((s, e))\n",
    "        start_dt += relativedelta(months=1)\n",
    "    return periods\n",
    "\n",
    "# 네이버 데이터랩 API 호출 함수\n",
    "def fetch_monthly_data(start_date, end_date, keyword_groups):\n",
    "    url = \"https://openapi.naver.com/v1/datalab/search\"\n",
    "    headers = {\n",
    "        \"X-Naver-Client-Id\": client_id,\n",
    "        \"X-Naver-Client-Secret\": client_secret,\n",
    "        \"Content-Type\": \"application/json\"\n",
    "    }\n",
    "\n",
    "    body = {\n",
    "        \"startDate\": start_date,\n",
    "        \"endDate\": end_date,\n",
    "        \"timeUnit\": \"month\",\n",
    "        \"keywordGroups\": keyword_groups\n",
    "    }\n",
    "\n",
    "    res = requests.post(url, headers=headers, data=json.dumps(body))\n",
    "    if res.status_code == 200:\n",
    "        results = res.json()[\"results\"]\n",
    "        flat_data = []\n",
    "        for group in results:\n",
    "            for item in group[\"data\"]:\n",
    "                item[\"keyword\"] = group[\"title\"]\n",
    "                flat_data.append(item)\n",
    "        return flat_data\n",
    "    else:\n",
    "        print(f\"Error on {start_date}~{end_date}: {res.status_code}, {res.text}\")\n",
    "        return []\n",
    "    \n",
    "\n",
    "# 인터랙티브 플롯\n",
    "def plot_interactive(df):\n",
    "    fig = go.Figure()\n",
    "\n",
    "    for col in df.columns:\n",
    "        fig.add_trace(go.Scatter(\n",
    "            x=df.index,\n",
    "            y=df[col],\n",
    "            mode='lines+markers',\n",
    "            name=col\n",
    "        ))\n",
    "\n",
    "    fig.update_layout(\n",
    "        title=\"키워드별 월간 검색량 (상대지수 기준)\",\n",
    "        xaxis_title=\"기간\",\n",
    "        yaxis_title=\"검색량 지수 (0~100)\",\n",
    "        hovermode=\"x unified\",\n",
    "        template=\"plotly_white\",\n",
    "        width=1000,\n",
    "        height=600\n",
    "    )\n",
    "\n",
    "    fig.show()\n",
    "\n",
    "# 요청 실행\n",
    "def run():\n",
    "    periods = get_monthly_periods(start_month, end_month)\n",
    "    results = []\n",
    "\n",
    "    keyword_groups = [{\"groupName\": kw, \"keywords\": [kw]} for kw in keywords]\n",
    "\n",
    "    for s, e in tqdm(periods):\n",
    "        data = fetch_monthly_data(s, e, keyword_groups)\n",
    "        results.extend(data)\n",
    "\n",
    "    df = pd.DataFrame(results)\n",
    "    df[\"period\"] = pd.to_datetime(df[\"period\"])\n",
    "    pivot_df = df.pivot(index=\"period\", columns=\"keyword\", values=\"ratio\")\n",
    "    plot_interactive(pivot_df)\n",
    "    # # 시각화\n",
    "    # pivot_df.plot(figsize=(12, 6), marker='o', title=\"키워드별 월간 검색량 (상대지수 기준)\")\n",
    "    # plt.ylabel(\"Relative Search Index (0~100)\")\n",
    "    # plt.grid(True)\n",
    "    # plt.tight_layout()\n",
    "    # plt.show()\n",
    "\n",
    "    return pivot_df\n",
    "\n",
    "# 실행\n",
    "if __name__ == \"__main__\":\n",
    "    df_result = run()\n",
    "    # df_result.to_csv(\"keyword_trends.csv\", encoding=\"utf-8-sig\")\n"
   ]
  },
  {
   "cell_type": "code",
   "execution_count": null,
   "metadata": {},
   "outputs": [],
   "source": []
  },
  {
   "cell_type": "code",
   "execution_count": 3,
   "metadata": {},
   "outputs": [
    {
     "name": "stderr",
     "output_type": "stream",
     "text": [
      "100%|██████████| 24/24 [00:08<00:00,  2.69it/s]\n"
     ]
    },
    {
     "data": {
      "application/vnd.plotly.v1+json": {
       "config": {
        "plotlyServerURL": "https://plot.ly"
       },
       "data": [
        {
         "mode": "lines+markers",
         "name": "1대",
         "type": "scatter",
         "x": [
          "2022-01-01T00:00:00.000000000",
          "2022-02-01T00:00:00.000000000",
          "2022-03-01T00:00:00.000000000",
          "2022-04-01T00:00:00.000000000",
          "2022-05-01T00:00:00.000000000",
          "2022-06-01T00:00:00.000000000",
          "2022-07-01T00:00:00.000000000",
          "2022-08-01T00:00:00.000000000",
          "2022-09-01T00:00:00.000000000",
          "2022-10-01T00:00:00.000000000",
          "2022-11-01T00:00:00.000000000",
          "2022-12-01T00:00:00.000000000",
          "2023-01-01T00:00:00.000000000",
          "2023-02-01T00:00:00.000000000",
          "2023-03-01T00:00:00.000000000",
          "2023-04-01T00:00:00.000000000",
          "2023-05-01T00:00:00.000000000",
          "2023-06-01T00:00:00.000000000",
          "2023-07-01T00:00:00.000000000",
          "2023-08-01T00:00:00.000000000",
          "2023-09-01T00:00:00.000000000",
          "2023-10-01T00:00:00.000000000",
          "2023-11-01T00:00:00.000000000",
          "2023-12-01T00:00:00.000000000"
         ],
         "y": {
          "bdata": "ZGRkZGRkZGRkZGRkZGRkZGRkZGRkZGRk",
          "dtype": "i1"
         }
        },
        {
         "mode": "lines+markers",
         "name": "2대",
         "type": "scatter",
         "x": [
          "2022-01-01T00:00:00.000000000",
          "2022-02-01T00:00:00.000000000",
          "2022-03-01T00:00:00.000000000",
          "2022-04-01T00:00:00.000000000",
          "2022-05-01T00:00:00.000000000",
          "2022-06-01T00:00:00.000000000",
          "2022-07-01T00:00:00.000000000",
          "2022-08-01T00:00:00.000000000",
          "2022-09-01T00:00:00.000000000",
          "2022-10-01T00:00:00.000000000",
          "2022-11-01T00:00:00.000000000",
          "2022-12-01T00:00:00.000000000",
          "2023-01-01T00:00:00.000000000",
          "2023-02-01T00:00:00.000000000",
          "2023-03-01T00:00:00.000000000",
          "2023-04-01T00:00:00.000000000",
          "2023-05-01T00:00:00.000000000",
          "2023-06-01T00:00:00.000000000",
          "2023-07-01T00:00:00.000000000",
          "2023-08-01T00:00:00.000000000",
          "2023-09-01T00:00:00.000000000",
          "2023-10-01T00:00:00.000000000",
          "2023-11-01T00:00:00.000000000",
          "2023-12-01T00:00:00.000000000"
         ],
         "y": {
          "bdata": "ZGRkZGRkZGRkZGRkZGRkZGRkZGRkZGRk",
          "dtype": "i1"
         }
        },
        {
         "mode": "lines+markers",
         "name": "3대",
         "type": "scatter",
         "x": [
          "2022-01-01T00:00:00.000000000",
          "2022-02-01T00:00:00.000000000",
          "2022-03-01T00:00:00.000000000",
          "2022-04-01T00:00:00.000000000",
          "2022-05-01T00:00:00.000000000",
          "2022-06-01T00:00:00.000000000",
          "2022-07-01T00:00:00.000000000",
          "2022-08-01T00:00:00.000000000",
          "2022-09-01T00:00:00.000000000",
          "2022-10-01T00:00:00.000000000",
          "2022-11-01T00:00:00.000000000",
          "2022-12-01T00:00:00.000000000",
          "2023-01-01T00:00:00.000000000",
          "2023-02-01T00:00:00.000000000",
          "2023-03-01T00:00:00.000000000",
          "2023-04-01T00:00:00.000000000",
          "2023-05-01T00:00:00.000000000",
          "2023-06-01T00:00:00.000000000",
          "2023-07-01T00:00:00.000000000",
          "2023-08-01T00:00:00.000000000",
          "2023-09-01T00:00:00.000000000",
          "2023-10-01T00:00:00.000000000",
          "2023-11-01T00:00:00.000000000",
          "2023-12-01T00:00:00.000000000"
         ],
         "y": {
          "bdata": "ZGRkZGRkZGRkZGRkZGRkZGRkZGRkZGRk",
          "dtype": "i1"
         }
        },
        {
         "mode": "lines+markers",
         "name": "4대",
         "type": "scatter",
         "x": [
          "2022-01-01T00:00:00.000000000",
          "2022-02-01T00:00:00.000000000",
          "2022-03-01T00:00:00.000000000",
          "2022-04-01T00:00:00.000000000",
          "2022-05-01T00:00:00.000000000",
          "2022-06-01T00:00:00.000000000",
          "2022-07-01T00:00:00.000000000",
          "2022-08-01T00:00:00.000000000",
          "2022-09-01T00:00:00.000000000",
          "2022-10-01T00:00:00.000000000",
          "2022-11-01T00:00:00.000000000",
          "2022-12-01T00:00:00.000000000",
          "2023-01-01T00:00:00.000000000",
          "2023-02-01T00:00:00.000000000",
          "2023-03-01T00:00:00.000000000",
          "2023-04-01T00:00:00.000000000",
          "2023-05-01T00:00:00.000000000",
          "2023-06-01T00:00:00.000000000",
          "2023-07-01T00:00:00.000000000",
          "2023-08-01T00:00:00.000000000",
          "2023-09-01T00:00:00.000000000",
          "2023-10-01T00:00:00.000000000",
          "2023-11-01T00:00:00.000000000",
          "2023-12-01T00:00:00.000000000"
         ],
         "y": {
          "bdata": "ZGRkZGRkZGRkZGRkZGRkZGRkZGRkZGRk",
          "dtype": "i1"
         }
        },
        {
         "mode": "lines+markers",
         "name": "5대",
         "type": "scatter",
         "x": [
          "2022-01-01T00:00:00.000000000",
          "2022-02-01T00:00:00.000000000",
          "2022-03-01T00:00:00.000000000",
          "2022-04-01T00:00:00.000000000",
          "2022-05-01T00:00:00.000000000",
          "2022-06-01T00:00:00.000000000",
          "2022-07-01T00:00:00.000000000",
          "2022-08-01T00:00:00.000000000",
          "2022-09-01T00:00:00.000000000",
          "2022-10-01T00:00:00.000000000",
          "2022-11-01T00:00:00.000000000",
          "2022-12-01T00:00:00.000000000",
          "2023-01-01T00:00:00.000000000",
          "2023-02-01T00:00:00.000000000",
          "2023-03-01T00:00:00.000000000",
          "2023-04-01T00:00:00.000000000",
          "2023-05-01T00:00:00.000000000",
          "2023-06-01T00:00:00.000000000",
          "2023-07-01T00:00:00.000000000",
          "2023-08-01T00:00:00.000000000",
          "2023-09-01T00:00:00.000000000",
          "2023-10-01T00:00:00.000000000",
          "2023-11-01T00:00:00.000000000",
          "2023-12-01T00:00:00.000000000"
         ],
         "y": {
          "bdata": "ZGRkZGRkZGRkZGRkZGRkZGRkZGRkZGRk",
          "dtype": "i1"
         }
        },
        {
         "mode": "lines+markers",
         "name": "6대",
         "type": "scatter",
         "x": [
          "2022-01-01T00:00:00.000000000",
          "2022-02-01T00:00:00.000000000",
          "2022-03-01T00:00:00.000000000",
          "2022-04-01T00:00:00.000000000",
          "2022-05-01T00:00:00.000000000",
          "2022-06-01T00:00:00.000000000",
          "2022-07-01T00:00:00.000000000",
          "2022-08-01T00:00:00.000000000",
          "2022-09-01T00:00:00.000000000",
          "2022-10-01T00:00:00.000000000",
          "2022-11-01T00:00:00.000000000",
          "2022-12-01T00:00:00.000000000",
          "2023-01-01T00:00:00.000000000",
          "2023-02-01T00:00:00.000000000",
          "2023-03-01T00:00:00.000000000",
          "2023-04-01T00:00:00.000000000",
          "2023-05-01T00:00:00.000000000",
          "2023-06-01T00:00:00.000000000",
          "2023-07-01T00:00:00.000000000",
          "2023-08-01T00:00:00.000000000",
          "2023-09-01T00:00:00.000000000",
          "2023-10-01T00:00:00.000000000",
          "2023-11-01T00:00:00.000000000",
          "2023-12-01T00:00:00.000000000"
         ],
         "y": {
          "bdata": "ZGRkZGRkZGRkZGRkZGRkZGRkZGRkZGRk",
          "dtype": "i1"
         }
        }
       ],
       "layout": {
        "height": 600,
        "hovermode": "x unified",
        "template": {
         "data": {
          "bar": [
           {
            "error_x": {
             "color": "#2a3f5f"
            },
            "error_y": {
             "color": "#2a3f5f"
            },
            "marker": {
             "line": {
              "color": "white",
              "width": 0.5
             },
             "pattern": {
              "fillmode": "overlay",
              "size": 10,
              "solidity": 0.2
             }
            },
            "type": "bar"
           }
          ],
          "barpolar": [
           {
            "marker": {
             "line": {
              "color": "white",
              "width": 0.5
             },
             "pattern": {
              "fillmode": "overlay",
              "size": 10,
              "solidity": 0.2
             }
            },
            "type": "barpolar"
           }
          ],
          "carpet": [
           {
            "aaxis": {
             "endlinecolor": "#2a3f5f",
             "gridcolor": "#C8D4E3",
             "linecolor": "#C8D4E3",
             "minorgridcolor": "#C8D4E3",
             "startlinecolor": "#2a3f5f"
            },
            "baxis": {
             "endlinecolor": "#2a3f5f",
             "gridcolor": "#C8D4E3",
             "linecolor": "#C8D4E3",
             "minorgridcolor": "#C8D4E3",
             "startlinecolor": "#2a3f5f"
            },
            "type": "carpet"
           }
          ],
          "choropleth": [
           {
            "colorbar": {
             "outlinewidth": 0,
             "ticks": ""
            },
            "type": "choropleth"
           }
          ],
          "contour": [
           {
            "colorbar": {
             "outlinewidth": 0,
             "ticks": ""
            },
            "colorscale": [
             [
              0,
              "#0d0887"
             ],
             [
              0.1111111111111111,
              "#46039f"
             ],
             [
              0.2222222222222222,
              "#7201a8"
             ],
             [
              0.3333333333333333,
              "#9c179e"
             ],
             [
              0.4444444444444444,
              "#bd3786"
             ],
             [
              0.5555555555555556,
              "#d8576b"
             ],
             [
              0.6666666666666666,
              "#ed7953"
             ],
             [
              0.7777777777777778,
              "#fb9f3a"
             ],
             [
              0.8888888888888888,
              "#fdca26"
             ],
             [
              1,
              "#f0f921"
             ]
            ],
            "type": "contour"
           }
          ],
          "contourcarpet": [
           {
            "colorbar": {
             "outlinewidth": 0,
             "ticks": ""
            },
            "type": "contourcarpet"
           }
          ],
          "heatmap": [
           {
            "colorbar": {
             "outlinewidth": 0,
             "ticks": ""
            },
            "colorscale": [
             [
              0,
              "#0d0887"
             ],
             [
              0.1111111111111111,
              "#46039f"
             ],
             [
              0.2222222222222222,
              "#7201a8"
             ],
             [
              0.3333333333333333,
              "#9c179e"
             ],
             [
              0.4444444444444444,
              "#bd3786"
             ],
             [
              0.5555555555555556,
              "#d8576b"
             ],
             [
              0.6666666666666666,
              "#ed7953"
             ],
             [
              0.7777777777777778,
              "#fb9f3a"
             ],
             [
              0.8888888888888888,
              "#fdca26"
             ],
             [
              1,
              "#f0f921"
             ]
            ],
            "type": "heatmap"
           }
          ],
          "histogram": [
           {
            "marker": {
             "pattern": {
              "fillmode": "overlay",
              "size": 10,
              "solidity": 0.2
             }
            },
            "type": "histogram"
           }
          ],
          "histogram2d": [
           {
            "colorbar": {
             "outlinewidth": 0,
             "ticks": ""
            },
            "colorscale": [
             [
              0,
              "#0d0887"
             ],
             [
              0.1111111111111111,
              "#46039f"
             ],
             [
              0.2222222222222222,
              "#7201a8"
             ],
             [
              0.3333333333333333,
              "#9c179e"
             ],
             [
              0.4444444444444444,
              "#bd3786"
             ],
             [
              0.5555555555555556,
              "#d8576b"
             ],
             [
              0.6666666666666666,
              "#ed7953"
             ],
             [
              0.7777777777777778,
              "#fb9f3a"
             ],
             [
              0.8888888888888888,
              "#fdca26"
             ],
             [
              1,
              "#f0f921"
             ]
            ],
            "type": "histogram2d"
           }
          ],
          "histogram2dcontour": [
           {
            "colorbar": {
             "outlinewidth": 0,
             "ticks": ""
            },
            "colorscale": [
             [
              0,
              "#0d0887"
             ],
             [
              0.1111111111111111,
              "#46039f"
             ],
             [
              0.2222222222222222,
              "#7201a8"
             ],
             [
              0.3333333333333333,
              "#9c179e"
             ],
             [
              0.4444444444444444,
              "#bd3786"
             ],
             [
              0.5555555555555556,
              "#d8576b"
             ],
             [
              0.6666666666666666,
              "#ed7953"
             ],
             [
              0.7777777777777778,
              "#fb9f3a"
             ],
             [
              0.8888888888888888,
              "#fdca26"
             ],
             [
              1,
              "#f0f921"
             ]
            ],
            "type": "histogram2dcontour"
           }
          ],
          "mesh3d": [
           {
            "colorbar": {
             "outlinewidth": 0,
             "ticks": ""
            },
            "type": "mesh3d"
           }
          ],
          "parcoords": [
           {
            "line": {
             "colorbar": {
              "outlinewidth": 0,
              "ticks": ""
             }
            },
            "type": "parcoords"
           }
          ],
          "pie": [
           {
            "automargin": true,
            "type": "pie"
           }
          ],
          "scatter": [
           {
            "fillpattern": {
             "fillmode": "overlay",
             "size": 10,
             "solidity": 0.2
            },
            "type": "scatter"
           }
          ],
          "scatter3d": [
           {
            "line": {
             "colorbar": {
              "outlinewidth": 0,
              "ticks": ""
             }
            },
            "marker": {
             "colorbar": {
              "outlinewidth": 0,
              "ticks": ""
             }
            },
            "type": "scatter3d"
           }
          ],
          "scattercarpet": [
           {
            "marker": {
             "colorbar": {
              "outlinewidth": 0,
              "ticks": ""
             }
            },
            "type": "scattercarpet"
           }
          ],
          "scattergeo": [
           {
            "marker": {
             "colorbar": {
              "outlinewidth": 0,
              "ticks": ""
             }
            },
            "type": "scattergeo"
           }
          ],
          "scattergl": [
           {
            "marker": {
             "colorbar": {
              "outlinewidth": 0,
              "ticks": ""
             }
            },
            "type": "scattergl"
           }
          ],
          "scattermap": [
           {
            "marker": {
             "colorbar": {
              "outlinewidth": 0,
              "ticks": ""
             }
            },
            "type": "scattermap"
           }
          ],
          "scattermapbox": [
           {
            "marker": {
             "colorbar": {
              "outlinewidth": 0,
              "ticks": ""
             }
            },
            "type": "scattermapbox"
           }
          ],
          "scatterpolar": [
           {
            "marker": {
             "colorbar": {
              "outlinewidth": 0,
              "ticks": ""
             }
            },
            "type": "scatterpolar"
           }
          ],
          "scatterpolargl": [
           {
            "marker": {
             "colorbar": {
              "outlinewidth": 0,
              "ticks": ""
             }
            },
            "type": "scatterpolargl"
           }
          ],
          "scatterternary": [
           {
            "marker": {
             "colorbar": {
              "outlinewidth": 0,
              "ticks": ""
             }
            },
            "type": "scatterternary"
           }
          ],
          "surface": [
           {
            "colorbar": {
             "outlinewidth": 0,
             "ticks": ""
            },
            "colorscale": [
             [
              0,
              "#0d0887"
             ],
             [
              0.1111111111111111,
              "#46039f"
             ],
             [
              0.2222222222222222,
              "#7201a8"
             ],
             [
              0.3333333333333333,
              "#9c179e"
             ],
             [
              0.4444444444444444,
              "#bd3786"
             ],
             [
              0.5555555555555556,
              "#d8576b"
             ],
             [
              0.6666666666666666,
              "#ed7953"
             ],
             [
              0.7777777777777778,
              "#fb9f3a"
             ],
             [
              0.8888888888888888,
              "#fdca26"
             ],
             [
              1,
              "#f0f921"
             ]
            ],
            "type": "surface"
           }
          ],
          "table": [
           {
            "cells": {
             "fill": {
              "color": "#EBF0F8"
             },
             "line": {
              "color": "white"
             }
            },
            "header": {
             "fill": {
              "color": "#C8D4E3"
             },
             "line": {
              "color": "white"
             }
            },
            "type": "table"
           }
          ]
         },
         "layout": {
          "annotationdefaults": {
           "arrowcolor": "#2a3f5f",
           "arrowhead": 0,
           "arrowwidth": 1
          },
          "autotypenumbers": "strict",
          "coloraxis": {
           "colorbar": {
            "outlinewidth": 0,
            "ticks": ""
           }
          },
          "colorscale": {
           "diverging": [
            [
             0,
             "#8e0152"
            ],
            [
             0.1,
             "#c51b7d"
            ],
            [
             0.2,
             "#de77ae"
            ],
            [
             0.3,
             "#f1b6da"
            ],
            [
             0.4,
             "#fde0ef"
            ],
            [
             0.5,
             "#f7f7f7"
            ],
            [
             0.6,
             "#e6f5d0"
            ],
            [
             0.7,
             "#b8e186"
            ],
            [
             0.8,
             "#7fbc41"
            ],
            [
             0.9,
             "#4d9221"
            ],
            [
             1,
             "#276419"
            ]
           ],
           "sequential": [
            [
             0,
             "#0d0887"
            ],
            [
             0.1111111111111111,
             "#46039f"
            ],
            [
             0.2222222222222222,
             "#7201a8"
            ],
            [
             0.3333333333333333,
             "#9c179e"
            ],
            [
             0.4444444444444444,
             "#bd3786"
            ],
            [
             0.5555555555555556,
             "#d8576b"
            ],
            [
             0.6666666666666666,
             "#ed7953"
            ],
            [
             0.7777777777777778,
             "#fb9f3a"
            ],
            [
             0.8888888888888888,
             "#fdca26"
            ],
            [
             1,
             "#f0f921"
            ]
           ],
           "sequentialminus": [
            [
             0,
             "#0d0887"
            ],
            [
             0.1111111111111111,
             "#46039f"
            ],
            [
             0.2222222222222222,
             "#7201a8"
            ],
            [
             0.3333333333333333,
             "#9c179e"
            ],
            [
             0.4444444444444444,
             "#bd3786"
            ],
            [
             0.5555555555555556,
             "#d8576b"
            ],
            [
             0.6666666666666666,
             "#ed7953"
            ],
            [
             0.7777777777777778,
             "#fb9f3a"
            ],
            [
             0.8888888888888888,
             "#fdca26"
            ],
            [
             1,
             "#f0f921"
            ]
           ]
          },
          "colorway": [
           "#636efa",
           "#EF553B",
           "#00cc96",
           "#ab63fa",
           "#FFA15A",
           "#19d3f3",
           "#FF6692",
           "#B6E880",
           "#FF97FF",
           "#FECB52"
          ],
          "font": {
           "color": "#2a3f5f"
          },
          "geo": {
           "bgcolor": "white",
           "lakecolor": "white",
           "landcolor": "white",
           "showlakes": true,
           "showland": true,
           "subunitcolor": "#C8D4E3"
          },
          "hoverlabel": {
           "align": "left"
          },
          "hovermode": "closest",
          "mapbox": {
           "style": "light"
          },
          "paper_bgcolor": "white",
          "plot_bgcolor": "white",
          "polar": {
           "angularaxis": {
            "gridcolor": "#EBF0F8",
            "linecolor": "#EBF0F8",
            "ticks": ""
           },
           "bgcolor": "white",
           "radialaxis": {
            "gridcolor": "#EBF0F8",
            "linecolor": "#EBF0F8",
            "ticks": ""
           }
          },
          "scene": {
           "xaxis": {
            "backgroundcolor": "white",
            "gridcolor": "#DFE8F3",
            "gridwidth": 2,
            "linecolor": "#EBF0F8",
            "showbackground": true,
            "ticks": "",
            "zerolinecolor": "#EBF0F8"
           },
           "yaxis": {
            "backgroundcolor": "white",
            "gridcolor": "#DFE8F3",
            "gridwidth": 2,
            "linecolor": "#EBF0F8",
            "showbackground": true,
            "ticks": "",
            "zerolinecolor": "#EBF0F8"
           },
           "zaxis": {
            "backgroundcolor": "white",
            "gridcolor": "#DFE8F3",
            "gridwidth": 2,
            "linecolor": "#EBF0F8",
            "showbackground": true,
            "ticks": "",
            "zerolinecolor": "#EBF0F8"
           }
          },
          "shapedefaults": {
           "line": {
            "color": "#2a3f5f"
           }
          },
          "ternary": {
           "aaxis": {
            "gridcolor": "#DFE8F3",
            "linecolor": "#A2B1C6",
            "ticks": ""
           },
           "baxis": {
            "gridcolor": "#DFE8F3",
            "linecolor": "#A2B1C6",
            "ticks": ""
           },
           "bgcolor": "white",
           "caxis": {
            "gridcolor": "#DFE8F3",
            "linecolor": "#A2B1C6",
            "ticks": ""
           }
          },
          "title": {
           "x": 0.05
          },
          "xaxis": {
           "automargin": true,
           "gridcolor": "#EBF0F8",
           "linecolor": "#EBF0F8",
           "ticks": "",
           "title": {
            "standoff": 15
           },
           "zerolinecolor": "#EBF0F8",
           "zerolinewidth": 2
          },
          "yaxis": {
           "automargin": true,
           "gridcolor": "#EBF0F8",
           "linecolor": "#EBF0F8",
           "ticks": "",
           "title": {
            "standoff": 15
           },
           "zerolinecolor": "#EBF0F8",
           "zerolinewidth": 2
          }
         }
        },
        "title": {
         "text": "연령대별 '샤인머스켓' 검색량 추이"
        },
        "width": 1000,
        "xaxis": {
         "title": {
          "text": "기간"
         }
        },
        "yaxis": {
         "title": {
          "text": "검색량 지수 (0~100)"
         }
        }
       }
      }
     },
     "metadata": {},
     "output_type": "display_data"
    }
   ],
   "source": [
    "import requests\n",
    "import json\n",
    "import pandas as pd\n",
    "from datetime import datetime, timedelta\n",
    "from dateutil.relativedelta import relativedelta\n",
    "from tqdm import tqdm\n",
    "from dotenv import load_dotenv\n",
    "import os\n",
    "import plotly.graph_objects as go\n",
    "\n",
    "# 환경 변수 로딩\n",
    "load_dotenv()\n",
    "client_id = os.getenv(\"CLIENT_ID\")\n",
    "client_secret = os.getenv(\"CLIENT_SECRET\")\n",
    "\n",
    "# 키워드 및 연령대 설정\n",
    "keyword = \"샤인머스켓\"\n",
    "ages = [\"1\", \"2\", \"3\", \"4\", \"5\", \"6\"]\n",
    "start_month = \"2022-01\"\n",
    "end_month = \"2023-12\"\n",
    "\n",
    "# 월별 기간 생성 함수\n",
    "def get_monthly_periods(start, end):\n",
    "    start_dt = datetime.strptime(start, \"%Y-%m\")\n",
    "    end_dt = datetime.strptime(end, \"%Y-%m\")\n",
    "    periods = []\n",
    "    while start_dt <= end_dt:\n",
    "        s = start_dt.strftime(\"%Y-%m-01\")\n",
    "        e = (start_dt + relativedelta(months=1) - timedelta(days=1)).strftime(\"%Y-%m-%d\")\n",
    "        periods.append((s, e))\n",
    "        start_dt += relativedelta(months=1)\n",
    "    return periods\n",
    "\n",
    "# 네이버 데이터랩 API 호출 함수 (연령별 요청)\n",
    "def fetch_age_data(start_date, end_date, keyword, age):\n",
    "    url = \"https://openapi.naver.com/v1/datalab/search\"\n",
    "    headers = {\n",
    "        \"X-Naver-Client-Id\": client_id,\n",
    "        \"X-Naver-Client-Secret\": client_secret,\n",
    "        \"Content-Type\": \"application/json\"\n",
    "    }\n",
    "\n",
    "    body = {\n",
    "        \"startDate\": start_date,\n",
    "        \"endDate\": end_date,\n",
    "        \"timeUnit\": \"month\",\n",
    "        \"keywordGroups\": [{\"groupName\": keyword, \"keywords\": [keyword]}],\n",
    "        \"ages\": [age]\n",
    "    }\n",
    "\n",
    "    res = requests.post(url, headers=headers, data=json.dumps(body))\n",
    "    if res.status_code == 200:\n",
    "        results = res.json()[\"results\"][0][\"data\"]\n",
    "        for item in results:\n",
    "            item[\"age\"] = age\n",
    "        return results\n",
    "    else:\n",
    "        print(f\"Error on {start_date}~{end_date} for age {age}: {res.status_code}, {res.text}\")\n",
    "        return []\n",
    "\n",
    "# 실행 함수\n",
    "def run():\n",
    "    periods = get_monthly_periods(start_month, end_month)\n",
    "    results = []\n",
    "\n",
    "    for s, e in tqdm(periods):\n",
    "        for age in ages:\n",
    "            data = fetch_age_data(s, e, keyword, age)\n",
    "            results.extend(data)\n",
    "\n",
    "    df = pd.DataFrame(results)\n",
    "    df[\"period\"] = pd.to_datetime(df[\"period\"])\n",
    "    pivot_df = df.pivot(index=\"period\", columns=\"age\", values=\"ratio\")\n",
    "\n",
    "    # 인터랙티브 그래프\n",
    "    fig = go.Figure()\n",
    "    for col in pivot_df.columns:\n",
    "        fig.add_trace(go.Scatter(\n",
    "            x=pivot_df.index,\n",
    "            y=pivot_df[col],\n",
    "            mode='lines+markers',\n",
    "            name=f\"{col}대\"\n",
    "        ))\n",
    "\n",
    "    fig.update_layout(\n",
    "        title=f\"연령대별 '{keyword}' 검색량 추이\",\n",
    "        xaxis_title=\"기간\",\n",
    "        yaxis_title=\"검색량 지수 (0~100)\",\n",
    "        hovermode=\"x unified\",\n",
    "        template=\"plotly_white\",\n",
    "        width=1000,\n",
    "        height=600\n",
    "    )\n",
    "\n",
    "    fig.show()\n",
    "    return pivot_df\n",
    "\n",
    "# 실행\n",
    "if __name__ == \"__main__\":\n",
    "    df_result = run()\n",
    "    # df_result.to_csv(\"age_keyword_trends.csv\", encoding=\"utf-8-sig\")\n"
   ]
  },
  {
   "cell_type": "code",
   "execution_count": null,
   "metadata": {},
   "outputs": [],
   "source": []
  },
  {
   "cell_type": "code",
   "execution_count": null,
   "metadata": {},
   "outputs": [],
   "source": []
  },
  {
   "cell_type": "markdown",
   "metadata": {},
   "source": [
    "---"
   ]
  },
  {
   "cell_type": "code",
   "execution_count": 22,
   "metadata": {},
   "outputs": [],
   "source": [
    "df_kwds = pd.read_csv('./data/w2/wiktionary_foodlist.csv', index_col=0)"
   ]
  },
  {
   "cell_type": "code",
   "execution_count": 39,
   "metadata": {},
   "outputs": [
    {
     "name": "stdout",
     "output_type": "stream",
     "text": [
      "Error: 400\n",
      "{\"errMsg\":\"TypeError: .keywordGroups -> should NOT have less than 1 items\",\"errId\":\"2025-04-21T21:36:22+09:00/797615849-246834239\",\"body\":\"{\\\"startDate\\\":\\\"2023-01-01\\\",\\\"endDate\\\":\\\"2024-12-31\\\",\\\"timeUnit\\\":\\\"date\\\",\\\"keywordGroups\\\":[]}\"}\n"
     ]
    }
   ],
   "source": [
    "# 사용 예시\n",
    "kwds = df_kwds['0'].to_list()\n",
    "df_search = pd.DataFrame()\n",
    "\n",
    "for i in range(1, int(len(kwds)/5+1)):\n",
    "    kwds_to_search = kwds[i*5:(i+1)*5]\n",
    "    df_tmp = get_search_trend(\n",
    "        startDate=\"2023-01-01\",\n",
    "        endDate=\"2024-12-31\",\n",
    "        keywords=kwds_to_search\n",
    "    )\n",
    "\n",
    "    df_search = pd.concat([df_search, df_tmp])"
   ]
  },
  {
   "cell_type": "code",
   "execution_count": 41,
   "metadata": {},
   "outputs": [
    {
     "data": {
      "text/plain": [
       "(251090, 3)"
      ]
     },
     "execution_count": 41,
     "metadata": {},
     "output_type": "execute_result"
    }
   ],
   "source": [
    "df_search.shape"
   ]
  },
  {
   "cell_type": "code",
   "execution_count": 54,
   "metadata": {},
   "outputs": [
    {
     "data": {
      "text/html": [
       "<div>\n",
       "<style scoped>\n",
       "    .dataframe tbody tr th:only-of-type {\n",
       "        vertical-align: middle;\n",
       "    }\n",
       "\n",
       "    .dataframe tbody tr th {\n",
       "        vertical-align: top;\n",
       "    }\n",
       "\n",
       "    .dataframe thead th {\n",
       "        text-align: right;\n",
       "    }\n",
       "</style>\n",
       "<table border=\"1\" class=\"dataframe\">\n",
       "  <thead>\n",
       "    <tr style=\"text-align: right;\">\n",
       "      <th></th>\n",
       "      <th>date</th>\n",
       "      <th>keyword</th>\n",
       "      <th>ratio</th>\n",
       "    </tr>\n",
       "  </thead>\n",
       "  <tbody>\n",
       "    <tr>\n",
       "      <th>0</th>\n",
       "      <td>2023-01-01</td>\n",
       "      <td>간장</td>\n",
       "      <td>6.40865</td>\n",
       "    </tr>\n",
       "    <tr>\n",
       "      <th>1</th>\n",
       "      <td>2023-01-02</td>\n",
       "      <td>간장</td>\n",
       "      <td>6.79705</td>\n",
       "    </tr>\n",
       "    <tr>\n",
       "      <th>2</th>\n",
       "      <td>2023-01-03</td>\n",
       "      <td>간장</td>\n",
       "      <td>8.05937</td>\n",
       "    </tr>\n",
       "    <tr>\n",
       "      <th>3</th>\n",
       "      <td>2023-01-04</td>\n",
       "      <td>간장</td>\n",
       "      <td>7.39353</td>\n",
       "    </tr>\n",
       "    <tr>\n",
       "      <th>4</th>\n",
       "      <td>2023-01-05</td>\n",
       "      <td>간장</td>\n",
       "      <td>7.87904</td>\n",
       "    </tr>\n",
       "    <tr>\n",
       "      <th>...</th>\n",
       "      <td>...</td>\n",
       "      <td>...</td>\n",
       "      <td>...</td>\n",
       "    </tr>\n",
       "    <tr>\n",
       "      <th>2649</th>\n",
       "      <td>2024-11-01</td>\n",
       "      <td>희아리</td>\n",
       "      <td>1.26262</td>\n",
       "    </tr>\n",
       "    <tr>\n",
       "      <th>2650</th>\n",
       "      <td>2024-11-03</td>\n",
       "      <td>희아리</td>\n",
       "      <td>1.51515</td>\n",
       "    </tr>\n",
       "    <tr>\n",
       "      <th>2651</th>\n",
       "      <td>2024-11-14</td>\n",
       "      <td>희아리</td>\n",
       "      <td>1.51515</td>\n",
       "    </tr>\n",
       "    <tr>\n",
       "      <th>2652</th>\n",
       "      <td>2024-11-24</td>\n",
       "      <td>희아리</td>\n",
       "      <td>1.26262</td>\n",
       "    </tr>\n",
       "    <tr>\n",
       "      <th>2653</th>\n",
       "      <td>2024-12-13</td>\n",
       "      <td>희아리</td>\n",
       "      <td>1.51515</td>\n",
       "    </tr>\n",
       "  </tbody>\n",
       "</table>\n",
       "<p>251090 rows × 3 columns</p>\n",
       "</div>"
      ],
      "text/plain": [
       "            date keyword    ratio\n",
       "0     2023-01-01      간장  6.40865\n",
       "1     2023-01-02      간장  6.79705\n",
       "2     2023-01-03      간장  8.05937\n",
       "3     2023-01-04      간장  7.39353\n",
       "4     2023-01-05      간장  7.87904\n",
       "...          ...     ...      ...\n",
       "2649  2024-11-01     희아리  1.26262\n",
       "2650  2024-11-03     희아리  1.51515\n",
       "2651  2024-11-14     희아리  1.51515\n",
       "2652  2024-11-24     희아리  1.26262\n",
       "2653  2024-12-13     희아리  1.51515\n",
       "\n",
       "[251090 rows x 3 columns]"
      ]
     },
     "execution_count": 54,
     "metadata": {},
     "output_type": "execute_result"
    }
   ],
   "source": [
    "df_search"
   ]
  },
  {
   "cell_type": "code",
   "execution_count": 44,
   "metadata": {},
   "outputs": [
    {
     "data": {
      "text/plain": [
       "keyword\n",
       "간장        731\n",
       "양장피       731\n",
       "오르되브르     731\n",
       "오렌지 주스    731\n",
       "오니기리      731\n",
       "         ... \n",
       "삼두음         2\n",
       "삼합미음        2\n",
       "수타 자장       1\n",
       "밥감주         1\n",
       "애기젖가루       1\n",
       "Name: count, Length: 393, dtype: int64"
      ]
     },
     "execution_count": 44,
     "metadata": {},
     "output_type": "execute_result"
    }
   ],
   "source": [
    "df_search['keyword'].value_counts()"
   ]
  },
  {
   "cell_type": "code",
   "execution_count": 52,
   "metadata": {},
   "outputs": [
    {
     "data": {
      "text/html": [
       "<div>\n",
       "<style scoped>\n",
       "    .dataframe tbody tr th:only-of-type {\n",
       "        vertical-align: middle;\n",
       "    }\n",
       "\n",
       "    .dataframe tbody tr th {\n",
       "        vertical-align: top;\n",
       "    }\n",
       "\n",
       "    .dataframe thead th {\n",
       "        text-align: right;\n",
       "    }\n",
       "</style>\n",
       "<table border=\"1\" class=\"dataframe\">\n",
       "  <thead>\n",
       "    <tr style=\"text-align: right;\">\n",
       "      <th></th>\n",
       "      <th>ratio</th>\n",
       "    </tr>\n",
       "    <tr>\n",
       "      <th>keyword</th>\n",
       "      <th></th>\n",
       "    </tr>\n",
       "  </thead>\n",
       "  <tbody>\n",
       "    <tr>\n",
       "      <th>차</th>\n",
       "      <td>76.408444</td>\n",
       "    </tr>\n",
       "    <tr>\n",
       "      <th>국</th>\n",
       "      <td>67.296898</td>\n",
       "    </tr>\n",
       "    <tr>\n",
       "      <th>계란</th>\n",
       "      <td>66.062557</td>\n",
       "    </tr>\n",
       "    <tr>\n",
       "      <th>크림</th>\n",
       "      <td>63.618615</td>\n",
       "    </tr>\n",
       "    <tr>\n",
       "      <th>먹거리</th>\n",
       "      <td>61.605824</td>\n",
       "    </tr>\n",
       "    <tr>\n",
       "      <th>고기</th>\n",
       "      <td>61.034798</td>\n",
       "    </tr>\n",
       "    <tr>\n",
       "      <th>죽</th>\n",
       "      <td>60.243192</td>\n",
       "    </tr>\n",
       "    <tr>\n",
       "      <th>된장찌개</th>\n",
       "      <td>59.822440</td>\n",
       "    </tr>\n",
       "    <tr>\n",
       "      <th>마요네즈</th>\n",
       "      <td>59.731602</td>\n",
       "    </tr>\n",
       "    <tr>\n",
       "      <th>김밥</th>\n",
       "      <td>58.433671</td>\n",
       "    </tr>\n",
       "    <tr>\n",
       "      <th>부대찌개</th>\n",
       "      <td>57.384840</td>\n",
       "    </tr>\n",
       "    <tr>\n",
       "      <th>햄버거</th>\n",
       "      <td>56.348863</td>\n",
       "    </tr>\n",
       "    <tr>\n",
       "      <th>버터</th>\n",
       "      <td>55.612431</td>\n",
       "    </tr>\n",
       "    <tr>\n",
       "      <th>타코야끼</th>\n",
       "      <td>54.550003</td>\n",
       "    </tr>\n",
       "    <tr>\n",
       "      <th>쌀</th>\n",
       "      <td>54.541854</td>\n",
       "    </tr>\n",
       "    <tr>\n",
       "      <th>주먹밥</th>\n",
       "      <td>53.069173</td>\n",
       "    </tr>\n",
       "    <tr>\n",
       "      <th>오니기리</th>\n",
       "      <td>52.429024</td>\n",
       "    </tr>\n",
       "    <tr>\n",
       "      <th>과자</th>\n",
       "      <td>51.526640</td>\n",
       "    </tr>\n",
       "    <tr>\n",
       "      <th>순두부찌개</th>\n",
       "      <td>51.138229</td>\n",
       "    </tr>\n",
       "    <tr>\n",
       "      <th>아이스크림</th>\n",
       "      <td>50.897519</td>\n",
       "    </tr>\n",
       "  </tbody>\n",
       "</table>\n",
       "</div>"
      ],
      "text/plain": [
       "             ratio\n",
       "keyword           \n",
       "차        76.408444\n",
       "국        67.296898\n",
       "계란       66.062557\n",
       "크림       63.618615\n",
       "먹거리      61.605824\n",
       "고기       61.034798\n",
       "죽        60.243192\n",
       "된장찌개     59.822440\n",
       "마요네즈     59.731602\n",
       "김밥       58.433671\n",
       "부대찌개     57.384840\n",
       "햄버거      56.348863\n",
       "버터       55.612431\n",
       "타코야끼     54.550003\n",
       "쌀        54.541854\n",
       "주먹밥      53.069173\n",
       "오니기리     52.429024\n",
       "과자       51.526640\n",
       "순두부찌개    51.138229\n",
       "아이스크림    50.897519"
      ]
     },
     "execution_count": 52,
     "metadata": {},
     "output_type": "execute_result"
    }
   ],
   "source": [
    "df_search[['keyword', 'ratio']].groupby('keyword').mean().sort_values(by='ratio', ascending=False).iloc[:20]"
   ]
  },
  {
   "cell_type": "code",
   "execution_count": 46,
   "metadata": {},
   "outputs": [
    {
     "data": {
      "text/html": [
       "<div>\n",
       "<style scoped>\n",
       "    .dataframe tbody tr th:only-of-type {\n",
       "        vertical-align: middle;\n",
       "    }\n",
       "\n",
       "    .dataframe tbody tr th {\n",
       "        vertical-align: top;\n",
       "    }\n",
       "\n",
       "    .dataframe thead th {\n",
       "        text-align: right;\n",
       "    }\n",
       "</style>\n",
       "<table border=\"1\" class=\"dataframe\">\n",
       "  <thead>\n",
       "    <tr style=\"text-align: right;\">\n",
       "      <th></th>\n",
       "      <th>date</th>\n",
       "      <th>keyword</th>\n",
       "      <th>ratio</th>\n",
       "    </tr>\n",
       "  </thead>\n",
       "  <tbody>\n",
       "    <tr>\n",
       "      <th>2051</th>\n",
       "      <td>2023-01-01</td>\n",
       "      <td>오니기리</td>\n",
       "      <td>42.64184</td>\n",
       "    </tr>\n",
       "    <tr>\n",
       "      <th>2052</th>\n",
       "      <td>2023-01-02</td>\n",
       "      <td>오니기리</td>\n",
       "      <td>51.24113</td>\n",
       "    </tr>\n",
       "    <tr>\n",
       "      <th>2053</th>\n",
       "      <td>2023-01-03</td>\n",
       "      <td>오니기리</td>\n",
       "      <td>56.02836</td>\n",
       "    </tr>\n",
       "    <tr>\n",
       "      <th>2054</th>\n",
       "      <td>2023-01-04</td>\n",
       "      <td>오니기리</td>\n",
       "      <td>49.46808</td>\n",
       "    </tr>\n",
       "    <tr>\n",
       "      <th>2055</th>\n",
       "      <td>2023-01-05</td>\n",
       "      <td>오니기리</td>\n",
       "      <td>52.65957</td>\n",
       "    </tr>\n",
       "    <tr>\n",
       "      <th>...</th>\n",
       "      <td>...</td>\n",
       "      <td>...</td>\n",
       "      <td>...</td>\n",
       "    </tr>\n",
       "    <tr>\n",
       "      <th>2777</th>\n",
       "      <td>2024-12-27</td>\n",
       "      <td>오니기리</td>\n",
       "      <td>41.40070</td>\n",
       "    </tr>\n",
       "    <tr>\n",
       "      <th>2778</th>\n",
       "      <td>2024-12-28</td>\n",
       "      <td>오니기리</td>\n",
       "      <td>49.02482</td>\n",
       "    </tr>\n",
       "    <tr>\n",
       "      <th>2779</th>\n",
       "      <td>2024-12-29</td>\n",
       "      <td>오니기리</td>\n",
       "      <td>48.49290</td>\n",
       "    </tr>\n",
       "    <tr>\n",
       "      <th>2780</th>\n",
       "      <td>2024-12-30</td>\n",
       "      <td>오니기리</td>\n",
       "      <td>46.54255</td>\n",
       "    </tr>\n",
       "    <tr>\n",
       "      <th>2781</th>\n",
       "      <td>2024-12-31</td>\n",
       "      <td>오니기리</td>\n",
       "      <td>51.86170</td>\n",
       "    </tr>\n",
       "  </tbody>\n",
       "</table>\n",
       "<p>731 rows × 3 columns</p>\n",
       "</div>"
      ],
      "text/plain": [
       "            date keyword     ratio\n",
       "2051  2023-01-01    오니기리  42.64184\n",
       "2052  2023-01-02    오니기리  51.24113\n",
       "2053  2023-01-03    오니기리  56.02836\n",
       "2054  2023-01-04    오니기리  49.46808\n",
       "2055  2023-01-05    오니기리  52.65957\n",
       "...          ...     ...       ...\n",
       "2777  2024-12-27    오니기리  41.40070\n",
       "2778  2024-12-28    오니기리  49.02482\n",
       "2779  2024-12-29    오니기리  48.49290\n",
       "2780  2024-12-30    오니기리  46.54255\n",
       "2781  2024-12-31    오니기리  51.86170\n",
       "\n",
       "[731 rows x 3 columns]"
      ]
     },
     "execution_count": 46,
     "metadata": {},
     "output_type": "execute_result"
    }
   ],
   "source": [
    "df_search[df_search['keyword'] == '오니기리']"
   ]
  },
  {
   "cell_type": "code",
   "execution_count": null,
   "metadata": {},
   "outputs": [],
   "source": []
  },
  {
   "cell_type": "code",
   "execution_count": null,
   "metadata": {},
   "outputs": [],
   "source": []
  },
  {
   "cell_type": "code",
   "execution_count": 7,
   "metadata": {},
   "outputs": [],
   "source": [
    "def collect_data_by_period(start_date, end_date, interval_days=30):\n",
    "    \"\"\"기간을 나누어 데이터 수집\"\"\"\n",
    "    start = datetime.strptime(start_date, \"%Y-%m-%d\")\n",
    "    end = datetime.strptime(end_date, \"%Y-%m-%d\")\n",
    "    \n",
    "    all_results = []\n",
    "    current = start\n",
    "    \n",
    "    while current < end:\n",
    "        period_end = min(current + timedelta(days=interval_days), end)\n",
    "        \n",
    "        # 데이터 수집\n",
    "        period_data = get_shopping_insight(\n",
    "            startDate=current.strftime(\"%Y-%m-%d\"),\n",
    "            endDate=period_end.strftime(\"%Y-%m-%d\"),\n",
    "            category=category\n",
    "        )\n",
    "        \n",
    "        if period_data is not None:\n",
    "            all_results.append(period_data)\n",
    "        \n",
    "        current = period_end + timedelta(days=1)\n",
    "    \n",
    "    # 모든 결과 합치기\n",
    "    return pd.concat(all_results, ignore_index=True)"
   ]
  },
  {
   "cell_type": "code",
   "execution_count": null,
   "metadata": {},
   "outputs": [],
   "source": []
  },
  {
   "cell_type": "code",
   "execution_count": 10,
   "metadata": {},
   "outputs": [],
   "source": [
    "# 데이터 저장\n",
    "def save_results(df, filename):\n",
    "    # CSV로 저장\n",
    "    df.to_csv(f\"{filename}.csv\", index=False, encoding='utf-8-sig')\n",
    "    \n",
    "    # Parquet로 저장\n",
    "    df.to_parquet(f\"{filename}.parquet\")\n",
    "\n",
    "# 데이터 수집 및 저장\n",
    "df_shopping = collect_data_by_period(\"2023-01-01\", \"2024-03-20\")\n",
    "save_results(df_shopping, \"naver_shopping_trends\")\n",
    "\n",
    "# 간단한 분석\n",
    "def analyze_trends(df):\n",
    "    # 카테고리별 평균 비율\n",
    "    category_avg = df.groupby('category')['ratio'].mean()\n",
    "    \n",
    "    # 시간별 트렌드\n",
    "    time_trend = df.pivot(index='date', columns='category', values='ratio')\n",
    "    \n",
    "    # 최근 30일 트렌드\n",
    "    recent_trend = df[df['date'] >= (pd.Timestamp.now() - pd.Timedelta(days=30))]\n",
    "    \n",
    "    return {\n",
    "        'category_avg': category_avg,\n",
    "        'time_trend': time_trend,\n",
    "        'recent_trend': recent_trend\n",
    "    }"
   ]
  },
  {
   "cell_type": "code",
   "execution_count": null,
   "metadata": {},
   "outputs": [],
   "source": []
  },
  {
   "cell_type": "code",
   "execution_count": null,
   "metadata": {},
   "outputs": [],
   "source": []
  },
  {
   "cell_type": "markdown",
   "metadata": {},
   "source": [
    "## [2] 맛집검색"
   ]
  },
  {
   "cell_type": "code",
   "execution_count": 13,
   "metadata": {},
   "outputs": [
    {
     "name": "stdout",
     "output_type": "stream",
     "text": [
      "Analyzing 맛집 in 강남역...\n",
      "Analyzing 카페 in 강남역...\n",
      "Analyzing 술집 in 강남역...\n",
      "Analyzing 맛집 in 홍대입구...\n",
      "Analyzing 카페 in 홍대입구...\n",
      "Analyzing 술집 in 홍대입구...\n",
      "Analyzing 맛집 in 이태원...\n",
      "Analyzing 카페 in 이태원...\n",
      "Analyzing 술집 in 이태원...\n",
      "\n",
      "=== 지역별 인기 장소 수 ===\n",
      "area  search_category\n",
      "강남역   맛집                 5\n",
      "      술집                 5\n",
      "      카페                 5\n",
      "이태원   맛집                 5\n",
      "      술집                 5\n",
      "      카페                 5\n",
      "홍대입구  맛집                 5\n",
      "      술집                 5\n",
      "      카페                 5\n",
      "dtype: int64\n",
      "\n",
      "=== 카테고리 분포 ===\n",
      "category\n",
      "카페,디저트>카페      6\n",
      "술집>요리주점        5\n",
      "카페,디저트>베이커리    4\n",
      "술집>이자카야        3\n",
      "음식점>카페,디저트     3\n",
      "Name: count, dtype: int64\n"
     ]
    }
   ],
   "source": [
    "import requests\n",
    "import json\n",
    "import pandas as pd\n",
    "from datetime import datetime, timedelta\n",
    "import time\n",
    "from bs4 import BeautifulSoup\n",
    "import re\n",
    "\n",
    "\n",
    "## env\n",
    "from dotenv import load_dotenv\n",
    "import os\n",
    "\n",
    "\n",
    "class NaverPlaceAnalyzer:\n",
    "    def __init__(self, client_id, client_secret):\n",
    "        self.client_id = client_id\n",
    "        self.client_secret = client_secret\n",
    "        self.headers = {\n",
    "            \"X-Naver-Client-Id\": client_id,\n",
    "            \"X-Naver-Client-Secret\": client_secret\n",
    "        }\n",
    "\n",
    "    def search_places(self, query, display=5):\n",
    "        \"\"\"네이버 지역 검색 API를 사용하여 장소 검색\"\"\"\n",
    "        url = \"https://openapi.naver.com/v1/search/local.json\"\n",
    "        params = {\n",
    "            \"query\": query,\n",
    "            \"display\": display,\n",
    "            \"sort\": \"comment\"  # 리뷰/평점 순 정렬\n",
    "        }\n",
    "        \n",
    "        try:\n",
    "            response = requests.get(url, headers=self.headers, params=params)\n",
    "            if response.status_code == 200:\n",
    "                return response.json().get('items', [])\n",
    "            else:\n",
    "                print(f\"Error: {response.status_code}\")\n",
    "                return []\n",
    "        except Exception as e:\n",
    "            print(f\"Error: {str(e)}\")\n",
    "            return []\n",
    "\n",
    "    def get_place_details(self, place_name, address):\n",
    "        \"\"\"네이버 플레이스 상세 정보 수집 (웹 스크래핑)\"\"\"\n",
    "        # 실제 구현시에는 네이버 플레이스 웹페이지 스크래핑 로직 필요\n",
    "        # 여기서는 예시로 기본 구조만 제공\n",
    "        pass\n",
    "\n",
    "    def analyze_trending_places(self, area, category=\"맛집\", limit=20):\n",
    "        \"\"\"특정 지역의 트렌딩 장소 분석\"\"\"\n",
    "        search_query = f\"{area} {category}\"\n",
    "        places = self.search_places(search_query, display=limit)\n",
    "        \n",
    "        results = []\n",
    "        for place in places:\n",
    "            # 기본 정보 추출\n",
    "            place_info = {\n",
    "                'name': place.get('title', '').replace('<b>', '').replace('</b>', ''),\n",
    "                'address': place.get('address', ''),\n",
    "                'category': place.get('category', ''),\n",
    "                'description': place.get('description', ''),\n",
    "                'link': place.get('link', '')\n",
    "            }\n",
    "            results.append(place_info)\n",
    "            \n",
    "            # API 호출 제한 고려\n",
    "            time.sleep(0.1)\n",
    "        \n",
    "        return pd.DataFrame(results)\n",
    "\n",
    "def analyze_hot_places(api_handler, areas, categories=None):\n",
    "    \"\"\"여러 지역의 인기 장소 분석\"\"\"\n",
    "    if categories is None:\n",
    "        categories = [\"맛집\"]\n",
    "    \n",
    "    all_results = []\n",
    "    \n",
    "    for area in areas:\n",
    "        for category in categories:\n",
    "            print(f\"Analyzing {category} in {area}...\")\n",
    "            df = api_handler.analyze_trending_places(area, category)\n",
    "            df['area'] = area\n",
    "            df['search_category'] = category\n",
    "            all_results.append(df)\n",
    "            \n",
    "            # API 호출 제한 고려\n",
    "            time.sleep(1)\n",
    "    \n",
    "    return pd.concat(all_results, ignore_index=True)\n",
    "\n",
    "# 사용 예시\n",
    "def main():\n",
    "    # API 인증 정보\n",
    "    load_dotenv()  # .env 파일 로드\n",
    "    client_id = os.getenv(\"CLIENT_ID\")\n",
    "    client_secret = os.getenv(\"CLIENT_SECRET\")\n",
    "\n",
    "    \n",
    "    analyzer = NaverPlaceAnalyzer(client_id, client_secret)\n",
    "    \n",
    "    # 분석할 지역과 카테고리 설정\n",
    "    areas = [\"강남역\", \"홍대입구\", \"이태원\"]\n",
    "    categories = [\"맛집\", \"카페\", \"술집\"]\n",
    "    \n",
    "    # 트렌딩 장소 분석\n",
    "    trending_places = analyze_hot_places(analyzer, areas, categories)\n",
    "    \n",
    "    # 결과 저장\n",
    "    trending_places.to_csv('trending_places.csv', \n",
    "                          index=False, \n",
    "                          encoding='utf-8-sig')\n",
    "    \n",
    "    # 기본 분석\n",
    "    print(\"\\n=== 지역별 인기 장소 수 ===\")\n",
    "    print(trending_places.groupby(['area', 'search_category']).size())\n",
    "    \n",
    "    # 카테고리 분석\n",
    "    print(\"\\n=== 카테고리 분포 ===\")\n",
    "    print(trending_places['category'].value_counts().head())\n",
    "\n",
    "if __name__ == \"__main__\":\n",
    "    main()"
   ]
  },
  {
   "cell_type": "markdown",
   "metadata": {},
   "source": [
    "## [3] 연관검색어"
   ]
  },
  {
   "cell_type": "code",
   "execution_count": 62,
   "metadata": {},
   "outputs": [
    {
     "name": "stdout",
     "output_type": "stream",
     "text": [
      "Processing: 건강식품 (depth 0)\n",
      "Processing: 유산균 (depth 1)\n",
      "Processing: 프로바이오틱스 (depth 2)\n",
      "Processing: 1개 (depth 2)\n",
      "Processing: 3개 (depth 2)\n",
      "Processing: 60캡슐, (depth 2)\n",
      "Processing: 락토핏 (depth 1)\n",
      "Processing: 생유산균 (depth 2)\n",
      "Processing: 2g (depth 2)\n",
      "Processing: 종근당건강 (depth 2)\n"
     ]
    },
    {
     "ename": "ValueError",
     "evalue": "All arrays must be of the same length",
     "output_type": "error",
     "traceback": [
      "\u001b[31m---------------------------------------------------------------------------\u001b[39m",
      "\u001b[31mValueError\u001b[39m                                Traceback (most recent call last)",
      "\u001b[36mCell\u001b[39m\u001b[36m \u001b[39m\u001b[32mIn[62]\u001b[39m\u001b[32m, line 175\u001b[39m\n\u001b[32m    172\u001b[39m         plt.show()\n\u001b[32m    174\u001b[39m \u001b[38;5;28;01mif\u001b[39;00m \u001b[34m__name__\u001b[39m == \u001b[33m\"\u001b[39m\u001b[33m__main__\u001b[39m\u001b[33m\"\u001b[39m:\n\u001b[32m--> \u001b[39m\u001b[32m175\u001b[39m     \u001b[43mmain\u001b[49m\u001b[43m(\u001b[49m\u001b[43m)\u001b[49m\n",
      "\u001b[36mCell\u001b[39m\u001b[36m \u001b[39m\u001b[32mIn[62]\u001b[39m\u001b[32m, line 150\u001b[39m, in \u001b[36mmain\u001b[39m\u001b[34m()\u001b[39m\n\u001b[32m    148\u001b[39m \u001b[38;5;66;03m# 건강식 관련 키워드 분석\u001b[39;00m\n\u001b[32m    149\u001b[39m seed_keyword = \u001b[33m\"\u001b[39m\u001b[33m건강식품\u001b[39m\u001b[33m\"\u001b[39m\n\u001b[32m--> \u001b[39m\u001b[32m150\u001b[39m results = \u001b[43manalyzer\u001b[49m\u001b[43m.\u001b[49m\u001b[43mfind_related_keywords\u001b[49m\u001b[43m(\u001b[49m\n\u001b[32m    151\u001b[39m \u001b[43m    \u001b[49m\u001b[43mseed_keyword\u001b[49m\u001b[43m,\u001b[49m\n\u001b[32m    152\u001b[39m \u001b[43m    \u001b[49m\u001b[43mmax_depth\u001b[49m\u001b[43m=\u001b[49m\u001b[32;43m2\u001b[39;49m\u001b[43m,\u001b[49m\n\u001b[32m    153\u001b[39m \u001b[43m    \u001b[49m\u001b[43mmin_correlation\u001b[49m\u001b[43m=\u001b[49m\u001b[32;43m0.3\u001b[39;49m\n\u001b[32m    154\u001b[39m \u001b[43m\u001b[49m\u001b[43m)\u001b[49m\n\u001b[32m    156\u001b[39m \u001b[38;5;28;01mif\u001b[39;00m \u001b[38;5;129;01mnot\u001b[39;00m results.empty:\n\u001b[32m    157\u001b[39m     \u001b[38;5;28mprint\u001b[39m(\u001b[33m\"\u001b[39m\u001b[38;5;130;01m\\n\u001b[39;00m\u001b[33m=== 연관 키워드 분석 결과 ===\u001b[39m\u001b[33m\"\u001b[39m)\n",
      "\u001b[36mCell\u001b[39m\u001b[36m \u001b[39m\u001b[32mIn[62]\u001b[39m\u001b[32m, line 126\u001b[39m, in \u001b[36mNaverKeywordAnalyzer.find_related_keywords\u001b[39m\u001b[34m(self, seed_keyword, max_depth, min_correlation)\u001b[39m\n\u001b[32m    123\u001b[39m \u001b[38;5;28;01mfor\u001b[39;00m result \u001b[38;5;129;01min\u001b[39;00m trend_data[\u001b[33m'\u001b[39m\u001b[33mresults\u001b[39m\u001b[33m'\u001b[39m]:\n\u001b[32m    124\u001b[39m     trends[result[\u001b[33m'\u001b[39m\u001b[33mtitle\u001b[39m\u001b[33m'\u001b[39m]] = [d[\u001b[33m'\u001b[39m\u001b[33mratio\u001b[39m\u001b[33m'\u001b[39m] \u001b[38;5;28;01mfor\u001b[39;00m d \u001b[38;5;129;01min\u001b[39;00m result[\u001b[33m'\u001b[39m\u001b[33mdata\u001b[39m\u001b[33m'\u001b[39m]]\n\u001b[32m--> \u001b[39m\u001b[32m126\u001b[39m df_trends = \u001b[43mpd\u001b[49m\u001b[43m.\u001b[49m\u001b[43mDataFrame\u001b[49m\u001b[43m(\u001b[49m\u001b[43mtrends\u001b[49m\u001b[43m)\u001b[49m\n\u001b[32m    128\u001b[39m \u001b[38;5;66;03m# 상관관계 계산\u001b[39;00m\n\u001b[32m    129\u001b[39m correlations = df_trends.corr()[seed_keyword].sort_values(ascending=\u001b[38;5;28;01mFalse\u001b[39;00m)\n",
      "\u001b[36mFile \u001b[39m\u001b[32m~/Documents/Side Projects/Data Projects/.venv/lib/python3.12/site-packages/pandas/core/frame.py:778\u001b[39m, in \u001b[36mDataFrame.__init__\u001b[39m\u001b[34m(self, data, index, columns, dtype, copy)\u001b[39m\n\u001b[32m    772\u001b[39m     mgr = \u001b[38;5;28mself\u001b[39m._init_mgr(\n\u001b[32m    773\u001b[39m         data, axes={\u001b[33m\"\u001b[39m\u001b[33mindex\u001b[39m\u001b[33m\"\u001b[39m: index, \u001b[33m\"\u001b[39m\u001b[33mcolumns\u001b[39m\u001b[33m\"\u001b[39m: columns}, dtype=dtype, copy=copy\n\u001b[32m    774\u001b[39m     )\n\u001b[32m    776\u001b[39m \u001b[38;5;28;01melif\u001b[39;00m \u001b[38;5;28misinstance\u001b[39m(data, \u001b[38;5;28mdict\u001b[39m):\n\u001b[32m    777\u001b[39m     \u001b[38;5;66;03m# GH#38939 de facto copy defaults to False only in non-dict cases\u001b[39;00m\n\u001b[32m--> \u001b[39m\u001b[32m778\u001b[39m     mgr = \u001b[43mdict_to_mgr\u001b[49m\u001b[43m(\u001b[49m\u001b[43mdata\u001b[49m\u001b[43m,\u001b[49m\u001b[43m \u001b[49m\u001b[43mindex\u001b[49m\u001b[43m,\u001b[49m\u001b[43m \u001b[49m\u001b[43mcolumns\u001b[49m\u001b[43m,\u001b[49m\u001b[43m \u001b[49m\u001b[43mdtype\u001b[49m\u001b[43m=\u001b[49m\u001b[43mdtype\u001b[49m\u001b[43m,\u001b[49m\u001b[43m \u001b[49m\u001b[43mcopy\u001b[49m\u001b[43m=\u001b[49m\u001b[43mcopy\u001b[49m\u001b[43m,\u001b[49m\u001b[43m \u001b[49m\u001b[43mtyp\u001b[49m\u001b[43m=\u001b[49m\u001b[43mmanager\u001b[49m\u001b[43m)\u001b[49m\n\u001b[32m    779\u001b[39m \u001b[38;5;28;01melif\u001b[39;00m \u001b[38;5;28misinstance\u001b[39m(data, ma.MaskedArray):\n\u001b[32m    780\u001b[39m     \u001b[38;5;28;01mfrom\u001b[39;00m\u001b[38;5;250m \u001b[39m\u001b[34;01mnumpy\u001b[39;00m\u001b[34;01m.\u001b[39;00m\u001b[34;01mma\u001b[39;00m\u001b[38;5;250m \u001b[39m\u001b[38;5;28;01mimport\u001b[39;00m mrecords\n",
      "\u001b[36mFile \u001b[39m\u001b[32m~/Documents/Side Projects/Data Projects/.venv/lib/python3.12/site-packages/pandas/core/internals/construction.py:503\u001b[39m, in \u001b[36mdict_to_mgr\u001b[39m\u001b[34m(data, index, columns, dtype, typ, copy)\u001b[39m\n\u001b[32m    499\u001b[39m     \u001b[38;5;28;01melse\u001b[39;00m:\n\u001b[32m    500\u001b[39m         \u001b[38;5;66;03m# dtype check to exclude e.g. range objects, scalars\u001b[39;00m\n\u001b[32m    501\u001b[39m         arrays = [x.copy() \u001b[38;5;28;01mif\u001b[39;00m \u001b[38;5;28mhasattr\u001b[39m(x, \u001b[33m\"\u001b[39m\u001b[33mdtype\u001b[39m\u001b[33m\"\u001b[39m) \u001b[38;5;28;01melse\u001b[39;00m x \u001b[38;5;28;01mfor\u001b[39;00m x \u001b[38;5;129;01min\u001b[39;00m arrays]\n\u001b[32m--> \u001b[39m\u001b[32m503\u001b[39m \u001b[38;5;28;01mreturn\u001b[39;00m \u001b[43marrays_to_mgr\u001b[49m\u001b[43m(\u001b[49m\u001b[43marrays\u001b[49m\u001b[43m,\u001b[49m\u001b[43m \u001b[49m\u001b[43mcolumns\u001b[49m\u001b[43m,\u001b[49m\u001b[43m \u001b[49m\u001b[43mindex\u001b[49m\u001b[43m,\u001b[49m\u001b[43m \u001b[49m\u001b[43mdtype\u001b[49m\u001b[43m=\u001b[49m\u001b[43mdtype\u001b[49m\u001b[43m,\u001b[49m\u001b[43m \u001b[49m\u001b[43mtyp\u001b[49m\u001b[43m=\u001b[49m\u001b[43mtyp\u001b[49m\u001b[43m,\u001b[49m\u001b[43m \u001b[49m\u001b[43mconsolidate\u001b[49m\u001b[43m=\u001b[49m\u001b[43mcopy\u001b[49m\u001b[43m)\u001b[49m\n",
      "\u001b[36mFile \u001b[39m\u001b[32m~/Documents/Side Projects/Data Projects/.venv/lib/python3.12/site-packages/pandas/core/internals/construction.py:114\u001b[39m, in \u001b[36marrays_to_mgr\u001b[39m\u001b[34m(arrays, columns, index, dtype, verify_integrity, typ, consolidate)\u001b[39m\n\u001b[32m    111\u001b[39m \u001b[38;5;28;01mif\u001b[39;00m verify_integrity:\n\u001b[32m    112\u001b[39m     \u001b[38;5;66;03m# figure out the index, if necessary\u001b[39;00m\n\u001b[32m    113\u001b[39m     \u001b[38;5;28;01mif\u001b[39;00m index \u001b[38;5;129;01mis\u001b[39;00m \u001b[38;5;28;01mNone\u001b[39;00m:\n\u001b[32m--> \u001b[39m\u001b[32m114\u001b[39m         index = \u001b[43m_extract_index\u001b[49m\u001b[43m(\u001b[49m\u001b[43marrays\u001b[49m\u001b[43m)\u001b[49m\n\u001b[32m    115\u001b[39m     \u001b[38;5;28;01melse\u001b[39;00m:\n\u001b[32m    116\u001b[39m         index = ensure_index(index)\n",
      "\u001b[36mFile \u001b[39m\u001b[32m~/Documents/Side Projects/Data Projects/.venv/lib/python3.12/site-packages/pandas/core/internals/construction.py:677\u001b[39m, in \u001b[36m_extract_index\u001b[39m\u001b[34m(data)\u001b[39m\n\u001b[32m    675\u001b[39m lengths = \u001b[38;5;28mlist\u001b[39m(\u001b[38;5;28mset\u001b[39m(raw_lengths))\n\u001b[32m    676\u001b[39m \u001b[38;5;28;01mif\u001b[39;00m \u001b[38;5;28mlen\u001b[39m(lengths) > \u001b[32m1\u001b[39m:\n\u001b[32m--> \u001b[39m\u001b[32m677\u001b[39m     \u001b[38;5;28;01mraise\u001b[39;00m \u001b[38;5;167;01mValueError\u001b[39;00m(\u001b[33m\"\u001b[39m\u001b[33mAll arrays must be of the same length\u001b[39m\u001b[33m\"\u001b[39m)\n\u001b[32m    679\u001b[39m \u001b[38;5;28;01mif\u001b[39;00m have_dicts:\n\u001b[32m    680\u001b[39m     \u001b[38;5;28;01mraise\u001b[39;00m \u001b[38;5;167;01mValueError\u001b[39;00m(\n\u001b[32m    681\u001b[39m         \u001b[33m\"\u001b[39m\u001b[33mMixing dicts with non-Series may lead to ambiguous ordering.\u001b[39m\u001b[33m\"\u001b[39m\n\u001b[32m    682\u001b[39m     )\n",
      "\u001b[31mValueError\u001b[39m: All arrays must be of the same length"
     ]
    }
   ],
   "source": [
    "import requests\n",
    "import json\n",
    "import pandas as pd\n",
    "import numpy as np\n",
    "from collections import Counter\n",
    "import time\n",
    "from tqdm import tqdm\n",
    "\n",
    "plt.rcParams['font.family'] = 'AppleGothic'\n",
    "\n",
    "class NaverKeywordAnalyzer:\n",
    "    def __init__(self, client_id, client_secret):\n",
    "        self.client_id = client_id\n",
    "        self.client_secret = client_secret\n",
    "        self.headers = {\n",
    "            \"X-Naver-Client-Id\": client_id,\n",
    "            \"X-Naver-Client-Secret\": client_secret,\n",
    "            \"Content-Type\": \"application/json\"\n",
    "        }\n",
    "\n",
    "    def get_trend_data(self, keywords, start_date, end_date):\n",
    "        \"\"\"데이터랩 API로 트렌드 데이터 가져오기 (5개 단위로 분할)\"\"\"\n",
    "        all_results = []\n",
    "        \n",
    "        # 키워드를 5개씩 분할\n",
    "        for i in range(0, len(keywords), 5):\n",
    "            chunk_keywords = keywords[i:i+5]\n",
    "            \n",
    "            body = {\n",
    "                \"startDate\": start_date,\n",
    "                \"endDate\": end_date,\n",
    "                \"timeUnit\": \"month\",\n",
    "                \"keywordGroups\": [\n",
    "                    {\n",
    "                        \"groupName\": keyword,\n",
    "                        \"keywords\": [keyword]\n",
    "                    } for keyword in chunk_keywords\n",
    "                ]\n",
    "            }\n",
    "            \n",
    "            try:\n",
    "                response = requests.post(\n",
    "                    \"https://openapi.naver.com/v1/datalab/search\",\n",
    "                    headers=self.headers,\n",
    "                    data=json.dumps(body)\n",
    "                )\n",
    "                \n",
    "                if response.status_code == 200:\n",
    "                    result = response.json()\n",
    "                    if 'results' in result:\n",
    "                        all_results.extend(result['results'])\n",
    "                else:\n",
    "                    print(f\"Error {response.status_code}: {response.text}\")\n",
    "                \n",
    "                # API 호출 제한 고려\n",
    "                time.sleep(1)\n",
    "                \n",
    "            except Exception as e:\n",
    "                print(f\"Error: {str(e)}\")\n",
    "        \n",
    "        return {\"results\": all_results} if all_results else None\n",
    "\n",
    "    def find_related_keywords(self, seed_keyword, max_depth=2, min_correlation=0.3):\n",
    "        \"\"\"연관 키워드 찾기\"\"\"\n",
    "        processed_keywords = set()\n",
    "        related_keywords = []\n",
    "        \n",
    "        def process_keyword(keyword, depth):\n",
    "            if depth > max_depth or keyword in processed_keywords:\n",
    "                return\n",
    "            \n",
    "            processed_keywords.add(keyword)\n",
    "            print(f\"Processing: {keyword} (depth {depth})\")\n",
    "            \n",
    "            # 검색 API로 연관 키워드 찾기\n",
    "            url = f\"https://openapi.naver.com/v1/search/shop.json\"\n",
    "            params = {\"query\": keyword, \"display\": 100}\n",
    "            \n",
    "            try:\n",
    "                response = requests.get(url, headers=self.headers, params=params)\n",
    "                if response.status_code == 200:\n",
    "                    items = response.json().get('items', [])\n",
    "                    \n",
    "                    # 제목에서 키워드 추출\n",
    "                    keywords = []\n",
    "                    for item in items:\n",
    "                        title = item['title'].replace('<b>', '').replace('</b>', '')\n",
    "                        words = [w for w in title.split() if len(w) > 1]\n",
    "                        keywords.extend(words)\n",
    "                    \n",
    "                    # 상위 빈도 키워드 선택\n",
    "                    keyword_freq = Counter(keywords)\n",
    "                    top_keywords = [k for k, v in keyword_freq.most_common(5)]\n",
    "                    \n",
    "                    if top_keywords:\n",
    "                        related_keywords.extend(top_keywords)\n",
    "                        \n",
    "                        # 재귀적으로 처리\n",
    "                        if depth < max_depth:\n",
    "                            for related_keyword in top_keywords:\n",
    "                                time.sleep(1)  # API 호출 제한\n",
    "                                process_keyword(related_keyword, depth + 1)\n",
    "                \n",
    "                time.sleep(1)  # API 호출 제한\n",
    "                \n",
    "            except Exception as e:\n",
    "                print(f\"Error: {str(e)}\")\n",
    "        \n",
    "        # 시작 키워드로부터 연관 키워드 찾기\n",
    "        process_keyword(seed_keyword, 0)\n",
    "        \n",
    "        # 중복 제거 및 최대 20개 키워드 선택\n",
    "        unique_keywords = list(dict.fromkeys(related_keywords))[:20]\n",
    "        \n",
    "        # 트렌드 데이터 수집 및 상관관계 분석\n",
    "        trend_data = self.get_trend_data(\n",
    "            [seed_keyword] + unique_keywords,\n",
    "            \"2023-01-01\",\n",
    "            \"2024-03-31\"\n",
    "        )\n",
    "        \n",
    "        if trend_data and 'results' in trend_data:\n",
    "            # 트렌드 데이터를 DataFrame으로 변환\n",
    "            trends = {}\n",
    "            for result in trend_data['results']:\n",
    "                trends[result['title']] = [d['ratio'] for d in result['data']]\n",
    "            \n",
    "            df_trends = pd.DataFrame(trends)\n",
    "            \n",
    "            # 상관관계 계산\n",
    "            correlations = df_trends.corr()[seed_keyword].sort_values(ascending=False)\n",
    "            \n",
    "            # 상관관계가 높은 키워드만 선택\n",
    "            related_with_corr = correlations[correlations >= min_correlation]\n",
    "            \n",
    "            return pd.DataFrame({\n",
    "                'keyword': related_with_corr.index,\n",
    "                'correlation': related_with_corr.values\n",
    "            })\n",
    "        \n",
    "        return pd.DataFrame()\n",
    "\n",
    "def main():\n",
    "    load_dotenv()  # .env 파일 로드\n",
    "    client_id = os.getenv(\"CLIENT_ID\")\n",
    "    client_secret = os.getenv(\"CLIENT_SECRET\")\n",
    "    \n",
    "    analyzer = NaverKeywordAnalyzer(client_id, client_secret)\n",
    "    \n",
    "    # 건강식 관련 키워드 분석\n",
    "    seed_keyword = \"건강식품\"\n",
    "    results = analyzer.find_related_keywords(\n",
    "        seed_keyword,\n",
    "        max_depth=2,\n",
    "        min_correlation=0.3\n",
    "    )\n",
    "    \n",
    "    if not results.empty:\n",
    "        print(\"\\n=== 연관 키워드 분석 결과 ===\")\n",
    "        print(results.to_string(index=False))\n",
    "        \n",
    "        # 결과 저장\n",
    "        results.to_csv(f'{seed_keyword}_related_keywords.csv', \n",
    "                      index=False, \n",
    "                      encoding='utf-8-sig')\n",
    "        \n",
    "        # 시각화\n",
    "        plt.figure(figsize=(12, 6))\n",
    "        plt.barh(results['keyword'], results['correlation'])\n",
    "        plt.title(f\"'{seed_keyword}'의 연관 키워드 상관관계\")\n",
    "        plt.xlabel('상관계수')\n",
    "        plt.ylabel('키워드')\n",
    "        plt.tight_layout()\n",
    "        plt.show()\n",
    "\n",
    "if __name__ == \"__main__\":\n",
    "    main()"
   ]
  },
  {
   "cell_type": "code",
   "execution_count": null,
   "metadata": {},
   "outputs": [],
   "source": []
  },
  {
   "cell_type": "code",
   "execution_count": null,
   "metadata": {},
   "outputs": [],
   "source": []
  },
  {
   "cell_type": "markdown",
   "metadata": {},
   "source": [
    "## [4] 만개의레시피"
   ]
  },
  {
   "cell_type": "code",
   "execution_count": null,
   "metadata": {},
   "outputs": [],
   "source": []
  },
  {
   "cell_type": "code",
   "execution_count": 12,
   "metadata": {},
   "outputs": [
    {
     "ename": "UnicodeDecodeError",
     "evalue": "'cp949' codec can't decode byte 0xc9 in position 349972: illegal multibyte sequence",
     "output_type": "error",
     "traceback": [
      "\u001b[31m---------------------------------------------------------------------------\u001b[39m",
      "\u001b[31mUnicodeDecodeError\u001b[39m                        Traceback (most recent call last)",
      "\u001b[36mCell\u001b[39m\u001b[36m \u001b[39m\u001b[32mIn[12]\u001b[39m\u001b[32m, line 4\u001b[39m\n\u001b[32m      1\u001b[39m loc = \u001b[33m'\u001b[39m\u001b[33m./data/w2/\u001b[39m\u001b[33m'\u001b[39m\n\u001b[32m      2\u001b[39m file = [f \u001b[38;5;28;01mfor\u001b[39;00m f \u001b[38;5;129;01min\u001b[39;00m os.listdir(loc) \u001b[38;5;28;01mif\u001b[39;00m \u001b[33m'\u001b[39m\u001b[33m20231130\u001b[39m\u001b[33m'\u001b[39m \u001b[38;5;129;01min\u001b[39;00m f][-\u001b[32m1\u001b[39m]\n\u001b[32m----> \u001b[39m\u001b[32m4\u001b[39m df_recipe = \u001b[43mpd\u001b[49m\u001b[43m.\u001b[49m\u001b[43mread_csv\u001b[49m\u001b[43m(\u001b[49m\u001b[43mloc\u001b[49m\u001b[43m+\u001b[49m\u001b[43mfile\u001b[49m\u001b[43m,\u001b[49m\u001b[43m \u001b[49m\u001b[43mencoding\u001b[49m\u001b[43m=\u001b[49m\u001b[33;43m'\u001b[39;49m\u001b[33;43mcp949\u001b[39;49m\u001b[33;43m'\u001b[39;49m\u001b[43m)\u001b[49m\n",
      "\u001b[36mFile \u001b[39m\u001b[32m~/Documents/Side Projects/Data Projects/.venv/lib/python3.12/site-packages/pandas/io/parsers/readers.py:1026\u001b[39m, in \u001b[36mread_csv\u001b[39m\u001b[34m(filepath_or_buffer, sep, delimiter, header, names, index_col, usecols, dtype, engine, converters, true_values, false_values, skipinitialspace, skiprows, skipfooter, nrows, na_values, keep_default_na, na_filter, verbose, skip_blank_lines, parse_dates, infer_datetime_format, keep_date_col, date_parser, date_format, dayfirst, cache_dates, iterator, chunksize, compression, thousands, decimal, lineterminator, quotechar, quoting, doublequote, escapechar, comment, encoding, encoding_errors, dialect, on_bad_lines, delim_whitespace, low_memory, memory_map, float_precision, storage_options, dtype_backend)\u001b[39m\n\u001b[32m   1013\u001b[39m kwds_defaults = _refine_defaults_read(\n\u001b[32m   1014\u001b[39m     dialect,\n\u001b[32m   1015\u001b[39m     delimiter,\n\u001b[32m   (...)\u001b[39m\u001b[32m   1022\u001b[39m     dtype_backend=dtype_backend,\n\u001b[32m   1023\u001b[39m )\n\u001b[32m   1024\u001b[39m kwds.update(kwds_defaults)\n\u001b[32m-> \u001b[39m\u001b[32m1026\u001b[39m \u001b[38;5;28;01mreturn\u001b[39;00m \u001b[43m_read\u001b[49m\u001b[43m(\u001b[49m\u001b[43mfilepath_or_buffer\u001b[49m\u001b[43m,\u001b[49m\u001b[43m \u001b[49m\u001b[43mkwds\u001b[49m\u001b[43m)\u001b[49m\n",
      "\u001b[36mFile \u001b[39m\u001b[32m~/Documents/Side Projects/Data Projects/.venv/lib/python3.12/site-packages/pandas/io/parsers/readers.py:626\u001b[39m, in \u001b[36m_read\u001b[39m\u001b[34m(filepath_or_buffer, kwds)\u001b[39m\n\u001b[32m    623\u001b[39m     \u001b[38;5;28;01mreturn\u001b[39;00m parser\n\u001b[32m    625\u001b[39m \u001b[38;5;28;01mwith\u001b[39;00m parser:\n\u001b[32m--> \u001b[39m\u001b[32m626\u001b[39m     \u001b[38;5;28;01mreturn\u001b[39;00m \u001b[43mparser\u001b[49m\u001b[43m.\u001b[49m\u001b[43mread\u001b[49m\u001b[43m(\u001b[49m\u001b[43mnrows\u001b[49m\u001b[43m)\u001b[49m\n",
      "\u001b[36mFile \u001b[39m\u001b[32m~/Documents/Side Projects/Data Projects/.venv/lib/python3.12/site-packages/pandas/io/parsers/readers.py:1923\u001b[39m, in \u001b[36mTextFileReader.read\u001b[39m\u001b[34m(self, nrows)\u001b[39m\n\u001b[32m   1916\u001b[39m nrows = validate_integer(\u001b[33m\"\u001b[39m\u001b[33mnrows\u001b[39m\u001b[33m\"\u001b[39m, nrows)\n\u001b[32m   1917\u001b[39m \u001b[38;5;28;01mtry\u001b[39;00m:\n\u001b[32m   1918\u001b[39m     \u001b[38;5;66;03m# error: \"ParserBase\" has no attribute \"read\"\u001b[39;00m\n\u001b[32m   1919\u001b[39m     (\n\u001b[32m   1920\u001b[39m         index,\n\u001b[32m   1921\u001b[39m         columns,\n\u001b[32m   1922\u001b[39m         col_dict,\n\u001b[32m-> \u001b[39m\u001b[32m1923\u001b[39m     ) = \u001b[38;5;28;43mself\u001b[39;49m\u001b[43m.\u001b[49m\u001b[43m_engine\u001b[49m\u001b[43m.\u001b[49m\u001b[43mread\u001b[49m\u001b[43m(\u001b[49m\u001b[43m  \u001b[49m\u001b[38;5;66;43;03m# type: ignore[attr-defined]\u001b[39;49;00m\n\u001b[32m   1924\u001b[39m \u001b[43m        \u001b[49m\u001b[43mnrows\u001b[49m\n\u001b[32m   1925\u001b[39m \u001b[43m    \u001b[49m\u001b[43m)\u001b[49m\n\u001b[32m   1926\u001b[39m \u001b[38;5;28;01mexcept\u001b[39;00m \u001b[38;5;167;01mException\u001b[39;00m:\n\u001b[32m   1927\u001b[39m     \u001b[38;5;28mself\u001b[39m.close()\n",
      "\u001b[36mFile \u001b[39m\u001b[32m~/Documents/Side Projects/Data Projects/.venv/lib/python3.12/site-packages/pandas/io/parsers/c_parser_wrapper.py:234\u001b[39m, in \u001b[36mCParserWrapper.read\u001b[39m\u001b[34m(self, nrows)\u001b[39m\n\u001b[32m    232\u001b[39m \u001b[38;5;28;01mtry\u001b[39;00m:\n\u001b[32m    233\u001b[39m     \u001b[38;5;28;01mif\u001b[39;00m \u001b[38;5;28mself\u001b[39m.low_memory:\n\u001b[32m--> \u001b[39m\u001b[32m234\u001b[39m         chunks = \u001b[38;5;28;43mself\u001b[39;49m\u001b[43m.\u001b[49m\u001b[43m_reader\u001b[49m\u001b[43m.\u001b[49m\u001b[43mread_low_memory\u001b[49m\u001b[43m(\u001b[49m\u001b[43mnrows\u001b[49m\u001b[43m)\u001b[49m\n\u001b[32m    235\u001b[39m         \u001b[38;5;66;03m# destructive to chunks\u001b[39;00m\n\u001b[32m    236\u001b[39m         data = _concatenate_chunks(chunks)\n",
      "\u001b[36mFile \u001b[39m\u001b[32mparsers.pyx:838\u001b[39m, in \u001b[36mpandas._libs.parsers.TextReader.read_low_memory\u001b[39m\u001b[34m()\u001b[39m\n",
      "\u001b[36mFile \u001b[39m\u001b[32mparsers.pyx:905\u001b[39m, in \u001b[36mpandas._libs.parsers.TextReader._read_rows\u001b[39m\u001b[34m()\u001b[39m\n",
      "\u001b[36mFile \u001b[39m\u001b[32mparsers.pyx:874\u001b[39m, in \u001b[36mpandas._libs.parsers.TextReader._tokenize_rows\u001b[39m\u001b[34m()\u001b[39m\n",
      "\u001b[36mFile \u001b[39m\u001b[32mparsers.pyx:891\u001b[39m, in \u001b[36mpandas._libs.parsers.TextReader._check_tokenize_status\u001b[39m\u001b[34m()\u001b[39m\n",
      "\u001b[36mFile \u001b[39m\u001b[32mparsers.pyx:2053\u001b[39m, in \u001b[36mpandas._libs.parsers.raise_parser_error\u001b[39m\u001b[34m()\u001b[39m\n",
      "\u001b[31mUnicodeDecodeError\u001b[39m: 'cp949' codec can't decode byte 0xc9 in position 349972: illegal multibyte sequence"
     ]
    }
   ],
   "source": [
    "loc = './data/w2/'\n",
    "file = [f for f in os.listdir(loc) if '20231130' in f][-1]\n",
    "\n",
    "df_recipe = pd.read_csv(loc+file, encoding='cp949')"
   ]
  },
  {
   "cell_type": "code",
   "execution_count": null,
   "metadata": {},
   "outputs": [],
   "source": []
  },
  {
   "cell_type": "code",
   "execution_count": null,
   "metadata": {},
   "outputs": [],
   "source": []
  },
  {
   "cell_type": "markdown",
   "metadata": {},
   "source": [
    "---\n",
    "## [9] 기타"
   ]
  },
  {
   "cell_type": "code",
   "execution_count": 8,
   "metadata": {},
   "outputs": [
    {
     "name": "stderr",
     "output_type": "stream",
     "text": [
      "/var/folders/xj/2s3xtsx155s338l8v9g7k_wh0000gn/T/ipykernel_2349/1097187942.py:2: DtypeWarning: Columns (11,17,39,44,45) have mixed types. Specify dtype option on import or set low_memory=False.\n",
      "  df_stores = pd.read_csv('./data/w2/전국일반음식점표준데이터_240326.csv', encoding='cp949')\n"
     ]
    }
   ],
   "source": [
    "# 수정일자 : 240326\n",
    "df_stores = pd.read_csv('./data/w2/전국일반음식점표준데이터_240326.csv', encoding='cp949')"
   ]
  },
  {
   "cell_type": "code",
   "execution_count": 9,
   "metadata": {},
   "outputs": [
    {
     "data": {
      "text/plain": [
       "Index(['번호', '개방서비스명', '개방서비스아이디', '개방자치단체코드', '관리번호', '인허가일자', '인허가취소일자',\n",
       "       '영업상태구분코드', '영업상태명', '상세영업상태코드', '상세영업상태명', '폐업일자', '휴업시작일자', '휴업종료일자',\n",
       "       '재개업일자', '소재지전화', '소재지면적', '소재지우편번호', '소재지전체주소', '도로명전체주소', '도로명우편번호',\n",
       "       '사업장명', '최종수정시점', '데이터갱신구분', '데이터갱신일자', '업태구분명', '좌표정보x(epsg5174)',\n",
       "       '좌표정보y(epsg5174)', '위생업태명', '남성종사자수', '여성종사자수', '영업장주변구분명', '등급구분명',\n",
       "       '급수시설구분명', '총직원수', '본사직원수', '공장사무직직원수', '공장판매직직원수', '공장생산직직원수',\n",
       "       '건물소유구분명', '보증액', '월세액', '다중이용업소여부', '시설총규모', '전통업소지정번호', '전통업소주된음식',\n",
       "       '홈페이지', 'Unnamed: 47'],\n",
       "      dtype='object')"
      ]
     },
     "execution_count": 9,
     "metadata": {},
     "output_type": "execute_result"
    }
   ],
   "source": [
    "df_stores.columns"
   ]
  },
  {
   "cell_type": "code",
   "execution_count": 10,
   "metadata": {},
   "outputs": [
    {
     "data": {
      "text/plain": [
       "영업상태명\n",
       "폐업       1511419\n",
       "영업/정상     688444\n",
       "Name: count, dtype: int64"
      ]
     },
     "execution_count": 10,
     "metadata": {},
     "output_type": "execute_result"
    }
   ],
   "source": [
    "df_stores['영업상태명'].value_counts()"
   ]
  },
  {
   "cell_type": "code",
   "execution_count": 11,
   "metadata": {},
   "outputs": [
    {
     "data": {
      "text/plain": [
       "위생업태명          \n",
       "한식                 1004952\n",
       "기타                  254534\n",
       "호프/통닭               207886\n",
       "분식                  182852\n",
       "경양식                 123793\n",
       "식육(숯불구이)             72968\n",
       "중국식                  71292\n",
       "일식                   55650\n",
       "통닭(치킨)               54598\n",
       "정종/대포집/소주방           45113\n",
       "횟집                   31919\n",
       "까페                   22017\n",
       "패스트푸드                18662\n",
       "뷔페식                  10810\n",
       "탕류(보신용)              10175\n",
       "외국음식전문점(인도,태국등)       9649\n",
       "김밥(도시락)               9459\n",
       "전통찻집                  2275\n",
       "라이브카페                 1843\n",
       "패밀리레스트랑               1718\n",
       "냉면집                   1694\n",
       "감성주점                  1580\n",
       "복어취급                  1446\n",
       "출장조리                  1212\n",
       "이동조리                   904\n",
       "키즈카페                   666\n",
       "일반조리판매                   9\n",
       "기타 휴게음식점                 8\n",
       "커피숍                      5\n",
       "간이주점                     4\n",
       "다방                       2\n",
       "룸살롱                      1\n",
       "제과점영업                    1\n",
       "식품등 수입판매업                1\n",
       "식품소분업                    1\n",
       "Name: count, dtype: int64"
      ]
     },
     "execution_count": 11,
     "metadata": {},
     "output_type": "execute_result"
    }
   ],
   "source": [
    "df_stores[['위생업태명']].value_counts()"
   ]
  },
  {
   "cell_type": "code",
   "execution_count": null,
   "metadata": {},
   "outputs": [],
   "source": [
    "import duckdb\n",
    "\n",
    "# DuckDB 연결\n",
    "con = duckdb.connect()\n",
    "\n",
    "# 모든 Parquet 파일을 한 번에 쿼리\n",
    "query = \"\"\"\n",
    "SELECT *\n",
    "FROM read_parquet('data/w2/jangbogo/jbg_parquet/*.parquet')\n",
    "\"\"\"\n",
    "\n",
    "# DataFrame으로 변환\n",
    "df = con.execute(query).df()"
   ]
  },
  {
   "cell_type": "code",
   "execution_count": null,
   "metadata": {},
   "outputs": [],
   "source": []
  },
  {
   "cell_type": "code",
   "execution_count": null,
   "metadata": {},
   "outputs": [],
   "source": []
  },
  {
   "cell_type": "code",
   "execution_count": null,
   "metadata": {},
   "outputs": [],
   "source": []
  },
  {
   "cell_type": "code",
   "execution_count": 12,
   "metadata": {},
   "outputs": [],
   "source": [
    "f1 = df_stores['소재지전체주소'].apply(lambda x: str(x).split(' ')[0]) == '서울특별시'\n",
    "df_stores_sl = df_stores[f1]"
   ]
  },
  {
   "cell_type": "code",
   "execution_count": 13,
   "metadata": {},
   "outputs": [
    {
     "data": {
      "text/html": [
       "<div>\n",
       "<style scoped>\n",
       "    .dataframe tbody tr th:only-of-type {\n",
       "        vertical-align: middle;\n",
       "    }\n",
       "\n",
       "    .dataframe tbody tr th {\n",
       "        vertical-align: top;\n",
       "    }\n",
       "\n",
       "    .dataframe thead th {\n",
       "        text-align: right;\n",
       "    }\n",
       "</style>\n",
       "<table border=\"1\" class=\"dataframe\">\n",
       "  <thead>\n",
       "    <tr style=\"text-align: right;\">\n",
       "      <th></th>\n",
       "      <th>번호</th>\n",
       "      <th>개방서비스명</th>\n",
       "      <th>개방서비스아이디</th>\n",
       "      <th>개방자치단체코드</th>\n",
       "      <th>관리번호</th>\n",
       "      <th>인허가일자</th>\n",
       "      <th>인허가취소일자</th>\n",
       "      <th>영업상태구분코드</th>\n",
       "      <th>영업상태명</th>\n",
       "      <th>상세영업상태코드</th>\n",
       "      <th>...</th>\n",
       "      <th>공장생산직직원수</th>\n",
       "      <th>건물소유구분명</th>\n",
       "      <th>보증액</th>\n",
       "      <th>월세액</th>\n",
       "      <th>다중이용업소여부</th>\n",
       "      <th>시설총규모</th>\n",
       "      <th>전통업소지정번호</th>\n",
       "      <th>전통업소주된음식</th>\n",
       "      <th>홈페이지</th>\n",
       "      <th>Unnamed: 47</th>\n",
       "    </tr>\n",
       "  </thead>\n",
       "  <tbody>\n",
       "    <tr>\n",
       "      <th>0</th>\n",
       "      <td>1</td>\n",
       "      <td>일반음식점</td>\n",
       "      <td>07_24_04_P</td>\n",
       "      <td>3230000</td>\n",
       "      <td>3230000-101-2020-00923</td>\n",
       "      <td>2020-12-31</td>\n",
       "      <td>NaN</td>\n",
       "      <td>3</td>\n",
       "      <td>폐업</td>\n",
       "      <td>2</td>\n",
       "      <td>...</td>\n",
       "      <td>0.0</td>\n",
       "      <td>NaN</td>\n",
       "      <td>0.0</td>\n",
       "      <td>0.0</td>\n",
       "      <td>N</td>\n",
       "      <td>34.32</td>\n",
       "      <td>NaN</td>\n",
       "      <td>NaN</td>\n",
       "      <td>NaN</td>\n",
       "      <td>NaN</td>\n",
       "    </tr>\n",
       "    <tr>\n",
       "      <th>2</th>\n",
       "      <td>3</td>\n",
       "      <td>일반음식점</td>\n",
       "      <td>07_24_04_P</td>\n",
       "      <td>3130000</td>\n",
       "      <td>3130000-101-1991-00615</td>\n",
       "      <td>1991-04-08</td>\n",
       "      <td>NaN</td>\n",
       "      <td>3</td>\n",
       "      <td>폐업</td>\n",
       "      <td>2</td>\n",
       "      <td>...</td>\n",
       "      <td>NaN</td>\n",
       "      <td>NaN</td>\n",
       "      <td>NaN</td>\n",
       "      <td>NaN</td>\n",
       "      <td>N</td>\n",
       "      <td>38.82</td>\n",
       "      <td>NaN</td>\n",
       "      <td>NaN</td>\n",
       "      <td>NaN</td>\n",
       "      <td>NaN</td>\n",
       "    </tr>\n",
       "    <tr>\n",
       "      <th>3</th>\n",
       "      <td>4</td>\n",
       "      <td>일반음식점</td>\n",
       "      <td>07_24_04_P</td>\n",
       "      <td>3130000</td>\n",
       "      <td>3130000-101-1991-03690</td>\n",
       "      <td>1991-04-03</td>\n",
       "      <td>NaN</td>\n",
       "      <td>3</td>\n",
       "      <td>폐업</td>\n",
       "      <td>2</td>\n",
       "      <td>...</td>\n",
       "      <td>NaN</td>\n",
       "      <td>NaN</td>\n",
       "      <td>NaN</td>\n",
       "      <td>NaN</td>\n",
       "      <td>N</td>\n",
       "      <td>24.50</td>\n",
       "      <td>NaN</td>\n",
       "      <td>NaN</td>\n",
       "      <td>NaN</td>\n",
       "      <td>NaN</td>\n",
       "    </tr>\n",
       "    <tr>\n",
       "      <th>4</th>\n",
       "      <td>5</td>\n",
       "      <td>일반음식점</td>\n",
       "      <td>07_24_04_P</td>\n",
       "      <td>3130000</td>\n",
       "      <td>3130000-101-1997-08442</td>\n",
       "      <td>1997-01-01</td>\n",
       "      <td>NaN</td>\n",
       "      <td>3</td>\n",
       "      <td>폐업</td>\n",
       "      <td>2</td>\n",
       "      <td>...</td>\n",
       "      <td>NaN</td>\n",
       "      <td>NaN</td>\n",
       "      <td>NaN</td>\n",
       "      <td>NaN</td>\n",
       "      <td>N</td>\n",
       "      <td>0.00</td>\n",
       "      <td>NaN</td>\n",
       "      <td>NaN</td>\n",
       "      <td>NaN</td>\n",
       "      <td>NaN</td>\n",
       "    </tr>\n",
       "    <tr>\n",
       "      <th>5</th>\n",
       "      <td>6</td>\n",
       "      <td>일반음식점</td>\n",
       "      <td>07_24_04_P</td>\n",
       "      <td>3160000</td>\n",
       "      <td>3160000-101-2017-00107</td>\n",
       "      <td>2017-04-14</td>\n",
       "      <td>NaN</td>\n",
       "      <td>3</td>\n",
       "      <td>폐업</td>\n",
       "      <td>2</td>\n",
       "      <td>...</td>\n",
       "      <td>NaN</td>\n",
       "      <td>NaN</td>\n",
       "      <td>NaN</td>\n",
       "      <td>NaN</td>\n",
       "      <td>N</td>\n",
       "      <td>133.91</td>\n",
       "      <td>NaN</td>\n",
       "      <td>NaN</td>\n",
       "      <td>NaN</td>\n",
       "      <td>NaN</td>\n",
       "    </tr>\n",
       "    <tr>\n",
       "      <th>...</th>\n",
       "      <td>...</td>\n",
       "      <td>...</td>\n",
       "      <td>...</td>\n",
       "      <td>...</td>\n",
       "      <td>...</td>\n",
       "      <td>...</td>\n",
       "      <td>...</td>\n",
       "      <td>...</td>\n",
       "      <td>...</td>\n",
       "      <td>...</td>\n",
       "      <td>...</td>\n",
       "      <td>...</td>\n",
       "      <td>...</td>\n",
       "      <td>...</td>\n",
       "      <td>...</td>\n",
       "      <td>...</td>\n",
       "      <td>...</td>\n",
       "      <td>...</td>\n",
       "      <td>...</td>\n",
       "      <td>...</td>\n",
       "      <td>...</td>\n",
       "    </tr>\n",
       "    <tr>\n",
       "      <th>2183516</th>\n",
       "      <td>2183517</td>\n",
       "      <td>일반음식점</td>\n",
       "      <td>07_24_04_P</td>\n",
       "      <td>3140000</td>\n",
       "      <td>3140000-101-2024-00169</td>\n",
       "      <td>2024-05-31</td>\n",
       "      <td>NaN</td>\n",
       "      <td>1</td>\n",
       "      <td>영업/정상</td>\n",
       "      <td>1</td>\n",
       "      <td>...</td>\n",
       "      <td>0.0</td>\n",
       "      <td>NaN</td>\n",
       "      <td>0.0</td>\n",
       "      <td>0.0</td>\n",
       "      <td>N</td>\n",
       "      <td>30.94</td>\n",
       "      <td>NaN</td>\n",
       "      <td>NaN</td>\n",
       "      <td>NaN</td>\n",
       "      <td>NaN</td>\n",
       "    </tr>\n",
       "    <tr>\n",
       "      <th>2183517</th>\n",
       "      <td>2183518</td>\n",
       "      <td>일반음식점</td>\n",
       "      <td>07_24_04_P</td>\n",
       "      <td>3140000</td>\n",
       "      <td>3140000-101-2024-00168</td>\n",
       "      <td>2024-05-31</td>\n",
       "      <td>NaN</td>\n",
       "      <td>1</td>\n",
       "      <td>영업/정상</td>\n",
       "      <td>1</td>\n",
       "      <td>...</td>\n",
       "      <td>0.0</td>\n",
       "      <td>NaN</td>\n",
       "      <td>0.0</td>\n",
       "      <td>0.0</td>\n",
       "      <td>N</td>\n",
       "      <td>125.00</td>\n",
       "      <td>NaN</td>\n",
       "      <td>NaN</td>\n",
       "      <td>NaN</td>\n",
       "      <td>NaN</td>\n",
       "    </tr>\n",
       "    <tr>\n",
       "      <th>2183518</th>\n",
       "      <td>2183519</td>\n",
       "      <td>일반음식점</td>\n",
       "      <td>07_24_04_P</td>\n",
       "      <td>3140000</td>\n",
       "      <td>3140000-101-2024-00167</td>\n",
       "      <td>2024-05-31</td>\n",
       "      <td>NaN</td>\n",
       "      <td>1</td>\n",
       "      <td>영업/정상</td>\n",
       "      <td>1</td>\n",
       "      <td>...</td>\n",
       "      <td>0.0</td>\n",
       "      <td>NaN</td>\n",
       "      <td>0.0</td>\n",
       "      <td>0.0</td>\n",
       "      <td>N</td>\n",
       "      <td>83.00</td>\n",
       "      <td>NaN</td>\n",
       "      <td>NaN</td>\n",
       "      <td>NaN</td>\n",
       "      <td>NaN</td>\n",
       "    </tr>\n",
       "    <tr>\n",
       "      <th>2188943</th>\n",
       "      <td>2188944</td>\n",
       "      <td>일반음식점</td>\n",
       "      <td>07_24_04_P</td>\n",
       "      <td>3080000</td>\n",
       "      <td>3080000-101-2024-00180</td>\n",
       "      <td>2024-05-30</td>\n",
       "      <td>NaN</td>\n",
       "      <td>1</td>\n",
       "      <td>영업/정상</td>\n",
       "      <td>1</td>\n",
       "      <td>...</td>\n",
       "      <td>0.0</td>\n",
       "      <td>NaN</td>\n",
       "      <td>0.0</td>\n",
       "      <td>0.0</td>\n",
       "      <td>Y</td>\n",
       "      <td>101.64</td>\n",
       "      <td>NaN</td>\n",
       "      <td>NaN</td>\n",
       "      <td>NaN</td>\n",
       "      <td>NaN</td>\n",
       "    </tr>\n",
       "    <tr>\n",
       "      <th>2188944</th>\n",
       "      <td>2188945</td>\n",
       "      <td>일반음식점</td>\n",
       "      <td>07_24_04_P</td>\n",
       "      <td>3080000</td>\n",
       "      <td>3080000-101-2024-00179</td>\n",
       "      <td>2024-05-30</td>\n",
       "      <td>NaN</td>\n",
       "      <td>1</td>\n",
       "      <td>영업/정상</td>\n",
       "      <td>1</td>\n",
       "      <td>...</td>\n",
       "      <td>0.0</td>\n",
       "      <td>NaN</td>\n",
       "      <td>0.0</td>\n",
       "      <td>0.0</td>\n",
       "      <td>N</td>\n",
       "      <td>16.50</td>\n",
       "      <td>NaN</td>\n",
       "      <td>NaN</td>\n",
       "      <td>NaN</td>\n",
       "      <td>NaN</td>\n",
       "    </tr>\n",
       "  </tbody>\n",
       "</table>\n",
       "<p>517842 rows × 48 columns</p>\n",
       "</div>"
      ],
      "text/plain": [
       "              번호 개방서비스명    개방서비스아이디  개방자치단체코드                    관리번호  \\\n",
       "0              1  일반음식점  07_24_04_P   3230000  3230000-101-2020-00923   \n",
       "2              3  일반음식점  07_24_04_P   3130000  3130000-101-1991-00615   \n",
       "3              4  일반음식점  07_24_04_P   3130000  3130000-101-1991-03690   \n",
       "4              5  일반음식점  07_24_04_P   3130000  3130000-101-1997-08442   \n",
       "5              6  일반음식점  07_24_04_P   3160000  3160000-101-2017-00107   \n",
       "...          ...    ...         ...       ...                     ...   \n",
       "2183516  2183517  일반음식점  07_24_04_P   3140000  3140000-101-2024-00169   \n",
       "2183517  2183518  일반음식점  07_24_04_P   3140000  3140000-101-2024-00168   \n",
       "2183518  2183519  일반음식점  07_24_04_P   3140000  3140000-101-2024-00167   \n",
       "2188943  2188944  일반음식점  07_24_04_P   3080000  3080000-101-2024-00180   \n",
       "2188944  2188945  일반음식점  07_24_04_P   3080000  3080000-101-2024-00179   \n",
       "\n",
       "              인허가일자  인허가취소일자  영업상태구분코드  영업상태명  상세영업상태코드  ... 공장생산직직원수 건물소유구분명  \\\n",
       "0        2020-12-31      NaN         3     폐업         2  ...      0.0     NaN   \n",
       "2        1991-04-08      NaN         3     폐업         2  ...      NaN     NaN   \n",
       "3        1991-04-03      NaN         3     폐업         2  ...      NaN     NaN   \n",
       "4        1997-01-01      NaN         3     폐업         2  ...      NaN     NaN   \n",
       "5        2017-04-14      NaN         3     폐업         2  ...      NaN     NaN   \n",
       "...             ...      ...       ...    ...       ...  ...      ...     ...   \n",
       "2183516  2024-05-31      NaN         1  영업/정상         1  ...      0.0     NaN   \n",
       "2183517  2024-05-31      NaN         1  영업/정상         1  ...      0.0     NaN   \n",
       "2183518  2024-05-31      NaN         1  영업/정상         1  ...      0.0     NaN   \n",
       "2188943  2024-05-30      NaN         1  영업/정상         1  ...      0.0     NaN   \n",
       "2188944  2024-05-30      NaN         1  영업/정상         1  ...      0.0     NaN   \n",
       "\n",
       "         보증액  월세액  다중이용업소여부   시설총규모  전통업소지정번호 전통업소주된음식 홈페이지 Unnamed: 47  \n",
       "0        0.0  0.0         N   34.32       NaN      NaN  NaN         NaN  \n",
       "2        NaN  NaN         N   38.82       NaN      NaN  NaN         NaN  \n",
       "3        NaN  NaN         N   24.50       NaN      NaN  NaN         NaN  \n",
       "4        NaN  NaN         N    0.00       NaN      NaN  NaN         NaN  \n",
       "5        NaN  NaN         N  133.91       NaN      NaN  NaN         NaN  \n",
       "...      ...  ...       ...     ...       ...      ...  ...         ...  \n",
       "2183516  0.0  0.0         N   30.94       NaN      NaN  NaN         NaN  \n",
       "2183517  0.0  0.0         N  125.00       NaN      NaN  NaN         NaN  \n",
       "2183518  0.0  0.0         N   83.00       NaN      NaN  NaN         NaN  \n",
       "2188943  0.0  0.0         Y  101.64       NaN      NaN  NaN         NaN  \n",
       "2188944  0.0  0.0         N   16.50       NaN      NaN  NaN         NaN  \n",
       "\n",
       "[517842 rows x 48 columns]"
      ]
     },
     "execution_count": 13,
     "metadata": {},
     "output_type": "execute_result"
    }
   ],
   "source": [
    "df_stores_sl"
   ]
  },
  {
   "cell_type": "code",
   "execution_count": null,
   "metadata": {},
   "outputs": [],
   "source": []
  },
  {
   "cell_type": "code",
   "execution_count": 36,
   "metadata": {},
   "outputs": [
    {
     "name": "stdout",
     "output_type": "stream",
     "text": [
      "한국 요리 키워드 개수: 0\n",
      "[]\n"
     ]
    }
   ],
   "source": [
    "import requests\n",
    "from bs4 import BeautifulSoup\n",
    "\n",
    "# 나무위키 한국 요리 목록 페이지\n",
    "url = \"https://namu.wiki/w/%ED%95%9C%EA%B5%AD%20%EC%9A%94%EB%A6%AC/%EB%AA%A9%EB%A1%9D\"\n",
    "\n",
    "headers = {\n",
    "    \"User-Agent\": \"Mozilla/5.0\"\n",
    "}\n",
    "\n",
    "response = requests.get(url, headers=headers)\n",
    "soup = BeautifulSoup(response.text, \"html.parser\")\n",
    "\n",
    "# 항목 추출 (li 태그에서 텍스트만 뽑기)\n",
    "items = soup.select(\"div[class^='wiki-paragraph'] ul li\")\n",
    "\n",
    "korean_foods = list(set([item.get_text(strip=True) for item in items if item.get_text(strip=True)]))\n",
    "\n",
    "# 미리보기 출력\n",
    "print(\"한국 요리 키워드 개수:\", len(korean_foods))\n",
    "print(korean_foods[:30])"
   ]
  },
  {
   "cell_type": "code",
   "execution_count": 41,
   "metadata": {},
   "outputs": [
    {
     "name": "stdout",
     "output_type": "stream",
     "text": [
      "총 요리 후보 개수: 1484\n",
      "['가공된', '가까운', '가깝고', '가도', '가래떡', '가래떡을', '가루', '가리키는', '가릿국밥', '가열하는', '가장', '가제육', '가지로', '가지의', '각각', '간고등어', '간단한', '간소한', '간식으로', '간장', '간장게장', '간장에', '간장의', '간장치킨', '간짜장', '갈비', '갈비찜', '갈비탕', '갈수', '갈치조림']\n"
     ]
    }
   ],
   "source": [
    "import re\n",
    "\n",
    "# 전체 텍스트 복사 붙여넣기\n",
    "with open(\"./data/w2/namuwiki_korean_dishes.txt\", \"r\", encoding=\"utf-8\") as f:\n",
    "    text = f.read()\n",
    "\n",
    "# 괄호 설명 제거 (ex: 김치볶음밥 : 볶음밥에 김치를 넣은 요리)\n",
    "text = re.sub(r'\\([^)]*\\)', '', text)\n",
    "\n",
    "# 문장 부호로 끝나는 줄 제거 (섹션 이름, 설명 등)\n",
    "lines = [line.strip() for line in text.splitlines() if line and not line.endswith(':')]\n",
    "\n",
    "# 2글자 이상 한글 단어만 추출 (숫자, 불용어 제외)\n",
    "dish_candidates = []\n",
    "for line in lines:\n",
    "    # 한 줄에서 쉼표 또는 공백 기준으로 나누기\n",
    "    parts = re.split(r'[,\\s]', line)\n",
    "    for part in parts:\n",
    "        if re.fullmatch(r'[가-힣]{2,}', part):\n",
    "            dish_candidates.append(part)\n",
    "\n",
    "# 중복 제거 + 정렬\n",
    "dish_names = sorted(set(dish_candidates))\n",
    "\n",
    "# 결과 미리보기\n",
    "print(f\"총 요리 후보 개수: {len(dish_names)}\")\n",
    "print(dish_names[:30])"
   ]
  },
  {
   "cell_type": "code",
   "execution_count": 40,
   "metadata": {},
   "outputs": [
    {
     "data": {
      "text/plain": [
       "['가공된',\n",
       " '가기',\n",
       " '가까운',\n",
       " '가깝고',\n",
       " '가도',\n",
       " '가래떡',\n",
       " '가래떡을',\n",
       " '가루',\n",
       " '가리키는',\n",
       " '가릿국밥',\n",
       " '가사도우미',\n",
       " '가열하는',\n",
       " '가장',\n",
       " '가제육',\n",
       " '가지로',\n",
       " '가지의',\n",
       " '각각',\n",
       " '간고등어',\n",
       " '간단한',\n",
       " '간소한',\n",
       " '간식으로',\n",
       " '간장',\n",
       " '간장게장',\n",
       " '간장양념풍',\n",
       " '간장에',\n",
       " '간장의',\n",
       " '간장치킨',\n",
       " '간짜장',\n",
       " '갈비',\n",
       " '갈비찜',\n",
       " '갈비탕',\n",
       " '갈수',\n",
       " '갈치조림',\n",
       " '갈치찌개',\n",
       " '감말랭이',\n",
       " '감식초',\n",
       " '감자',\n",
       " '감자조림',\n",
       " '감자탕',\n",
       " '감잣국',\n",
       " '감주',\n",
       " '갓김치',\n",
       " '강냉이',\n",
       " '강원도의',\n",
       " '강정',\n",
       " '강화',\n",
       " '갖가지',\n",
       " '갖은',\n",
       " '갖은양념을',\n",
       " '같은',\n",
       " '같이',\n",
       " '개떡',\n",
       " '개발되었으며',\n",
       " '개발하여',\n",
       " '개발한',\n",
       " '개불',\n",
       " '개성시의',\n",
       " '개성주악',\n",
       " '개성지방의',\n",
       " '개요',\n",
       " '거의',\n",
       " '건조과일',\n",
       " '건조묵',\n",
       " '걸쭉한',\n",
       " '검증되지',\n",
       " '것과',\n",
       " '것까지',\n",
       " '것도',\n",
       " '것부터',\n",
       " '것으로',\n",
       " '것은',\n",
       " '것을',\n",
       " '것이',\n",
       " '것이고',\n",
       " '것이었으나',\n",
       " '것인데',\n",
       " '것임을',\n",
       " '겉절이',\n",
       " '게이머',\n",
       " '게임',\n",
       " '게장',\n",
       " '게재',\n",
       " '겨울철에',\n",
       " '경단',\n",
       " '경상도',\n",
       " '경우',\n",
       " '경우가',\n",
       " '곁들이는',\n",
       " '계란',\n",
       " '계란국',\n",
       " '계란말이',\n",
       " '계란빵',\n",
       " '계란의',\n",
       " '계란찜',\n",
       " '고갈비',\n",
       " '고구마',\n",
       " '고구마튀김',\n",
       " '고기',\n",
       " '고기국수',\n",
       " '고기를',\n",
       " '고기와',\n",
       " '고기의',\n",
       " '고깃집에서',\n",
       " '고등어구이',\n",
       " '고등어조림',\n",
       " '고로쇠물',\n",
       " '고명',\n",
       " '고명으로',\n",
       " '고명이',\n",
       " '고사릿국',\n",
       " '고아',\n",
       " '고아서',\n",
       " '고유의',\n",
       " '고추장',\n",
       " '고추장찌개',\n",
       " '고추튀김',\n",
       " '고칠',\n",
       " '곡류',\n",
       " '곡식을',\n",
       " '곤드레',\n",
       " '곤드레밥',\n",
       " '골뱅이무침',\n",
       " '골뱅이소면',\n",
       " '곰국이라고도',\n",
       " '곰이랑은',\n",
       " '곰탕',\n",
       " '곱창',\n",
       " '곱창전골',\n",
       " '공간분리',\n",
       " '공깃밥',\n",
       " '공방',\n",
       " '공통',\n",
       " '곶감',\n",
       " '과거의',\n",
       " '과메기',\n",
       " '과메기는',\n",
       " '과일',\n",
       " '과일로',\n",
       " '과일을',\n",
       " '과일청',\n",
       " '과자',\n",
       " '과자로',\n",
       " '과편',\n",
       " '과하주',\n",
       " '관련',\n",
       " '광고',\n",
       " '광고등록',\n",
       " '광주광역시',\n",
       " '교촌치킨을',\n",
       " '교촌치킨이',\n",
       " '교촌치킨이라는',\n",
       " '구미로',\n",
       " '구미시의',\n",
       " '구분',\n",
       " '구분되는',\n",
       " '구분은',\n",
       " '구분해서',\n",
       " '구워낸',\n",
       " '구워먹는',\n",
       " '구워서',\n",
       " '구이',\n",
       " '구인',\n",
       " '구절판',\n",
       " '구직은',\n",
       " '국가에서',\n",
       " '국기',\n",
       " '국내에서',\n",
       " '국물',\n",
       " '국물과',\n",
       " '국물에',\n",
       " '국물용',\n",
       " '국물용으로',\n",
       " '국물을',\n",
       " '국물의',\n",
       " '국물이',\n",
       " '국밥',\n",
       " '국수',\n",
       " '국수전골',\n",
       " '국을',\n",
       " '국이',\n",
       " '국화차',\n",
       " '군대리아',\n",
       " '군만두의',\n",
       " '굴국밥',\n",
       " '굴비',\n",
       " '궁중요리',\n",
       " '귀리떡',\n",
       " '규아상',\n",
       " '그것을',\n",
       " '그곳에서',\n",
       " '그냥',\n",
       " '그대로',\n",
       " '그러나',\n",
       " '그마저도',\n",
       " '그에',\n",
       " '그저',\n",
       " '그중에서도',\n",
       " '근거가',\n",
       " '기능',\n",
       " '기름에',\n",
       " '기반으로',\n",
       " '기본',\n",
       " '기본으로',\n",
       " '기본은',\n",
       " '기여자는',\n",
       " '기여자에게',\n",
       " '기여하신',\n",
       " '기원은',\n",
       " '기원이',\n",
       " '기원하면서',\n",
       " '기장밥',\n",
       " '기재',\n",
       " '기타',\n",
       " '김말이',\n",
       " '김밥',\n",
       " '김밥처럼',\n",
       " '김쌈',\n",
       " '김쌈과',\n",
       " '김장',\n",
       " '김치',\n",
       " '김치를',\n",
       " '김치말이국수',\n",
       " '김치볶음밥',\n",
       " '김치의',\n",
       " '김치전골',\n",
       " '김치찌개',\n",
       " '김칫국',\n",
       " '깊게',\n",
       " '까나리액젓',\n",
       " '깍두기',\n",
       " '깔고',\n",
       " '깻잎',\n",
       " '깻잎장아찌',\n",
       " '꼬치에',\n",
       " '꼴뚜기젓',\n",
       " '꼼장어',\n",
       " '꼼장어볶음',\n",
       " '꽁치로',\n",
       " '꽁치조림',\n",
       " '꽂아',\n",
       " '꽃게탕',\n",
       " '꽃게튀김',\n",
       " '꾸미',\n",
       " '꿀빵',\n",
       " '꿩탕',\n",
       " '끓는',\n",
       " '끓여',\n",
       " '끓여내는',\n",
       " '끓여낸',\n",
       " '끓이는',\n",
       " '끓이듯',\n",
       " '끓인',\n",
       " '끼워먹는',\n",
       " '나고야의',\n",
       " '나라로',\n",
       " '나무위키는',\n",
       " '나박김치',\n",
       " '나오는',\n",
       " '나오면',\n",
       " '나오키',\n",
       " '나올',\n",
       " '나타난',\n",
       " '낙지',\n",
       " '낙지볶음',\n",
       " '낙지젓',\n",
       " '날에만',\n",
       " '남여',\n",
       " '남은',\n",
       " '남한',\n",
       " '남한에선',\n",
       " '내기는',\n",
       " '내놓는다는',\n",
       " '내용',\n",
       " '내용은',\n",
       " '내장탕',\n",
       " '내지',\n",
       " '냄비에',\n",
       " '냉국',\n",
       " '냉면',\n",
       " '냉면을',\n",
       " '냉콩국',\n",
       " '너무',\n",
       " '너비아니',\n",
       " '널리',\n",
       " '넘어와서',\n",
       " '넣거나',\n",
       " '넣고',\n",
       " '넣는',\n",
       " '넣어',\n",
       " '넣은',\n",
       " '년가량',\n",
       " '노량진에서',\n",
       " '노리마키',\n",
       " '녹두나화',\n",
       " '녹말면을',\n",
       " '녹운탕',\n",
       " '논란',\n",
       " '높여',\n",
       " '놓고',\n",
       " '누룽지를',\n",
       " '누룽지탕',\n",
       " '누에고치',\n",
       " '늘어나고',\n",
       " '다급했던',\n",
       " '다른',\n",
       " '다름',\n",
       " '다만',\n",
       " '다슬기해장국',\n",
       " '다시마냉국',\n",
       " '다식',\n",
       " '다양한',\n",
       " '다양함을',\n",
       " '다음으로',\n",
       " '다진',\n",
       " '다카시',\n",
       " '단순히',\n",
       " '달걀밥',\n",
       " '달거나',\n",
       " '달고나',\n",
       " '달라',\n",
       " '달라졌기',\n",
       " '달착지근한',\n",
       " '닭갈비',\n",
       " '닭강정',\n",
       " '닭개장',\n",
       " '닭고기',\n",
       " '닭고기나',\n",
       " '닭고기를',\n",
       " '닭곰탕',\n",
       " '닭국수',\n",
       " '닭꼬치',\n",
       " '닭날개',\n",
       " '닭도리탕',\n",
       " '닭발',\n",
       " '닭으로',\n",
       " '닭이나',\n",
       " '닭죽',\n",
       " '담궈',\n",
       " '닿지',\n",
       " '대개',\n",
       " '대갱이무침',\n",
       " '대구아가미젓',\n",
       " '대구통닭이',\n",
       " '대략',\n",
       " '대만',\n",
       " '대부분',\n",
       " '대선',\n",
       " '대용하고',\n",
       " '대중화된',\n",
       " '대추',\n",
       " '대충',\n",
       " '대통밥',\n",
       " '대표적인',\n",
       " '대한민국',\n",
       " '더덕',\n",
       " '덜어서',\n",
       " '덤으로',\n",
       " '덮밥',\n",
       " '데리야끼에',\n",
       " '데리야키나',\n",
       " '데운다는',\n",
       " '데치거나',\n",
       " '도가니탕',\n",
       " '도나쓰의',\n",
       " '도라지',\n",
       " '도라지와',\n",
       " '도리뱅뱅이',\n",
       " '도미면',\n",
       " '도산',\n",
       " '도수',\n",
       " '도우',\n",
       " '도토리묵',\n",
       " '독자적으로',\n",
       " '독특한',\n",
       " '돈가스와는',\n",
       " '돈가스지만',\n",
       " '돈가스찌개라는',\n",
       " '돈까스',\n",
       " '돌솥비빔밥',\n",
       " '돔배기',\n",
       " '동그란',\n",
       " '동네',\n",
       " '동동주',\n",
       " '동동주나',\n",
       " '동치미',\n",
       " '동태찌개',\n",
       " '동해안의',\n",
       " '돼지',\n",
       " '돼지갈비',\n",
       " '돼지고기를',\n",
       " '돼지국밥',\n",
       " '돼지불고기',\n",
       " '되기도',\n",
       " '되려',\n",
       " '되비지탕',\n",
       " '된장',\n",
       " '된장국',\n",
       " '된장은',\n",
       " '된장찌개',\n",
       " '된장찌개나',\n",
       " '두께',\n",
       " '두루치기',\n",
       " '두부',\n",
       " '두부김치',\n",
       " '두부밥',\n",
       " '두부부침',\n",
       " '두부전골',\n",
       " '두부조림',\n",
       " '두부찌개',\n",
       " '두텁떡',\n",
       " '둥굴레차',\n",
       " '뒤바뀌어버린',\n",
       " '뒷고기',\n",
       " '듣고',\n",
       " '듣보잡',\n",
       " '들깨',\n",
       " '들어가는',\n",
       " '들어가지',\n",
       " '들어서는',\n",
       " '들어온',\n",
       " '들어있는',\n",
       " '등과',\n",
       " '등은',\n",
       " '등을',\n",
       " '등의',\n",
       " '등장했으며',\n",
       " '따라',\n",
       " '따로',\n",
       " '따르면',\n",
       " '따지면',\n",
       " '딸기',\n",
       " '때문에',\n",
       " '떠먹는',\n",
       " '떠오르는',\n",
       " '떠올리지만',\n",
       " '떡갈비',\n",
       " '떡국',\n",
       " '떡만둣국',\n",
       " '떡볶이',\n",
       " '떡으로',\n",
       " '떡의',\n",
       " '떡종류',\n",
       " '떨어지면서',\n",
       " '또는',\n",
       " '또한',\n",
       " '뚱카롱',\n",
       " '뜨고',\n",
       " '띄어',\n",
       " '라멘과',\n",
       " '라면',\n",
       " '라면은',\n",
       " '라몐과',\n",
       " '라이선스',\n",
       " '라이스버거라는',\n",
       " '라이스버거를',\n",
       " '러끼',\n",
       " '러빙',\n",
       " '런칭하기',\n",
       " '레탈릭',\n",
       " '롯데리아에서',\n",
       " '룸타입',\n",
       " '리를',\n",
       " '마꽃떡',\n",
       " '마늘',\n",
       " '마늘빵',\n",
       " '마늘빵도',\n",
       " '마늘빵에',\n",
       " '마늘빵이',\n",
       " '막걸리',\n",
       " '막걸리를',\n",
       " '막국수',\n",
       " '막장',\n",
       " '막창',\n",
       " '만두',\n",
       " '만두전골',\n",
       " '만든',\n",
       " '만들어',\n",
       " '만들어졌다는',\n",
       " '만들어진',\n",
       " '만쥬의',\n",
       " '만큼',\n",
       " '많으나',\n",
       " '많으며',\n",
       " '많은',\n",
       " '많이',\n",
       " '말고',\n",
       " '말려서',\n",
       " '말린',\n",
       " '말아먹는',\n",
       " '말이',\n",
       " '말하는',\n",
       " '말할',\n",
       " '맘모스빵',\n",
       " '맛볼',\n",
       " '맛으로',\n",
       " '맛을',\n",
       " '맛탕',\n",
       " '망개떡',\n",
       " '맞으며',\n",
       " '매니아가',\n",
       " '매실',\n",
       " '매실주',\n",
       " '매운탕',\n",
       " '매콤한',\n",
       " '맥적',\n",
       " '맵게',\n",
       " '먹기',\n",
       " '먹기보다는',\n",
       " '먹는',\n",
       " '먹어보았다는',\n",
       " '먹어봐야',\n",
       " '먹어야',\n",
       " '먹어오던',\n",
       " '먹을',\n",
       " '먼저',\n",
       " '멍게',\n",
       " '메밀',\n",
       " '메밀국수',\n",
       " '메밀국수는',\n",
       " '메밀떡',\n",
       " '메밀로',\n",
       " '메밀묵',\n",
       " '메밀차',\n",
       " '멜로디',\n",
       " '면에서',\n",
       " '면요리',\n",
       " '멸치볶음',\n",
       " '멸치젓',\n",
       " '명란젓',\n",
       " '명백한',\n",
       " '명칭으로',\n",
       " '모과차',\n",
       " '모두',\n",
       " '모리국수',\n",
       " '모스버거가',\n",
       " '모스버거에서',\n",
       " '모아',\n",
       " '모아다가',\n",
       " '모양으로',\n",
       " '모양을',\n",
       " '모자반으로',\n",
       " '모짜렐라',\n",
       " '모찌',\n",
       " '모험유기',\n",
       " '목살구이',\n",
       " '몫으로',\n",
       " '몸국',\n",
       " '몽골',\n",
       " '무감자밥',\n",
       " '무국',\n",
       " '무술당',\n",
       " '무스나',\n",
       " '무언가를',\n",
       " '무전',\n",
       " '무조림',\n",
       " '무지개떡',\n",
       " '무친',\n",
       " '무침이나',\n",
       " '묵국수',\n",
       " '묵밥',\n",
       " '문서',\n",
       " '문서를',\n",
       " '문서의',\n",
       " '문어숙회',\n",
       " '문화',\n",
       " '문화가',\n",
       " '물고기와',\n",
       " '물고기인지',\n",
       " '물냉면',\n",
       " '물떡',\n",
       " '물론',\n",
       " '물을',\n",
       " '물이',\n",
       " '물짜장',\n",
       " '물회',\n",
       " '뭉근히',\n",
       " '뭉쳐',\n",
       " '미가키니싱과',\n",
       " '미국',\n",
       " '미국에서는',\n",
       " '미국에서도',\n",
       " '미국인들이',\n",
       " '미수',\n",
       " '미역국',\n",
       " '미역줄기볶음',\n",
       " '민어회',\n",
       " '믿을수있는',\n",
       " '밀면',\n",
       " '밀수',\n",
       " '바뀌어',\n",
       " '바베큐로',\n",
       " '바지락',\n",
       " '바짝',\n",
       " '박대묵',\n",
       " '박아넣어',\n",
       " '반가음식',\n",
       " '반건조라는',\n",
       " '반대의',\n",
       " '반상',\n",
       " '반죽하여',\n",
       " '반찬',\n",
       " '반찬이',\n",
       " '받아',\n",
       " '발제할',\n",
       " '발효시킨',\n",
       " '밥버거',\n",
       " '밥버거는',\n",
       " '밥상에',\n",
       " '밥상의',\n",
       " '밥에',\n",
       " '밥을',\n",
       " '밥의',\n",
       " '방식',\n",
       " '방식으로',\n",
       " '방식이',\n",
       " '방식이나',\n",
       " '방이점',\n",
       " '방증해',\n",
       " '방풍죽',\n",
       " '배스킨라빈스',\n",
       " '배추김치',\n",
       " '백과사전이',\n",
       " '백반',\n",
       " '백설기',\n",
       " '백숙',\n",
       " '백악관',\n",
       " '뱀술',\n",
       " '버무려',\n",
       " '버무린',\n",
       " '버섯전골',\n",
       " '베이비시터',\n",
       " '베이스',\n",
       " '베이컨',\n",
       " '변경',\n",
       " '변형된',\n",
       " '별도',\n",
       " '보기',\n",
       " '보기에',\n",
       " '보러',\n",
       " '보리밥',\n",
       " '보리차',\n",
       " '보말국',\n",
       " '보면',\n",
       " '보신탕',\n",
       " '보쌈',\n",
       " '보이는데',\n",
       " '보이면',\n",
       " '보이지만',\n",
       " '보존음식',\n",
       " '보통',\n",
       " '보통은',\n",
       " '복분자주',\n",
       " '볶아',\n",
       " '볶은',\n",
       " '볶음',\n",
       " '볶음밥',\n",
       " '볶음짬뽕',\n",
       " '본떠',\n",
       " '본래',\n",
       " '본래는',\n",
       " '봄나물',\n",
       " '봄나물이라고',\n",
       " '봄에',\n",
       " '봄에만',\n",
       " '봉구스밥버거에서',\n",
       " '봉수탕',\n",
       " '봐도',\n",
       " '부각',\n",
       " '부꾸미',\n",
       " '부대찌개',\n",
       " '부드럽게',\n",
       " '부분의',\n",
       " '부산광역시의',\n",
       " '부어',\n",
       " '부의주와는',\n",
       " '북어',\n",
       " '북엇국',\n",
       " '북한',\n",
       " '북한식',\n",
       " '북한의',\n",
       " '분들은',\n",
       " '분류한국',\n",
       " '분리',\n",
       " '분명',\n",
       " '분명히',\n",
       " '분식',\n",
       " '분포하고',\n",
       " '불가사의한',\n",
       " '불고기',\n",
       " '불고기버거',\n",
       " '불고기에',\n",
       " '불고기인지',\n",
       " '불과했던',\n",
       " '불낙전골',\n",
       " '불닭',\n",
       " '불러야',\n",
       " '불리고',\n",
       " '불리는',\n",
       " '불리는데',\n",
       " '불분명하나',\n",
       " '불분명한데',\n",
       " '불판에',\n",
       " '붓거나',\n",
       " '붓고',\n",
       " '붕괴',\n",
       " '붙은',\n",
       " '브로드소드',\n",
       " '브로드웨이',\n",
       " '브로디',\n",
       " '비더스테이',\n",
       " '비빔국수',\n",
       " '비빔냉면',\n",
       " '비빔밥',\n",
       " '비슷하나',\n",
       " '비슷한',\n",
       " '비율',\n",
       " '비중을',\n",
       " '비지떡',\n",
       " '비지찌개',\n",
       " '비지찌개로도',\n",
       " '비해',\n",
       " '빙떡',\n",
       " '빙수',\n",
       " '빨리',\n",
       " '빵과',\n",
       " '빵으로',\n",
       " '빵은',\n",
       " '빵이',\n",
       " '뻥튀기',\n",
       " '뼈에',\n",
       " '뼈해장국',\n",
       " '뿌리채소',\n",
       " '뿐인데',\n",
       " '사골국',\n",
       " '사람',\n",
       " '사람의',\n",
       " '사시미와는',\n",
       " '사실',\n",
       " '사용',\n",
       " '사용되나',\n",
       " '사용된다는',\n",
       " '사용하는',\n",
       " '사이에',\n",
       " '사이키',\n",
       " '사이토',\n",
       " '사전적',\n",
       " '사찰식',\n",
       " '사찰요리',\n",
       " '사천짜장',\n",
       " '삭힌',\n",
       " '산삼',\n",
       " '산적',\n",
       " '살을',\n",
       " '삶은',\n",
       " '삼겹살',\n",
       " '삼계선',\n",
       " '삼계탕',\n",
       " '삼선짜장',\n",
       " '삼치구이',\n",
       " '삼합',\n",
       " '상당히',\n",
       " '상세',\n",
       " '상어로',\n",
       " '상위',\n",
       " '상이죽',\n",
       " '상차림',\n",
       " '상추',\n",
       " '상추겉절이',\n",
       " '상추튀김',\n",
       " '상태에서',\n",
       " '상하지',\n",
       " '상화병',\n",
       " '새우',\n",
       " '새우젓',\n",
       " '새우탕',\n",
       " '새해',\n",
       " '색이',\n",
       " '샌드위치',\n",
       " '샌드위치에는',\n",
       " '샌드위치와',\n",
       " '샌드위치의',\n",
       " '생각하는',\n",
       " '생각하면',\n",
       " '생각할',\n",
       " '생겨나게',\n",
       " '생과자류가',\n",
       " '생기면서',\n",
       " '생선을',\n",
       " '생선조림',\n",
       " '생채',\n",
       " '서대회무침',\n",
       " '서더리탕',\n",
       " '서속떡',\n",
       " '서술이',\n",
       " '서양',\n",
       " '서양보다',\n",
       " '서양에도',\n",
       " '서해안의',\n",
       " '섞어',\n",
       " '선어와',\n",
       " '선지국',\n",
       " '설렁탕',\n",
       " '설은',\n",
       " '설이',\n",
       " '설탕과',\n",
       " '섭산삼',\n",
       " '섭산적',\n",
       " '성게',\n",
       " '세계',\n",
       " '세계에',\n",
       " '세계적으로',\n",
       " '셰리',\n",
       " '소가',\n",
       " '소갈비',\n",
       " '소갈비를',\n",
       " '소고기를',\n",
       " '소고기의',\n",
       " '소고기전골',\n",
       " '소금에',\n",
       " '소돔의',\n",
       " '소머리국밥',\n",
       " '소비되면서',\n",
       " '소스',\n",
       " '소스로',\n",
       " '소스에',\n",
       " '소스와',\n",
       " '소스의',\n",
       " '소시지',\n",
       " '소시지빵',\n",
       " '소위',\n",
       " '소주',\n",
       " '소주라고',\n",
       " '소주를',\n",
       " '소주와',\n",
       " '속았수다',\n",
       " '속하지만',\n",
       " '솔직히',\n",
       " '송파구베이비시터는',\n",
       " '송편',\n",
       " '솥이나',\n",
       " '쇠고기를',\n",
       " '쇠고깃국',\n",
       " '수구레',\n",
       " '수구레국밥',\n",
       " '수단',\n",
       " '수라상',\n",
       " '수산물',\n",
       " '수산물을',\n",
       " '수육',\n",
       " '수육이라고',\n",
       " '수정',\n",
       " '수정과',\n",
       " '수제',\n",
       " '수제비',\n",
       " '수증계',\n",
       " '수지탕',\n",
       " '수출되어',\n",
       " '숙성',\n",
       " '숙수',\n",
       " '숙실과',\n",
       " '숙회',\n",
       " '순대',\n",
       " '순대는',\n",
       " '순댓국',\n",
       " '순두부찌개',\n",
       " '순무김치',\n",
       " '순으로',\n",
       " '순채차',\n",
       " '술국',\n",
       " '술떡',\n",
       " '술빵',\n",
       " '숭늉',\n",
       " '숭어국',\n",
       " '쉰다리',\n",
       " '스타일',\n",
       " '승가기탕',\n",
       " '시기',\n",
       " '시도하지',\n",
       " '시래기국',\n",
       " '시루떡',\n",
       " '시작했는지는',\n",
       " '시장에서',\n",
       " '시즈닝',\n",
       " '식감',\n",
       " '식감을',\n",
       " '식문화',\n",
       " '식문화의',\n",
       " '식빵',\n",
       " '식빵튀김',\n",
       " '식재료로도',\n",
       " '식탁도',\n",
       " '식해',\n",
       " '식혜',\n",
       " '식힌',\n",
       " '신선로',\n",
       " '신조어가',\n",
       " '실향민이나',\n",
       " '실험실서',\n",
       " '심심한',\n",
       " '심지어',\n",
       " '쌀밥',\n",
       " '쌈무',\n",
       " '쌈밥',\n",
       " '쌈장',\n",
       " '쌍화차',\n",
       " '쌍화탕',\n",
       " '쌍화탕에서',\n",
       " '써는',\n",
       " '써서',\n",
       " '쑥국',\n",
       " '쓰이는',\n",
       " '쓰지는',\n",
       " '아교질을',\n",
       " '아귀찜',\n",
       " '아귀탕',\n",
       " '아니냐고',\n",
       " '아니라',\n",
       " '아니며',\n",
       " '아니면',\n",
       " '아닌',\n",
       " '아무리',\n",
       " '아예',\n",
       " '아욱국',\n",
       " '아이스크림',\n",
       " '아이스크림만으로',\n",
       " '아이스크림을',\n",
       " '아이콘',\n",
       " '아주',\n",
       " '아침',\n",
       " '안녕을',\n",
       " '안동건진국수',\n",
       " '안에',\n",
       " '안주',\n",
       " '않고',\n",
       " '않는',\n",
       " '않는다',\n",
       " '않았거나',\n",
       " '않았겠느냐고',\n",
       " '않으며',\n",
       " '알고',\n",
       " '알려진',\n",
       " '알탕',\n",
       " '암홍색을',\n",
       " '애저찜',\n",
       " '야마모토',\n",
       " '야채',\n",
       " '야채튀김',\n",
       " '약과',\n",
       " '약밥',\n",
       " '약용으로',\n",
       " '약주',\n",
       " '약주에',\n",
       " '약한',\n",
       " '양념',\n",
       " '양념게장',\n",
       " '양념만으로',\n",
       " '양념에',\n",
       " '양념으로',\n",
       " '양념치킨',\n",
       " '양배추',\n",
       " '양배추를',\n",
       " '양송이버섯',\n",
       " '양조주',\n",
       " '어느',\n",
       " '어디에나',\n",
       " '어란',\n",
       " '어만두',\n",
       " '어복쟁반',\n",
       " '어색하게',\n",
       " '어죽',\n",
       " '어획량이',\n",
       " '언제부터',\n",
       " '얹어',\n",
       " '얹은',\n",
       " '엄연한',\n",
       " '엄청나게',\n",
       " '없는',\n",
       " '없다는',\n",
       " '없으니',\n",
       " '없으며',\n",
       " '에그',\n",
       " '여기곤',\n",
       " '여기서',\n",
       " '여러',\n",
       " '여러분이',\n",
       " '여행',\n",
       " '역사',\n",
       " '역시',\n",
       " '연근',\n",
       " '연근조림',\n",
       " '연배가',\n",
       " '연잎차',\n",
       " '연포탕',\n",
       " '열무국수',\n",
       " '열무김치',\n",
       " '열풍',\n",
       " '염승환',\n",
       " '염통꼬치',\n",
       " '영양밥',\n",
       " '영향',\n",
       " ...]"
      ]
     },
     "execution_count": 40,
     "metadata": {},
     "output_type": "execute_result"
    }
   ],
   "source": [
    "dish_names"
   ]
  },
  {
   "cell_type": "code",
   "execution_count": 44,
   "metadata": {},
   "outputs": [],
   "source": [
    "from konlpy.tag import Komoran\n",
    "komoran = Komoran()\n",
    "\n",
    "def is_noun(word):\n",
    "    pos = komoran.pos(word)\n",
    "    return all(tag == 'NNG' or tag == 'NNP' for _, tag in pos)\n",
    "\n",
    "filtered = [word for word in dish_names if is_noun(word)]"
   ]
  },
  {
   "cell_type": "code",
   "execution_count": 52,
   "metadata": {},
   "outputs": [
    {
     "data": {
      "text/plain": [
       "1484"
      ]
     },
     "execution_count": 52,
     "metadata": {},
     "output_type": "execute_result"
    }
   ],
   "source": [
    "len(dish_names)"
   ]
  },
  {
   "cell_type": "code",
   "execution_count": 46,
   "metadata": {},
   "outputs": [
    {
     "data": {
      "text/plain": [
       "624"
      ]
     },
     "execution_count": 46,
     "metadata": {},
     "output_type": "execute_result"
    }
   ],
   "source": [
    "len(filtered)"
   ]
  },
  {
   "cell_type": "code",
   "execution_count": 50,
   "metadata": {},
   "outputs": [],
   "source": [
    "ls_to_rmv = ['가도', '강화',\n",
    " '갖가지', '개성시의', '개요', '경상도',\n",
    " '경우', '관련',\n",
    " '광주광역시',\n",
    " '구분',]"
   ]
  },
  {
   "cell_type": "code",
   "execution_count": 72,
   "metadata": {},
   "outputs": [],
   "source": [
    "https://ko.wiktionary.org/w/index.php?title=분류:한국어_음식&pageuntil=샴팡%0A샴팡#mw-pages\n",
    "https://ko.wiktionary.org/w/index.php?title=분류:한국어_음식&pagefrom=샴팡%0A샴팡#mw-pages"
   ]
  },
  {
   "cell_type": "code",
   "execution_count": 74,
   "metadata": {},
   "outputs": [
    {
     "name": "stderr",
     "output_type": "stream",
     "text": [
      "/Users/byunghoonlee/Documents/Side Projects/Data Projects/.venv/lib/python3.12/site-packages/soupsieve/css_parser.py:862: FutureWarning: The pseudo class ':contains' is deprecated, ':-soup-contains' should be used moving forward.\n",
      "  warnings.warn(  # noqa: B028\n"
     ]
    },
    {
     "name": "stdout",
     "output_type": "stream",
     "text": [
      "다음 페이지 이동: https://ko.wiktionary.org/w/index.php?title=%EB%B6%84%EB%A5%98:%ED%95%9C%EA%B5%AD%EC%96%B4_%EC%9D%8C%EC%8B%9D&pagefrom=%EC%83%B4%ED%8C%A1%0A%EC%83%B4%ED%8C%A1#mw-pages\n",
      "다음 페이지 이동: https://ko.wiktionary.org/w/index.php?title=%EB%B6%84%EB%A5%98:%ED%95%9C%EA%B5%AD%EC%96%B4_%EC%9D%8C%EC%8B%9D&pagefrom=%ED%98%B8%EB%96%A1%0A%ED%98%B8%EB%96%A1#mw-pages\n",
      "총 수집된 음식 항목 수: 410\n",
      "['가락지빵', '가래떡', '가루우유', '가지나물', '간고등어', '간장', '간장치킨', '갈비', '갈비탕', '감자튀기', '감자튀김', '강냉이', '강정', '개떡', '개장', '건빵', '겨울냉면', '경편', '계란', '계란덮밥', '계란말이', '고기', '고기겹빵', '고량소주', '고량주', '고로케', '고추가루', '고추장', '고춧가루', '곤밥']\n"
     ]
    }
   ],
   "source": [
    "import requests\n",
    "from bs4 import BeautifulSoup\n",
    "import time\n",
    "\n",
    "BASE_URL = \"https://ko.wiktionary.org\"\n",
    "START_URL = BASE_URL + \"/w/index.php?title=분류:한국어_음식\"\n",
    "\n",
    "headers = {\n",
    "    \"User-Agent\": \"Mozilla/5.0\"\n",
    "}\n",
    "\n",
    "all_foods = set()\n",
    "\n",
    "def get_food_list(url):\n",
    "    response = requests.get(url, headers=headers)\n",
    "    soup = BeautifulSoup(response.text, \"html.parser\")\n",
    "\n",
    "    # 음식 이름 리스트 추출\n",
    "    items = soup.select(\"#mw-pages div.mw-category li a\")\n",
    "    for item in items:\n",
    "        all_foods.add(item.get_text(strip=True))\n",
    "\n",
    "    # 다음 페이지로 넘어가기 위한 링크 (있는 경우만)\n",
    "    next_link = soup.select_one(\"a:contains('다음 페이지')\")\n",
    "    if next_link:\n",
    "        next_url = BASE_URL + next_link['href']\n",
    "        print(\"다음 페이지 이동:\", next_url)\n",
    "        time.sleep(1)  # 예의상 딜레이\n",
    "        get_food_list(next_url)\n",
    "\n",
    "# 크롤링 시작\n",
    "get_food_list(START_URL)\n",
    "\n",
    "# 결과 정렬 및 출력\n",
    "food_list = sorted(all_foods)\n",
    "print(f\"총 수집된 음식 항목 수: {len(food_list)}\")\n",
    "print(food_list[:30])  # 앞부분 미리보기\n",
    "\n",
    "# 저장 옵션 (선택)\n",
    "# with open(\"korean_foods.txt\", \"w\", encoding=\"utf-8\") as f:\n",
    "#     for food in food_list:\n",
    "#         f.write(food + \"\\n\")"
   ]
  },
  {
   "cell_type": "code",
   "execution_count": 77,
   "metadata": {},
   "outputs": [],
   "source": [
    "pd.Series(food_list).to_csv('./data/foodlist.csv')"
   ]
  },
  {
   "cell_type": "markdown",
   "metadata": {},
   "source": [
    "---"
   ]
  },
  {
   "cell_type": "markdown",
   "metadata": {},
   "source": [
    "# W1. KADX 가격 데이터 분석"
   ]
  },
  {
   "cell_type": "code",
   "execution_count": 1,
   "metadata": {},
   "outputs": [
    {
     "name": "stderr",
     "output_type": "stream",
     "text": [
      "Duplicate key in file PosixPath('/Library/Frameworks/Python.framework/Versions/3.12/lib/python3.12/site-packages/matplotlib/mpl-data/matplotlibrc'), line 419 ('axes.unicode_minus: True  # use Unicode for the minus symbol rather than hyphen.  See')\n"
     ]
    }
   ],
   "source": [
    "import pandas as pd\n",
    "import os\n",
    "import matplotlib.pyplot as plt\n",
    "import matplotlib as mpl\n",
    "import datetime as dt"
   ]
  },
  {
   "cell_type": "markdown",
   "metadata": {},
   "source": [
    "## D1. 데이터 정제 및 전처리"
   ]
  },
  {
   "cell_type": "code",
   "execution_count": 2,
   "metadata": {},
   "outputs": [],
   "source": [
    "# [1] 성별/연령별 농식품 소비량\n",
    "df_pref = pd.read_csv('./data/TB_SEX_AGE_CSP_SPL-2023.csv', encoding='cp949')\n",
    "df_pref_info = pd.read_csv('./data/소비자 성_연령대별 농식품 소비 샘플데이터_데이터명세서.csv')\n",
    "df_pref_info = df_pref_info[~df_pref_info['no'].isna()]"
   ]
  },
  {
   "cell_type": "code",
   "execution_count": 3,
   "metadata": {},
   "outputs": [],
   "source": [
    "# Rename Columns\n",
    "dic_rename = {}\n",
    "for k, v in zip(df_pref_info['nameEn'], df_pref_info['nameKo']):\n",
    "    dic_rename.update({k:v})\n",
    "\n",
    "df_pref.columns = [dic_rename[c] for c in df_pref.columns]"
   ]
  },
  {
   "cell_type": "code",
   "execution_count": 4,
   "metadata": {},
   "outputs": [
    {
     "data": {
      "text/html": [
       "<div>\n",
       "<style scoped>\n",
       "    .dataframe tbody tr th:only-of-type {\n",
       "        vertical-align: middle;\n",
       "    }\n",
       "\n",
       "    .dataframe tbody tr th {\n",
       "        vertical-align: top;\n",
       "    }\n",
       "\n",
       "    .dataframe thead th {\n",
       "        text-align: right;\n",
       "    }\n",
       "</style>\n",
       "<table border=\"1\" class=\"dataframe\">\n",
       "  <thead>\n",
       "    <tr style=\"text-align: right;\">\n",
       "      <th></th>\n",
       "      <th>no</th>\n",
       "      <th>pk</th>\n",
       "      <th>type</th>\n",
       "      <th>nameEn</th>\n",
       "      <th>nameKo</th>\n",
       "    </tr>\n",
       "  </thead>\n",
       "  <tbody>\n",
       "    <tr>\n",
       "      <th>0</th>\n",
       "      <td>0.0</td>\n",
       "      <td>Y</td>\n",
       "      <td>CHAR(6)</td>\n",
       "      <td>BASE_YM</td>\n",
       "      <td>기준연월</td>\n",
       "    </tr>\n",
       "    <tr>\n",
       "      <th>1</th>\n",
       "      <td>1.0</td>\n",
       "      <td>Y</td>\n",
       "      <td>VARCHAR(20)</td>\n",
       "      <td>CSP_AREA_WSIDO_NM</td>\n",
       "      <td>소비지역광역시도명</td>\n",
       "    </tr>\n",
       "    <tr>\n",
       "      <th>2</th>\n",
       "      <td>2.0</td>\n",
       "      <td>Y</td>\n",
       "      <td>VARCHAR(20)</td>\n",
       "      <td>CSP_AREA_SGGU_NM</td>\n",
       "      <td>소비지역시군구명</td>\n",
       "    </tr>\n",
       "    <tr>\n",
       "      <th>3</th>\n",
       "      <td>3.0</td>\n",
       "      <td>N</td>\n",
       "      <td>BIGINT</td>\n",
       "      <td>MLE_CSP_AMNT</td>\n",
       "      <td>남성소비금액</td>\n",
       "    </tr>\n",
       "    <tr>\n",
       "      <th>4</th>\n",
       "      <td>4.0</td>\n",
       "      <td>N</td>\n",
       "      <td>BIGINT</td>\n",
       "      <td>WO_CSP_AMNT</td>\n",
       "      <td>여성소비금액</td>\n",
       "    </tr>\n",
       "    <tr>\n",
       "      <th>5</th>\n",
       "      <td>5.0</td>\n",
       "      <td>N</td>\n",
       "      <td>INT</td>\n",
       "      <td>MLE_CSP_NCAS</td>\n",
       "      <td>남성소비건수</td>\n",
       "    </tr>\n",
       "    <tr>\n",
       "      <th>6</th>\n",
       "      <td>6.0</td>\n",
       "      <td>N</td>\n",
       "      <td>INT</td>\n",
       "      <td>WO_CSP_NCAS</td>\n",
       "      <td>여성소비건수</td>\n",
       "    </tr>\n",
       "    <tr>\n",
       "      <th>7</th>\n",
       "      <td>7.0</td>\n",
       "      <td>N</td>\n",
       "      <td>BIGINT</td>\n",
       "      <td>MLE_Y20_BELO_CSP_AMNT</td>\n",
       "      <td>남성20대미만소비금액</td>\n",
       "    </tr>\n",
       "    <tr>\n",
       "      <th>8</th>\n",
       "      <td>8.0</td>\n",
       "      <td>N</td>\n",
       "      <td>BIGINT</td>\n",
       "      <td>WO_Y20_BELO_CSP_AMNT</td>\n",
       "      <td>여성20대미만소비금액</td>\n",
       "    </tr>\n",
       "    <tr>\n",
       "      <th>9</th>\n",
       "      <td>9.0</td>\n",
       "      <td>N</td>\n",
       "      <td>BIGINT</td>\n",
       "      <td>MLE_Y20_CSP_AMNT</td>\n",
       "      <td>남성20대소비금액</td>\n",
       "    </tr>\n",
       "    <tr>\n",
       "      <th>10</th>\n",
       "      <td>10.0</td>\n",
       "      <td>N</td>\n",
       "      <td>BIGINT</td>\n",
       "      <td>WO_Y20_CSP_AMNT</td>\n",
       "      <td>여성20대소비금액</td>\n",
       "    </tr>\n",
       "    <tr>\n",
       "      <th>11</th>\n",
       "      <td>11.0</td>\n",
       "      <td>N</td>\n",
       "      <td>BIGINT</td>\n",
       "      <td>MLE_Y30_CSP_AMNT</td>\n",
       "      <td>남성30대소비금액</td>\n",
       "    </tr>\n",
       "    <tr>\n",
       "      <th>12</th>\n",
       "      <td>12.0</td>\n",
       "      <td>N</td>\n",
       "      <td>BIGINT</td>\n",
       "      <td>WO_Y30_CSP_AMNT</td>\n",
       "      <td>여성30대소비금액</td>\n",
       "    </tr>\n",
       "    <tr>\n",
       "      <th>13</th>\n",
       "      <td>13.0</td>\n",
       "      <td>N</td>\n",
       "      <td>BIGINT</td>\n",
       "      <td>MLE_Y40_CSP_AMNT</td>\n",
       "      <td>남성40대소비금액</td>\n",
       "    </tr>\n",
       "    <tr>\n",
       "      <th>14</th>\n",
       "      <td>14.0</td>\n",
       "      <td>N</td>\n",
       "      <td>BIGINT</td>\n",
       "      <td>WO_Y40_CSP_AMNT</td>\n",
       "      <td>여성40대소비금액</td>\n",
       "    </tr>\n",
       "    <tr>\n",
       "      <th>15</th>\n",
       "      <td>15.0</td>\n",
       "      <td>N</td>\n",
       "      <td>BIGINT</td>\n",
       "      <td>MLE_Y50_CSP_AMNT</td>\n",
       "      <td>남성50대소비금액</td>\n",
       "    </tr>\n",
       "    <tr>\n",
       "      <th>16</th>\n",
       "      <td>16.0</td>\n",
       "      <td>N</td>\n",
       "      <td>BIGINT</td>\n",
       "      <td>WO_Y50_CSP_AMNT</td>\n",
       "      <td>여성50대소비금액</td>\n",
       "    </tr>\n",
       "    <tr>\n",
       "      <th>17</th>\n",
       "      <td>17.0</td>\n",
       "      <td>N</td>\n",
       "      <td>BIGINT</td>\n",
       "      <td>MLE_Y60_ANM_CSP_AMNT</td>\n",
       "      <td>남성60대이상소비금액</td>\n",
       "    </tr>\n",
       "    <tr>\n",
       "      <th>18</th>\n",
       "      <td>18.0</td>\n",
       "      <td>N</td>\n",
       "      <td>BIGINT</td>\n",
       "      <td>WO_Y60_ANM_CSP_AMNT</td>\n",
       "      <td>여성60대이상소비금액</td>\n",
       "    </tr>\n",
       "  </tbody>\n",
       "</table>\n",
       "</div>"
      ],
      "text/plain": [
       "      no pk         type                 nameEn       nameKo\n",
       "0    0.0  Y      CHAR(6)                BASE_YM         기준연월\n",
       "1    1.0  Y  VARCHAR(20)      CSP_AREA_WSIDO_NM    소비지역광역시도명\n",
       "2    2.0  Y  VARCHAR(20)       CSP_AREA_SGGU_NM     소비지역시군구명\n",
       "3    3.0  N       BIGINT           MLE_CSP_AMNT       남성소비금액\n",
       "4    4.0  N       BIGINT            WO_CSP_AMNT       여성소비금액\n",
       "5    5.0  N          INT           MLE_CSP_NCAS       남성소비건수\n",
       "6    6.0  N          INT            WO_CSP_NCAS       여성소비건수\n",
       "7    7.0  N       BIGINT  MLE_Y20_BELO_CSP_AMNT  남성20대미만소비금액\n",
       "8    8.0  N       BIGINT   WO_Y20_BELO_CSP_AMNT  여성20대미만소비금액\n",
       "9    9.0  N       BIGINT       MLE_Y20_CSP_AMNT    남성20대소비금액\n",
       "10  10.0  N       BIGINT        WO_Y20_CSP_AMNT    여성20대소비금액\n",
       "11  11.0  N       BIGINT       MLE_Y30_CSP_AMNT    남성30대소비금액\n",
       "12  12.0  N       BIGINT        WO_Y30_CSP_AMNT    여성30대소비금액\n",
       "13  13.0  N       BIGINT       MLE_Y40_CSP_AMNT    남성40대소비금액\n",
       "14  14.0  N       BIGINT        WO_Y40_CSP_AMNT    여성40대소비금액\n",
       "15  15.0  N       BIGINT       MLE_Y50_CSP_AMNT    남성50대소비금액\n",
       "16  16.0  N       BIGINT        WO_Y50_CSP_AMNT    여성50대소비금액\n",
       "17  17.0  N       BIGINT   MLE_Y60_ANM_CSP_AMNT  남성60대이상소비금액\n",
       "18  18.0  N       BIGINT    WO_Y60_ANM_CSP_AMNT  여성60대이상소비금액"
      ]
     },
     "execution_count": 4,
     "metadata": {},
     "output_type": "execute_result"
    }
   ],
   "source": [
    "df_pref_info"
   ]
  },
  {
   "cell_type": "code",
   "execution_count": 42,
   "metadata": {},
   "outputs": [
    {
     "name": "stdout",
     "output_type": "stream",
     "text": [
      "<class 'pandas.core.frame.DataFrame'>\n",
      "RangeIndex: 2748 entries, 0 to 2747\n",
      "Data columns (total 19 columns):\n",
      " #   Column       Non-Null Count  Dtype  \n",
      "---  ------       --------------  -----  \n",
      " 0   기준연월         2748 non-null   int64  \n",
      " 1   소비지역광역시도명    2748 non-null   object \n",
      " 2   소비지역시군구명     2748 non-null   object \n",
      " 3   남성소비금액       2748 non-null   int64  \n",
      " 4   여성소비금액       2748 non-null   int64  \n",
      " 5   남성소비건수       2748 non-null   int64  \n",
      " 6   여성소비건수       2748 non-null   int64  \n",
      " 7   남성20대미만소비금액  1857 non-null   float64\n",
      " 8   여성20대미만소비금액  1563 non-null   float64\n",
      " 9   남성20대소비금액    2748 non-null   int64  \n",
      " 10  여성20대소비금액    2748 non-null   int64  \n",
      " 11  남성30대소비금액    2748 non-null   int64  \n",
      " 12  여성30대소비금액    2748 non-null   int64  \n",
      " 13  남성40대소비금액    2748 non-null   int64  \n",
      " 14  여성40대소비금액    2748 non-null   int64  \n",
      " 15  남성50대소비금액    2748 non-null   int64  \n",
      " 16  여성50대소비금액    2748 non-null   int64  \n",
      " 17  남성60대이상소비금액  2748 non-null   int64  \n",
      " 18  여성60대이상소비금액  2748 non-null   int64  \n",
      "dtypes: float64(2), int64(15), object(2)\n",
      "memory usage: 408.0+ KB\n"
     ]
    }
   ],
   "source": [
    "# [1] 성별/연령별 농식품 소비량\n",
    "df_pref.info()"
   ]
  },
  {
   "cell_type": "code",
   "execution_count": 5,
   "metadata": {},
   "outputs": [
    {
     "data": {
      "text/plain": [
       "기준연월              0\n",
       "소비지역광역시도명         0\n",
       "소비지역시군구명          0\n",
       "남성소비금액            0\n",
       "여성소비금액            0\n",
       "남성소비건수            0\n",
       "여성소비건수            0\n",
       "남성20대미만소비금액     891\n",
       "여성20대미만소비금액    1185\n",
       "남성20대소비금액         0\n",
       "여성20대소비금액         0\n",
       "남성30대소비금액         0\n",
       "여성30대소비금액         0\n",
       "남성40대소비금액         0\n",
       "여성40대소비금액         0\n",
       "남성50대소비금액         0\n",
       "여성50대소비금액         0\n",
       "남성60대이상소비금액       0\n",
       "여성60대이상소비금액       0\n",
       "dtype: int64"
      ]
     },
     "execution_count": 5,
     "metadata": {},
     "output_type": "execute_result"
    }
   ],
   "source": [
    "# ifmissing\n",
    "df_pref.isna().sum()"
   ]
  },
  {
   "cell_type": "code",
   "execution_count": 6,
   "metadata": {},
   "outputs": [
    {
     "data": {
      "text/html": [
       "<div>\n",
       "<style scoped>\n",
       "    .dataframe tbody tr th:only-of-type {\n",
       "        vertical-align: middle;\n",
       "    }\n",
       "\n",
       "    .dataframe tbody tr th {\n",
       "        vertical-align: top;\n",
       "    }\n",
       "\n",
       "    .dataframe thead th {\n",
       "        text-align: right;\n",
       "    }\n",
       "</style>\n",
       "<table border=\"1\" class=\"dataframe\">\n",
       "  <thead>\n",
       "    <tr style=\"text-align: right;\">\n",
       "      <th></th>\n",
       "      <th>기준연월</th>\n",
       "      <th>소비지역광역시도명</th>\n",
       "      <th>소비지역시군구명</th>\n",
       "      <th>남성20대미만소비금액</th>\n",
       "    </tr>\n",
       "  </thead>\n",
       "  <tbody>\n",
       "    <tr>\n",
       "      <th>0</th>\n",
       "      <td>202301</td>\n",
       "      <td>강원도</td>\n",
       "      <td>강릉시</td>\n",
       "      <td>NaN</td>\n",
       "    </tr>\n",
       "    <tr>\n",
       "      <th>1</th>\n",
       "      <td>202301</td>\n",
       "      <td>강원도</td>\n",
       "      <td>고성군</td>\n",
       "      <td>NaN</td>\n",
       "    </tr>\n",
       "    <tr>\n",
       "      <th>2</th>\n",
       "      <td>202301</td>\n",
       "      <td>강원도</td>\n",
       "      <td>동해시</td>\n",
       "      <td>NaN</td>\n",
       "    </tr>\n",
       "    <tr>\n",
       "      <th>3</th>\n",
       "      <td>202301</td>\n",
       "      <td>강원도</td>\n",
       "      <td>삼척시</td>\n",
       "      <td>NaN</td>\n",
       "    </tr>\n",
       "    <tr>\n",
       "      <th>4</th>\n",
       "      <td>202301</td>\n",
       "      <td>강원도</td>\n",
       "      <td>속초시</td>\n",
       "      <td>NaN</td>\n",
       "    </tr>\n",
       "    <tr>\n",
       "      <th>...</th>\n",
       "      <td>...</td>\n",
       "      <td>...</td>\n",
       "      <td>...</td>\n",
       "      <td>...</td>\n",
       "    </tr>\n",
       "    <tr>\n",
       "      <th>2464</th>\n",
       "      <td>202311</td>\n",
       "      <td>전라남도</td>\n",
       "      <td>보성군</td>\n",
       "      <td>NaN</td>\n",
       "    </tr>\n",
       "    <tr>\n",
       "      <th>2490</th>\n",
       "      <td>202311</td>\n",
       "      <td>전라북도</td>\n",
       "      <td>진안군</td>\n",
       "      <td>NaN</td>\n",
       "    </tr>\n",
       "    <tr>\n",
       "      <th>2593</th>\n",
       "      <td>202312</td>\n",
       "      <td>경상북도</td>\n",
       "      <td>봉화군</td>\n",
       "      <td>NaN</td>\n",
       "    </tr>\n",
       "    <tr>\n",
       "      <th>2598</th>\n",
       "      <td>202312</td>\n",
       "      <td>경상북도</td>\n",
       "      <td>영양군</td>\n",
       "      <td>NaN</td>\n",
       "    </tr>\n",
       "    <tr>\n",
       "      <th>2602</th>\n",
       "      <td>202312</td>\n",
       "      <td>경상북도</td>\n",
       "      <td>울릉군</td>\n",
       "      <td>NaN</td>\n",
       "    </tr>\n",
       "  </tbody>\n",
       "</table>\n",
       "<p>891 rows × 4 columns</p>\n",
       "</div>"
      ],
      "text/plain": [
       "        기준연월 소비지역광역시도명 소비지역시군구명  남성20대미만소비금액\n",
       "0     202301       강원도      강릉시          NaN\n",
       "1     202301       강원도      고성군          NaN\n",
       "2     202301       강원도      동해시          NaN\n",
       "3     202301       강원도      삼척시          NaN\n",
       "4     202301       강원도      속초시          NaN\n",
       "...      ...       ...      ...          ...\n",
       "2464  202311      전라남도      보성군          NaN\n",
       "2490  202311      전라북도      진안군          NaN\n",
       "2593  202312      경상북도      봉화군          NaN\n",
       "2598  202312      경상북도      영양군          NaN\n",
       "2602  202312      경상북도      울릉군          NaN\n",
       "\n",
       "[891 rows x 4 columns]"
      ]
     },
     "execution_count": 6,
     "metadata": {},
     "output_type": "execute_result"
    }
   ],
   "source": [
    "c = '남성20대미만소비금액'\n",
    "cols = ['기준연월','소비지역광역시도명','소비지역시군구명',c]\n",
    "df_pref[df_pref[c].isna()][cols]"
   ]
  },
  {
   "cell_type": "markdown",
   "metadata": {},
   "source": [
    "---"
   ]
  },
  {
   "cell_type": "code",
   "execution_count": 7,
   "metadata": {},
   "outputs": [],
   "source": [
    "# [2] 도소매 가격\n",
    "import unicodedata\n",
    "\n",
    "folder = './data/'\n",
    "files = [unicodedata.normalize('NFC', c) for c in os.listdir(folder)]\n",
    "files = [\n",
    "    c for c in files if '명세서' not in c and '가격' in c and 'csv' in c\n",
    "]"
   ]
  },
  {
   "cell_type": "code",
   "execution_count": 8,
   "metadata": {},
   "outputs": [],
   "source": [
    "# 2023\n",
    "target = unicodedata.normalize('NFC', '2023년')  # 비교 기준도 정규화\n",
    "files_2023 = [\n",
    "    c for c in files if '2023년' in c\n",
    "]\n",
    "files_2023.sort()"
   ]
  },
  {
   "cell_type": "code",
   "execution_count": 9,
   "metadata": {},
   "outputs": [],
   "source": [
    "# 월별 파일\n",
    "yearly_f = [f for f in files if '월' not in f]\n",
    "yearly_f = sorted(yearly_f, key=lambda x: x[:4])\n",
    "# 년별 파일\n",
    "monthly_f = [f for f in files if '월' in f]\n",
    "monthly_f = sorted(monthly_f, key=lambda x: x[:8])"
   ]
  },
  {
   "cell_type": "code",
   "execution_count": 10,
   "metadata": {},
   "outputs": [
    {
     "data": {
      "text/plain": [
       "set()"
      ]
     },
     "execution_count": 10,
     "metadata": {},
     "output_type": "execute_result"
    }
   ],
   "source": [
    "set([int(c[:4]) for c in yearly_f]).difference(range(1996,2020))"
   ]
  },
  {
   "cell_type": "code",
   "execution_count": 11,
   "metadata": {},
   "outputs": [
    {
     "data": {
      "text/plain": [
       "{'2020', '2021', '2022', '2023', '2024'}"
      ]
     },
     "execution_count": 11,
     "metadata": {},
     "output_type": "execute_result"
    }
   ],
   "source": [
    "set([c[:4] for c in monthly_f])"
   ]
  },
  {
   "cell_type": "code",
   "execution_count": 12,
   "metadata": {},
   "outputs": [],
   "source": [
    "ls_yms = [f[:8].replace('년 ','') for f in monthly_f]\n",
    "df_yms = pd.DataFrame(ls_yms, columns=['ym'])"
   ]
  },
  {
   "cell_type": "code",
   "execution_count": 13,
   "metadata": {},
   "outputs": [
    {
     "name": "stdout",
     "output_type": "stream",
     "text": [
      "- 중복 데이터 수:  0\n"
     ]
    }
   ],
   "source": [
    "# 중복 데이터가 있는지\n",
    "print('- 중복 데이터 수: ', (df_yms.value_counts() != 1).sum())"
   ]
  },
  {
   "cell_type": "code",
   "execution_count": 15,
   "metadata": {},
   "outputs": [],
   "source": [
    "# 연별 월 데이터가 다 있는지\n",
    "df_yms['y'] = df_yms['ym'].astype(int)//100\n",
    "df_yms['y'].value_counts()\n",
    "\n",
    "df_yms['m'] = df_yms['ym'].astype(int)%100\n",
    "\n",
    "# Standard M\n",
    "df_stdm = pd.DataFrame(range(1,13), columns=['m'])"
   ]
  },
  {
   "cell_type": "code",
   "execution_count": 16,
   "metadata": {},
   "outputs": [
    {
     "name": "stdout",
     "output_type": "stream",
     "text": [
      "1     202102\n",
      "3     202104\n",
      "10    202111\n",
      "dtype: object\n",
      "1    202202\n",
      "5    202206\n",
      "dtype: object\n",
      "2     202403\n",
      "3     202404\n",
      "4     202405\n",
      "5     202406\n",
      "6     202407\n",
      "7     202408\n",
      "8     202409\n",
      "9     202410\n",
      "10    202411\n",
      "11    202412\n",
      "dtype: object\n"
     ]
    }
   ],
   "source": [
    "for yr in [2021, 2022, 2024]:\n",
    "    df_tmp = pd.merge(df_stdm, df_yms.query(f'y=={yr}').sort_values(by='ym'), on='m', how='outer')\n",
    "    df_tmp['y'] = yr\n",
    "    to_print = df_tmp[df_tmp['ym'].isna()]['y'].astype(str) + df_tmp[df_tmp['ym'].isna()]['m'].apply(lambda x: str(x).zfill(2))\n",
    "    print(to_print)"
   ]
  },
  {
   "cell_type": "code",
   "execution_count": null,
   "metadata": {},
   "outputs": [],
   "source": []
  },
  {
   "cell_type": "code",
   "execution_count": null,
   "metadata": {},
   "outputs": [],
   "source": []
  },
  {
   "cell_type": "code",
   "execution_count": null,
   "metadata": {},
   "outputs": [],
   "source": []
  },
  {
   "cell_type": "markdown",
   "metadata": {},
   "source": [
    "---"
   ]
  },
  {
   "cell_type": "code",
   "execution_count": 17,
   "metadata": {},
   "outputs": [],
   "source": [
    "df_prices_info = pd.read_csv('./data/농수축산물 일자별 도소매 가격_데이터명세서.csv')"
   ]
  },
  {
   "cell_type": "code",
   "execution_count": 18,
   "metadata": {},
   "outputs": [],
   "source": [
    "df_prices_23 = pd.DataFrame()\n",
    "for f in files_2023:\n",
    "    df_tmp = pd.read_csv(folder+f, encoding='cp949')\n",
    "    df_prices_23 = pd.concat([df_prices_23, df_tmp])\n",
    "\n",
    "df_prices_23['PRCE_REG_YMD'] = pd.to_datetime(df_prices_23['PRCE_REG_YMD'], format='%Y%m%d')\n",
    "df_prices_23['DOY'] = df_prices_23['PRCE_REG_YMD'].dt.day_of_year"
   ]
  },
  {
   "cell_type": "code",
   "execution_count": 19,
   "metadata": {},
   "outputs": [],
   "source": [
    "# 코드\t 의미\t > 해당내용\n",
    "# 01\t소매\t> 전통시장 등 소매시장\n",
    "# 02\t도매\t> 도매시장\n",
    "# 07\t대형유통업체(소매)\t> 'SSM', '대형마트', '백화점', '생협', '전문점', '직매장’\n",
    "# 08\t슈퍼마켓\t> ‘슈퍼마켓’, ‘SSM’     *SSM: 기업형 슈퍼마켓 \n",
    "# 09\t온라인\t> * CTNP_NM / SGGU_NM : 온라인"
   ]
  },
  {
   "cell_type": "code",
   "execution_count": 43,
   "metadata": {},
   "outputs": [
    {
     "name": "stdout",
     "output_type": "stream",
     "text": [
      "<class 'pandas.core.frame.DataFrame'>\n",
      "Index: 1263943 entries, 0 to 103913\n",
      "Data columns (total 28 columns):\n",
      " #   Column                 Non-Null Count    Dtype         \n",
      "---  ------                 --------------    -----         \n",
      " 0   PRCE_REG_YMD           1263943 non-null  datetime64[ns]\n",
      " 1   MRKT_ESNT_NO           1263943 non-null  int64         \n",
      " 2   MRKT_CODE              1263943 non-null  int64         \n",
      " 3   MRKT_NM                1263943 non-null  object        \n",
      " 4   CTNP_CODE              1263943 non-null  int64         \n",
      " 5   CTNP_NM                1263943 non-null  object        \n",
      " 6   SGGU_CODE              1263943 non-null  int64         \n",
      " 7   SGGU_NM                1263943 non-null  object        \n",
      " 8   PDLT_CODE              1263943 non-null  int64         \n",
      " 9   PDLT_NM                1263943 non-null  object        \n",
      " 10  SPCS_CODE              1263943 non-null  int64         \n",
      " 11  SPCS_NM                1263943 non-null  object        \n",
      " 12  WSRT_EXMN_SE_CODE      1263943 non-null  int64         \n",
      " 13  EXMN_SE_NM             1263943 non-null  object        \n",
      " 14  BULK_GRAD_CODE         1263943 non-null  int64         \n",
      " 15  BULK_GRAD_NM           1263943 non-null  object        \n",
      " 16  PDLT_PRCE              1263943 non-null  int64         \n",
      " 17  MTC_SMT_UNIT_MG        269796 non-null   object        \n",
      " 18  MTC_SMT_UNIT_NM        263544 non-null   object        \n",
      " 19  WHSL_SMT_UNIT_MG       1007273 non-null  float64       \n",
      " 20  WHSL_SMT_UNIT_NM       1007273 non-null  object        \n",
      " 21  RTSL_SMT_UNIT_MG       1237527 non-null  float64       \n",
      " 22  RTSL_SMT_UNIT_NM       1237527 non-null  object        \n",
      " 23  EVFD_FMPD_SMT_UNIT_MG  466408 non-null   float64       \n",
      " 24  EVFD_FMPD_SMT_UNIT_NM  466408 non-null   object        \n",
      " 25  DCNT_PRCE_YN           1263943 non-null  object        \n",
      " 26  ETL_LDG_DT             1263943 non-null  int64         \n",
      " 27  DOY                    1263943 non-null  int32         \n",
      "dtypes: datetime64[ns](1), float64(3), int32(1), int64(10), object(13)\n",
      "memory usage: 274.8+ MB\n"
     ]
    }
   ],
   "source": [
    "df_prices_23.info()"
   ]
  },
  {
   "cell_type": "markdown",
   "metadata": {},
   "source": [
    "### * 정의서"
   ]
  },
  {
   "cell_type": "code",
   "execution_count": 20,
   "metadata": {},
   "outputs": [
    {
     "data": {
      "text/html": [
       "<div>\n",
       "<style scoped>\n",
       "    .dataframe tbody tr th:only-of-type {\n",
       "        vertical-align: middle;\n",
       "    }\n",
       "\n",
       "    .dataframe tbody tr th {\n",
       "        vertical-align: top;\n",
       "    }\n",
       "\n",
       "    .dataframe thead th {\n",
       "        text-align: right;\n",
       "    }\n",
       "</style>\n",
       "<table border=\"1\" class=\"dataframe\">\n",
       "  <thead>\n",
       "    <tr style=\"text-align: right;\">\n",
       "      <th></th>\n",
       "      <th>no</th>\n",
       "      <th>pk</th>\n",
       "      <th>type</th>\n",
       "      <th>nameEn</th>\n",
       "      <th>nameKo</th>\n",
       "    </tr>\n",
       "  </thead>\n",
       "  <tbody>\n",
       "    <tr>\n",
       "      <th>0</th>\n",
       "      <td>1</td>\n",
       "      <td>N</td>\n",
       "      <td>CHAR(8)</td>\n",
       "      <td>PRCE_REG_YMD</td>\n",
       "      <td>가격등록일자</td>\n",
       "    </tr>\n",
       "    <tr>\n",
       "      <th>1</th>\n",
       "      <td>2</td>\n",
       "      <td>N</td>\n",
       "      <td>VARCHAR(8)</td>\n",
       "      <td>MRKT_ESNT_NO</td>\n",
       "      <td>시장고유번호</td>\n",
       "    </tr>\n",
       "    <tr>\n",
       "      <th>2</th>\n",
       "      <td>3</td>\n",
       "      <td>Y</td>\n",
       "      <td>VARCHAR(8)</td>\n",
       "      <td>MRKT_CODE</td>\n",
       "      <td>시장코드</td>\n",
       "    </tr>\n",
       "    <tr>\n",
       "      <th>3</th>\n",
       "      <td>4</td>\n",
       "      <td>Y</td>\n",
       "      <td>VARCHAR(30)</td>\n",
       "      <td>MRKT_NM</td>\n",
       "      <td>시장명</td>\n",
       "    </tr>\n",
       "    <tr>\n",
       "      <th>4</th>\n",
       "      <td>5</td>\n",
       "      <td>N</td>\n",
       "      <td>VARCHAR(8)</td>\n",
       "      <td>CTNP_CODE</td>\n",
       "      <td>시도코드</td>\n",
       "    </tr>\n",
       "    <tr>\n",
       "      <th>5</th>\n",
       "      <td>6</td>\n",
       "      <td>Y</td>\n",
       "      <td>VARCHAR(30)</td>\n",
       "      <td>CTNP_NM</td>\n",
       "      <td>시도명</td>\n",
       "    </tr>\n",
       "    <tr>\n",
       "      <th>6</th>\n",
       "      <td>7</td>\n",
       "      <td>N</td>\n",
       "      <td>VARCHAR(8)</td>\n",
       "      <td>SGGU_CODE</td>\n",
       "      <td>시군구코드</td>\n",
       "    </tr>\n",
       "    <tr>\n",
       "      <th>7</th>\n",
       "      <td>8</td>\n",
       "      <td>Y</td>\n",
       "      <td>VARCHAR(20)</td>\n",
       "      <td>SGGU_NM</td>\n",
       "      <td>시군구명</td>\n",
       "    </tr>\n",
       "    <tr>\n",
       "      <th>8</th>\n",
       "      <td>9</td>\n",
       "      <td>N</td>\n",
       "      <td>VARCHAR(100)</td>\n",
       "      <td>PDLT_CODE</td>\n",
       "      <td>품목코드</td>\n",
       "    </tr>\n",
       "    <tr>\n",
       "      <th>9</th>\n",
       "      <td>10</td>\n",
       "      <td>N</td>\n",
       "      <td>VARCHAR(50)</td>\n",
       "      <td>PDLT_NM</td>\n",
       "      <td>품목명</td>\n",
       "    </tr>\n",
       "    <tr>\n",
       "      <th>10</th>\n",
       "      <td>11</td>\n",
       "      <td>N</td>\n",
       "      <td>VARCHAR(8)</td>\n",
       "      <td>SPCS_CODE</td>\n",
       "      <td>품종코드</td>\n",
       "    </tr>\n",
       "    <tr>\n",
       "      <th>11</th>\n",
       "      <td>12</td>\n",
       "      <td>N</td>\n",
       "      <td>VARCHAR(100)</td>\n",
       "      <td>SPCS_NM</td>\n",
       "      <td>품종명</td>\n",
       "    </tr>\n",
       "    <tr>\n",
       "      <th>12</th>\n",
       "      <td>13</td>\n",
       "      <td>Y</td>\n",
       "      <td>VARCHAR(8)</td>\n",
       "      <td>WSRT_EXMN_SE_CODE</td>\n",
       "      <td>도소매조사구분코드</td>\n",
       "    </tr>\n",
       "    <tr>\n",
       "      <th>13</th>\n",
       "      <td>14</td>\n",
       "      <td>Y</td>\n",
       "      <td>VARCHAR(30)</td>\n",
       "      <td>EXMN_SE_NM</td>\n",
       "      <td>조사구분명</td>\n",
       "    </tr>\n",
       "    <tr>\n",
       "      <th>14</th>\n",
       "      <td>15</td>\n",
       "      <td>N</td>\n",
       "      <td>VARCHAR(8)</td>\n",
       "      <td>BULK_GRAD_CODE</td>\n",
       "      <td>산물등급코드</td>\n",
       "    </tr>\n",
       "    <tr>\n",
       "      <th>15</th>\n",
       "      <td>16</td>\n",
       "      <td>Y</td>\n",
       "      <td>VARCHAR(30)</td>\n",
       "      <td>BULK_GRAD_NM</td>\n",
       "      <td>산물등급명</td>\n",
       "    </tr>\n",
       "    <tr>\n",
       "      <th>16</th>\n",
       "      <td>17</td>\n",
       "      <td>N</td>\n",
       "      <td>NUMBER(13)</td>\n",
       "      <td>PDLT_PRCE</td>\n",
       "      <td>품목가격</td>\n",
       "    </tr>\n",
       "    <tr>\n",
       "      <th>17</th>\n",
       "      <td>18</td>\n",
       "      <td>Y</td>\n",
       "      <td>VARCHAR(8)</td>\n",
       "      <td>MTC_SMT_UNIT_MG</td>\n",
       "      <td>산지출하단위크기</td>\n",
       "    </tr>\n",
       "    <tr>\n",
       "      <th>18</th>\n",
       "      <td>19</td>\n",
       "      <td>N</td>\n",
       "      <td>VARCHAR(30)</td>\n",
       "      <td>MTC_SMT_UNIT_NM</td>\n",
       "      <td>산지출하단위명</td>\n",
       "    </tr>\n",
       "    <tr>\n",
       "      <th>19</th>\n",
       "      <td>20</td>\n",
       "      <td>N</td>\n",
       "      <td>VARCHAR(8)</td>\n",
       "      <td>WHSL_SMT_UNIT_MG</td>\n",
       "      <td>도매출하단위크기</td>\n",
       "    </tr>\n",
       "    <tr>\n",
       "      <th>20</th>\n",
       "      <td>21</td>\n",
       "      <td>N</td>\n",
       "      <td>VARCHAR(30)</td>\n",
       "      <td>WHSL_SMT_UNIT_NM</td>\n",
       "      <td>도매출하단위명</td>\n",
       "    </tr>\n",
       "    <tr>\n",
       "      <th>21</th>\n",
       "      <td>22</td>\n",
       "      <td>Y</td>\n",
       "      <td>VARCHAR(8)</td>\n",
       "      <td>RTSL_SMT_UNIT_MG</td>\n",
       "      <td>소매출하단위크기</td>\n",
       "    </tr>\n",
       "    <tr>\n",
       "      <th>22</th>\n",
       "      <td>23</td>\n",
       "      <td>Y</td>\n",
       "      <td>VARCHAR(30)</td>\n",
       "      <td>RTSL_SMT_UNIT_NM</td>\n",
       "      <td>소매출하단위명</td>\n",
       "    </tr>\n",
       "    <tr>\n",
       "      <th>23</th>\n",
       "      <td>24</td>\n",
       "      <td>N</td>\n",
       "      <td>VARCHAR(8)</td>\n",
       "      <td>EVFD_FMPD_SMT_UNIT_MG</td>\n",
       "      <td>친환경농산물출하단위크기</td>\n",
       "    </tr>\n",
       "    <tr>\n",
       "      <th>24</th>\n",
       "      <td>25</td>\n",
       "      <td>Y</td>\n",
       "      <td>VARCHAR(30)</td>\n",
       "      <td>EVFD_FMPD_SMT_UNIT_NM</td>\n",
       "      <td>친환경농산물출하단위명</td>\n",
       "    </tr>\n",
       "    <tr>\n",
       "      <th>25</th>\n",
       "      <td>26</td>\n",
       "      <td>N</td>\n",
       "      <td>CHAR(1)</td>\n",
       "      <td>DCNT_PRCE_YN</td>\n",
       "      <td>할인가격여부</td>\n",
       "    </tr>\n",
       "    <tr>\n",
       "      <th>26</th>\n",
       "      <td>27</td>\n",
       "      <td>N</td>\n",
       "      <td>CHAR(14)</td>\n",
       "      <td>ETL_LDG_DT</td>\n",
       "      <td>ETL적재일시</td>\n",
       "    </tr>\n",
       "  </tbody>\n",
       "</table>\n",
       "</div>"
      ],
      "text/plain": [
       "    no pk          type                 nameEn        nameKo\n",
       "0    1  N       CHAR(8)           PRCE_REG_YMD        가격등록일자\n",
       "1    2  N    VARCHAR(8)           MRKT_ESNT_NO        시장고유번호\n",
       "2    3  Y    VARCHAR(8)              MRKT_CODE          시장코드\n",
       "3    4  Y   VARCHAR(30)                MRKT_NM           시장명\n",
       "4    5  N    VARCHAR(8)              CTNP_CODE          시도코드\n",
       "5    6  Y   VARCHAR(30)                CTNP_NM           시도명\n",
       "6    7  N    VARCHAR(8)              SGGU_CODE         시군구코드\n",
       "7    8  Y   VARCHAR(20)                SGGU_NM          시군구명\n",
       "8    9  N  VARCHAR(100)              PDLT_CODE          품목코드\n",
       "9   10  N   VARCHAR(50)                PDLT_NM           품목명\n",
       "10  11  N    VARCHAR(8)              SPCS_CODE          품종코드\n",
       "11  12  N  VARCHAR(100)                SPCS_NM           품종명\n",
       "12  13  Y    VARCHAR(8)      WSRT_EXMN_SE_CODE     도소매조사구분코드\n",
       "13  14  Y   VARCHAR(30)             EXMN_SE_NM         조사구분명\n",
       "14  15  N    VARCHAR(8)         BULK_GRAD_CODE        산물등급코드\n",
       "15  16  Y   VARCHAR(30)           BULK_GRAD_NM         산물등급명\n",
       "16  17  N    NUMBER(13)              PDLT_PRCE          품목가격\n",
       "17  18  Y    VARCHAR(8)        MTC_SMT_UNIT_MG      산지출하단위크기\n",
       "18  19  N   VARCHAR(30)        MTC_SMT_UNIT_NM       산지출하단위명\n",
       "19  20  N    VARCHAR(8)       WHSL_SMT_UNIT_MG      도매출하단위크기\n",
       "20  21  N   VARCHAR(30)       WHSL_SMT_UNIT_NM       도매출하단위명\n",
       "21  22  Y    VARCHAR(8)       RTSL_SMT_UNIT_MG      소매출하단위크기\n",
       "22  23  Y   VARCHAR(30)       RTSL_SMT_UNIT_NM       소매출하단위명\n",
       "23  24  N    VARCHAR(8)  EVFD_FMPD_SMT_UNIT_MG  친환경농산물출하단위크기\n",
       "24  25  Y   VARCHAR(30)  EVFD_FMPD_SMT_UNIT_NM   친환경농산물출하단위명\n",
       "25  26  N       CHAR(1)           DCNT_PRCE_YN        할인가격여부\n",
       "26  27  N      CHAR(14)             ETL_LDG_DT       ETL적재일시"
      ]
     },
     "execution_count": 20,
     "metadata": {},
     "output_type": "execute_result"
    }
   ],
   "source": [
    "df_prices_info"
   ]
  },
  {
   "cell_type": "code",
   "execution_count": 21,
   "metadata": {},
   "outputs": [
    {
     "data": {
      "text/plain": [
       "['콩', '콩나물', '토마토', '파', '파인애플', '파프리카', '팥', '팽이버섯', '포도', '표고버섯']"
      ]
     },
     "execution_count": 21,
     "metadata": {},
     "output_type": "execute_result"
    }
   ],
   "source": [
    "i=9\n",
    "sorted(df_prices_23['PDLT_NM'].unique())[i*10:(i+1)*10]"
   ]
  },
  {
   "cell_type": "code",
   "execution_count": 22,
   "metadata": {},
   "outputs": [],
   "source": [
    "# 농산물: 사과, 쌀, 양파\n",
    "# 수산물: 김, 고등어\n",
    "# 축산물: 닭고기\n",
    "# 견과류: 호두, 아몬드\n",
    "# 수입산: 체리, 파인애플"
   ]
  },
  {
   "cell_type": "code",
   "execution_count": 23,
   "metadata": {},
   "outputs": [
    {
     "name": "stdout",
     "output_type": "stream",
     "text": [
      "- Product Code:  [411]\n",
      "- 도매 출하단위:  [10.]\n"
     ]
    }
   ],
   "source": [
    "# Product Code = 411\n",
    "print('- Product Code: ', df_prices_23.query('PDLT_NM==\"사과\" and EXMN_SE_NM==\"도매\"')['PDLT_CODE'].unique())\n",
    "# 사과 도매출하 단위 무조건 10kg\n",
    "print('- 도매 출하단위: ', df_prices_23.query('PDLT_NM==\"사과\" and EXMN_SE_NM==\"도매\"')['WHSL_SMT_UNIT_MG'].unique())"
   ]
  },
  {
   "cell_type": "code",
   "execution_count": 26,
   "metadata": {},
   "outputs": [
    {
     "name": "stdout",
     "output_type": "stream",
     "text": [
      "- 건오징어 중품 마리 당 가격:  4366.0\n"
     ]
    },
    {
     "name": "stderr",
     "output_type": "stream",
     "text": [
      "/var/folders/xj/2s3xtsx155s338l8v9g7k_wh0000gn/T/ipykernel_1580/3611776278.py:7: FutureWarning: The behavior of 'isin' with dtype=datetime64[ns] and castable values (e.g. strings) is deprecated. In a future version, these will not be considered matching by isin. Explicitly cast to the appropriate dtype before calling isin instead.\n",
      "  df_squid = df_prices_23.query(f\"PRCE_REG_YMD=='{date}' and SPCS_NM=='{product}' and BULK_GRAD_NM=='{bulk_grad_nm}' and EXMN_SE_NM == '{se_nm}'\")\n",
      "/var/folders/xj/2s3xtsx155s338l8v9g7k_wh0000gn/T/ipykernel_1580/3611776278.py:8: SettingWithCopyWarning: \n",
      "A value is trying to be set on a copy of a slice from a DataFrame.\n",
      "Try using .loc[row_indexer,col_indexer] = value instead\n",
      "\n",
      "See the caveats in the documentation: https://pandas.pydata.org/pandas-docs/stable/user_guide/indexing.html#returning-a-view-versus-a-copy\n",
      "  df_squid['1PKG_PRCE'] = df_squid['PDLT_PRCE']/df_squid['WHSL_SMT_UNIT_MG']\n"
     ]
    }
   ],
   "source": [
    "# 검색 기준\n",
    "product = '건오징어'\n",
    "se_nm = '도매'\n",
    "date = '20230120'\n",
    "bulk_grad_nm = '중품'\n",
    "# 건오징어만\n",
    "df_squid = df_prices_23.query(f\"PRCE_REG_YMD=='{date}' and SPCS_NM=='{product}' and BULK_GRAD_NM=='{bulk_grad_nm}' and EXMN_SE_NM == '{se_nm}'\")\n",
    "df_squid['1PKG_PRCE'] = df_squid['PDLT_PRCE']/df_squid['WHSL_SMT_UNIT_MG']\n",
    "pkg_nm = list(df_squid['WHSL_SMT_UNIT_NM'].unique())[-1]\n",
    "\n",
    "print(f'- {product} {bulk_grad_nm} {pkg_nm} 당 가격: ', df_squid['1PKG_PRCE'].mean())"
   ]
  },
  {
   "cell_type": "markdown",
   "metadata": {},
   "source": [
    "## plotting 1"
   ]
  },
  {
   "cell_type": "code",
   "execution_count": 103,
   "metadata": {},
   "outputs": [
    {
     "name": "stderr",
     "output_type": "stream",
     "text": [
      "/var/folders/xj/2s3xtsx155s338l8v9g7k_wh0000gn/T/ipykernel_1562/67973686.py:6: SettingWithCopyWarning: \n",
      "A value is trying to be set on a copy of a slice from a DataFrame.\n",
      "Try using .loc[row_indexer,col_indexer] = value instead\n",
      "\n",
      "See the caveats in the documentation: https://pandas.pydata.org/pandas-docs/stable/user_guide/indexing.html#returning-a-view-versus-a-copy\n",
      "  df_prices_23_apl['PKG_PRCE'] = df_prices_23_apl['PDLT_PRCE']/df_prices_23_apl['WHSL_SMT_UNIT_MG']\n"
     ]
    }
   ],
   "source": [
    "# 사과만\n",
    "product = '사과'\n",
    "df_prices_23_apl = df_prices_23.query(f'PDLT_NM==\"{product}\" and EXMN_SE_NM==\"도매\"')\n",
    "\n",
    "# kg당 가격\n",
    "df_prices_23_apl['PKG_PRCE'] = df_prices_23_apl['PDLT_PRCE']/df_prices_23_apl['WHSL_SMT_UNIT_MG']"
   ]
  },
  {
   "cell_type": "markdown",
   "metadata": {},
   "source": [
    "### * 일자 누락분"
   ]
  },
  {
   "cell_type": "code",
   "execution_count": 28,
   "metadata": {},
   "outputs": [
    {
     "data": {
      "text/plain": [
       "123"
      ]
     },
     "execution_count": 28,
     "metadata": {},
     "output_type": "execute_result"
    }
   ],
   "source": [
    "every_dates = df_prices_23['DOY'].unique()\n",
    "len(set(range(1,366)).difference(every_dates))\n",
    "# 전체: 123일치 누락"
   ]
  },
  {
   "cell_type": "code",
   "execution_count": 29,
   "metadata": {},
   "outputs": [],
   "source": [
    "weekday_kor = ['월', '화', '수', '목', '금', '토', '일']\n",
    "\n",
    "ls_wkdy = []\n",
    "missing_dt = set(range(1,366)).difference(every_dates)\n",
    "ls_missing_dt = []\n",
    "\n",
    "for dn in missing_dt:\n",
    "    date = dt.datetime(2023, 1, 1) + dt.timedelta(days=dn)\n",
    "    weekday = weekday_kor[date.weekday()]\n",
    "    ls_wkdy.append(weekday)\n",
    "\n",
    "    if weekday == '화':\n",
    "        ls_missing_dt.append(dn)"
   ]
  },
  {
   "cell_type": "code",
   "execution_count": 30,
   "metadata": {},
   "outputs": [
    {
     "data": {
      "text/plain": [
       "월    53\n",
       "일    51\n",
       "화     7\n",
       "토     5\n",
       "수     5\n",
       "목     1\n",
       "금     1\n",
       "Name: count, dtype: int64"
      ]
     },
     "execution_count": 30,
     "metadata": {},
     "output_type": "execute_result"
    }
   ],
   "source": [
    "pd.Series(ls_wkdy).value_counts()"
   ]
  },
  {
   "cell_type": "code",
   "execution_count": 41,
   "metadata": {},
   "outputs": [
    {
     "data": {
      "image/png": "[encoded data removed]",
      "text/plain": [
       "<Figure size 640x480 with 1 Axes>"
      ]
     },
     "metadata": {},
     "output_type": "display_data"
    }
   ],
   "source": [
    "x = list(missing_dt)\n",
    "y = [1]*len(x)\n",
    "plt.bar(x,y)\n",
    "plt.title('2023년 Missing Date')\n",
    "plt.show()"
   ]
  },
  {
   "cell_type": "code",
   "execution_count": 229,
   "metadata": {},
   "outputs": [
    {
     "name": "stdout",
     "output_type": "stream",
     "text": [
      "2023-01-10\n",
      "2023-01-24\n",
      "2023-05-02\n",
      "2023-05-30\n",
      "2023-10-03\n",
      "2023-10-10\n",
      "2023-12-26\n"
     ]
    }
   ],
   "source": [
    "for dn in ls_missing_dt:\n",
    "    date = dt.datetime(2023, 1, 1) + dt.timedelta(days=dn)\n",
    "    print(date.strftime('%Y-%m-%d'))"
   ]
  },
  {
   "cell_type": "code",
   "execution_count": 99,
   "metadata": {},
   "outputs": [
    {
     "data": {
      "text/plain": [
       "124"
      ]
     },
     "execution_count": 99,
     "metadata": {},
     "output_type": "execute_result"
    }
   ],
   "source": [
    "every_dates = df_prices_23_apl['DOY'].unique()\n",
    "len(set(range(1,366)).difference(every_dates))\n",
    "# 사과: 124일치 누락"
   ]
  },
  {
   "cell_type": "markdown",
   "metadata": {},
   "source": [
    "### ---------------"
   ]
  },
  {
   "cell_type": "code",
   "execution_count": 158,
   "metadata": {},
   "outputs": [
    {
     "data": {
      "image/png": "[encoded data removed]",
      "text/plain": [
       "<Figure size 1000x500 with 1 Axes>"
      ]
     },
     "metadata": {},
     "output_type": "display_data"
    }
   ],
   "source": [
    "cols_itrs = ['PRCE_REG_YMD','PKG_PRCE']\n",
    "df_plot = df_prices_23_apl[cols_itrs].groupby('PRCE_REG_YMD').mean()\n",
    "\n",
    "unqpkg = df_prices_23_apl['WHSL_SMT_UNIT_NM'].unique()\n",
    "if len(unqpkg) > 1:\n",
    "    print('- 패키지 개수: ', len(df_prices_23_apl['WHSL_SMT_UNIT_NM'].unique()))\n",
    "pkg_nm = df_prices_23_apl['WHSL_SMT_UNIT_NM'].unique()[-1]\n",
    "\n",
    "x = df_plot.index\n",
    "y = df_plot['PKG_PRCE']\n",
    "\n",
    "plt.figure(figsize=(10,5))\n",
    "plt.plot(x, y, label=product)\n",
    "plt.legend()\n",
    "plt.title(f'일별 {product} 가격변동 ({pkg_nm})')\n",
    "plt.grid()\n",
    "plt.show()"
   ]
  },
  {
   "cell_type": "code",
   "execution_count": 234,
   "metadata": {},
   "outputs": [
    {
     "data": {
      "text/plain": [
       "array(['깐마늘(국산)', '느타리버섯', '감귤', '방울토마토', '포도', '양파', '파', '생강', '미나리',\n",
       "       '깻잎', '피망', '파프리카', '멜론', '피마늘', '팽이버섯', '새송이버섯', '사과', '풋고추', '배',\n",
       "       '고구마', '단감', '바나나', '감자', '파인애플', '배추', '양배추', '시금치', '상추',\n",
       "       '얼갈이배추', '수박', '오이', '호박', '토마토', '딸기', '레몬', '망고', '무', '당근',\n",
       "       '열무', '붉은고추', '쌀', '콩', '팥', '참깨', '들깨', '녹두', '메밀', '찹쌀', '땅콩',\n",
       "       '고등어', '갈치', '명태', '물오징어', '건멸치', '북어', '건오징어', '김', '건미역', '굴',\n",
       "       '건고추', '전복', '새우', '참다래', '오렌지', '체리', '참외', '알배기배추', '브로콜리',\n",
       "       '복숭아', '삼치'], dtype=object)"
      ]
     },
     "execution_count": 234,
     "metadata": {},
     "output_type": "execute_result"
    }
   ],
   "source": [
    "df_prices_23.query('EXMN_SE_NM==\"도매\"')['PDLT_NM'].unique()"
   ]
  },
  {
   "cell_type": "code",
   "execution_count": 220,
   "metadata": {},
   "outputs": [
    {
     "name": "stderr",
     "output_type": "stream",
     "text": [
      "/var/folders/xj/2s3xtsx155s338l8v9g7k_wh0000gn/T/ipykernel_946/158604512.py:5: SettingWithCopyWarning: \n",
      "A value is trying to be set on a copy of a slice from a DataFrame.\n",
      "Try using .loc[row_indexer,col_indexer] = value instead\n",
      "\n",
      "See the caveats in the documentation: https://pandas.pydata.org/pandas-docs/stable/user_guide/indexing.html#returning-a-view-versus-a-copy\n",
      "  df_prices_23_plt['PKG_PRCE'] = df_prices_23_plt['PDLT_PRCE']/df_prices_23_plt['WHSL_SMT_UNIT_MG']\n"
     ]
    },
    {
     "data": {
      "image/png": "[encoded data removed]",
      "text/plain": [
       "<Figure size 1000x500 with 1 Axes>"
      ]
     },
     "metadata": {},
     "output_type": "display_data"
    }
   ],
   "source": [
    "product = '쌀'\n",
    "df_prices_23_plt = df_prices_23.query(f'PDLT_NM==\"{product}\" and EXMN_SE_NM==\"도매\"')\n",
    "\n",
    "# kg당 가격\n",
    "df_prices_23_plt['PKG_PRCE'] = df_prices_23_plt['PDLT_PRCE']/df_prices_23_plt['WHSL_SMT_UNIT_MG']\n",
    "\n",
    "cols_itrs = ['PRCE_REG_YMD','PKG_PRCE']\n",
    "df_plot = df_prices_23_plt[cols_itrs].groupby('PRCE_REG_YMD').mean()\n",
    "\n",
    "unqpkg = df_prices_23_plt['WHSL_SMT_UNIT_NM'].unique()\n",
    "if len(unqpkg) > 1:\n",
    "    print('- 패키지 개수: ', len(df_prices_23_plt['WHSL_SMT_UNIT_NM'].unique()))\n",
    "pkg_nm = df_prices_23_plt['WHSL_SMT_UNIT_NM'].unique()[-1]\n",
    "\n",
    "x = df_plot.index\n",
    "y = df_plot['PKG_PRCE']\n",
    "\n",
    "plt.figure(figsize=(10,5))\n",
    "plt.plot(x, y, label=product)\n",
    "plt.legend()\n",
    "plt.title(f'일별 {product} 가격변동 ({pkg_nm})')\n",
    "plt.grid()\n",
    "plt.show()"
   ]
  },
  {
   "cell_type": "code",
   "execution_count": 252,
   "metadata": {},
   "outputs": [
    {
     "name": "stderr",
     "output_type": "stream",
     "text": [
      "/var/folders/xj/2s3xtsx155s338l8v9g7k_wh0000gn/T/ipykernel_946/4265260396.py:13: SettingWithCopyWarning: \n",
      "A value is trying to be set on a copy of a slice from a DataFrame.\n",
      "Try using .loc[row_indexer,col_indexer] = value instead\n",
      "\n",
      "See the caveats in the documentation: https://pandas.pydata.org/pandas-docs/stable/user_guide/indexing.html#returning-a-view-versus-a-copy\n",
      "  df_prices_23_plt['PKG_PRCE'] = df_prices_23_plt['PDLT_PRCE']/df_prices_23_plt['WHSL_SMT_UNIT_MG']\n",
      "/var/folders/xj/2s3xtsx155s338l8v9g7k_wh0000gn/T/ipykernel_946/4265260396.py:13: SettingWithCopyWarning: \n",
      "A value is trying to be set on a copy of a slice from a DataFrame.\n",
      "Try using .loc[row_indexer,col_indexer] = value instead\n",
      "\n",
      "See the caveats in the documentation: https://pandas.pydata.org/pandas-docs/stable/user_guide/indexing.html#returning-a-view-versus-a-copy\n",
      "  df_prices_23_plt['PKG_PRCE'] = df_prices_23_plt['PDLT_PRCE']/df_prices_23_plt['WHSL_SMT_UNIT_MG']\n",
      "/var/folders/xj/2s3xtsx155s338l8v9g7k_wh0000gn/T/ipykernel_946/4265260396.py:13: SettingWithCopyWarning: \n",
      "A value is trying to be set on a copy of a slice from a DataFrame.\n",
      "Try using .loc[row_indexer,col_indexer] = value instead\n",
      "\n",
      "See the caveats in the documentation: https://pandas.pydata.org/pandas-docs/stable/user_guide/indexing.html#returning-a-view-versus-a-copy\n",
      "  df_prices_23_plt['PKG_PRCE'] = df_prices_23_plt['PDLT_PRCE']/df_prices_23_plt['WHSL_SMT_UNIT_MG']\n",
      "/var/folders/xj/2s3xtsx155s338l8v9g7k_wh0000gn/T/ipykernel_946/4265260396.py:13: SettingWithCopyWarning: \n",
      "A value is trying to be set on a copy of a slice from a DataFrame.\n",
      "Try using .loc[row_indexer,col_indexer] = value instead\n",
      "\n",
      "See the caveats in the documentation: https://pandas.pydata.org/pandas-docs/stable/user_guide/indexing.html#returning-a-view-versus-a-copy\n",
      "  df_prices_23_plt['PKG_PRCE'] = df_prices_23_plt['PDLT_PRCE']/df_prices_23_plt['WHSL_SMT_UNIT_MG']\n"
     ]
    },
    {
     "data": {
      "image/png": "[encoded data removed]",
      "text/plain": [
       "<Figure size 1000x500 with 1 Axes>"
      ]
     },
     "metadata": {},
     "output_type": "display_data"
    }
   ],
   "source": [
    "# 프로덕트별\n",
    "ls_products = ['사과','쌀','팽이버섯','고등어']\n",
    "\n",
    "# Basic Ploitting\n",
    "plt.figure(figsize=(10,5))\n",
    "\n",
    "for product in ls_products:    \n",
    "    df_prices_23_plt = df_prices_23.query(f'PDLT_NM==\"{product}\" and EXMN_SE_NM==\"도매\"')\n",
    "    \n",
    "    # 단위당 가격\n",
    "    df_prices_23_plt['PKG_PRCE'] = df_prices_23_plt['PDLT_PRCE']/df_prices_23_plt['WHSL_SMT_UNIT_MG']\n",
    "\n",
    "    # 단위명\n",
    "    unqpkg = list(df_prices_23_plt['WHSL_SMT_UNIT_NM'].unique())\n",
    "    if len(unqpkg) > 1:\n",
    "        print(f'- {product} 패키지 개수: ', len(df_prices_23_plt['WHSL_SMT_UNIT_NM'].unique()))\n",
    "    pkg_nm = df_prices_23_plt['WHSL_SMT_UNIT_NM'].unique()[-1]\n",
    "    \n",
    "\n",
    "    cols_itrs = ['PRCE_REG_YMD','PKG_PRCE']\n",
    "    df_plot = df_prices_23_plt[cols_itrs].groupby('PRCE_REG_YMD').mean()\n",
    "\n",
    "    # Plotting\n",
    "    x = df_plot.index\n",
    "    y = df_plot['PKG_PRCE']\n",
    "    plt.plot(x, y, label=f'{product} ({pkg_nm})')\n",
    "\n",
    "plt.title('일별 품목별 가격변동')\n",
    "plt.legend()\n",
    "plt.grid()\n",
    "plt.show()"
   ]
  },
  {
   "cell_type": "code",
   "execution_count": null,
   "metadata": {},
   "outputs": [],
   "source": [
    "# 요식업 창업 리포트\n",
    "# => 일별 변동성\n",
    "# => 월별 변동성 (계절성)\n",
    "# => "
   ]
  },
  {
   "cell_type": "code",
   "execution_count": 144,
   "metadata": {},
   "outputs": [
    {
     "name": "stderr",
     "output_type": "stream",
     "text": [
      "/var/folders/xj/2s3xtsx155s338l8v9g7k_wh0000gn/T/ipykernel_1562/1278593615.py:7: SettingWithCopyWarning: \n",
      "A value is trying to be set on a copy of a slice from a DataFrame.\n",
      "Try using .loc[row_indexer,col_indexer] = value instead\n",
      "\n",
      "See the caveats in the documentation: https://pandas.pydata.org/pandas-docs/stable/user_guide/indexing.html#returning-a-view-versus-a-copy\n",
      "  df_prices_23_plt['PKG_PRCE'] = df_prices_23_plt['PDLT_PRCE']/df_prices_23_plt['WHSL_SMT_UNIT_MG']\n",
      "/var/folders/xj/2s3xtsx155s338l8v9g7k_wh0000gn/T/ipykernel_1562/1278593615.py:7: SettingWithCopyWarning: \n",
      "A value is trying to be set on a copy of a slice from a DataFrame.\n",
      "Try using .loc[row_indexer,col_indexer] = value instead\n",
      "\n",
      "See the caveats in the documentation: https://pandas.pydata.org/pandas-docs/stable/user_guide/indexing.html#returning-a-view-versus-a-copy\n",
      "  df_prices_23_plt['PKG_PRCE'] = df_prices_23_plt['PDLT_PRCE']/df_prices_23_plt['WHSL_SMT_UNIT_MG']\n",
      "/var/folders/xj/2s3xtsx155s338l8v9g7k_wh0000gn/T/ipykernel_1562/1278593615.py:7: SettingWithCopyWarning: \n",
      "A value is trying to be set on a copy of a slice from a DataFrame.\n",
      "Try using .loc[row_indexer,col_indexer] = value instead\n",
      "\n",
      "See the caveats in the documentation: https://pandas.pydata.org/pandas-docs/stable/user_guide/indexing.html#returning-a-view-versus-a-copy\n",
      "  df_prices_23_plt['PKG_PRCE'] = df_prices_23_plt['PDLT_PRCE']/df_prices_23_plt['WHSL_SMT_UNIT_MG']\n",
      "/var/folders/xj/2s3xtsx155s338l8v9g7k_wh0000gn/T/ipykernel_1562/1278593615.py:7: SettingWithCopyWarning: \n",
      "A value is trying to be set on a copy of a slice from a DataFrame.\n",
      "Try using .loc[row_indexer,col_indexer] = value instead\n",
      "\n",
      "See the caveats in the documentation: https://pandas.pydata.org/pandas-docs/stable/user_guide/indexing.html#returning-a-view-versus-a-copy\n",
      "  df_prices_23_plt['PKG_PRCE'] = df_prices_23_plt['PDLT_PRCE']/df_prices_23_plt['WHSL_SMT_UNIT_MG']\n"
     ]
    }
   ],
   "source": [
    "# 프로덕트별 / 일별\n",
    "ls_products = ['사과','쌀','팽이버섯','고등어']\n",
    "\n",
    "ls_prdcv = []\n",
    "for product in ls_products:    \n",
    "    df_prices_23_plt = df_prices_23.query(f'PDLT_NM==\"{product}\" and EXMN_SE_NM==\"도매\"')\n",
    "    df_prices_23_plt['PKG_PRCE'] = df_prices_23_plt['PDLT_PRCE']/df_prices_23_plt['WHSL_SMT_UNIT_MG']\n",
    "\n",
    "    cols_itrs = ['PRCE_REG_YMD','PKG_PRCE']\n",
    "    df_updown = df_prices_23_plt[cols_itrs].groupby('PRCE_REG_YMD').mean()\n",
    "\n",
    "\n",
    "    df_updown['daily_return'] = df_updown['PKG_PRCE'].pct_change()\n",
    "    std = df_updown['PKG_PRCE'].std()\n",
    "\n",
    "    # 일일 수익률 변동성\n",
    "    volatility = df_updown['daily_return'].std()\n",
    "\n",
    "    # 변동계수\n",
    "    cv = std / df_updown['PKG_PRCE'].mean()\n",
    "\n",
    "    ls_prdcv.append([product, cv])"
   ]
  },
  {
   "cell_type": "code",
   "execution_count": 152,
   "metadata": {},
   "outputs": [
    {
     "data": {
      "text/html": [
       "<div>\n",
       "<style scoped>\n",
       "    .dataframe tbody tr th:only-of-type {\n",
       "        vertical-align: middle;\n",
       "    }\n",
       "\n",
       "    .dataframe tbody tr th {\n",
       "        vertical-align: top;\n",
       "    }\n",
       "\n",
       "    .dataframe thead th {\n",
       "        text-align: right;\n",
       "    }\n",
       "</style>\n",
       "<table border=\"1\" class=\"dataframe\">\n",
       "  <thead>\n",
       "    <tr style=\"text-align: right;\">\n",
       "      <th></th>\n",
       "      <th>product</th>\n",
       "      <th>cv</th>\n",
       "    </tr>\n",
       "  </thead>\n",
       "  <tbody>\n",
       "    <tr>\n",
       "      <th>0</th>\n",
       "      <td>사과</td>\n",
       "      <td>0.271193</td>\n",
       "    </tr>\n",
       "    <tr>\n",
       "      <th>1</th>\n",
       "      <td>쌀</td>\n",
       "      <td>0.054488</td>\n",
       "    </tr>\n",
       "    <tr>\n",
       "      <th>2</th>\n",
       "      <td>팽이버섯</td>\n",
       "      <td>0.153350</td>\n",
       "    </tr>\n",
       "    <tr>\n",
       "      <th>3</th>\n",
       "      <td>고등어</td>\n",
       "      <td>0.047333</td>\n",
       "    </tr>\n",
       "  </tbody>\n",
       "</table>\n",
       "</div>"
      ],
      "text/plain": [
       "  product        cv\n",
       "0      사과  0.271193\n",
       "1       쌀  0.054488\n",
       "2    팽이버섯  0.153350\n",
       "3     고등어  0.047333"
      ]
     },
     "execution_count": 152,
     "metadata": {},
     "output_type": "execute_result"
    }
   ],
   "source": [
    "pd.DataFrame(ls_prdcv, columns=['product','cv'])"
   ]
  },
  {
   "cell_type": "code",
   "execution_count": 161,
   "metadata": {},
   "outputs": [
    {
     "name": "stderr",
     "output_type": "stream",
     "text": [
      "/var/folders/xj/2s3xtsx155s338l8v9g7k_wh0000gn/T/ipykernel_1562/58671099.py:8: SettingWithCopyWarning: \n",
      "A value is trying to be set on a copy of a slice from a DataFrame.\n",
      "Try using .loc[row_indexer,col_indexer] = value instead\n",
      "\n",
      "See the caveats in the documentation: https://pandas.pydata.org/pandas-docs/stable/user_guide/indexing.html#returning-a-view-versus-a-copy\n",
      "  df_prices_23_alpd['PKG_PRCE'] = df_prices_23_alpd['PDLT_PRCE']/df_prices_23_alpd['WHSL_SMT_UNIT_MG']\n"
     ]
    }
   ],
   "source": [
    "# 도매로 판매되는 전체 프로덕트\n",
    "set_all_prd = set(df_prices_23.query(f'EXMN_SE_NM==\"도매\"')['PDLT_NM'])\n",
    "\n",
    "f1 = df_prices_23['PDLT_NM'].apply(lambda x: x in set_all_prd)\n",
    "f2 = df_prices_23['EXMN_SE_NM'] == '도매'\n",
    "df_prices_23_alpd = df_prices_23[f1&f2]\n",
    "\n",
    "# 단위별 \n",
    "df_prices_23_alpd['PKG_PRCE'] = df_prices_23_alpd['PDLT_PRCE']/df_prices_23_alpd['WHSL_SMT_UNIT_MG']\n",
    "\n",
    "cols_itrs = ['PDLT_NM','PRCE_REG_YMD','PKG_PRCE']\n",
    "df_updown = df_prices_23_alpd[cols_itrs].groupby(['PDLT_NM','PRCE_REG_YMD']).mean()\n",
    "\n",
    "ls_prdcv = []\n",
    "for product in set_all_prd:\n",
    "    df_tmp = df_updown.loc[product]\n",
    "    df_tmp['daily_return'] = df_tmp['PKG_PRCE'].pct_change()\n",
    "    \n",
    "    # 표준편차\n",
    "    std = df_tmp['PKG_PRCE'].std()\n",
    "    # 일일 수익률 변동성\n",
    "    volatility = df_tmp['daily_return'].std()\n",
    "    # 변동계수\n",
    "    cv = std / df_tmp['PKG_PRCE'].mean()\n",
    "\n",
    "    ls_prdcv.append([product, cv])"
   ]
  },
  {
   "cell_type": "code",
   "execution_count": 165,
   "metadata": {},
   "outputs": [],
   "source": [
    "df_alprdcv = pd.DataFrame(ls_prdcv, columns=['product','cv'])"
   ]
  },
  {
   "cell_type": "code",
   "execution_count": 171,
   "metadata": {},
   "outputs": [
    {
     "data": {
      "text/html": [
       "<div>\n",
       "<style scoped>\n",
       "    .dataframe tbody tr th:only-of-type {\n",
       "        vertical-align: middle;\n",
       "    }\n",
       "\n",
       "    .dataframe tbody tr th {\n",
       "        vertical-align: top;\n",
       "    }\n",
       "\n",
       "    .dataframe thead th {\n",
       "        text-align: right;\n",
       "    }\n",
       "</style>\n",
       "<table border=\"1\" class=\"dataframe\">\n",
       "  <thead>\n",
       "    <tr style=\"text-align: right;\">\n",
       "      <th></th>\n",
       "      <th>product</th>\n",
       "      <th>cv</th>\n",
       "    </tr>\n",
       "  </thead>\n",
       "  <tbody>\n",
       "    <tr>\n",
       "      <th>60</th>\n",
       "      <td>들깨</td>\n",
       "      <td>0.034916</td>\n",
       "    </tr>\n",
       "    <tr>\n",
       "      <th>61</th>\n",
       "      <td>명태</td>\n",
       "      <td>0.028038</td>\n",
       "    </tr>\n",
       "    <tr>\n",
       "      <th>62</th>\n",
       "      <td>찹쌀</td>\n",
       "      <td>0.026202</td>\n",
       "    </tr>\n",
       "    <tr>\n",
       "      <th>63</th>\n",
       "      <td>녹두</td>\n",
       "      <td>0.025588</td>\n",
       "    </tr>\n",
       "    <tr>\n",
       "      <th>64</th>\n",
       "      <td>참깨</td>\n",
       "      <td>0.020728</td>\n",
       "    </tr>\n",
       "    <tr>\n",
       "      <th>65</th>\n",
       "      <td>건미역</td>\n",
       "      <td>0.019751</td>\n",
       "    </tr>\n",
       "    <tr>\n",
       "      <th>66</th>\n",
       "      <td>건오징어</td>\n",
       "      <td>0.019625</td>\n",
       "    </tr>\n",
       "    <tr>\n",
       "      <th>67</th>\n",
       "      <td>새우</td>\n",
       "      <td>0.013706</td>\n",
       "    </tr>\n",
       "    <tr>\n",
       "      <th>68</th>\n",
       "      <td>콩</td>\n",
       "      <td>0.012902</td>\n",
       "    </tr>\n",
       "    <tr>\n",
       "      <th>69</th>\n",
       "      <td>북어</td>\n",
       "      <td>0.010089</td>\n",
       "    </tr>\n",
       "  </tbody>\n",
       "</table>\n",
       "</div>"
      ],
      "text/plain": [
       "   product        cv\n",
       "60      들깨  0.034916\n",
       "61      명태  0.028038\n",
       "62      찹쌀  0.026202\n",
       "63      녹두  0.025588\n",
       "64      참깨  0.020728\n",
       "65     건미역  0.019751\n",
       "66    건오징어  0.019625\n",
       "67      새우  0.013706\n",
       "68       콩  0.012902\n",
       "69      북어  0.010089"
      ]
     },
     "execution_count": 171,
     "metadata": {},
     "output_type": "execute_result"
    }
   ],
   "source": [
    "i = 1\n",
    "df_alprdcv.sort_values(by='cv', ascending=False).reset_index(drop=True).iloc[60:90]"
   ]
  }
 ],
 "metadata": {
  "kernelspec": {
   "display_name": ".venv",
   "language": "python",
   "name": "python3"
  },
  "language_info": {
   "codemirror_mode": {
    "name": "ipython",
    "version": 3
   },
   "file_extension": ".py",
   "mimetype": "text/x-python",
   "name": "python",
   "nbconvert_exporter": "python",
   "pygments_lexer": "ipython3",
   "version": "3.12.3"
  }
 },
 "nbformat": 4,
 "nbformat_minor": 2
}
